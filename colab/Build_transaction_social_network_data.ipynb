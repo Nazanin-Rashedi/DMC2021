{
  "nbformat": 4,
  "nbformat_minor": 0,
  "metadata": {
    "colab": {
      "name": "Build_transaction_social_network_data.ipynb",
      "provenance": [],
      "collapsed_sections": []
    },
    "kernelspec": {
      "display_name": "Python 3",
      "language": "python",
      "name": "python3"
    },
    "language_info": {
      "codemirror_mode": {
        "name": "ipython",
        "version": 3
      },
      "file_extension": ".py",
      "mimetype": "text/x-python",
      "name": "python",
      "nbconvert_exporter": "python",
      "pygments_lexer": "ipython3",
      "version": "3.8.5"
    }
  },
  "cells": [
    {
      "cell_type": "markdown",
      "metadata": {
        "id": "fRuWtq74mUtu"
      },
      "source": [
        "## **Social Network for transaction data**\n",
        "Reference: [Feature Weighting in Content Based RecommendationSystem Using Social Network Analysis](https://www.researchgate.net/publication/221022528_Feature_weighting_in_content_based_recommendation_system_using_social_network_analysis), [website](http://www.ra.ethz.ch/cdstore/www2008/www2008.org/papers/xhtml/pp049/www2008-sample/index.html)\n"
      ]
    },
    {
      "cell_type": "markdown",
      "metadata": {
        "id": "FCHEd-s9mzlR"
      },
      "source": [
        "### **Import necessary libraries**"
      ]
    },
    {
      "cell_type": "code",
      "metadata": {
        "id": "vBsU1OZcsLxZ"
      },
      "source": [
        "# Importing necessary libraries\n",
        "import pandas as pd\n",
        "import numpy as np\n",
        "import pandas as pd\n",
        "import numpy as np\n",
        "from nltk.corpus import stopwords\n",
        "from sklearn.metrics.pairwise import linear_kernel\n",
        "from sklearn.metrics.pairwise import cosine_similarity\n",
        "from sklearn.feature_extraction.text import CountVectorizer\n",
        "from sklearn.feature_extraction.text import TfidfVectorizer\n",
        "from nltk.tokenize import RegexpTokenizer\n",
        "import re\n",
        "import string\n",
        "import random\n",
        "import matplotlib.pyplot as plt\n",
        "%matplotlib inline"
      ],
      "execution_count": null,
      "outputs": []
    },
    {
      "cell_type": "markdown",
      "metadata": {
        "id": "5shXIv1WnCPB"
      },
      "source": [
        "### **Import item dataset**\n",
        "- Item Data: final_annotated_item_dataset.csv"
      ]
    },
    {
      "cell_type": "code",
      "metadata": {
        "colab": {
          "base_uri": "https://localhost:8080/"
        },
        "id": "BWoV4WcMiMCB",
        "outputId": "3066d4a9-db73-4131-d407-c78f3dab66c8"
      },
      "source": [
        "from google.colab import drive\n",
        "drive.mount('/content/drive')\n",
        "#change directory to current location\n",
        "%cd /content/drive/My Drive/DMC"
      ],
      "execution_count": null,
      "outputs": [
        {
          "output_type": "stream",
          "text": [
            "Mounted at /content/drive\n",
            "/content/drive/My Drive/DMC\n"
          ],
          "name": "stdout"
        }
      ]
    },
    {
      "cell_type": "code",
      "metadata": {
        "colab": {
          "base_uri": "https://localhost:8080/",
          "height": 320
        },
        "id": "JdZnEvRiiQPP",
        "outputId": "45382108-7f56-4e5d-b26d-4f75405ea80c"
      },
      "source": [
        "#Load books data\n",
        "#books_data = pd.read_csv('final_annotated_item_dataset.csv')\n",
        "books_data = pd.read_csv('publisher_author_cluster_added_new.csv')\n",
        "books_data.drop(['Unnamed: 0'], axis= 1, inplace=True)\n",
        "print(books_data.shape)\n",
        "books_data.head()"
      ],
      "execution_count": null,
      "outputs": [
        {
          "output_type": "stream",
          "text": [
            "(78030, 11)\n"
          ],
          "name": "stdout"
        },
        {
          "output_type": "execute_result",
          "data": {
            "text/html": [
              "<div>\n",
              "<style scoped>\n",
              "    .dataframe tbody tr th:only-of-type {\n",
              "        vertical-align: middle;\n",
              "    }\n",
              "\n",
              "    .dataframe tbody tr th {\n",
              "        vertical-align: top;\n",
              "    }\n",
              "\n",
              "    .dataframe thead th {\n",
              "        text-align: right;\n",
              "    }\n",
              "</style>\n",
              "<table border=\"1\" class=\"dataframe\">\n",
              "  <thead>\n",
              "    <tr style=\"text-align: right;\">\n",
              "      <th></th>\n",
              "      <th>itemID</th>\n",
              "      <th>title</th>\n",
              "      <th>author</th>\n",
              "      <th>publisher</th>\n",
              "      <th>main topic</th>\n",
              "      <th>subtopics</th>\n",
              "      <th>language</th>\n",
              "      <th>description</th>\n",
              "      <th>ISBN_13</th>\n",
              "      <th>interest_age</th>\n",
              "      <th>LangDetect</th>\n",
              "    </tr>\n",
              "  </thead>\n",
              "  <tbody>\n",
              "    <tr>\n",
              "      <th>0</th>\n",
              "      <td>21310</td>\n",
              "      <td>Princess Poppy: The Big Mix Up</td>\n",
              "      <td>Janey Louise Jones</td>\n",
              "      <td>Penguin Random House Children's UK</td>\n",
              "      <td>YFB</td>\n",
              "      <td>[5AH]</td>\n",
              "      <td>en</td>\n",
              "      <td>A brand-new story in the best-selling Princess...</td>\n",
              "      <td>[{'type': 'ISBN_13', 'identifier': '9781409048...</td>\n",
              "      <td>1</td>\n",
              "      <td>en</td>\n",
              "    </tr>\n",
              "    <tr>\n",
              "      <th>1</th>\n",
              "      <td>73018</td>\n",
              "      <td>Einfach zeichnen! Step by Step</td>\n",
              "      <td>Wiebke Krabbe</td>\n",
              "      <td>Schwager und Steinlein</td>\n",
              "      <td>AGZ</td>\n",
              "      <td>[5AJ,AGZ,WFA,YBG,YBL,YNA,YPA]</td>\n",
              "      <td>de</td>\n",
              "      <td>NaN</td>\n",
              "      <td>[{'type': 'ISBN_10', 'identifier': '3849927601...</td>\n",
              "      <td>1</td>\n",
              "      <td>de</td>\n",
              "    </tr>\n",
              "    <tr>\n",
              "      <th>2</th>\n",
              "      <td>19194</td>\n",
              "      <td>Red Queen 1</td>\n",
              "      <td>Victoria Aveyard</td>\n",
              "      <td>Orion Publishing Group</td>\n",
              "      <td>YFH</td>\n",
              "      <td>[5AP,FBA]</td>\n",
              "      <td>en</td>\n",
              "      <td>The first novel in the #1 bestselling RED QUEE...</td>\n",
              "      <td>[{'type': 'ISBN_13', 'identifier': '9781409150...</td>\n",
              "      <td>1.5</td>\n",
              "      <td>en</td>\n",
              "    </tr>\n",
              "    <tr>\n",
              "      <th>3</th>\n",
              "      <td>40250</td>\n",
              "      <td>Meine Kindergarten-Freunde (Pirat)</td>\n",
              "      <td>NaN</td>\n",
              "      <td>Ars Edition GmbH</td>\n",
              "      <td>YB</td>\n",
              "      <td>[5AC,5AD,YBG,YBL,YF]</td>\n",
              "      <td>de</td>\n",
              "      <td>Ein wunderschönes Freundebuch zur Erinnerung a...</td>\n",
              "      <td>[{'type': 'ISBN_13', 'identifier': '9798691079...</td>\n",
              "      <td>0</td>\n",
              "      <td>de</td>\n",
              "    </tr>\n",
              "    <tr>\n",
              "      <th>4</th>\n",
              "      <td>46107</td>\n",
              "      <td>Mein großes Schablonen-Buch - Wilde Tiere</td>\n",
              "      <td>Elizabeth Golding</td>\n",
              "      <td>Edition Michael Fischer</td>\n",
              "      <td>WFTM</td>\n",
              "      <td>[WD,WFTM,YBG,YBL,YBLD,YBLN1]</td>\n",
              "      <td>de</td>\n",
              "      <td>NaN</td>\n",
              "      <td>[{'type': 'ISBN_13', 'identifier': '9798691079...</td>\n",
              "      <td>0</td>\n",
              "      <td>de</td>\n",
              "    </tr>\n",
              "  </tbody>\n",
              "</table>\n",
              "</div>"
            ],
            "text/plain": [
              "   itemID                                      title  ... interest_age LangDetect\n",
              "0   21310             Princess Poppy: The Big Mix Up  ...            1         en\n",
              "1   73018             Einfach zeichnen! Step by Step  ...            1         de\n",
              "2   19194                                Red Queen 1  ...          1.5         en\n",
              "3   40250         Meine Kindergarten-Freunde (Pirat)  ...            0         de\n",
              "4   46107  Mein großes Schablonen-Buch - Wilde Tiere  ...            0         de\n",
              "\n",
              "[5 rows x 11 columns]"
            ]
          },
          "metadata": {
            "tags": []
          },
          "execution_count": 3
        }
      ]
    },
    {
      "cell_type": "markdown",
      "metadata": {
        "id": "W5YO9Lx-SiEB"
      },
      "source": [
        "# **Build the Social Network (use transaction data)**\n",
        "- Transaction data: preprocessed_transactions.csv"
      ]
    },
    {
      "cell_type": "code",
      "metadata": {
        "colab": {
          "base_uri": "https://localhost:8080/",
          "height": 216
        },
        "id": "Alwp2y-pzBD5",
        "outputId": "71ca95c9-7e6e-45ce-c526-ca1e29da44e2"
      },
      "source": [
        "#Load transaction data\n",
        "transactions_data = pd.read_csv('preprocessed_transactions.csv')\n",
        "transactions_data.drop(['Unnamed: 0'], axis= 1, inplace=True)\n",
        "print(transactions_data.shape)\n",
        "transactions_data.head()"
      ],
      "execution_count": null,
      "outputs": [
        {
          "output_type": "stream",
          "text": [
            "(365143, 5)\n"
          ],
          "name": "stdout"
        },
        {
          "output_type": "execute_result",
          "data": {
            "text/html": [
              "<div>\n",
              "<style scoped>\n",
              "    .dataframe tbody tr th:only-of-type {\n",
              "        vertical-align: middle;\n",
              "    }\n",
              "\n",
              "    .dataframe tbody tr th {\n",
              "        vertical-align: top;\n",
              "    }\n",
              "\n",
              "    .dataframe thead th {\n",
              "        text-align: right;\n",
              "    }\n",
              "</style>\n",
              "<table border=\"1\" class=\"dataframe\">\n",
              "  <thead>\n",
              "    <tr style=\"text-align: right;\">\n",
              "      <th></th>\n",
              "      <th>sessionID</th>\n",
              "      <th>itemID</th>\n",
              "      <th>click</th>\n",
              "      <th>basket</th>\n",
              "      <th>order</th>\n",
              "    </tr>\n",
              "  </thead>\n",
              "  <tbody>\n",
              "    <tr>\n",
              "      <th>0</th>\n",
              "      <td>0</td>\n",
              "      <td>21310</td>\n",
              "      <td>1</td>\n",
              "      <td>0</td>\n",
              "      <td>0</td>\n",
              "    </tr>\n",
              "    <tr>\n",
              "      <th>1</th>\n",
              "      <td>1</td>\n",
              "      <td>73018</td>\n",
              "      <td>1</td>\n",
              "      <td>0</td>\n",
              "      <td>0</td>\n",
              "    </tr>\n",
              "    <tr>\n",
              "      <th>2</th>\n",
              "      <td>2</td>\n",
              "      <td>19194</td>\n",
              "      <td>1</td>\n",
              "      <td>0</td>\n",
              "      <td>0</td>\n",
              "    </tr>\n",
              "    <tr>\n",
              "      <th>3</th>\n",
              "      <td>3</td>\n",
              "      <td>40250</td>\n",
              "      <td>1</td>\n",
              "      <td>0</td>\n",
              "      <td>0</td>\n",
              "    </tr>\n",
              "    <tr>\n",
              "      <th>4</th>\n",
              "      <td>4</td>\n",
              "      <td>46107</td>\n",
              "      <td>1</td>\n",
              "      <td>0</td>\n",
              "      <td>0</td>\n",
              "    </tr>\n",
              "  </tbody>\n",
              "</table>\n",
              "</div>"
            ],
            "text/plain": [
              "   sessionID  itemID  click  basket  order\n",
              "0          0   21310      1       0      0\n",
              "1          1   73018      1       0      0\n",
              "2          2   19194      1       0      0\n",
              "3          3   40250      1       0      0\n",
              "4          4   46107      1       0      0"
            ]
          },
          "metadata": {
            "tags": []
          },
          "execution_count": 4
        }
      ]
    },
    {
      "cell_type": "code",
      "metadata": {
        "id": "Y-18uSqZ0z0A"
      },
      "source": [
        "network = transactions_data.copy()\n",
        "\n",
        "#dictionary net will record sessionID (unique) and itemID\n",
        "net = {}\n",
        "\n",
        "def build_network(sessionID, itemID):\n",
        "  if sessionID in net:\n",
        "    net[sessionID].append(itemID)\n",
        "  else:\n",
        "    net[sessionID] = [itemID] \n",
        "  return(0)\n",
        "\n",
        "for index, i in network.iterrows():\n",
        "  build_network(i['sessionID'], i['itemID'])"
      ],
      "execution_count": null,
      "outputs": []
    },
    {
      "cell_type": "code",
      "metadata": {
        "colab": {
          "base_uri": "https://localhost:8080/"
        },
        "id": "u6phPAoNyJ9H",
        "outputId": "6da7ee02-4a4f-4a3c-8a93-32a730af91d2"
      },
      "source": [
        "!pip install networkx"
      ],
      "execution_count": null,
      "outputs": [
        {
          "output_type": "stream",
          "text": [
            "Requirement already satisfied: networkx in /usr/local/lib/python3.7/dist-packages (2.5.1)\n",
            "Requirement already satisfied: decorator<5,>=4.3 in /usr/local/lib/python3.7/dist-packages (from networkx) (4.4.2)\n"
          ],
          "name": "stdout"
        }
      ]
    },
    {
      "cell_type": "markdown",
      "metadata": {
        "id": "4xtMT3ftpzJz"
      },
      "source": [
        "**Create social network (undirected weighted graph):**\n",
        "- Each **vertex** represents an itemID\n",
        "- Each **edge** represents the relationship between two itemID:\n",
        "  - if itemID i & j appears in a same sessionID, then there will be a edge between i and j\n",
        "- Each edge has a **weight**:\n",
        "  - the value of weight is equal the frequency that item i & j happens in the same sessionID (no matter their action is a click, basket, or oder). If they happen at the same time in a sessionID, we will increase 1 on weight. For example, if item i and j appears simultaneously in both session a and session b, then the edge weight of item i and j will be 2."
      ]
    },
    {
      "cell_type": "code",
      "metadata": {
        "id": "ajlXMno5xxo7"
      },
      "source": [
        "from itertools import combinations \n",
        "from collections import Counter\n",
        "\n",
        "def add_link(nodes):\n",
        "  result = dict(Counter(combinations(nodes, 2)))\n",
        "  #print(result)\n",
        "\n",
        "  for key,value in result.items():\n",
        "    if (key[0], key[1]) in G.edges():\n",
        "      G.edges[key[0], key[1]]['weight'] += 1\n",
        "    else:\n",
        "      G.add_edge(key[0], key[1], key='edge', weight=1)"
      ],
      "execution_count": null,
      "outputs": []
    },
    {
      "cell_type": "code",
      "metadata": {
        "id": "epvvNlBixVda"
      },
      "source": [
        "import networkx as nx\n",
        "import matplotlib.pyplot as plt\n",
        "%matplotlib inline \n",
        "\n",
        "#G is a social network\n",
        "G = nx.Graph()\n",
        "\n",
        "for key,value in net.items():\n",
        "  if(len(value) > 1):\n",
        "    add_link(value)\n",
        "    #print(key, value)"
      ],
      "execution_count": null,
      "outputs": []
    },
    {
      "cell_type": "code",
      "metadata": {
        "colab": {
          "base_uri": "https://localhost:8080/",
          "height": 248
        },
        "id": "USkMO98n3KYT",
        "outputId": "ae36c97f-60f7-4aa1-db8b-09c8a8ea6ef9"
      },
      "source": [
        "#nx.draw_networkx(G)"
      ],
      "execution_count": null,
      "outputs": [
        {
          "output_type": "display_data",
          "data": {
            "image/png": "[encoded data removed]",
            "text/plain": [
              "<Figure size 432x288 with 1 Axes>"
            ]
          },
          "metadata": {
            "tags": []
          }
        }
      ]
    },
    {
      "cell_type": "code",
      "metadata": {
        "colab": {
          "base_uri": "https://localhost:8080/"
        },
        "id": "SRpO_oemp1Xi",
        "outputId": "a3b78e72-36aa-46b4-cce9-59bc15411b69"
      },
      "source": [
        "print(nx.info(G)) #nodes means itemID #edges means item i and item j appear in the same sessionID at the same time "
      ],
      "execution_count": null,
      "outputs": [
        {
          "output_type": "stream",
          "text": [
            "Name: \n",
            "Type: Graph\n",
            "Number of nodes: 14279\n",
            "Number of edges: 303666\n",
            "Average degree:  42.5332\n"
          ],
          "name": "stdout"
        }
      ]
    },
    {
      "cell_type": "code",
      "metadata": {
        "id": "CXb1Ix2qnrv3"
      },
      "source": [
        "# List all the shortest path length between nodes while considering the weight\n",
        "#shortest1 = nx.shortest_path_length(G, weight=\"weight\")\n",
        "# Calculate eccentricity, which is the maximum distance from v to all other nodes in network\n",
        "#ecc = nx.eccentricity(G, sp=dict(shortest1))\n",
        "# And then use diameter to consider the maximum distance among all nodes in network\n",
        "#nx.diameter(G, e=ecc)"
      ],
      "execution_count": null,
      "outputs": []
    },
    {
      "cell_type": "code",
      "metadata": {
        "colab": {
          "base_uri": "https://localhost:8080/"
        },
        "id": "rcyww-m-qdoH",
        "outputId": "f9dc3664-20ec-4470-dd4f-44c5c63663f2"
      },
      "source": [
        "#connected components\n",
        "print(\"Number of connected components: \", nx.number_connected_components(G))"
      ],
      "execution_count": null,
      "outputs": [
        {
          "output_type": "stream",
          "text": [
            "Number of connected components:  325\n"
          ],
          "name": "stdout"
        }
      ]
    },
    {
      "cell_type": "code",
      "metadata": {
        "id": "rtJH90eYsWUu"
      },
      "source": [
        "#list(G.nodes)"
      ],
      "execution_count": null,
      "outputs": []
    },
    {
      "cell_type": "markdown",
      "metadata": {
        "id": "sXSd0SnZsPGv"
      },
      "source": [
        "**Save the social network into csv file**"
      ]
    },
    {
      "cell_type": "code",
      "metadata": {
        "id": "mM5AjIfU7lN3"
      },
      "source": [
        "###save the traction network into a csv file\n",
        "###this csv will be used as a dataframe later\n",
        "#with open('transaction_network.csv', 'w') as f:\n",
        "  #f.write('itemID_i' + '\\t' + 'itemID_j' + '\\t' + 'weight' + '\\n')\n",
        "  #for (item_i, item_j, w) in G.edges(data=True):\n",
        "    #f.write(str(item_i) + '\\t' + str(item_j) + '\\t' + str(w['weight']) + '\\n')"
      ],
      "execution_count": null,
      "outputs": []
    },
    {
      "cell_type": "markdown",
      "metadata": {
        "id": "T1T5Aob-ArW2"
      },
      "source": [
        "# **Load transaction_network data**\n",
        "- social network data: transaction_network.csv"
      ]
    },
    {
      "cell_type": "code",
      "metadata": {
        "colab": {
          "base_uri": "https://localhost:8080/",
          "height": 216
        },
        "id": "PfYueEEdAzFi",
        "outputId": "d58a6ab8-5e99-47fc-a629-7990e8fa8942"
      },
      "source": [
        "transaction_network = pd.read_csv('transaction_network.csv', delimiter='\\t')\n",
        "print('number of network edge: ', len(transaction_network))\n",
        "transaction_network.head()\n",
        "#weight value will be y in a regression model"
      ],
      "execution_count": null,
      "outputs": [
        {
          "output_type": "stream",
          "text": [
            "number of network edge:  303666\n"
          ],
          "name": "stdout"
        },
        {
          "output_type": "execute_result",
          "data": {
            "text/html": [
              "<div>\n",
              "<style scoped>\n",
              "    .dataframe tbody tr th:only-of-type {\n",
              "        vertical-align: middle;\n",
              "    }\n",
              "\n",
              "    .dataframe tbody tr th {\n",
              "        vertical-align: top;\n",
              "    }\n",
              "\n",
              "    .dataframe thead th {\n",
              "        text-align: right;\n",
              "    }\n",
              "</style>\n",
              "<table border=\"1\" class=\"dataframe\">\n",
              "  <thead>\n",
              "    <tr style=\"text-align: right;\">\n",
              "      <th></th>\n",
              "      <th>itemID_i</th>\n",
              "      <th>itemID_j</th>\n",
              "      <th>weight</th>\n",
              "    </tr>\n",
              "  </thead>\n",
              "  <tbody>\n",
              "    <tr>\n",
              "      <th>0</th>\n",
              "      <td>14576</td>\n",
              "      <td>17731</td>\n",
              "      <td>6</td>\n",
              "    </tr>\n",
              "    <tr>\n",
              "      <th>1</th>\n",
              "      <td>14576</td>\n",
              "      <td>4753</td>\n",
              "      <td>1</td>\n",
              "    </tr>\n",
              "    <tr>\n",
              "      <th>2</th>\n",
              "      <td>14576</td>\n",
              "      <td>50523</td>\n",
              "      <td>2</td>\n",
              "    </tr>\n",
              "    <tr>\n",
              "      <th>3</th>\n",
              "      <td>14576</td>\n",
              "      <td>6540</td>\n",
              "      <td>1</td>\n",
              "    </tr>\n",
              "    <tr>\n",
              "      <th>4</th>\n",
              "      <td>14576</td>\n",
              "      <td>72731</td>\n",
              "      <td>1</td>\n",
              "    </tr>\n",
              "  </tbody>\n",
              "</table>\n",
              "</div>"
            ],
            "text/plain": [
              "   itemID_i  itemID_j  weight\n",
              "0     14576     17731       6\n",
              "1     14576      4753       1\n",
              "2     14576     50523       2\n",
              "3     14576      6540       1\n",
              "4     14576     72731       1"
            ]
          },
          "metadata": {
            "tags": []
          },
          "execution_count": 12
        }
      ]
    },
    {
      "cell_type": "markdown",
      "metadata": {
        "id": "rNfiNROAnkIr"
      },
      "source": [
        "# **Data Preprocessing**\n",
        "- Deal with the 'None' item on Interest_age: if data is 'None', then change it to a value 20 (same as the others type)"
      ]
    },
    {
      "cell_type": "code",
      "metadata": {
        "id": "gj9b90Va1euL",
        "colab": {
          "base_uri": "https://localhost:8080/"
        },
        "outputId": "d7a12480-6b41-470b-937c-9b4a5af8d548"
      },
      "source": [
        "df = books_data.copy()\n",
        "len(df)"
      ],
      "execution_count": null,
      "outputs": [
        {
          "output_type": "execute_result",
          "data": {
            "text/plain": [
              "78030"
            ]
          },
          "metadata": {
            "tags": []
          },
          "execution_count": 14
        }
      ]
    },
    {
      "cell_type": "code",
      "metadata": {
        "id": "NZ3SPsKcOwvY"
      },
      "source": [
        "#df['interest_age'].value_counts()"
      ],
      "execution_count": null,
      "outputs": []
    },
    {
      "cell_type": "code",
      "metadata": {
        "id": "9rZLfv9dA0A4"
      },
      "source": [
        "#if interest_age = 'None', we assigned the item value 20 (as one of the member in Group others)\n",
        "df['interest_age'] = [20 if i == 'None' else i for i in df['interest_age']]\n",
        "\n",
        "#change data type from string to float\n",
        "df['interest_age'] = df['interest_age'].astype(float)\n",
        "#type(df.iloc[0]['interest_age'])"
      ],
      "execution_count": null,
      "outputs": []
    },
    {
      "cell_type": "code",
      "metadata": {
        "colab": {
          "base_uri": "https://localhost:8080/"
        },
        "id": "JFZqGzXBBV1C",
        "outputId": "831bd501-1a1c-4ecb-acce-084092c2fccd"
      },
      "source": [
        "df.info()"
      ],
      "execution_count": null,
      "outputs": [
        {
          "output_type": "stream",
          "text": [
            "<class 'pandas.core.frame.DataFrame'>\n",
            "RangeIndex: 78030 entries, 0 to 78029\n",
            "Data columns (total 11 columns):\n",
            " #   Column        Non-Null Count  Dtype  \n",
            "---  ------        --------------  -----  \n",
            " 0   itemID        78030 non-null  int64  \n",
            " 1   title         78030 non-null  object \n",
            " 2   author        74790 non-null  object \n",
            " 3   publisher     78021 non-null  object \n",
            " 4   main topic    77772 non-null  object \n",
            " 5   subtopics     78029 non-null  object \n",
            " 6   language      78030 non-null  object \n",
            " 7   description   62378 non-null  object \n",
            " 8   ISBN_13       77112 non-null  object \n",
            " 9   interest_age  78030 non-null  float64\n",
            " 10  LangDetect    78030 non-null  object \n",
            "dtypes: float64(1), int64(1), object(9)\n",
            "memory usage: 6.5+ MB\n"
          ],
          "name": "stdout"
        }
      ]
    },
    {
      "cell_type": "markdown",
      "metadata": {
        "id": "r9W949azs-xT"
      },
      "source": [
        "**Function for Text Preprocessing**"
      ]
    },
    {
      "cell_type": "code",
      "metadata": {
        "id": "qFRbVmGRs5jz"
      },
      "source": [
        "# Function for removing NonAscii characters\n",
        "def _removeNonAscii(s):\n",
        "    return \"\".join(i for i in s if  ord(i)<128)\n",
        "\n",
        "# Function for converting into lower case\n",
        "def make_lower_case(text):\n",
        "    return text.lower()\n",
        "\n",
        "# Function for removing stop words\n",
        "def remove_stop_words(text, item_lang):\n",
        "    if item_lang in lang_in_nltk:\n",
        "        text = text.split()\n",
        "        stops = set(stopwords.words(item_lang)) #change to other language #\"english\"\n",
        "        text = [w for w in text if not w in stops]\n",
        "        text = \" \".join(text)\n",
        "    return text\n",
        "\n",
        "# Function for removing punctuation\n",
        "def remove_punctuation(text):\n",
        "    tokenizer = RegexpTokenizer(r'\\w+')\n",
        "    text = tokenizer.tokenize(text)\n",
        "    text = \" \".join(text)\n",
        "    return text\n",
        "\n",
        "# Function for removing the html tags\n",
        "def remove_html(text):\n",
        "    html_pattern = re.compile('<.*?>')\n",
        "    return html_pattern.sub(r'', text)"
      ],
      "execution_count": null,
      "outputs": []
    },
    {
      "cell_type": "markdown",
      "metadata": {
        "id": "6RUSQ7GZtRFK"
      },
      "source": [
        "**Function for bm25 calculation**"
      ]
    },
    {
      "cell_type": "code",
      "metadata": {
        "colab": {
          "base_uri": "https://localhost:8080/"
        },
        "id": "uenbONtYtwf8",
        "outputId": "cf3bb763-50f7-4c42-8f0e-a2a0e731296b"
      },
      "source": [
        "!pip install rank-bm25\n",
        "from rank_bm25 import BM25Okapi\n",
        "\n",
        "def calculate_bm25(query, corpus):\n",
        "    tokenized_corpus = [doc.split(\" \") for doc in corpus]\n",
        "    bm25 = BM25Okapi(tokenized_corpus)\n",
        "    tokenized_query = query.split(\" \")\n",
        "    doc_scores = bm25.get_scores(tokenized_query)\n",
        "    return doc_scores"
      ],
      "execution_count": null,
      "outputs": [
        {
          "output_type": "stream",
          "text": [
            "Collecting rank-bm25\n",
            "  Downloading https://files.pythonhosted.org/packages/16/5a/23ed3132063a0684ea66fb410260c71c4ffda3b99f8f1c021d1e245401b5/rank_bm25-0.2.1-py3-none-any.whl\n",
            "Requirement already satisfied: numpy in /usr/local/lib/python3.7/dist-packages (from rank-bm25) (1.19.5)\n",
            "Installing collected packages: rank-bm25\n",
            "Successfully installed rank-bm25-0.2.1\n"
          ],
          "name": "stdout"
        }
      ]
    },
    {
      "cell_type": "markdown",
      "metadata": {
        "id": "GxM_spROtW61"
      },
      "source": [
        "**Function for Linsimilarity**"
      ]
    },
    {
      "cell_type": "code",
      "metadata": {
        "id": "2EzMWWOlvYPd"
      },
      "source": [
        "#The Linsimilarityfunction gets two strings (two main topics), Based on Lin similarity formula, then a floating number will\n",
        "#return as a measure for similarity of two books.\n",
        "import math\n",
        "\n",
        "def linsimilarityfunction (maintopic1 , maintopic2):\n",
        "    #if two topics are identical the Lin similarity measure should be 1:\n",
        "    if (maintopic1 == maintopic2):\n",
        "        return 1\n",
        "    #if they are not identical, we should do further analysis.\n",
        "    #we compare the first elements of both lists. If they differ from each other, the Lin similarity will be zero.\n",
        "    elif (maintopic1[0] != maintopic2[0]):\n",
        "        return 0\n",
        "    #otherwise we need further steps!\n",
        "    else:\n",
        "        #here we simply find the frequency of each topic in our dataset as it is required by Lin similarity\n",
        "        totalitems = df['main topic'].count()\n",
        "        minlength=min(len(maintopic1),len(maintopic2))\n",
        "        df1=df[df['main topic']==maintopic1]\n",
        "        df2=df[df['main topic']==maintopic2]\n",
        "        count1=df1['main topic'].count()\n",
        "        count2=df2['main topic'].count()\n",
        "        #Now, we can focus on finding the closest mutual ancestor of both topics. By close, we refer to number of\n",
        "        #node traverse in the tree of all topics.\n",
        "        i=minlength\n",
        "        while (i>0):\n",
        "            if (maintopic1[:i]==maintopic2[:i]):\n",
        "                dfmutual=df[df['main topic'].str[:i]==maintopic1[:i]]\n",
        "                countmutual=dfmutual['main topic'].count()\n",
        "                sim = 2*math.log10(countmutual/totalitems)/(math.log10(count1/totalitems)+math.log10(count2/totalitems))\n",
        "                return sim\n",
        "            else:\n",
        "                i=i-1"
      ],
      "execution_count": null,
      "outputs": []
    },
    {
      "cell_type": "code",
      "metadata": {
        "colab": {
          "base_uri": "https://localhost:8080/"
        },
        "id": "r0rl2u0UEyEv",
        "outputId": "95faa775-674c-4ac4-88c4-0680d774b234"
      },
      "source": [
        "linsimilarityfunction ('YB', 'YFB' )"
      ],
      "execution_count": null,
      "outputs": [
        {
          "output_type": "execute_result",
          "data": {
            "text/plain": [
              "0.10116165919446315"
            ]
          },
          "metadata": {
            "tags": []
          },
          "execution_count": 21
        }
      ]
    },
    {
      "cell_type": "markdown",
      "metadata": {
        "id": "QT6tY_iRCEj7"
      },
      "source": [
        "## **Add new column for each edge relation (lang, title, author, interest age, topic, description)**\n",
        "*   we have to calculate the difference of item_i and item_j in the below features\n",
        "\n",
        "**Normalization for each feature:**\n",
        "1. **Language:** either 1 (same language) or 0 (different language)\n",
        "2. **Author:** either 1 (same author) or 0 (different author)\n",
        "3. **Title:** take all items which are in social network as candidate corpus, then take item i as query title and calculate the bm25 for item j's title. **(did not normalize the bm25 score yet)**\n",
        "4. **Main topic:** linsimilarity range from 0 to 1, so does not need other normalization\n",
        "5. **interest age:** ((interest_age of item_i - interest_age of item_j) - 0) / (20 - 0) (Use min-max normalization)"
      ]
    },
    {
      "cell_type": "code",
      "metadata": {
        "id": "EnRrdMhkHgpy"
      },
      "source": [
        "trans_network = transaction_network.copy()\n",
        "print(trans_network.head())"
      ],
      "execution_count": null,
      "outputs": []
    },
    {
      "cell_type": "code",
      "metadata": {
        "colab": {
          "base_uri": "https://localhost:8080/"
        },
        "id": "pjctLeRsKyek",
        "outputId": "75df4ce2-7b3c-4014-9dde-20b0a0220bdb"
      },
      "source": [
        "#trans_network['lang'] = 'null'\n",
        "#print(trans_network.head())"
      ],
      "execution_count": null,
      "outputs": [
        {
          "output_type": "stream",
          "text": [
            "   itemID_i  itemID_j  weight  lang\n",
            "0     14576     17731       6  null\n",
            "1     14576      4753       1  null\n",
            "2     14576     50523       2  null\n",
            "3     14576      6540       1  null\n",
            "4     14576     72731       1  null\n"
          ],
          "name": "stdout"
        }
      ]
    },
    {
      "cell_type": "markdown",
      "metadata": {
        "id": "sD-msyjnu_BW"
      },
      "source": [
        "**Prepare title corpus based on the social network for bm25 calculation**\n",
        "- not all items (78030) in original item.csv is an candidate in this corpus\n",
        "- only 14279 items is included"
      ]
    },
    {
      "cell_type": "code",
      "metadata": {
        "colab": {
          "base_uri": "https://localhost:8080/"
        },
        "id": "4UxFe6nAQp9p",
        "outputId": "6883f220-d144-4cd5-ac12-e64762b29ace"
      },
      "source": [
        "#title corpus for dataframe trans_network (only take items which are nodes in the transaction network)\n",
        "find_node = df.copy()\n",
        "nodes = list(G.nodes)\n",
        "\n",
        "title_corpus = find_node[find_node.itemID.isin(nodes)].reset_index()\n",
        "print(len(title_corpus))\n",
        "print(title_corpus.head())"
      ],
      "execution_count": null,
      "outputs": [
        {
          "output_type": "stream",
          "text": [
            "14279\n",
            "   index  itemID  ... interest_age LangDetect\n",
            "0      1   73018  ...          1.0         de\n",
            "1      2   19194  ...          1.5         en\n",
            "2      3   40250  ...          0.0         de\n",
            "3      4   46107  ...          0.0         de\n",
            "4      5   34217  ...         20.0         de\n",
            "\n",
            "[5 rows x 12 columns]\n"
          ],
          "name": "stdout"
        }
      ]
    },
    {
      "cell_type": "code",
      "metadata": {
        "colab": {
          "base_uri": "https://localhost:8080/"
        },
        "id": "5nki4jvrHjKL",
        "outputId": "a4951e63-41d2-475b-b549-08ac90ba4a55"
      },
      "source": [
        "%%time\n",
        "\n",
        "def calculate_difference(item_i, item_j, index):\n",
        "\n",
        "  #Find item i&j s' index in dataframe df (item data)\n",
        "  item_i_index = int(df[df['itemID'] == item_i].index.values)\n",
        "  item_j_index = int(df[df['itemID'] == item_j].index.values)\n",
        "\n",
        "  #1. Language: whether item i&j in same language (yes: 1 or no: 0)\n",
        "  lang_i = df.iloc[item_i_index]['language']\n",
        "  #print(lang_i)\n",
        "  lang_j = df.iloc[item_j_index]['language']\n",
        "  #print(lang_j)\n",
        "  if (lang_i == lang_j): \n",
        "    trans_network.loc[index,'language'] = 1\n",
        "  else:\n",
        "    trans_network.loc[index,'language'] = 0\n",
        "\n",
        "\n",
        "  #2. Author: whether item i&j in same author (yes: 1 or no: 0)\n",
        "  author_i = df.iloc[item_i_index]['author']\n",
        "  author_j = df.iloc[item_j_index]['author']\n",
        "  if (author_i == author_j): \n",
        "    trans_network.loc[index,'author'] = 1\n",
        "  else:\n",
        "    trans_network.loc[index,'author'] = 0\n",
        "\n",
        "  #3. Title: BM25 scores\n",
        "  title_i = df.iloc[item_i_index]['title']\n",
        "  title_j = df.iloc[item_j_index]['title']\n",
        "\n",
        "  tokenized_corpus = [doc.split(\" \") for doc in title_corpus.title]\n",
        "  bm25 = BM25Okapi(tokenized_corpus)\n",
        "  tokenized_query = title_i.split(\" \")\n",
        "  doc_scores = bm25.get_scores(title_i)\n",
        "  #print(doc_scores)\n",
        "\n",
        "  item_j_location = int(title_corpus[title_corpus['itemID'] == item_j].index.values)\n",
        "  trans_network.loc[index,'title'] = doc_scores[item_j_location]\n",
        "\n",
        "  #4. Main Topic: use linsimilarity\n",
        "  topic_i = df.iloc[item_i_index]['main topic']\n",
        "  topic_j = df.iloc[item_j_index]['main topic']\n",
        "\n",
        "  #print(index)\n",
        "  if type(topic_i) == str and type(topic_j) == str:\n",
        "    trans_network.loc[index,'main_topic'] = linsimilarityfunction (topic_i, topic_j)\n",
        "\n",
        "  #5. Interest Age\n",
        "  age_i = df.iloc[item_i_index]['interest_age']\n",
        "  age_j = df.iloc[item_j_index]['interest_age']\n",
        "  trans_network.loc[index,'interest_age'] = (age_i - age_j) / 20\n",
        "\n",
        "#read each row\n",
        "for index, i in trans_network.iterrows():\n",
        "  if (index%1000 == 0): print(index)\n",
        "  calculate_title_diff(i['itemID_i'], i['itemID_j'], index)\n",
        "\n",
        "#save the result as a csv file\n",
        "#trans_network.to_csv('transaction_network_data_all.csv', index=False)\n",
        "\n",
        "#calculate_title_diff(14576, 17731, 0)\n",
        "print(trans_network.head())"
      ],
      "execution_count": null,
      "outputs": [
        {
          "output_type": "stream",
          "text": [
            "   itemID_i  itemID_j  weight  language  author  main_topic  interest_age\n",
            "0     14576     17731       6       1.0     1.0    0.175094         0.000\n",
            "1     14576      4753       1       1.0     0.0    0.000000        -0.925\n",
            "2     14576     50523       2       1.0     0.0    0.000000        -0.925\n",
            "3     14576      6540       1       0.0     0.0    0.000000        -0.025\n",
            "4     14576     72731       1       0.0     0.0    0.000000        -0.925\n"
          ],
          "name": "stdout"
        }
      ]
    },
    {
      "cell_type": "markdown",
      "metadata": {
        "id": "CqNQpdfLxvPe"
      },
      "source": [
        "## **Read network data**"
      ]
    },
    {
      "cell_type": "code",
      "metadata": {
        "colab": {
          "base_uri": "https://localhost:8080/",
          "height": 198
        },
        "id": "FnQRtmj_DNVc",
        "outputId": "c32eaed0-99ae-4f85-c07c-c0cf2d61e52b"
      },
      "source": [
        "trans_network = pd.read_csv('transaction_network_data_all.csv')\n",
        "trans_network = trans_network.drop(columns=['index'])\n",
        "trans_network.head()"
      ],
      "execution_count": null,
      "outputs": [
        {
          "output_type": "execute_result",
          "data": {
            "text/html": [
              "<div>\n",
              "<style scoped>\n",
              "    .dataframe tbody tr th:only-of-type {\n",
              "        vertical-align: middle;\n",
              "    }\n",
              "\n",
              "    .dataframe tbody tr th {\n",
              "        vertical-align: top;\n",
              "    }\n",
              "\n",
              "    .dataframe thead th {\n",
              "        text-align: right;\n",
              "    }\n",
              "</style>\n",
              "<table border=\"1\" class=\"dataframe\">\n",
              "  <thead>\n",
              "    <tr style=\"text-align: right;\">\n",
              "      <th></th>\n",
              "      <th>itemID_i</th>\n",
              "      <th>itemID_j</th>\n",
              "      <th>weight</th>\n",
              "      <th>language</th>\n",
              "      <th>author</th>\n",
              "      <th>main_topic</th>\n",
              "      <th>interest_age</th>\n",
              "      <th>title</th>\n",
              "    </tr>\n",
              "  </thead>\n",
              "  <tbody>\n",
              "    <tr>\n",
              "      <th>0</th>\n",
              "      <td>14576</td>\n",
              "      <td>17731</td>\n",
              "      <td>6</td>\n",
              "      <td>1.0</td>\n",
              "      <td>1.0</td>\n",
              "      <td>0.175094</td>\n",
              "      <td>0.000</td>\n",
              "      <td>1.335705</td>\n",
              "    </tr>\n",
              "    <tr>\n",
              "      <th>1</th>\n",
              "      <td>14576</td>\n",
              "      <td>4753</td>\n",
              "      <td>1</td>\n",
              "      <td>1.0</td>\n",
              "      <td>0.0</td>\n",
              "      <td>0.000000</td>\n",
              "      <td>-0.925</td>\n",
              "      <td>0.000000</td>\n",
              "    </tr>\n",
              "    <tr>\n",
              "      <th>2</th>\n",
              "      <td>14576</td>\n",
              "      <td>50523</td>\n",
              "      <td>2</td>\n",
              "      <td>1.0</td>\n",
              "      <td>0.0</td>\n",
              "      <td>0.000000</td>\n",
              "      <td>-0.925</td>\n",
              "      <td>0.000000</td>\n",
              "    </tr>\n",
              "    <tr>\n",
              "      <th>3</th>\n",
              "      <td>14576</td>\n",
              "      <td>6540</td>\n",
              "      <td>1</td>\n",
              "      <td>0.0</td>\n",
              "      <td>0.0</td>\n",
              "      <td>0.000000</td>\n",
              "      <td>-0.025</td>\n",
              "      <td>0.000000</td>\n",
              "    </tr>\n",
              "    <tr>\n",
              "      <th>4</th>\n",
              "      <td>14576</td>\n",
              "      <td>72731</td>\n",
              "      <td>1</td>\n",
              "      <td>0.0</td>\n",
              "      <td>0.0</td>\n",
              "      <td>0.000000</td>\n",
              "      <td>-0.925</td>\n",
              "      <td>0.000000</td>\n",
              "    </tr>\n",
              "  </tbody>\n",
              "</table>\n",
              "</div>"
            ],
            "text/plain": [
              "   itemID_i  itemID_j  weight  ...  main_topic  interest_age     title\n",
              "0     14576     17731       6  ...    0.175094         0.000  1.335705\n",
              "1     14576      4753       1  ...    0.000000        -0.925  0.000000\n",
              "2     14576     50523       2  ...    0.000000        -0.925  0.000000\n",
              "3     14576      6540       1  ...    0.000000        -0.025  0.000000\n",
              "4     14576     72731       1  ...    0.000000        -0.925  0.000000\n",
              "\n",
              "[5 rows x 8 columns]"
            ]
          },
          "metadata": {
            "tags": []
          },
          "execution_count": 26
        }
      ]
    }
  ]
}