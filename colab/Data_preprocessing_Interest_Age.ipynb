{
  "nbformat": 4,
  "nbformat_minor": 0,
  "metadata": {
    "colab": {
      "name": "Data_preprocessing_Interest_Age.ipynb",
      "provenance": [],
      "collapsed_sections": []
    },
    "kernelspec": {
      "name": "python3",
      "display_name": "Python 3"
    },
    "language_info": {
      "name": "python"
    }
  },
  "cells": [
    {
      "cell_type": "markdown",
      "metadata": {
        "id": "ls88BT0xNFfX"
      },
      "source": [
        "# **This notebook is mainly for the Interest Age feature**"
      ]
    },
    {
      "cell_type": "markdown",
      "metadata": {
        "id": "HP3YrC78NyVQ"
      },
      "source": [
        "# 1. Data Import"
      ]
    },
    {
      "cell_type": "code",
      "metadata": {
        "colab": {
          "base_uri": "https://localhost:8080/"
        },
        "id": "PX9B902R8jZ7",
        "outputId": "3fc7fdba-1b99-46a1-e301-473d5b6815a3"
      },
      "source": [
        "from google.colab import drive\n",
        "drive.mount('/content/drive')\n",
        "%cd /content/drive/My Drive/DMC 2021/Annotated datasets "
      ],
      "execution_count": null,
      "outputs": [
        {
          "output_type": "stream",
          "text": [
            "Mounted at /content/drive\n",
            "/content/drive/.shortcut-targets-by-id/1dGBu1hYjjEvCZYeftgJHAL1CPvpintcV/DMC 2021/Annotated datasets\n"
          ],
          "name": "stdout"
        }
      ]
    },
    {
      "cell_type": "code",
      "metadata": {
        "id": "QKk1Ou_yTXP0"
      },
      "source": [
        "import pandas as pd\n",
        "import numpy as np\n",
        "items_dataset = pd.read_csv('items_inc_lang.csv')"
      ],
      "execution_count": null,
      "outputs": []
    },
    {
      "cell_type": "code",
      "metadata": {
        "colab": {
          "base_uri": "https://localhost:8080/",
          "height": 216
        },
        "id": "0kBjTq-z_65y",
        "outputId": "1caed0b6-cc7c-4255-92b6-1a4a19a5d279"
      },
      "source": [
        "print(len(items_dataset))\n",
        "items_dataset.head()"
      ],
      "execution_count": null,
      "outputs": [
        {
          "output_type": "stream",
          "text": [
            "78030\n"
          ],
          "name": "stdout"
        },
        {
          "output_type": "execute_result",
          "data": {
            "text/html": [
              "<div>\n",
              "<style scoped>\n",
              "    .dataframe tbody tr th:only-of-type {\n",
              "        vertical-align: middle;\n",
              "    }\n",
              "\n",
              "    .dataframe tbody tr th {\n",
              "        vertical-align: top;\n",
              "    }\n",
              "\n",
              "    .dataframe thead th {\n",
              "        text-align: right;\n",
              "    }\n",
              "</style>\n",
              "<table border=\"1\" class=\"dataframe\">\n",
              "  <thead>\n",
              "    <tr style=\"text-align: right;\">\n",
              "      <th></th>\n",
              "      <th>Unnamed: 0</th>\n",
              "      <th>itemID</th>\n",
              "      <th>title</th>\n",
              "      <th>author</th>\n",
              "      <th>publisher</th>\n",
              "      <th>main topic</th>\n",
              "      <th>subtopics</th>\n",
              "      <th>language</th>\n",
              "    </tr>\n",
              "  </thead>\n",
              "  <tbody>\n",
              "    <tr>\n",
              "      <th>0</th>\n",
              "      <td>0</td>\n",
              "      <td>21310</td>\n",
              "      <td>Princess Poppy: The Big Mix Up</td>\n",
              "      <td>Janey Louise Jones</td>\n",
              "      <td>Penguin Random House Children's UK</td>\n",
              "      <td>YFB</td>\n",
              "      <td>[5AH]</td>\n",
              "      <td>en</td>\n",
              "    </tr>\n",
              "    <tr>\n",
              "      <th>1</th>\n",
              "      <td>1</td>\n",
              "      <td>73018</td>\n",
              "      <td>Einfach zeichnen! Step by Step</td>\n",
              "      <td>Wiebke Krabbe</td>\n",
              "      <td>Schwager und Steinlein</td>\n",
              "      <td>AGZ</td>\n",
              "      <td>[5AJ,AGZ,WFA,YBG,YBL,YNA,YPA]</td>\n",
              "      <td>de</td>\n",
              "    </tr>\n",
              "    <tr>\n",
              "      <th>2</th>\n",
              "      <td>2</td>\n",
              "      <td>19194</td>\n",
              "      <td>Red Queen 1</td>\n",
              "      <td>Victoria Aveyard</td>\n",
              "      <td>Orion Publishing Group</td>\n",
              "      <td>YFH</td>\n",
              "      <td>[5AP,FBA]</td>\n",
              "      <td>en</td>\n",
              "    </tr>\n",
              "    <tr>\n",
              "      <th>3</th>\n",
              "      <td>3</td>\n",
              "      <td>40250</td>\n",
              "      <td>Meine Kindergarten-Freunde (Pirat)</td>\n",
              "      <td>NaN</td>\n",
              "      <td>Ars Edition GmbH</td>\n",
              "      <td>YB</td>\n",
              "      <td>[5AC,5AD,YBG,YBL,YF]</td>\n",
              "      <td>de</td>\n",
              "    </tr>\n",
              "    <tr>\n",
              "      <th>4</th>\n",
              "      <td>4</td>\n",
              "      <td>46107</td>\n",
              "      <td>Mein großes Schablonen-Buch - Wilde Tiere</td>\n",
              "      <td>Elizabeth Golding</td>\n",
              "      <td>Edition Michael Fischer</td>\n",
              "      <td>WFTM</td>\n",
              "      <td>[WD,WFTM,YBG,YBL,YBLD,YBLN1]</td>\n",
              "      <td>de</td>\n",
              "    </tr>\n",
              "  </tbody>\n",
              "</table>\n",
              "</div>"
            ],
            "text/plain": [
              "   Unnamed: 0  itemID  ...                      subtopics language\n",
              "0           0   21310  ...                          [5AH]       en\n",
              "1           1   73018  ...  [5AJ,AGZ,WFA,YBG,YBL,YNA,YPA]       de\n",
              "2           2   19194  ...                      [5AP,FBA]       en\n",
              "3           3   40250  ...           [5AC,5AD,YBG,YBL,YF]       de\n",
              "4           4   46107  ...   [WD,WFTM,YBG,YBL,YBLD,YBLN1]       de\n",
              "\n",
              "[5 rows x 8 columns]"
            ]
          },
          "metadata": {
            "tags": []
          },
          "execution_count": 129
        }
      ]
    },
    {
      "cell_type": "markdown",
      "metadata": {
        "id": "RtE9KUKdmJ8V"
      },
      "source": [
        "## Add a new column **\"age_identifier\"** based on subtopic start with \"5A\""
      ]
    },
    {
      "cell_type": "code",
      "metadata": {
        "id": "YbYk9k5RJsf5"
      },
      "source": [
        "import re\n",
        "\n",
        "item_data = items_dataset.copy()\n",
        "\n",
        "def remove_brackets(subtopic):\n",
        "  subtopic_list = str(subtopic).replace('[','').replace(']','')\n",
        "  return (subtopic_list.split(\",\")) \n",
        "\n",
        "#remove subtopic's brackets\n",
        "item_data.subtopics = item_data.subtopics.apply(remove_brackets)"
      ],
      "execution_count": null,
      "outputs": []
    },
    {
      "cell_type": "code",
      "metadata": {
        "id": "uhBtNWyzFa2D"
      },
      "source": [
        "#age_distribution\n",
        "age_distr = {}\n",
        "\n",
        "def age_distribution(subtopic):\n",
        "  if subtopic in age_distr:\n",
        "    age_distr[subtopic] += 1\n",
        "  else:\n",
        "    age_distr[subtopic] = 1\n",
        "  \n",
        "  return(0)"
      ],
      "execution_count": null,
      "outputs": []
    },
    {
      "cell_type": "code",
      "metadata": {
        "id": "C_U9BSl3-h2g"
      },
      "source": [
        "#New version\n",
        "def age_identifier(subtopic5A):\n",
        "  third_position = subtopic5A[2]\n",
        "\n",
        "  #Interest age: < 6 yrs old\n",
        "  if (third_position == 'B' or third_position == 'C' or third_position == 'D' or third_position == 'F' or third_position == 'G'):\n",
        "    return (int('0'))\n",
        "  #Interest age: 7-12 yrs old\n",
        "  elif (third_position == 'H' or third_position == 'J' or third_position == 'K' or third_position == 'L' or \n",
        "        third_position == 'M' or third_position == 'N'):\n",
        "    return (int('1'))\n",
        "  #Interest age: 13-17 yrs old\n",
        "  elif (third_position == 'P' or third_position == 'Q' or third_position == 'R' or third_position == 'S' or \n",
        "        third_position == 'T' or third_position == 'U'):\n",
        "    return (int('2'))\n",
        "  #Interest age: adult\n",
        "  elif (third_position == 'X'):\n",
        "    return (int('3'))\n",
        "  #Others\n",
        "  else: #only 3 cases which has subtopic (5AZ: for people with learning/communication difficulties) run this statment\n",
        "    return (int('20')) #to represent if a case is in others type, its distance between age is very large"
      ],
      "execution_count": null,
      "outputs": []
    },
    {
      "cell_type": "code",
      "metadata": {
        "id": "VJ5H4ikz-IvZ"
      },
      "source": [
        "def Y_identifier(subtopicY):\n",
        "  if str(subtopicY) == 'nan': return ('N') #'None'\n",
        "  if not subtopicY.startswith('Y'): return (str('N'))\n",
        "  if (len(subtopicY) < 2): return (int(20))\n",
        "  second_position = subtopicY[1]\n",
        "\n",
        "  #Add to type (interest age < 6 yrs old) #YB: Children's: picture books, activity books, early learning concept\n",
        "  if (second_position == 'B'):\n",
        "    return (int(0))\n",
        "  #Those categories are for Children or Teenager\n",
        "  elif (second_position == 'D' or second_position == 'F' or second_position == 'N' or second_position == 'R' or\n",
        "        second_position == 'X' or second_position == 'Z'):\n",
        "    return (int(1.5)) #give an average score for this type (between 1 and 2)\n",
        "  #YP: educational material. this type does not related to age\n",
        "  elif (second_position == 'P'):\n",
        "    return (int(20)) #others\n",
        "  else:\n",
        "    print(subtopicY)\n",
        "    return (str('N')) #it should be N????\n"
      ],
      "execution_count": null,
      "outputs": []
    },
    {
      "cell_type": "code",
      "metadata": {
        "colab": {
          "base_uri": "https://localhost:8080/"
        },
        "id": "8CBLdEJUSmt5",
        "outputId": "aa783c88-c791-4e3a-b0b5-caeeee109c0d"
      },
      "source": [
        "#def add_age_column(subtopic, itemID):\n",
        "def add_age_column(subtopic):\n",
        "\n",
        "  word = [text for text in subtopic if text.startswith('5A')]\n",
        "  if (len(word) == 1 and len(word[0]) >= 3):\n",
        "    result = [age_identifier(word[0])]\n",
        "    add = age_distribution(str(word[0][:3]))\n",
        "  elif (len(word) == 1 and len(word[0]) == 2): #two case's subtopic: 5A\n",
        "    add = age_distribution('others')\n",
        "    result = [int('20')]\n",
        "  elif (len(word) > 1): #cases with many age identifier!\n",
        "    result = [age_identifier(w) for w in word if len(w) >= 3]\n",
        "    rr = [int(20) for w in word if len(w) == 2]\n",
        "    for w in word:\n",
        "      if len(w) >= 3: add = age_distribution(str(w[:3]))\n",
        "      elif len(w) == 2: add = age_distribution('others')\n",
        "      else: add = age_distribution('false')\n",
        "    result = result + rr\n",
        "  else: #cases without age identifier!\n",
        "    #if (len(word) != 0): print('false')\n",
        "    add = age_distribution('None')\n",
        "    #result = str('None')\n",
        "    #directly consider if contain Y in subtopic\n",
        "    contain_Y = [text for text in subtopic if text.startswith('Y')]\n",
        "    if (len(contain_Y) > 0):\n",
        "      result = [Y_identifier(y) for y in contain_Y if (len(y) > 1)]\n",
        "      #no_result = [print('not a good label!') for y in contain_Y if (len(y) < 1)] #this case did not happen\n",
        "    else: \n",
        "      result = [str('N')]\n",
        "\n",
        "  return result\n",
        "\n",
        "age_distr = {}\n",
        "item_wo_age = []\n",
        "item_data['age_identifier'] = item_data.subtopics.apply(add_age_column)\n",
        "#item_data['age_identifier'] = [add_age_column(subtopic, itemID) for itemID, subtopic in zip(item_data.itemID, item_data.age_identifier)]\n",
        "print(item_data.head(15))\n",
        "print(age_distr)"
      ],
      "execution_count": null,
      "outputs": [
        {
          "output_type": "stream",
          "text": [
            "    Unnamed: 0  itemID  ... language age_identifier\n",
            "0            0   21310  ...       en            [1]\n",
            "1            1   73018  ...       de            [1]\n",
            "2            2   19194  ...       en            [2]\n",
            "3            3   40250  ...       de         [0, 0]\n",
            "4            4   46107  ...       de   [0, 0, 0, 0]\n",
            "5            5   34217  ...       af            [N]\n",
            "6            6   31436  ...       de            [0]\n",
            "7            7   14576  ...       de            [2]\n",
            "8            8   17731  ...       de            [2]\n",
            "9            9   58723  ...       de            [1]\n",
            "10          10   73124  ...       de   [0, 0, 1, 1]\n",
            "11          11   33976  ...       de            [N]\n",
            "12          12    2408  ...       de            [1]\n",
            "13          13   30277  ...       de            [1]\n",
            "14          14   29508  ...       de            [1]\n",
            "\n",
            "[15 rows x 9 columns]\n",
            "{'5AH': 930, '5AJ': 1224, '5AP': 473, '5AC': 728, '5AD': 703, 'None': 65482, '5AQ': 1591, '5AM': 346, '5AN': 2055, '5AK': 1367, '5AX': 514, '5AF': 1234, '5AG': 857, '5AL': 1047, '5AB': 259, 'others': 85, '5AT': 158, '5AR': 479, '5AS': 14, '5AZ': 3, '5AU': 3}\n"
          ],
          "name": "stdout"
        }
      ]
    },
    {
      "cell_type": "markdown",
      "metadata": {
        "id": "RWmOM214HdB6"
      },
      "source": [
        "## **Plot Age_identifier Distribution (based on subtopic 5A)**"
      ]
    },
    {
      "cell_type": "code",
      "metadata": {
        "colab": {
          "base_uri": "https://localhost:8080/",
          "height": 595
        },
        "id": "zvTudAvRQD-7",
        "outputId": "676c4c49-9ee5-4636-86c5-4d3ffae8e7fd"
      },
      "source": [
        "import matplotlib.pyplot as plt\n",
        "from matplotlib.pyplot import figure\n",
        "\n",
        "age_copy = age_distr.copy()\n",
        "\n",
        "age_distr_without_None = {}\n",
        "for i in sorted(age_copy):\n",
        "  age_distr_without_None[i] = age_copy[i]\n",
        "print(age_distr_without_None)\n",
        "\n",
        "del age_distr_without_None['None'] #65482\n",
        "keys = age_distr_without_None.keys()\n",
        "values = age_distr_without_None.values()\n",
        "\n",
        "figure(figsize=(10, 8), dpi=80)\n",
        "# displaying the title\n",
        "plt.title(\"Age Identifier (5A) Distribution\", fontsize = 20)\n",
        "plt.bar(keys, values)\n",
        "\n",
        "for index in age_distr_without_None:\n",
        "  plt.text(index, age_distr_without_None[index] + 20, str(age_distr_without_None[index]))"
      ],
      "execution_count": null,
      "outputs": [
        {
          "output_type": "stream",
          "text": [
            "{'5AB': 259, '5AC': 728, '5AD': 703, '5AF': 1234, '5AG': 857, '5AH': 930, '5AJ': 1224, '5AK': 1367, '5AL': 1047, '5AM': 346, '5AN': 2055, '5AP': 473, '5AQ': 1591, '5AR': 479, '5AS': 14, '5AT': 158, '5AU': 3, '5AX': 514, '5AZ': 3, 'None': 65482, 'others': 85}\n"
          ],
          "name": "stdout"
        },
        {
          "output_type": "display_data",
          "data": {
            "image/png": "[encoded data removed]",
            "text/plain": [
              "<Figure size 800x640 with 1 Axes>"
            ]
          },
          "metadata": {
            "tags": [],
            "needs_background": "light"
          }
        }
      ]
    },
    {
      "cell_type": "code",
      "metadata": {
        "colab": {
          "base_uri": "https://localhost:8080/",
          "height": 487
        },
        "id": "sDOYf-OXgqlc",
        "outputId": "0fca6fd6-7654-42c2-c134-388fa4c5d2b8"
      },
      "source": [
        "import matplotlib\n",
        "\n",
        "import matplotlib.pyplot as plt\n",
        "\n",
        "category = [key for key in age_distr]\n",
        "expend = [age_distr[key] for key in age_distr]\n",
        " \n",
        "plt.figure(figsize=(12,8))\n",
        "\n",
        "pictures,category_text,percent_text = plt.pie(\n",
        "        expend,                      \n",
        "        labels = category,                \n",
        "        autopct = \"%0.2f%%\",              \n",
        "        pctdistance = 0.65,\n",
        "        radius = 1,                  \n",
        "        center = (-10,0),                 \n",
        "        shadow=False)\n",
        " \n",
        "#plt.legend(loc = \"center right\")\n",
        "plt.title(\"Percentage of Each Age Identifier\", fontsize = 20)\n",
        "plt.show()"
      ],
      "execution_count": null,
      "outputs": [
        {
          "output_type": "display_data",
          "data": {
            "image/png": "[encoded data removed]",
            "text/plain": [
              "<Figure size 864x576 with 1 Axes>"
            ]
          },
          "metadata": {
            "tags": []
          }
        }
      ]
    },
    {
      "cell_type": "markdown",
      "metadata": {
        "id": "p0aqaxVlHvpc"
      },
      "source": [
        "## **If main topic contain Y**"
      ]
    },
    {
      "cell_type": "code",
      "metadata": {
        "id": "q5z_KpDyHu4l"
      },
      "source": [
        "item_data['contain_Y'] = 'None'\n",
        "item_data['contain_Y'] = [[Y_identifier(topic)] for topic in item_data['main topic']]"
      ],
      "execution_count": null,
      "outputs": []
    },
    {
      "cell_type": "code",
      "metadata": {
        "colab": {
          "base_uri": "https://localhost:8080/",
          "height": 348
        },
        "id": "XXv5KqgJQi1P",
        "outputId": "71807c6f-a9c2-494a-9399-c55c87a8b7d9"
      },
      "source": [
        "item_data.head(10)"
      ],
      "execution_count": null,
      "outputs": [
        {
          "output_type": "execute_result",
          "data": {
            "text/html": [
              "<div>\n",
              "<style scoped>\n",
              "    .dataframe tbody tr th:only-of-type {\n",
              "        vertical-align: middle;\n",
              "    }\n",
              "\n",
              "    .dataframe tbody tr th {\n",
              "        vertical-align: top;\n",
              "    }\n",
              "\n",
              "    .dataframe thead th {\n",
              "        text-align: right;\n",
              "    }\n",
              "</style>\n",
              "<table border=\"1\" class=\"dataframe\">\n",
              "  <thead>\n",
              "    <tr style=\"text-align: right;\">\n",
              "      <th></th>\n",
              "      <th>Unnamed: 0</th>\n",
              "      <th>itemID</th>\n",
              "      <th>title</th>\n",
              "      <th>author</th>\n",
              "      <th>publisher</th>\n",
              "      <th>main topic</th>\n",
              "      <th>subtopics</th>\n",
              "      <th>language</th>\n",
              "      <th>age_identifier</th>\n",
              "      <th>contain_Y</th>\n",
              "    </tr>\n",
              "  </thead>\n",
              "  <tbody>\n",
              "    <tr>\n",
              "      <th>0</th>\n",
              "      <td>0</td>\n",
              "      <td>21310</td>\n",
              "      <td>Princess Poppy: The Big Mix Up</td>\n",
              "      <td>Janey Louise Jones</td>\n",
              "      <td>Penguin Random House Children's UK</td>\n",
              "      <td>YFB</td>\n",
              "      <td>[5AH]</td>\n",
              "      <td>en</td>\n",
              "      <td>[1]</td>\n",
              "      <td>[1]</td>\n",
              "    </tr>\n",
              "    <tr>\n",
              "      <th>1</th>\n",
              "      <td>1</td>\n",
              "      <td>73018</td>\n",
              "      <td>Einfach zeichnen! Step by Step</td>\n",
              "      <td>Wiebke Krabbe</td>\n",
              "      <td>Schwager und Steinlein</td>\n",
              "      <td>AGZ</td>\n",
              "      <td>[5AJ, AGZ, WFA, YBG, YBL, YNA, YPA]</td>\n",
              "      <td>de</td>\n",
              "      <td>[1]</td>\n",
              "      <td>[N]</td>\n",
              "    </tr>\n",
              "    <tr>\n",
              "      <th>2</th>\n",
              "      <td>2</td>\n",
              "      <td>19194</td>\n",
              "      <td>Red Queen 1</td>\n",
              "      <td>Victoria Aveyard</td>\n",
              "      <td>Orion Publishing Group</td>\n",
              "      <td>YFH</td>\n",
              "      <td>[5AP, FBA]</td>\n",
              "      <td>en</td>\n",
              "      <td>[2]</td>\n",
              "      <td>[1]</td>\n",
              "    </tr>\n",
              "    <tr>\n",
              "      <th>3</th>\n",
              "      <td>3</td>\n",
              "      <td>40250</td>\n",
              "      <td>Meine Kindergarten-Freunde (Pirat)</td>\n",
              "      <td>NaN</td>\n",
              "      <td>Ars Edition GmbH</td>\n",
              "      <td>YB</td>\n",
              "      <td>[5AC, 5AD, YBG, YBL, YF]</td>\n",
              "      <td>de</td>\n",
              "      <td>[0, 0]</td>\n",
              "      <td>[0]</td>\n",
              "    </tr>\n",
              "    <tr>\n",
              "      <th>4</th>\n",
              "      <td>4</td>\n",
              "      <td>46107</td>\n",
              "      <td>Mein großes Schablonen-Buch - Wilde Tiere</td>\n",
              "      <td>Elizabeth Golding</td>\n",
              "      <td>Edition Michael Fischer</td>\n",
              "      <td>WFTM</td>\n",
              "      <td>[WD, WFTM, YBG, YBL, YBLD, YBLN1]</td>\n",
              "      <td>de</td>\n",
              "      <td>[0, 0, 0, 0]</td>\n",
              "      <td>[N]</td>\n",
              "    </tr>\n",
              "    <tr>\n",
              "      <th>5</th>\n",
              "      <td>5</td>\n",
              "      <td>34217</td>\n",
              "      <td>Ewig geliebt</td>\n",
              "      <td>J. R. Ward</td>\n",
              "      <td>Heyne Taschenbuch</td>\n",
              "      <td>FMR</td>\n",
              "      <td>[1KBB-US-NAK, FMX, FRX, 3MRBF]</td>\n",
              "      <td>af</td>\n",
              "      <td>[N]</td>\n",
              "      <td>[N]</td>\n",
              "    </tr>\n",
              "    <tr>\n",
              "      <th>6</th>\n",
              "      <td>6</td>\n",
              "      <td>31436</td>\n",
              "      <td>Meine Sticker-Tiere</td>\n",
              "      <td>NaN</td>\n",
              "      <td>Ars Edition GmbH</td>\n",
              "      <td>YBG</td>\n",
              "      <td>[5AD, YBG, YBLL]</td>\n",
              "      <td>de</td>\n",
              "      <td>[0]</td>\n",
              "      <td>[0]</td>\n",
              "    </tr>\n",
              "    <tr>\n",
              "      <th>7</th>\n",
              "      <td>7</td>\n",
              "      <td>14576</td>\n",
              "      <td>Unsterblich 01 - Tor der Dämmerung</td>\n",
              "      <td>Julie Kagawa</td>\n",
              "      <td>Heyne Taschenbuch</td>\n",
              "      <td>YFE</td>\n",
              "      <td>[5AQ, FM, YFE, YFH]</td>\n",
              "      <td>de</td>\n",
              "      <td>[2]</td>\n",
              "      <td>[1]</td>\n",
              "    </tr>\n",
              "    <tr>\n",
              "      <th>8</th>\n",
              "      <td>8</td>\n",
              "      <td>17731</td>\n",
              "      <td>Unsterblich 02 - Tor der Nacht</td>\n",
              "      <td>Julie Kagawa</td>\n",
              "      <td>Heyne Taschenbuch</td>\n",
              "      <td>YFH</td>\n",
              "      <td>[5AQ, FM, YFE, YFH]</td>\n",
              "      <td>de</td>\n",
              "      <td>[2]</td>\n",
              "      <td>[1]</td>\n",
              "    </tr>\n",
              "    <tr>\n",
              "      <th>9</th>\n",
              "      <td>9</td>\n",
              "      <td>58723</td>\n",
              "      <td>Pedro und die Bettler von Cartagena</td>\n",
              "      <td>Ursula Hasler</td>\n",
              "      <td>dtv Verlagsgesellschaft</td>\n",
              "      <td>YFB</td>\n",
              "      <td>[5AM, 1KLSC]</td>\n",
              "      <td>de</td>\n",
              "      <td>[1]</td>\n",
              "      <td>[1]</td>\n",
              "    </tr>\n",
              "  </tbody>\n",
              "</table>\n",
              "</div>"
            ],
            "text/plain": [
              "   Unnamed: 0  itemID  ... age_identifier contain_Y\n",
              "0           0   21310  ...            [1]       [1]\n",
              "1           1   73018  ...            [1]       [N]\n",
              "2           2   19194  ...            [2]       [1]\n",
              "3           3   40250  ...         [0, 0]       [0]\n",
              "4           4   46107  ...   [0, 0, 0, 0]       [N]\n",
              "5           5   34217  ...            [N]       [N]\n",
              "6           6   31436  ...            [0]       [0]\n",
              "7           7   14576  ...            [2]       [1]\n",
              "8           8   17731  ...            [2]       [1]\n",
              "9           9   58723  ...            [1]       [1]\n",
              "\n",
              "[10 rows x 10 columns]"
            ]
          },
          "metadata": {
            "tags": []
          },
          "execution_count": 136
        }
      ]
    },
    {
      "cell_type": "code",
      "metadata": {
        "id": "BwpLUSMbXHDI"
      },
      "source": [
        "item_data['age'] = item_data['age_identifier'] + item_data['contain_Y']"
      ],
      "execution_count": null,
      "outputs": []
    },
    {
      "cell_type": "code",
      "metadata": {
        "id": "2drfKxrRKURL"
      },
      "source": [
        "def remove_None(data):\n",
        "  value = 'N'\n",
        "  while value in data:\n",
        "      data.remove(value)\n",
        "  if (len(data) == 0): return (str('None'))\n",
        "  return (data)"
      ],
      "execution_count": null,
      "outputs": []
    },
    {
      "cell_type": "code",
      "metadata": {
        "colab": {
          "base_uri": "https://localhost:8080/"
        },
        "id": "hwfnUMp1IvCT",
        "outputId": "3034107d-bf35-4c93-ff36-1078fdd1c092"
      },
      "source": [
        "item_data['age'] = item_data['age'].apply(remove_None)\n",
        "print(item_data['age'].head())"
      ],
      "execution_count": null,
      "outputs": [
        {
          "output_type": "stream",
          "text": [
            "0          [1, 1]\n",
            "1             [1]\n",
            "2          [2, 1]\n",
            "3       [0, 0, 0]\n",
            "4    [0, 0, 0, 0]\n",
            "Name: age, dtype: object\n"
          ],
          "name": "stdout"
        }
      ]
    },
    {
      "cell_type": "code",
      "metadata": {
        "id": "MX8MZrZNPyyx"
      },
      "source": [
        "def calculate_mean(age_list):\n",
        "  if age_list != 'None':\n",
        "    return(mean(age_list))\n",
        "  else:\n",
        "    return age_list"
      ],
      "execution_count": null,
      "outputs": []
    },
    {
      "cell_type": "code",
      "metadata": {
        "colab": {
          "base_uri": "https://localhost:8080/"
        },
        "id": "1RCDgj_ULCFl",
        "outputId": "894cfae4-2ddf-476b-cfdc-306b53cfce60"
      },
      "source": [
        "from statistics import mean\n",
        "\n",
        "item_data['age'] = item_data['age'].apply(calculate_mean)\n",
        "print(item_data['age'].head())"
      ],
      "execution_count": null,
      "outputs": [
        {
          "output_type": "stream",
          "text": [
            "0      1\n",
            "1      1\n",
            "2    1.5\n",
            "3      0\n",
            "4      0\n",
            "Name: age, dtype: object\n"
          ],
          "name": "stdout"
        }
      ]
    },
    {
      "cell_type": "code",
      "metadata": {
        "colab": {
          "base_uri": "https://localhost:8080/"
        },
        "id": "-BwD6M5CS3qL",
        "outputId": "e6fa690b-b283-4f2f-bb1e-a7252ec16355"
      },
      "source": [
        "item_data.loc[item_data['age'] == 'None'].count() #26441"
      ],
      "execution_count": null,
      "outputs": [
        {
          "output_type": "execute_result",
          "data": {
            "text/plain": [
              "Unnamed: 0        26441\n",
              "itemID            26441\n",
              "title             26441\n",
              "author            26059\n",
              "publisher         26432\n",
              "main topic        26265\n",
              "subtopics         26441\n",
              "language          26441\n",
              "age_identifier    26441\n",
              "contain_Y         26441\n",
              "age               26441\n",
              "dtype: int64"
            ]
          },
          "metadata": {
            "tags": []
          },
          "execution_count": 142
        }
      ]
    },
    {
      "cell_type": "markdown",
      "metadata": {
        "id": "8w7wO9Hq0F_M"
      },
      "source": [
        "# **Save a new csv file**"
      ]
    },
    {
      "cell_type": "code",
      "metadata": {
        "id": "K0xqn0VAnGa4"
      },
      "source": [
        "#save as a new csv file\n",
        "result_data = item_data.copy()\n",
        "result_data.drop(['age_identifier','contain_Y', 'language'], axis=1, inplace=True)\n",
        "result_data = result_data.rename(columns={\"age\": \"interest_age\"})\n",
        "print(result_data.head())\n",
        "#result_data.to_csv('item_age_identifier.csv', index = False)"
      ],
      "execution_count": null,
      "outputs": []
    },
    {
      "cell_type": "code",
      "metadata": {
        "colab": {
          "base_uri": "https://localhost:8080/",
          "height": 631
        },
        "id": "WNYsDelXXq-B",
        "outputId": "0cc22e22-3fbb-4244-9a58-44d93313acff"
      },
      "source": [
        "import matplotlib.pyplot as plt\n",
        "from matplotlib.pyplot import figure\n",
        "\n",
        "plot_interest_age = result_data.copy()\n",
        "age_c = {}\n",
        "\n",
        "def age_cc(interest_age):\n",
        "  if interest_age in age_c:\n",
        "    age_c[interest_age] += 1\n",
        "  else:\n",
        "    age_c[interest_age] = 1\n",
        "  \n",
        "  return(0)\n",
        "\n",
        "ok = [age_cc(in_age) for in_age in plot_interest_age['interest_age']]\n",
        "print(age_c)\n",
        "\n",
        "\n",
        "#plot_interest_age['interest_age'].value_counts().plot()\n",
        "#plot_interest_age.iloc[:3]['interest_age'].plot(kind=\"bar\")\n",
        "\n",
        "\n",
        "age_value = {}\n",
        "del age_c['None']\n",
        "for i in sorted(age_c):\n",
        "  age_value[i] = age_c[i]\n",
        "print(age_value)\n",
        "\n",
        "keys = age_value.keys()\n",
        "values = age_value.values()\n",
        "\n",
        "figure(figsize=(10, 8), dpi=80)\n",
        "# displaying the title\n",
        "plt.title(\"Interest Age Distribution\", fontsize = 20)\n",
        "plt.bar(keys, values)\n",
        "\n",
        "#for index in age_value:\n",
        "  #plt.text(index, age_value[index] + 40, str(age_value[index]))"
      ],
      "execution_count": null,
      "outputs": [
        {
          "output_type": "stream",
          "text": [
            "{1: 39035, 1.5: 1438, 0: 5989, 'None': 26441, 0.6: 14, 2: 730, 2.5: 86, 0.5: 1924, 0.25: 19, 0.3333333333333333: 145, 0.6666666666666666: 504, 10.5: 283, 0.75: 31, 7.333333333333333: 56, 1.3333333333333333: 272, 1.6666666666666667: 57, 10: 270, 2.3333333333333335: 3, 1.25: 21, 0.8: 14, 20: 97, 13.333333333333334: 120, 5: 4, 3: 171, 5.75: 15, 6.666666666666667: 41, 0.2: 6, 15: 1, 4.8: 6, 0.4: 6, 0.9090909090909091: 1, 3.375: 1, 0.8333333333333334: 8, 11: 16, 5.25: 1, 0.7142857142857143: 1, 1.6: 3, 2.857142857142857: 1, 1.4: 1, 1.75: 7, 14.285714285714286: 1, 7.666666666666667: 10, 4.166666666666667: 3, 7: 142, 0.14285714285714285: 2, 0.16666666666666666: 2, 5.6: 1, 1.4285714285714286: 1, 4.2: 1, 6: 1, 12.222222222222221: 1, 0.8571428571428571: 4, 13.666666666666666: 4, 2.2: 1, 0.125: 1, 3.3333333333333335: 1, 8.333333333333334: 1, 5.545454545454546: 1, 5.5: 3, 12.6: 1, 0.5714285714285714: 1, 11.5: 1, 8.4: 1, 0.8888888888888888: 1, 11.714285714285714: 1, 2.090909090909091: 1, 0.625: 1, 16: 1, 1.7777777777777777: 1}\n",
            "{0: 5989, 0.125: 1, 0.14285714285714285: 2, 0.16666666666666666: 2, 0.2: 6, 0.25: 19, 0.3333333333333333: 145, 0.4: 6, 0.5: 1924, 0.5714285714285714: 1, 0.6: 14, 0.625: 1, 0.6666666666666666: 504, 0.7142857142857143: 1, 0.75: 31, 0.8: 14, 0.8333333333333334: 8, 0.8571428571428571: 4, 0.8888888888888888: 1, 0.9090909090909091: 1, 1: 39035, 1.25: 21, 1.3333333333333333: 272, 1.4: 1, 1.4285714285714286: 1, 1.5: 1438, 1.6: 3, 1.6666666666666667: 57, 1.75: 7, 1.7777777777777777: 1, 2: 730, 2.090909090909091: 1, 2.2: 1, 2.3333333333333335: 3, 2.5: 86, 2.857142857142857: 1, 3: 171, 3.3333333333333335: 1, 3.375: 1, 4.166666666666667: 3, 4.2: 1, 4.8: 6, 5: 4, 5.25: 1, 5.5: 3, 5.545454545454546: 1, 5.6: 1, 5.75: 15, 6: 1, 6.666666666666667: 41, 7: 142, 7.333333333333333: 56, 7.666666666666667: 10, 8.333333333333334: 1, 8.4: 1, 10: 270, 10.5: 283, 11: 16, 11.5: 1, 11.714285714285714: 1, 12.222222222222221: 1, 12.6: 1, 13.333333333333334: 120, 13.666666666666666: 4, 14.285714285714286: 1, 15: 1, 16: 1, 20: 97}\n"
          ],
          "name": "stdout"
        },
        {
          "output_type": "execute_result",
          "data": {
            "text/plain": [
              "<BarContainer object of 68 artists>"
            ]
          },
          "metadata": {
            "tags": []
          },
          "execution_count": 170
        },
        {
          "output_type": "display_data",
          "data": {
            "image/png": "[encoded data removed]",
            "text/plain": [
              "<Figure size 800x640 with 1 Axes>"
            ]
          },
          "metadata": {
            "tags": [],
            "needs_background": "light"
          }
        }
      ]
    },
    {
      "cell_type": "code",
      "metadata": {
        "colab": {
          "base_uri": "https://localhost:8080/",
          "height": 427
        },
        "id": "MQRZ4Za1gcrQ",
        "outputId": "c9238cfd-af45-42cd-ada1-876a85c28263"
      },
      "source": [
        "plt.title(\"Interest Age Boxplot\", fontsize = 14)\n",
        "plt.boxplot(keys, values)"
      ],
      "execution_count": null,
      "outputs": [
        {
          "output_type": "execute_result",
          "data": {
            "text/plain": [
              "{'boxes': [<matplotlib.lines.Line2D at 0x7f6126731c50>],\n",
              " 'caps': [<matplotlib.lines.Line2D at 0x7f6126738c90>,\n",
              "  <matplotlib.lines.Line2D at 0x7f61266c1210>],\n",
              " 'fliers': [<matplotlib.lines.Line2D at 0x7f61266c1cd0>],\n",
              " 'means': [],\n",
              " 'medians': [<matplotlib.lines.Line2D at 0x7f61266c1790>],\n",
              " 'whiskers': [<matplotlib.lines.Line2D at 0x7f6126738210>,\n",
              "  <matplotlib.lines.Line2D at 0x7f6126738750>]}"
            ]
          },
          "metadata": {
            "tags": []
          },
          "execution_count": 173
        },
        {
          "output_type": "display_data",
          "data": {
            "image/png": "[encoded data removed]",
            "text/plain": [
              "<Figure size 432x288 with 1 Axes>"
            ]
          },
          "metadata": {
            "tags": [],
            "needs_background": "light"
          }
        }
      ]
    },
    {
      "cell_type": "code",
      "metadata": {
        "id": "L9yMqE7Re-Fb"
      },
      "source": [
        ""
      ],
      "execution_count": null,
      "outputs": []
    }
  ]
}