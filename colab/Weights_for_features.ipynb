{
  "nbformat": 4,
  "nbformat_minor": 0,
  "metadata": {
    "kernelspec": {
      "display_name": "Python 3",
      "language": "python",
      "name": "python3"
    },
    "language_info": {
      "codemirror_mode": {
        "name": "ipython",
        "version": 3
      },
      "file_extension": ".py",
      "mimetype": "text/x-python",
      "name": "python",
      "nbconvert_exporter": "python",
      "pygments_lexer": "ipython3",
      "version": "3.8.5"
    },
    "colab": {
      "name": "Weights_for_features.ipynb",
      "provenance": [],
      "collapsed_sections": [
        "x_wORtWhwzQ9",
        "GTl1r5_Nw8f4",
        "wXroRSOT4gsj",
        "ojLzy4Gw2abA"
      ]
    }
  },
  "cells": [
    {
      "cell_type": "markdown",
      "metadata": {
        "id": "9facMK52_7nU"
      },
      "source": [
        "# **This notebook is for feature weight training.**\n",
        "**- The best solution is from Random Forest**"
      ]
    },
    {
      "cell_type": "code",
      "metadata": {
        "id": "A5dpVSqz5YEX"
      },
      "source": [
        "import pandas as pd\n",
        "import numpy as np"
      ],
      "execution_count": null,
      "outputs": []
    },
    {
      "cell_type": "code",
      "metadata": {
        "id": "-8h22qGH5YEa",
        "outputId": "6b72807a-7e27-409c-d43c-8031915723b7"
      },
      "source": [
        "trans_network = pd.read_csv('transaction_network_data_all.csv', sep=',')\n",
        "trans_network.head()"
      ],
      "execution_count": null,
      "outputs": [
        {
          "output_type": "execute_result",
          "data": {
            "text/html": [
              "<div>\n",
              "<style scoped>\n",
              "    .dataframe tbody tr th:only-of-type {\n",
              "        vertical-align: middle;\n",
              "    }\n",
              "\n",
              "    .dataframe tbody tr th {\n",
              "        vertical-align: top;\n",
              "    }\n",
              "\n",
              "    .dataframe thead th {\n",
              "        text-align: right;\n",
              "    }\n",
              "</style>\n",
              "<table border=\"1\" class=\"dataframe\">\n",
              "  <thead>\n",
              "    <tr style=\"text-align: right;\">\n",
              "      <th></th>\n",
              "      <th>Unnamed: 0</th>\n",
              "      <th>itemID_i</th>\n",
              "      <th>itemID_j</th>\n",
              "      <th>weight</th>\n",
              "      <th>language</th>\n",
              "      <th>author</th>\n",
              "      <th>main_topic</th>\n",
              "      <th>interest_age</th>\n",
              "      <th>title</th>\n",
              "      <th>publisher_cluster</th>\n",
              "      <th>author_cluster</th>\n",
              "      <th>number_pages</th>\n",
              "    </tr>\n",
              "  </thead>\n",
              "  <tbody>\n",
              "    <tr>\n",
              "      <th>0</th>\n",
              "      <td>0</td>\n",
              "      <td>14576</td>\n",
              "      <td>17731</td>\n",
              "      <td>6</td>\n",
              "      <td>1.0</td>\n",
              "      <td>1.0</td>\n",
              "      <td>0.175094</td>\n",
              "      <td>0.000</td>\n",
              "      <td>1.335705</td>\n",
              "      <td>1.000000</td>\n",
              "      <td>0.460938</td>\n",
              "      <td>0.448052</td>\n",
              "    </tr>\n",
              "    <tr>\n",
              "      <th>1</th>\n",
              "      <td>1</td>\n",
              "      <td>14576</td>\n",
              "      <td>4753</td>\n",
              "      <td>1</td>\n",
              "      <td>1.0</td>\n",
              "      <td>0.0</td>\n",
              "      <td>0.000000</td>\n",
              "      <td>0.025</td>\n",
              "      <td>0.000000</td>\n",
              "      <td>1.000000</td>\n",
              "      <td>0.628093</td>\n",
              "      <td>0.819805</td>\n",
              "    </tr>\n",
              "    <tr>\n",
              "      <th>2</th>\n",
              "      <td>2</td>\n",
              "      <td>14576</td>\n",
              "      <td>50523</td>\n",
              "      <td>2</td>\n",
              "      <td>1.0</td>\n",
              "      <td>0.0</td>\n",
              "      <td>0.000000</td>\n",
              "      <td>-0.925</td>\n",
              "      <td>0.000000</td>\n",
              "      <td>1.000000</td>\n",
              "      <td>0.424975</td>\n",
              "      <td>0.619713</td>\n",
              "    </tr>\n",
              "    <tr>\n",
              "      <th>3</th>\n",
              "      <td>3</td>\n",
              "      <td>14576</td>\n",
              "      <td>6540</td>\n",
              "      <td>1</td>\n",
              "      <td>1.0</td>\n",
              "      <td>0.0</td>\n",
              "      <td>0.000000</td>\n",
              "      <td>-0.025</td>\n",
              "      <td>0.000000</td>\n",
              "      <td>0.761851</td>\n",
              "      <td>1.000000</td>\n",
              "      <td>0.688312</td>\n",
              "    </tr>\n",
              "    <tr>\n",
              "      <th>4</th>\n",
              "      <td>4</td>\n",
              "      <td>14576</td>\n",
              "      <td>72731</td>\n",
              "      <td>1</td>\n",
              "      <td>1.0</td>\n",
              "      <td>0.0</td>\n",
              "      <td>0.000000</td>\n",
              "      <td>0.025</td>\n",
              "      <td>0.000000</td>\n",
              "      <td>0.761851</td>\n",
              "      <td>0.460938</td>\n",
              "      <td>0.146193</td>\n",
              "    </tr>\n",
              "  </tbody>\n",
              "</table>\n",
              "</div>"
            ],
            "text/plain": [
              "   Unnamed: 0  itemID_i  itemID_j  weight  language  author  main_topic  \\\n",
              "0           0     14576     17731       6       1.0     1.0    0.175094   \n",
              "1           1     14576      4753       1       1.0     0.0    0.000000   \n",
              "2           2     14576     50523       2       1.0     0.0    0.000000   \n",
              "3           3     14576      6540       1       1.0     0.0    0.000000   \n",
              "4           4     14576     72731       1       1.0     0.0    0.000000   \n",
              "\n",
              "   interest_age     title  publisher_cluster  author_cluster  number_pages  \n",
              "0         0.000  1.335705           1.000000        0.460938      0.448052  \n",
              "1         0.025  0.000000           1.000000        0.628093      0.819805  \n",
              "2        -0.925  0.000000           1.000000        0.424975      0.619713  \n",
              "3        -0.025  0.000000           0.761851        1.000000      0.688312  \n",
              "4         0.025  0.000000           0.761851        0.460938      0.146193  "
            ]
          },
          "metadata": {
            "tags": []
          },
          "execution_count": 2
        }
      ]
    },
    {
      "cell_type": "code",
      "metadata": {
        "id": "7DLD-nNk5YEb",
        "outputId": "3366bd39-374d-487f-a0bb-1be9c80162e7"
      },
      "source": [
        "network_data = trans_network.copy()\n",
        "print(len(network_data))"
      ],
      "execution_count": null,
      "outputs": [
        {
          "output_type": "stream",
          "text": [
            "303666\n"
          ],
          "name": "stdout"
        }
      ]
    },
    {
      "cell_type": "code",
      "metadata": {
        "id": "bB_l-glJ5YEb",
        "outputId": "9d489547-a49f-43d0-a0eb-633ff609ef77"
      },
      "source": [
        "network_data = network_data.drop(columns=['Unnamed: 0'])\n",
        "#remove data which main topic is nan\n",
        "network_data.dropna(subset = [\"main_topic\"], inplace=True)\n",
        "print(len(network_data))\n",
        "network_data.head()"
      ],
      "execution_count": null,
      "outputs": [
        {
          "output_type": "stream",
          "text": [
            "301349\n"
          ],
          "name": "stdout"
        },
        {
          "output_type": "execute_result",
          "data": {
            "text/html": [
              "<div>\n",
              "<style scoped>\n",
              "    .dataframe tbody tr th:only-of-type {\n",
              "        vertical-align: middle;\n",
              "    }\n",
              "\n",
              "    .dataframe tbody tr th {\n",
              "        vertical-align: top;\n",
              "    }\n",
              "\n",
              "    .dataframe thead th {\n",
              "        text-align: right;\n",
              "    }\n",
              "</style>\n",
              "<table border=\"1\" class=\"dataframe\">\n",
              "  <thead>\n",
              "    <tr style=\"text-align: right;\">\n",
              "      <th></th>\n",
              "      <th>itemID_i</th>\n",
              "      <th>itemID_j</th>\n",
              "      <th>weight</th>\n",
              "      <th>language</th>\n",
              "      <th>author</th>\n",
              "      <th>main_topic</th>\n",
              "      <th>interest_age</th>\n",
              "      <th>title</th>\n",
              "      <th>publisher_cluster</th>\n",
              "      <th>author_cluster</th>\n",
              "      <th>number_pages</th>\n",
              "    </tr>\n",
              "  </thead>\n",
              "  <tbody>\n",
              "    <tr>\n",
              "      <th>0</th>\n",
              "      <td>14576</td>\n",
              "      <td>17731</td>\n",
              "      <td>6</td>\n",
              "      <td>1.0</td>\n",
              "      <td>1.0</td>\n",
              "      <td>0.175094</td>\n",
              "      <td>0.000</td>\n",
              "      <td>1.335705</td>\n",
              "      <td>1.000000</td>\n",
              "      <td>0.460938</td>\n",
              "      <td>0.448052</td>\n",
              "    </tr>\n",
              "    <tr>\n",
              "      <th>1</th>\n",
              "      <td>14576</td>\n",
              "      <td>4753</td>\n",
              "      <td>1</td>\n",
              "      <td>1.0</td>\n",
              "      <td>0.0</td>\n",
              "      <td>0.000000</td>\n",
              "      <td>0.025</td>\n",
              "      <td>0.000000</td>\n",
              "      <td>1.000000</td>\n",
              "      <td>0.628093</td>\n",
              "      <td>0.819805</td>\n",
              "    </tr>\n",
              "    <tr>\n",
              "      <th>2</th>\n",
              "      <td>14576</td>\n",
              "      <td>50523</td>\n",
              "      <td>2</td>\n",
              "      <td>1.0</td>\n",
              "      <td>0.0</td>\n",
              "      <td>0.000000</td>\n",
              "      <td>-0.925</td>\n",
              "      <td>0.000000</td>\n",
              "      <td>1.000000</td>\n",
              "      <td>0.424975</td>\n",
              "      <td>0.619713</td>\n",
              "    </tr>\n",
              "    <tr>\n",
              "      <th>3</th>\n",
              "      <td>14576</td>\n",
              "      <td>6540</td>\n",
              "      <td>1</td>\n",
              "      <td>1.0</td>\n",
              "      <td>0.0</td>\n",
              "      <td>0.000000</td>\n",
              "      <td>-0.025</td>\n",
              "      <td>0.000000</td>\n",
              "      <td>0.761851</td>\n",
              "      <td>1.000000</td>\n",
              "      <td>0.688312</td>\n",
              "    </tr>\n",
              "    <tr>\n",
              "      <th>4</th>\n",
              "      <td>14576</td>\n",
              "      <td>72731</td>\n",
              "      <td>1</td>\n",
              "      <td>1.0</td>\n",
              "      <td>0.0</td>\n",
              "      <td>0.000000</td>\n",
              "      <td>0.025</td>\n",
              "      <td>0.000000</td>\n",
              "      <td>0.761851</td>\n",
              "      <td>0.460938</td>\n",
              "      <td>0.146193</td>\n",
              "    </tr>\n",
              "  </tbody>\n",
              "</table>\n",
              "</div>"
            ],
            "text/plain": [
              "   itemID_i  itemID_j  weight  language  author  main_topic  interest_age  \\\n",
              "0     14576     17731       6       1.0     1.0    0.175094         0.000   \n",
              "1     14576      4753       1       1.0     0.0    0.000000         0.025   \n",
              "2     14576     50523       2       1.0     0.0    0.000000        -0.925   \n",
              "3     14576      6540       1       1.0     0.0    0.000000        -0.025   \n",
              "4     14576     72731       1       1.0     0.0    0.000000         0.025   \n",
              "\n",
              "      title  publisher_cluster  author_cluster  number_pages  \n",
              "0  1.335705           1.000000        0.460938      0.448052  \n",
              "1  0.000000           1.000000        0.628093      0.819805  \n",
              "2  0.000000           1.000000        0.424975      0.619713  \n",
              "3  0.000000           0.761851        1.000000      0.688312  \n",
              "4  0.000000           0.761851        0.460938      0.146193  "
            ]
          },
          "metadata": {
            "tags": []
          },
          "execution_count": 4
        }
      ]
    },
    {
      "cell_type": "code",
      "metadata": {
        "id": "rCmjguZY5YEc",
        "outputId": "a1dc29b9-f926-4ac1-f54f-701c086a5c4a"
      },
      "source": [
        "#calculate age closeness\n",
        "network_data['interest_age'] = 1 - abs(network_data['interest_age'])\n",
        "network_data.head()"
      ],
      "execution_count": null,
      "outputs": [
        {
          "output_type": "execute_result",
          "data": {
            "text/html": [
              "<div>\n",
              "<style scoped>\n",
              "    .dataframe tbody tr th:only-of-type {\n",
              "        vertical-align: middle;\n",
              "    }\n",
              "\n",
              "    .dataframe tbody tr th {\n",
              "        vertical-align: top;\n",
              "    }\n",
              "\n",
              "    .dataframe thead th {\n",
              "        text-align: right;\n",
              "    }\n",
              "</style>\n",
              "<table border=\"1\" class=\"dataframe\">\n",
              "  <thead>\n",
              "    <tr style=\"text-align: right;\">\n",
              "      <th></th>\n",
              "      <th>itemID_i</th>\n",
              "      <th>itemID_j</th>\n",
              "      <th>weight</th>\n",
              "      <th>language</th>\n",
              "      <th>author</th>\n",
              "      <th>main_topic</th>\n",
              "      <th>interest_age</th>\n",
              "      <th>title</th>\n",
              "      <th>publisher_cluster</th>\n",
              "      <th>author_cluster</th>\n",
              "      <th>number_pages</th>\n",
              "    </tr>\n",
              "  </thead>\n",
              "  <tbody>\n",
              "    <tr>\n",
              "      <th>0</th>\n",
              "      <td>14576</td>\n",
              "      <td>17731</td>\n",
              "      <td>6</td>\n",
              "      <td>1.0</td>\n",
              "      <td>1.0</td>\n",
              "      <td>0.175094</td>\n",
              "      <td>1.000</td>\n",
              "      <td>1.335705</td>\n",
              "      <td>1.000000</td>\n",
              "      <td>0.460938</td>\n",
              "      <td>0.448052</td>\n",
              "    </tr>\n",
              "    <tr>\n",
              "      <th>1</th>\n",
              "      <td>14576</td>\n",
              "      <td>4753</td>\n",
              "      <td>1</td>\n",
              "      <td>1.0</td>\n",
              "      <td>0.0</td>\n",
              "      <td>0.000000</td>\n",
              "      <td>0.975</td>\n",
              "      <td>0.000000</td>\n",
              "      <td>1.000000</td>\n",
              "      <td>0.628093</td>\n",
              "      <td>0.819805</td>\n",
              "    </tr>\n",
              "    <tr>\n",
              "      <th>2</th>\n",
              "      <td>14576</td>\n",
              "      <td>50523</td>\n",
              "      <td>2</td>\n",
              "      <td>1.0</td>\n",
              "      <td>0.0</td>\n",
              "      <td>0.000000</td>\n",
              "      <td>0.075</td>\n",
              "      <td>0.000000</td>\n",
              "      <td>1.000000</td>\n",
              "      <td>0.424975</td>\n",
              "      <td>0.619713</td>\n",
              "    </tr>\n",
              "    <tr>\n",
              "      <th>3</th>\n",
              "      <td>14576</td>\n",
              "      <td>6540</td>\n",
              "      <td>1</td>\n",
              "      <td>1.0</td>\n",
              "      <td>0.0</td>\n",
              "      <td>0.000000</td>\n",
              "      <td>0.975</td>\n",
              "      <td>0.000000</td>\n",
              "      <td>0.761851</td>\n",
              "      <td>1.000000</td>\n",
              "      <td>0.688312</td>\n",
              "    </tr>\n",
              "    <tr>\n",
              "      <th>4</th>\n",
              "      <td>14576</td>\n",
              "      <td>72731</td>\n",
              "      <td>1</td>\n",
              "      <td>1.0</td>\n",
              "      <td>0.0</td>\n",
              "      <td>0.000000</td>\n",
              "      <td>0.975</td>\n",
              "      <td>0.000000</td>\n",
              "      <td>0.761851</td>\n",
              "      <td>0.460938</td>\n",
              "      <td>0.146193</td>\n",
              "    </tr>\n",
              "  </tbody>\n",
              "</table>\n",
              "</div>"
            ],
            "text/plain": [
              "   itemID_i  itemID_j  weight  language  author  main_topic  interest_age  \\\n",
              "0     14576     17731       6       1.0     1.0    0.175094         1.000   \n",
              "1     14576      4753       1       1.0     0.0    0.000000         0.975   \n",
              "2     14576     50523       2       1.0     0.0    0.000000         0.075   \n",
              "3     14576      6540       1       1.0     0.0    0.000000         0.975   \n",
              "4     14576     72731       1       1.0     0.0    0.000000         0.975   \n",
              "\n",
              "      title  publisher_cluster  author_cluster  number_pages  \n",
              "0  1.335705           1.000000        0.460938      0.448052  \n",
              "1  0.000000           1.000000        0.628093      0.819805  \n",
              "2  0.000000           1.000000        0.424975      0.619713  \n",
              "3  0.000000           0.761851        1.000000      0.688312  \n",
              "4  0.000000           0.761851        0.460938      0.146193  "
            ]
          },
          "metadata": {
            "tags": []
          },
          "execution_count": 5
        }
      ]
    },
    {
      "cell_type": "code",
      "metadata": {
        "id": "SDSlqL3M5YEc",
        "outputId": "b01f0050-1094-416d-92a3-c94d33546078"
      },
      "source": [
        "#remove title outlier \n",
        "print(network_data.loc[network_data['title'] > 50])\n",
        "network_data = network_data.loc[network_data['title'] < 50]\n",
        "len(network_data)"
      ],
      "execution_count": null,
      "outputs": [
        {
          "output_type": "stream",
          "text": [
            "        itemID_i  itemID_j  weight  language  author  main_topic  \\\n",
            "228842      9231     44709       1       1.0     0.0    0.405403   \n",
            "\n",
            "        interest_age      title  publisher_cluster  author_cluster  \\\n",
            "228842          0.05  75.604972           0.761851        0.390816   \n",
            "\n",
            "        number_pages  \n",
            "228842      0.315622  \n"
          ],
          "name": "stdout"
        },
        {
          "output_type": "execute_result",
          "data": {
            "text/plain": [
              "301348"
            ]
          },
          "metadata": {
            "tags": []
          },
          "execution_count": 6
        }
      ]
    },
    {
      "cell_type": "code",
      "metadata": {
        "id": "3UIOelkh5YEd",
        "outputId": "1cae0158-b11a-4f35-e661-864c66d13e27"
      },
      "source": [
        "#remove weight outlier\n",
        "print(network_data.loc[network_data['weight'] > 200])"
      ],
      "execution_count": null,
      "outputs": [
        {
          "output_type": "stream",
          "text": [
            "      itemID_i  itemID_j  weight  language  author  main_topic  interest_age  \\\n",
            "3890     46998      2253     243       1.0     1.0    0.256717           1.0   \n",
            "\n",
            "      title  publisher_cluster  author_cluster  number_pages  \n",
            "3890    0.0                1.0             1.0      0.616883  \n"
          ],
          "name": "stdout"
        }
      ]
    },
    {
      "cell_type": "code",
      "metadata": {
        "id": "w_hlAQ835YEd",
        "outputId": "d28f99b4-444f-4f17-fc2d-60b549200cfe"
      },
      "source": [
        "network_data = network_data.loc[network_data['weight'] < 200]\n",
        "len(network_data)"
      ],
      "execution_count": null,
      "outputs": [
        {
          "output_type": "execute_result",
          "data": {
            "text/plain": [
              "301347"
            ]
          },
          "metadata": {
            "tags": []
          },
          "execution_count": 8
        }
      ]
    },
    {
      "cell_type": "code",
      "metadata": {
        "scrolled": true,
        "id": "s8Pokml-5YEd",
        "outputId": "475d355b-1e7e-40a9-edce-f026c6262e64"
      },
      "source": [
        "#title normalization\n",
        "network_data['title'] = (network_data['title'] - network_data['title'].min()) / (network_data['title'].max() - network_data['title'].min())\n",
        "network_data.head()"
      ],
      "execution_count": null,
      "outputs": [
        {
          "output_type": "execute_result",
          "data": {
            "text/html": [
              "<div>\n",
              "<style scoped>\n",
              "    .dataframe tbody tr th:only-of-type {\n",
              "        vertical-align: middle;\n",
              "    }\n",
              "\n",
              "    .dataframe tbody tr th {\n",
              "        vertical-align: top;\n",
              "    }\n",
              "\n",
              "    .dataframe thead th {\n",
              "        text-align: right;\n",
              "    }\n",
              "</style>\n",
              "<table border=\"1\" class=\"dataframe\">\n",
              "  <thead>\n",
              "    <tr style=\"text-align: right;\">\n",
              "      <th></th>\n",
              "      <th>itemID_i</th>\n",
              "      <th>itemID_j</th>\n",
              "      <th>weight</th>\n",
              "      <th>language</th>\n",
              "      <th>author</th>\n",
              "      <th>main_topic</th>\n",
              "      <th>interest_age</th>\n",
              "      <th>title</th>\n",
              "      <th>publisher_cluster</th>\n",
              "      <th>author_cluster</th>\n",
              "      <th>number_pages</th>\n",
              "    </tr>\n",
              "  </thead>\n",
              "  <tbody>\n",
              "    <tr>\n",
              "      <th>0</th>\n",
              "      <td>14576</td>\n",
              "      <td>17731</td>\n",
              "      <td>6</td>\n",
              "      <td>1.0</td>\n",
              "      <td>1.0</td>\n",
              "      <td>0.175094</td>\n",
              "      <td>1.000</td>\n",
              "      <td>0.03094</td>\n",
              "      <td>1.000000</td>\n",
              "      <td>0.460938</td>\n",
              "      <td>0.448052</td>\n",
              "    </tr>\n",
              "    <tr>\n",
              "      <th>1</th>\n",
              "      <td>14576</td>\n",
              "      <td>4753</td>\n",
              "      <td>1</td>\n",
              "      <td>1.0</td>\n",
              "      <td>0.0</td>\n",
              "      <td>0.000000</td>\n",
              "      <td>0.975</td>\n",
              "      <td>0.00000</td>\n",
              "      <td>1.000000</td>\n",
              "      <td>0.628093</td>\n",
              "      <td>0.819805</td>\n",
              "    </tr>\n",
              "    <tr>\n",
              "      <th>2</th>\n",
              "      <td>14576</td>\n",
              "      <td>50523</td>\n",
              "      <td>2</td>\n",
              "      <td>1.0</td>\n",
              "      <td>0.0</td>\n",
              "      <td>0.000000</td>\n",
              "      <td>0.075</td>\n",
              "      <td>0.00000</td>\n",
              "      <td>1.000000</td>\n",
              "      <td>0.424975</td>\n",
              "      <td>0.619713</td>\n",
              "    </tr>\n",
              "    <tr>\n",
              "      <th>3</th>\n",
              "      <td>14576</td>\n",
              "      <td>6540</td>\n",
              "      <td>1</td>\n",
              "      <td>1.0</td>\n",
              "      <td>0.0</td>\n",
              "      <td>0.000000</td>\n",
              "      <td>0.975</td>\n",
              "      <td>0.00000</td>\n",
              "      <td>0.761851</td>\n",
              "      <td>1.000000</td>\n",
              "      <td>0.688312</td>\n",
              "    </tr>\n",
              "    <tr>\n",
              "      <th>4</th>\n",
              "      <td>14576</td>\n",
              "      <td>72731</td>\n",
              "      <td>1</td>\n",
              "      <td>1.0</td>\n",
              "      <td>0.0</td>\n",
              "      <td>0.000000</td>\n",
              "      <td>0.975</td>\n",
              "      <td>0.00000</td>\n",
              "      <td>0.761851</td>\n",
              "      <td>0.460938</td>\n",
              "      <td>0.146193</td>\n",
              "    </tr>\n",
              "  </tbody>\n",
              "</table>\n",
              "</div>"
            ],
            "text/plain": [
              "   itemID_i  itemID_j  weight  language  author  main_topic  interest_age  \\\n",
              "0     14576     17731       6       1.0     1.0    0.175094         1.000   \n",
              "1     14576      4753       1       1.0     0.0    0.000000         0.975   \n",
              "2     14576     50523       2       1.0     0.0    0.000000         0.075   \n",
              "3     14576      6540       1       1.0     0.0    0.000000         0.975   \n",
              "4     14576     72731       1       1.0     0.0    0.000000         0.975   \n",
              "\n",
              "     title  publisher_cluster  author_cluster  number_pages  \n",
              "0  0.03094           1.000000        0.460938      0.448052  \n",
              "1  0.00000           1.000000        0.628093      0.819805  \n",
              "2  0.00000           1.000000        0.424975      0.619713  \n",
              "3  0.00000           0.761851        1.000000      0.688312  \n",
              "4  0.00000           0.761851        0.460938      0.146193  "
            ]
          },
          "metadata": {
            "tags": []
          },
          "execution_count": 9
        }
      ]
    },
    {
      "cell_type": "code",
      "metadata": {
        "id": "HnbZpI5g5YEe",
        "outputId": "015162c6-f91b-425d-d720-4d6085d5394c"
      },
      "source": [
        "network_data.describe()"
      ],
      "execution_count": null,
      "outputs": [
        {
          "output_type": "execute_result",
          "data": {
            "text/html": [
              "<div>\n",
              "<style scoped>\n",
              "    .dataframe tbody tr th:only-of-type {\n",
              "        vertical-align: middle;\n",
              "    }\n",
              "\n",
              "    .dataframe tbody tr th {\n",
              "        vertical-align: top;\n",
              "    }\n",
              "\n",
              "    .dataframe thead th {\n",
              "        text-align: right;\n",
              "    }\n",
              "</style>\n",
              "<table border=\"1\" class=\"dataframe\">\n",
              "  <thead>\n",
              "    <tr style=\"text-align: right;\">\n",
              "      <th></th>\n",
              "      <th>itemID_i</th>\n",
              "      <th>itemID_j</th>\n",
              "      <th>weight</th>\n",
              "      <th>language</th>\n",
              "      <th>author</th>\n",
              "      <th>main_topic</th>\n",
              "      <th>interest_age</th>\n",
              "      <th>title</th>\n",
              "      <th>publisher_cluster</th>\n",
              "      <th>author_cluster</th>\n",
              "      <th>number_pages</th>\n",
              "    </tr>\n",
              "  </thead>\n",
              "  <tbody>\n",
              "    <tr>\n",
              "      <th>count</th>\n",
              "      <td>301347.000000</td>\n",
              "      <td>301347.000000</td>\n",
              "      <td>301347.000000</td>\n",
              "      <td>301347.000000</td>\n",
              "      <td>301347.000000</td>\n",
              "      <td>301347.000000</td>\n",
              "      <td>301347.000000</td>\n",
              "      <td>301347.000000</td>\n",
              "      <td>301347.000000</td>\n",
              "      <td>301347.000000</td>\n",
              "      <td>301347.000000</td>\n",
              "    </tr>\n",
              "    <tr>\n",
              "      <th>mean</th>\n",
              "      <td>39132.884386</td>\n",
              "      <td>39426.727042</td>\n",
              "      <td>1.408479</td>\n",
              "      <td>0.914202</td>\n",
              "      <td>0.070065</td>\n",
              "      <td>0.332994</td>\n",
              "      <td>0.867336</td>\n",
              "      <td>0.004201</td>\n",
              "      <td>0.837461</td>\n",
              "      <td>0.386780</td>\n",
              "      <td>0.642298</td>\n",
              "    </tr>\n",
              "    <tr>\n",
              "      <th>std</th>\n",
              "      <td>22643.635041</td>\n",
              "      <td>22515.516846</td>\n",
              "      <td>2.470508</td>\n",
              "      <td>0.280066</td>\n",
              "      <td>0.255258</td>\n",
              "      <td>0.363276</td>\n",
              "      <td>0.296496</td>\n",
              "      <td>0.019684</td>\n",
              "      <td>0.308123</td>\n",
              "      <td>0.299241</td>\n",
              "      <td>0.263539</td>\n",
              "    </tr>\n",
              "    <tr>\n",
              "      <th>min</th>\n",
              "      <td>2.000000</td>\n",
              "      <td>1.000000</td>\n",
              "      <td>1.000000</td>\n",
              "      <td>0.000000</td>\n",
              "      <td>0.000000</td>\n",
              "      <td>0.000000</td>\n",
              "      <td>0.000000</td>\n",
              "      <td>0.000000</td>\n",
              "      <td>0.000000</td>\n",
              "      <td>0.006530</td>\n",
              "      <td>0.000000</td>\n",
              "    </tr>\n",
              "    <tr>\n",
              "      <th>25%</th>\n",
              "      <td>19458.000000</td>\n",
              "      <td>20354.000000</td>\n",
              "      <td>1.000000</td>\n",
              "      <td>1.000000</td>\n",
              "      <td>0.000000</td>\n",
              "      <td>0.000000</td>\n",
              "      <td>0.950000</td>\n",
              "      <td>0.000000</td>\n",
              "      <td>0.761851</td>\n",
              "      <td>0.153597</td>\n",
              "      <td>0.466857</td>\n",
              "    </tr>\n",
              "    <tr>\n",
              "      <th>50%</th>\n",
              "      <td>38902.000000</td>\n",
              "      <td>39394.000000</td>\n",
              "      <td>1.000000</td>\n",
              "      <td>1.000000</td>\n",
              "      <td>0.000000</td>\n",
              "      <td>0.211067</td>\n",
              "      <td>0.975000</td>\n",
              "      <td>0.000000</td>\n",
              "      <td>1.000000</td>\n",
              "      <td>0.340933</td>\n",
              "      <td>0.692225</td>\n",
              "    </tr>\n",
              "    <tr>\n",
              "      <th>75%</th>\n",
              "      <td>58765.000000</td>\n",
              "      <td>58691.000000</td>\n",
              "      <td>1.000000</td>\n",
              "      <td>1.000000</td>\n",
              "      <td>0.000000</td>\n",
              "      <td>0.518656</td>\n",
              "      <td>1.000000</td>\n",
              "      <td>0.000000</td>\n",
              "      <td>1.000000</td>\n",
              "      <td>0.509925</td>\n",
              "      <td>0.863636</td>\n",
              "    </tr>\n",
              "    <tr>\n",
              "      <th>max</th>\n",
              "      <td>79066.000000</td>\n",
              "      <td>79066.000000</td>\n",
              "      <td>191.000000</td>\n",
              "      <td>1.000000</td>\n",
              "      <td>1.000000</td>\n",
              "      <td>1.000000</td>\n",
              "      <td>1.000000</td>\n",
              "      <td>1.000000</td>\n",
              "      <td>1.000000</td>\n",
              "      <td>1.000000</td>\n",
              "      <td>1.000000</td>\n",
              "    </tr>\n",
              "  </tbody>\n",
              "</table>\n",
              "</div>"
            ],
            "text/plain": [
              "            itemID_i       itemID_j         weight       language  \\\n",
              "count  301347.000000  301347.000000  301347.000000  301347.000000   \n",
              "mean    39132.884386   39426.727042       1.408479       0.914202   \n",
              "std     22643.635041   22515.516846       2.470508       0.280066   \n",
              "min         2.000000       1.000000       1.000000       0.000000   \n",
              "25%     19458.000000   20354.000000       1.000000       1.000000   \n",
              "50%     38902.000000   39394.000000       1.000000       1.000000   \n",
              "75%     58765.000000   58691.000000       1.000000       1.000000   \n",
              "max     79066.000000   79066.000000     191.000000       1.000000   \n",
              "\n",
              "              author     main_topic   interest_age          title  \\\n",
              "count  301347.000000  301347.000000  301347.000000  301347.000000   \n",
              "mean        0.070065       0.332994       0.867336       0.004201   \n",
              "std         0.255258       0.363276       0.296496       0.019684   \n",
              "min         0.000000       0.000000       0.000000       0.000000   \n",
              "25%         0.000000       0.000000       0.950000       0.000000   \n",
              "50%         0.000000       0.211067       0.975000       0.000000   \n",
              "75%         0.000000       0.518656       1.000000       0.000000   \n",
              "max         1.000000       1.000000       1.000000       1.000000   \n",
              "\n",
              "       publisher_cluster  author_cluster   number_pages  \n",
              "count      301347.000000   301347.000000  301347.000000  \n",
              "mean            0.837461        0.386780       0.642298  \n",
              "std             0.308123        0.299241       0.263539  \n",
              "min             0.000000        0.006530       0.000000  \n",
              "25%             0.761851        0.153597       0.466857  \n",
              "50%             1.000000        0.340933       0.692225  \n",
              "75%             1.000000        0.509925       0.863636  \n",
              "max             1.000000        1.000000       1.000000  "
            ]
          },
          "metadata": {
            "tags": []
          },
          "execution_count": 10
        }
      ]
    },
    {
      "cell_type": "code",
      "metadata": {
        "id": "3RY9DhYL5YEe",
        "outputId": "3fdb3bc9-6030-41ee-bdd2-2e4c01793d3a"
      },
      "source": [
        "network_data['weight'].value_counts()"
      ],
      "execution_count": null,
      "outputs": [
        {
          "output_type": "execute_result",
          "data": {
            "text/plain": [
              "1      256592\n",
              "2       26161\n",
              "3        7716\n",
              "4        3610\n",
              "5        2020\n",
              "        ...  \n",
              "95          1\n",
              "96          1\n",
              "97          1\n",
              "98          1\n",
              "191         1\n",
              "Name: weight, Length: 115, dtype: int64"
            ]
          },
          "metadata": {
            "tags": []
          },
          "execution_count": 11
        }
      ]
    },
    {
      "cell_type": "code",
      "metadata": {
        "id": "MWXbyzjx5YEe"
      },
      "source": [
        "network_data_1 = network_data[network_data['weight'] == 1]\n",
        "network_data_2 = network_data[network_data['weight'] == 2]\n",
        "network_data_3 = network_data[network_data['weight'] == 3]\n",
        "network_data_4 = network_data[network_data['weight'] == 4]\n",
        "network_data_5 = network_data[network_data['weight'] == 5]\n",
        "network_data_6 = network_data[network_data['weight'] == 6]\n",
        "network_data_7 = network_data[network_data['weight'] == 7]\n",
        "network_data_8 = network_data[network_data['weight'] == 8]\n",
        "network_data_9 = network_data[network_data['weight'] == 9]\n",
        "network_data_10 = network_data[network_data['weight'] == 10]\n",
        "network_data_11 = network_data[network_data['weight'] == 11]\n",
        "network_data_12 = network_data[network_data['weight'] == 12]\n",
        "network_data_13 = network_data[network_data['weight'] == 13]\n",
        "network_data_14 = network_data[network_data['weight'] == 14]\n",
        "network_data_15 = network_data[network_data['weight'] == 15]\n",
        "network_data_16 = network_data[network_data['weight'] == 16]\n",
        "network_data_17 = network_data[network_data['weight'] == 17]\n",
        "network_data_18 = network_data[network_data['weight'] == 18]\n",
        "network_data_19 = network_data[network_data['weight'] == 19]\n",
        "network_data_20 = network_data[network_data['weight'] >= 20]"
      ],
      "execution_count": null,
      "outputs": []
    },
    {
      "cell_type": "code",
      "metadata": {
        "id": "AlYeWDQJ5YEf",
        "outputId": "272ba927-a827-464b-bde6-3c245518c06e"
      },
      "source": [
        "print(len(network_data_1))\n",
        "print(len(network_data_2))\n",
        "print(len(network_data_3))\n",
        "print(len(network_data_4))\n",
        "print(len(network_data_5))\n",
        "print(len(network_data_6))\n",
        "print(len(network_data_7))\n",
        "print(len(network_data_8))\n",
        "print(len(network_data_9))\n",
        "print(len(network_data_10))\n",
        "print(len(network_data_11))\n",
        "print(len(network_data_12))\n",
        "print(len(network_data_13))\n",
        "print(len(network_data_14))\n",
        "print(len(network_data_15))\n",
        "print(len(network_data_16))\n",
        "print(len(network_data_17))\n",
        "print(len(network_data_18))\n",
        "print(len(network_data_19))\n",
        "print(len(network_data_20))"
      ],
      "execution_count": null,
      "outputs": [
        {
          "output_type": "stream",
          "text": [
            "256592\n",
            "26161\n",
            "7716\n",
            "3610\n",
            "2020\n",
            "1226\n",
            "855\n",
            "566\n",
            "418\n",
            "299\n",
            "260\n",
            "168\n",
            "139\n",
            "152\n",
            "140\n",
            "90\n",
            "78\n",
            "80\n",
            "72\n",
            "705\n"
          ],
          "name": "stdout"
        }
      ]
    },
    {
      "cell_type": "code",
      "metadata": {
        "id": "VW-2rkYR5YEf",
        "outputId": "25699eaf-8718-4c13-e4b9-5291a8528969"
      },
      "source": [
        "network_data_1['weight'] = 0.7\n",
        "network_data_2['weight'] = 0.8\n",
        "network_data_3['weight'] = 0.85\n",
        "network_data_4['weight'] = 0.88\n",
        "network_data_5['weight'] = 0.9\n",
        "network_data_6['weight'] = 0.92\n",
        "network_data_7['weight'] = 0.935\n",
        "network_data_8['weight'] = 0.95\n",
        "network_data_9['weight'] = 0.96\n",
        "network_data_10['weight'] = 0.97\n",
        "network_data_11['weight'] = 0.975\n",
        "network_data_12['weight'] = 0.98\n",
        "network_data_13['weight'] = 0.984\n",
        "network_data_14['weight'] = 0.987\n",
        "network_data_15['weight'] = 0.99\n",
        "network_data_16['weight'] = 0.993\n",
        "network_data_17['weight'] = 0.995\n",
        "network_data_18['weight'] = 0.997\n",
        "network_data_19['weight'] = 0.999\n",
        "network_data_20['weight'] = 1.0"
      ],
      "execution_count": null,
      "outputs": [
        {
          "output_type": "stream",
          "text": [
            "<ipython-input-14-796e1c6dc778>:1: SettingWithCopyWarning: \n",
            "A value is trying to be set on a copy of a slice from a DataFrame.\n",
            "Try using .loc[row_indexer,col_indexer] = value instead\n",
            "\n",
            "See the caveats in the documentation: https://pandas.pydata.org/pandas-docs/stable/user_guide/indexing.html#returning-a-view-versus-a-copy\n",
            "  network_data_1['weight'] = 0.7\n",
            "<ipython-input-14-796e1c6dc778>:2: SettingWithCopyWarning: \n",
            "A value is trying to be set on a copy of a slice from a DataFrame.\n",
            "Try using .loc[row_indexer,col_indexer] = value instead\n",
            "\n",
            "See the caveats in the documentation: https://pandas.pydata.org/pandas-docs/stable/user_guide/indexing.html#returning-a-view-versus-a-copy\n",
            "  network_data_2['weight'] = 0.8\n",
            "<ipython-input-14-796e1c6dc778>:3: SettingWithCopyWarning: \n",
            "A value is trying to be set on a copy of a slice from a DataFrame.\n",
            "Try using .loc[row_indexer,col_indexer] = value instead\n",
            "\n",
            "See the caveats in the documentation: https://pandas.pydata.org/pandas-docs/stable/user_guide/indexing.html#returning-a-view-versus-a-copy\n",
            "  network_data_3['weight'] = 0.85\n",
            "<ipython-input-14-796e1c6dc778>:4: SettingWithCopyWarning: \n",
            "A value is trying to be set on a copy of a slice from a DataFrame.\n",
            "Try using .loc[row_indexer,col_indexer] = value instead\n",
            "\n",
            "See the caveats in the documentation: https://pandas.pydata.org/pandas-docs/stable/user_guide/indexing.html#returning-a-view-versus-a-copy\n",
            "  network_data_4['weight'] = 0.88\n",
            "<ipython-input-14-796e1c6dc778>:5: SettingWithCopyWarning: \n",
            "A value is trying to be set on a copy of a slice from a DataFrame.\n",
            "Try using .loc[row_indexer,col_indexer] = value instead\n",
            "\n",
            "See the caveats in the documentation: https://pandas.pydata.org/pandas-docs/stable/user_guide/indexing.html#returning-a-view-versus-a-copy\n",
            "  network_data_5['weight'] = 0.9\n",
            "<ipython-input-14-796e1c6dc778>:6: SettingWithCopyWarning: \n",
            "A value is trying to be set on a copy of a slice from a DataFrame.\n",
            "Try using .loc[row_indexer,col_indexer] = value instead\n",
            "\n",
            "See the caveats in the documentation: https://pandas.pydata.org/pandas-docs/stable/user_guide/indexing.html#returning-a-view-versus-a-copy\n",
            "  network_data_6['weight'] = 0.92\n",
            "<ipython-input-14-796e1c6dc778>:7: SettingWithCopyWarning: \n",
            "A value is trying to be set on a copy of a slice from a DataFrame.\n",
            "Try using .loc[row_indexer,col_indexer] = value instead\n",
            "\n",
            "See the caveats in the documentation: https://pandas.pydata.org/pandas-docs/stable/user_guide/indexing.html#returning-a-view-versus-a-copy\n",
            "  network_data_7['weight'] = 0.935\n",
            "<ipython-input-14-796e1c6dc778>:8: SettingWithCopyWarning: \n",
            "A value is trying to be set on a copy of a slice from a DataFrame.\n",
            "Try using .loc[row_indexer,col_indexer] = value instead\n",
            "\n",
            "See the caveats in the documentation: https://pandas.pydata.org/pandas-docs/stable/user_guide/indexing.html#returning-a-view-versus-a-copy\n",
            "  network_data_8['weight'] = 0.95\n",
            "<ipython-input-14-796e1c6dc778>:9: SettingWithCopyWarning: \n",
            "A value is trying to be set on a copy of a slice from a DataFrame.\n",
            "Try using .loc[row_indexer,col_indexer] = value instead\n",
            "\n",
            "See the caveats in the documentation: https://pandas.pydata.org/pandas-docs/stable/user_guide/indexing.html#returning-a-view-versus-a-copy\n",
            "  network_data_9['weight'] = 0.96\n",
            "<ipython-input-14-796e1c6dc778>:10: SettingWithCopyWarning: \n",
            "A value is trying to be set on a copy of a slice from a DataFrame.\n",
            "Try using .loc[row_indexer,col_indexer] = value instead\n",
            "\n",
            "See the caveats in the documentation: https://pandas.pydata.org/pandas-docs/stable/user_guide/indexing.html#returning-a-view-versus-a-copy\n",
            "  network_data_10['weight'] = 0.97\n",
            "<ipython-input-14-796e1c6dc778>:11: SettingWithCopyWarning: \n",
            "A value is trying to be set on a copy of a slice from a DataFrame.\n",
            "Try using .loc[row_indexer,col_indexer] = value instead\n",
            "\n",
            "See the caveats in the documentation: https://pandas.pydata.org/pandas-docs/stable/user_guide/indexing.html#returning-a-view-versus-a-copy\n",
            "  network_data_11['weight'] = 0.975\n",
            "<ipython-input-14-796e1c6dc778>:12: SettingWithCopyWarning: \n",
            "A value is trying to be set on a copy of a slice from a DataFrame.\n",
            "Try using .loc[row_indexer,col_indexer] = value instead\n",
            "\n",
            "See the caveats in the documentation: https://pandas.pydata.org/pandas-docs/stable/user_guide/indexing.html#returning-a-view-versus-a-copy\n",
            "  network_data_12['weight'] = 0.98\n",
            "<ipython-input-14-796e1c6dc778>:13: SettingWithCopyWarning: \n",
            "A value is trying to be set on a copy of a slice from a DataFrame.\n",
            "Try using .loc[row_indexer,col_indexer] = value instead\n",
            "\n",
            "See the caveats in the documentation: https://pandas.pydata.org/pandas-docs/stable/user_guide/indexing.html#returning-a-view-versus-a-copy\n",
            "  network_data_13['weight'] = 0.984\n",
            "<ipython-input-14-796e1c6dc778>:14: SettingWithCopyWarning: \n",
            "A value is trying to be set on a copy of a slice from a DataFrame.\n",
            "Try using .loc[row_indexer,col_indexer] = value instead\n",
            "\n",
            "See the caveats in the documentation: https://pandas.pydata.org/pandas-docs/stable/user_guide/indexing.html#returning-a-view-versus-a-copy\n",
            "  network_data_14['weight'] = 0.987\n",
            "<ipython-input-14-796e1c6dc778>:15: SettingWithCopyWarning: \n",
            "A value is trying to be set on a copy of a slice from a DataFrame.\n",
            "Try using .loc[row_indexer,col_indexer] = value instead\n",
            "\n",
            "See the caveats in the documentation: https://pandas.pydata.org/pandas-docs/stable/user_guide/indexing.html#returning-a-view-versus-a-copy\n",
            "  network_data_15['weight'] = 0.99\n",
            "<ipython-input-14-796e1c6dc778>:16: SettingWithCopyWarning: \n",
            "A value is trying to be set on a copy of a slice from a DataFrame.\n",
            "Try using .loc[row_indexer,col_indexer] = value instead\n",
            "\n",
            "See the caveats in the documentation: https://pandas.pydata.org/pandas-docs/stable/user_guide/indexing.html#returning-a-view-versus-a-copy\n",
            "  network_data_16['weight'] = 0.993\n",
            "<ipython-input-14-796e1c6dc778>:17: SettingWithCopyWarning: \n",
            "A value is trying to be set on a copy of a slice from a DataFrame.\n",
            "Try using .loc[row_indexer,col_indexer] = value instead\n",
            "\n",
            "See the caveats in the documentation: https://pandas.pydata.org/pandas-docs/stable/user_guide/indexing.html#returning-a-view-versus-a-copy\n",
            "  network_data_17['weight'] = 0.995\n",
            "<ipython-input-14-796e1c6dc778>:18: SettingWithCopyWarning: \n",
            "A value is trying to be set on a copy of a slice from a DataFrame.\n",
            "Try using .loc[row_indexer,col_indexer] = value instead\n",
            "\n",
            "See the caveats in the documentation: https://pandas.pydata.org/pandas-docs/stable/user_guide/indexing.html#returning-a-view-versus-a-copy\n",
            "  network_data_18['weight'] = 0.997\n",
            "<ipython-input-14-796e1c6dc778>:19: SettingWithCopyWarning: \n",
            "A value is trying to be set on a copy of a slice from a DataFrame.\n",
            "Try using .loc[row_indexer,col_indexer] = value instead\n",
            "\n",
            "See the caveats in the documentation: https://pandas.pydata.org/pandas-docs/stable/user_guide/indexing.html#returning-a-view-versus-a-copy\n",
            "  network_data_19['weight'] = 0.999\n",
            "<ipython-input-14-796e1c6dc778>:20: SettingWithCopyWarning: \n",
            "A value is trying to be set on a copy of a slice from a DataFrame.\n",
            "Try using .loc[row_indexer,col_indexer] = value instead\n",
            "\n",
            "See the caveats in the documentation: https://pandas.pydata.org/pandas-docs/stable/user_guide/indexing.html#returning-a-view-versus-a-copy\n",
            "  network_data_20['weight'] = 1.0\n"
          ],
          "name": "stderr"
        }
      ]
    },
    {
      "cell_type": "code",
      "metadata": {
        "id": "q7VMNG5H5YEf"
      },
      "source": [
        "frames = [network_data_1, network_data_2, network_data_3, network_data_4, network_data_5, network_data_6, network_data_7, network_data_8, network_data_9, network_data_10, network_data_11, network_data_12, network_data_13, network_data_14, network_data_15, network_data_16, network_data_17, network_data_18, network_data_19, network_data_20]\n",
        "network_data = pd.concat(frames)"
      ],
      "execution_count": null,
      "outputs": []
    },
    {
      "cell_type": "code",
      "metadata": {
        "id": "ZGuBTBEN5YEg"
      },
      "source": [
        "network_data['weight'] = 1000 * network_data['weight']\n",
        "#change data type from string to integer\n",
        "network_data['weight'] = network_data['weight'].astype(int)"
      ],
      "execution_count": null,
      "outputs": []
    },
    {
      "cell_type": "code",
      "metadata": {
        "id": "83rG0Yhd5YEg",
        "outputId": "48402384-6d69-4179-ba46-888e0bdc0205"
      },
      "source": [
        "network_data['weight'].value_counts()"
      ],
      "execution_count": null,
      "outputs": [
        {
          "output_type": "execute_result",
          "data": {
            "text/plain": [
              "700     256592\n",
              "800      26161\n",
              "850       7716\n",
              "880       3610\n",
              "900       2020\n",
              "920       1226\n",
              "935        855\n",
              "1000       705\n",
              "950        566\n",
              "960        418\n",
              "970        299\n",
              "975        260\n",
              "980        168\n",
              "987        152\n",
              "990        140\n",
              "984        139\n",
              "993         90\n",
              "997         80\n",
              "995         78\n",
              "999         72\n",
              "Name: weight, dtype: int64"
            ]
          },
          "metadata": {
            "tags": []
          },
          "execution_count": 18
        }
      ]
    },
    {
      "cell_type": "code",
      "metadata": {
        "id": "6cnKyUc05YEg"
      },
      "source": [
        "from sklearn import linear_model\n",
        "\n",
        "features = ['author', 'main_topic', 'interest_age', 'title' , 'publisher_cluster', 'author_cluster', 'number_pages']\n",
        "target = 'weight'\n",
        "\n",
        "X = network_data[features].values.reshape(-1, len(features))\n",
        "y = network_data[target].values\n",
        "\n",
        "ols = linear_model.LinearRegression()\n",
        "model_R = ols.fit(X, y)"
      ],
      "execution_count": null,
      "outputs": []
    },
    {
      "cell_type": "code",
      "metadata": {
        "id": "MiSvnvAe5YEg",
        "outputId": "20503ff4-2b0c-4513-e61a-a858e5637aad"
      },
      "source": [
        "model_R.coef_"
      ],
      "execution_count": null,
      "outputs": [
        {
          "output_type": "execute_result",
          "data": {
            "text/plain": [
              "array([61.58147224,  7.5309834 ,  4.16732844, 64.0074065 ,  5.43594901,\n",
              "        1.89478517,  3.60382223])"
            ]
          },
          "metadata": {
            "tags": []
          },
          "execution_count": 20
        }
      ]
    },
    {
      "cell_type": "code",
      "metadata": {
        "id": "BghRvlI-5YEh",
        "outputId": "dd25e85a-5c32-4d2c-d810-d13cb5cbb555"
      },
      "source": [
        "model_R.intercept_"
      ],
      "execution_count": null,
      "outputs": [
        {
          "output_type": "execute_result",
          "data": {
            "text/plain": [
              "702.1929865796465"
            ]
          },
          "metadata": {
            "tags": []
          },
          "execution_count": 21
        }
      ]
    },
    {
      "cell_type": "code",
      "metadata": {
        "id": "4Xdmmcnt5YEh",
        "outputId": "0a0fbf3c-d459-49be-ddc6-2a30f5892fb3"
      },
      "source": [
        "#How good was your model? You can evaluate your model performance in a form of R-squared\n",
        "model_R.score(X, y)"
      ],
      "execution_count": null,
      "outputs": [
        {
          "output_type": "execute_result",
          "data": {
            "text/plain": [
              "0.10201835856561547"
            ]
          },
          "metadata": {
            "tags": []
          },
          "execution_count": 22
        }
      ]
    },
    {
      "cell_type": "code",
      "metadata": {
        "id": "ff46Ib6z5YEh",
        "outputId": "6a1ff650-b886-40f0-88b1-5181d3d8954f"
      },
      "source": [
        "from matplotlib import pyplot\n",
        "\n",
        "importance_R = model_R.coef_\n",
        "# summarize feature importance\n",
        "for i,v in zip(features, importance_R):\n",
        "  print('Feature: %s, Score: %.5f' % (i,v))\n",
        "# plot feature importance\n",
        "pyplot.bar([x for x in range(len(importance_R))], importance_R)\n",
        "pyplot.show()"
      ],
      "execution_count": null,
      "outputs": [
        {
          "output_type": "stream",
          "text": [
            "Feature: author, Score: 61.58147\n",
            "Feature: main_topic, Score: 7.53098\n",
            "Feature: interest_age, Score: 4.16733\n",
            "Feature: title, Score: 64.00741\n",
            "Feature: publisher_cluster, Score: 5.43595\n",
            "Feature: author_cluster, Score: 1.89479\n",
            "Feature: number_pages, Score: 3.60382\n"
          ],
          "name": "stdout"
        },
        {
          "output_type": "display_data",
          "data": {
            "image/png": "[encoded data removed]",
            "text/plain": [
              "<Figure size 432x288 with 1 Axes>"
            ]
          },
          "metadata": {
            "tags": [],
            "needs_background": "light"
          }
        }
      ]
    },
    {
      "cell_type": "code",
      "metadata": {
        "id": "iBX4HcyB0USB"
      },
      "source": [
        "from matplotlib import pyplot\n"
      ],
      "execution_count": null,
      "outputs": []
    },
    {
      "cell_type": "code",
      "metadata": {
        "id": "-Tw9JJ3-5YEi",
        "outputId": "4078f8d9-b31b-480d-b688-c1d9a68b346f"
      },
      "source": [
        "from sklearn.linear_model import LogisticRegression\n",
        "from matplotlib import pyplot\n",
        "\n",
        "features = ['author', 'main_topic', 'interest_age', 'title' , 'publisher_cluster', 'author_cluster', 'number_pages']\n",
        "target = 'weight'\n",
        "\n",
        "X = network_data[features].values.reshape(-1, len(features))\n",
        "y = network_data[target].values\n",
        "\n",
        "model_LR = LogisticRegression()\n",
        "# fit the model\n",
        "model_LR.fit(X, y)\n",
        "# get importance\n",
        "importance_LR = model_LR.coef_[0]\n",
        "# summarize feature importance\n",
        "for i,v in zip(features, importance_LR):\n",
        "  print('Feature: %s, Score: %.5f' % (i,v))\n",
        "# plot feature importance\n",
        "pyplot.bar([x for x in range(len(importance_LR))], importance_LR)\n",
        "pyplot.show()"
      ],
      "execution_count": null,
      "outputs": [
        {
          "output_type": "stream",
          "text": [
            "Feature: author, Score: -2.50864\n",
            "Feature: main_topic, Score: -0.46198\n",
            "Feature: interest_age, Score: -0.33481\n",
            "Feature: title, Score: -2.37902\n",
            "Feature: publisher_cluster, Score: -0.29943\n",
            "Feature: author_cluster, Score: -0.09359\n",
            "Feature: number_pages, Score: -0.22529\n"
          ],
          "name": "stdout"
        },
        {
          "output_type": "stream",
          "text": [
            "C:\\Users\\ASUS\\anaconda3\\lib\\site-packages\\sklearn\\linear_model\\_logistic.py:762: ConvergenceWarning: lbfgs failed to converge (status=1):\n",
            "STOP: TOTAL NO. of ITERATIONS REACHED LIMIT.\n",
            "\n",
            "Increase the number of iterations (max_iter) or scale the data as shown in:\n",
            "    https://scikit-learn.org/stable/modules/preprocessing.html\n",
            "Please also refer to the documentation for alternative solver options:\n",
            "    https://scikit-learn.org/stable/modules/linear_model.html#logistic-regression\n",
            "  n_iter_i = _check_optimize_result(\n"
          ],
          "name": "stderr"
        },
        {
          "output_type": "display_data",
          "data": {
            "image/png": "[encoded data removed]",
            "text/plain": [
              "<Figure size 432x288 with 1 Axes>"
            ]
          },
          "metadata": {
            "tags": [],
            "needs_background": "light"
          }
        }
      ]
    },
    {
      "cell_type": "code",
      "metadata": {
        "id": "PO7UUvFC5YEi",
        "outputId": "8c34ab40-54a9-4efe-8529-feace3a1d7fe"
      },
      "source": [
        "model_LR.intercept_"
      ],
      "execution_count": null,
      "outputs": [
        {
          "output_type": "execute_result",
          "data": {
            "text/plain": [
              "array([ 7.41797948,  4.40633358,  2.70291158,  1.72412967,  1.21974856,\n",
              "        0.14291691, -0.27002786, -1.09150081, -1.46007841, -1.47841805,\n",
              "       -1.2732649 , -1.13517619, -1.6367344 , -1.51032287, -1.52609203,\n",
              "       -1.33331339, -1.43684929, -1.52539434, -1.30074225, -0.63610497])"
            ]
          },
          "metadata": {
            "tags": []
          },
          "execution_count": 26
        }
      ]
    },
    {
      "cell_type": "code",
      "metadata": {
        "id": "OUYYoUXQ5YEi",
        "outputId": "6daa91a1-9e53-4356-85fd-1cb9a548efba"
      },
      "source": [
        "#How good was your model? You can evaluate your model performance in a form of R-squared\n",
        "model_LR.score(X, y)"
      ],
      "execution_count": null,
      "outputs": [
        {
          "output_type": "execute_result",
          "data": {
            "text/plain": [
              "0.8514370476560245"
            ]
          },
          "metadata": {
            "tags": []
          },
          "execution_count": 27
        }
      ]
    },
    {
      "cell_type": "code",
      "metadata": {
        "id": "OUIf29w45YEi",
        "outputId": "0d10220b-bc82-4c74-d074-39571e738910"
      },
      "source": [
        "from sklearn.ensemble import RandomForestRegressor\n",
        "from matplotlib import pyplot\n",
        "\n",
        "# define dataset\n",
        "features = ['author', 'main_topic', 'interest_age', 'title' , 'publisher_cluster', 'author_cluster', 'number_pages']\n",
        "target = 'weight'\n",
        "\n",
        "X = network_data[features].values.reshape(-1, len(features))\n",
        "y = network_data[target].values\n",
        "# define the model\n",
        "model = RandomForestRegressor()\n",
        "# fit the model\n",
        "model.fit(X, y)\n",
        "# get importance\n",
        "importance = model.feature_importances_\n",
        "# summarize feature importance\n",
        "for i,v in zip(features, importance):\n",
        "  print('Feature: %s, Score: %.5f' % (i,v))\n",
        "# plot feature importance\n",
        "pyplot.bar([x for x in range(len(importance))], importance)\n",
        "pyplot.show()"
      ],
      "execution_count": null,
      "outputs": [
        {
          "output_type": "stream",
          "text": [
            "Feature: author, Score: 0.10724\n",
            "Feature: main_topic, Score: 0.12639\n",
            "Feature: interest_age, Score: 0.04187\n",
            "Feature: title, Score: 0.03276\n",
            "Feature: publisher_cluster, Score: 0.01901\n",
            "Feature: author_cluster, Score: 0.19801\n",
            "Feature: number_pages, Score: 0.47472\n"
          ],
          "name": "stdout"
        },
        {
          "output_type": "display_data",
          "data": {
            "image/png": "[encoded data removed]",
            "text/plain": [
              "<Figure size 432x288 with 1 Axes>"
            ]
          },
          "metadata": {
            "tags": [],
            "needs_background": "light"
          }
        }
      ]
    },
    {
      "cell_type": "code",
      "metadata": {
        "colab": {
          "base_uri": "https://localhost:8080/",
          "height": 358
        },
        "id": "an04NwjJ0cFg",
        "outputId": "5c45cc6c-790e-47bc-c243-2b102fcbefb4"
      },
      "source": [
        "import numpy as np\n",
        "import matplotlib.pyplot as plt\n",
        "\n",
        "features = ['author', 'main_topic', 'interest_age', 'title' , 'publisher_cluster', 'author_cluster', 'number_pages']\n",
        "y_pos = np.arange(len(features))\n",
        "y = [0.10724, 0.12639, 0.04187, 0.03276, 0.01901, 0.19801, 0.47472]\n",
        "\n",
        "#plt.figure(dpi=150)\n",
        "plt.bar(y_pos, y)\n",
        "plt.xticks(y_pos, features, rotation=90)\n",
        "plt.ylabel('Importance Score')"
      ],
      "execution_count": 9,
      "outputs": [
        {
          "output_type": "execute_result",
          "data": {
            "text/plain": [
              "Text(0, 0.5, 'Importance Score')"
            ]
          },
          "metadata": {
            "tags": []
          },
          "execution_count": 9
        },
        {
          "output_type": "display_data",
          "data": {
            "image/png": "[encoded data removed]",
            "text/plain": [
              "<Figure size 432x288 with 1 Axes>"
            ]
          },
          "metadata": {
            "tags": [],
            "needs_background": "light"
          }
        }
      ]
    },
    {
      "cell_type": "code",
      "metadata": {
        "id": "ptB2KvIH5YEj",
        "outputId": "98b45a0e-d614-4973-c8ca-a7f71d8b8a88"
      },
      "source": [
        "#How good was your model? You can evaluate your model performance in a form of R-squared\n",
        "model.score(X, y)"
      ],
      "execution_count": null,
      "outputs": [
        {
          "output_type": "execute_result",
          "data": {
            "text/plain": [
              "0.7644300113068113"
            ]
          },
          "metadata": {
            "tags": []
          },
          "execution_count": 30
        }
      ]
    },
    {
      "cell_type": "code",
      "metadata": {
        "id": "d-kx8KRs5YEj",
        "outputId": "93493c6c-2ba9-4a9d-d851-6ef1ed1bdb2d"
      },
      "source": [
        "!pip install xgboost\n",
        "import xgboost"
      ],
      "execution_count": null,
      "outputs": [
        {
          "output_type": "stream",
          "text": [
            "Collecting xgboost\n",
            "  Downloading xgboost-1.4.2-py3-none-win_amd64.whl (97.8 MB)\n",
            "Requirement already satisfied: scipy in c:\\users\\asus\\anaconda3\\lib\\site-packages (from xgboost) (1.5.2)\n",
            "Requirement already satisfied: numpy in c:\\users\\asus\\anaconda3\\lib\\site-packages (from xgboost) (1.19.2)\n",
            "Installing collected packages: xgboost\n",
            "Successfully installed xgboost-1.4.2\n"
          ],
          "name": "stdout"
        }
      ]
    },
    {
      "cell_type": "code",
      "metadata": {
        "id": "PrmVVUkC5YEj",
        "outputId": "e68ccf66-884f-4911-9f0d-5b5cb24bf10d"
      },
      "source": [
        "from xgboost import XGBRegressor\n",
        "from matplotlib import pyplot\n",
        "# define dataset\n",
        "features = ['author', 'main_topic', 'interest_age', 'title' , 'publisher_cluster', 'author_cluster', 'number_pages']\n",
        "target = 'weight'\n",
        "\n",
        "X = network_data[features].values.reshape(-1, len(features))\n",
        "y = network_data[target].values\n",
        "# define the model\n",
        "model = XGBRegressor()\n",
        "# fit the model\n",
        "model.fit(X, y)\n",
        "# get importance\n",
        "importance = model.feature_importances_\n",
        "# summarize feature importance\n",
        "for i,v in zip(features, importance):\n",
        "  print('Feature: %s, Score: %.5f' % (i,v))\n",
        "# plot feature importance\n",
        "pyplot.bar([x for x in range(len(importance))], importance)\n",
        "pyplot.show()"
      ],
      "execution_count": null,
      "outputs": [
        {
          "output_type": "stream",
          "text": [
            "Feature: author, Score: 0.73014\n",
            "Feature: main_topic, Score: 0.06083\n",
            "Feature: interest_age, Score: 0.04442\n",
            "Feature: title, Score: 0.04179\n",
            "Feature: publisher_cluster, Score: 0.05525\n",
            "Feature: author_cluster, Score: 0.03909\n",
            "Feature: number_pages, Score: 0.02849\n"
          ],
          "name": "stdout"
        },
        {
          "output_type": "display_data",
          "data": {
            "image/png": "[encoded data removed]",
            "text/plain": [
              "<Figure size 432x288 with 1 Axes>"
            ]
          },
          "metadata": {
            "tags": [],
            "needs_background": "light"
          }
        }
      ]
    },
    {
      "cell_type": "code",
      "metadata": {
        "id": "xfo6VwmY5YEk",
        "outputId": "33a5cfc8-b1aa-4520-c94f-9ac6b5d33580"
      },
      "source": [
        "#How good was your model? You can evaluate your model performance in a form of R-squared\n",
        "model.score(X, y)"
      ],
      "execution_count": null,
      "outputs": [
        {
          "output_type": "execute_result",
          "data": {
            "text/plain": [
              "0.1798452545020528"
            ]
          },
          "metadata": {
            "tags": []
          },
          "execution_count": 41
        }
      ]
    },
    {
      "cell_type": "code",
      "metadata": {
        "id": "xljnmfLO5YEk",
        "outputId": "b4c78eb3-6522-4d5a-9e9c-65c0a4cb12ed"
      },
      "source": [
        "network_data.head()"
      ],
      "execution_count": null,
      "outputs": [
        {
          "output_type": "execute_result",
          "data": {
            "text/html": [
              "<div>\n",
              "<style scoped>\n",
              "    .dataframe tbody tr th:only-of-type {\n",
              "        vertical-align: middle;\n",
              "    }\n",
              "\n",
              "    .dataframe tbody tr th {\n",
              "        vertical-align: top;\n",
              "    }\n",
              "\n",
              "    .dataframe thead th {\n",
              "        text-align: right;\n",
              "    }\n",
              "</style>\n",
              "<table border=\"1\" class=\"dataframe\">\n",
              "  <thead>\n",
              "    <tr style=\"text-align: right;\">\n",
              "      <th></th>\n",
              "      <th>itemID_i</th>\n",
              "      <th>itemID_j</th>\n",
              "      <th>weight</th>\n",
              "      <th>language</th>\n",
              "      <th>author</th>\n",
              "      <th>main_topic</th>\n",
              "      <th>interest_age</th>\n",
              "      <th>title</th>\n",
              "      <th>publisher_cluster</th>\n",
              "      <th>author_cluster</th>\n",
              "      <th>number_pages</th>\n",
              "    </tr>\n",
              "  </thead>\n",
              "  <tbody>\n",
              "    <tr>\n",
              "      <th>1</th>\n",
              "      <td>14576</td>\n",
              "      <td>4753</td>\n",
              "      <td>700</td>\n",
              "      <td>1.0</td>\n",
              "      <td>0.0</td>\n",
              "      <td>0.000000</td>\n",
              "      <td>0.975</td>\n",
              "      <td>0.0</td>\n",
              "      <td>1.000000</td>\n",
              "      <td>0.628093</td>\n",
              "      <td>0.819805</td>\n",
              "    </tr>\n",
              "    <tr>\n",
              "      <th>3</th>\n",
              "      <td>14576</td>\n",
              "      <td>6540</td>\n",
              "      <td>700</td>\n",
              "      <td>1.0</td>\n",
              "      <td>0.0</td>\n",
              "      <td>0.000000</td>\n",
              "      <td>0.975</td>\n",
              "      <td>0.0</td>\n",
              "      <td>0.761851</td>\n",
              "      <td>1.000000</td>\n",
              "      <td>0.688312</td>\n",
              "    </tr>\n",
              "    <tr>\n",
              "      <th>4</th>\n",
              "      <td>14576</td>\n",
              "      <td>72731</td>\n",
              "      <td>700</td>\n",
              "      <td>1.0</td>\n",
              "      <td>0.0</td>\n",
              "      <td>0.000000</td>\n",
              "      <td>0.975</td>\n",
              "      <td>0.0</td>\n",
              "      <td>0.761851</td>\n",
              "      <td>0.460938</td>\n",
              "      <td>0.146193</td>\n",
              "    </tr>\n",
              "    <tr>\n",
              "      <th>5</th>\n",
              "      <td>14576</td>\n",
              "      <td>24764</td>\n",
              "      <td>700</td>\n",
              "      <td>1.0</td>\n",
              "      <td>0.0</td>\n",
              "      <td>0.000000</td>\n",
              "      <td>0.975</td>\n",
              "      <td>0.0</td>\n",
              "      <td>1.000000</td>\n",
              "      <td>0.628093</td>\n",
              "      <td>0.636364</td>\n",
              "    </tr>\n",
              "    <tr>\n",
              "      <th>6</th>\n",
              "      <td>14576</td>\n",
              "      <td>32266</td>\n",
              "      <td>700</td>\n",
              "      <td>0.0</td>\n",
              "      <td>0.0</td>\n",
              "      <td>0.146498</td>\n",
              "      <td>0.975</td>\n",
              "      <td>0.0</td>\n",
              "      <td>0.000000</td>\n",
              "      <td>0.499543</td>\n",
              "      <td>0.366883</td>\n",
              "    </tr>\n",
              "  </tbody>\n",
              "</table>\n",
              "</div>"
            ],
            "text/plain": [
              "   itemID_i  itemID_j  weight  language  author  main_topic  interest_age  \\\n",
              "1     14576      4753     700       1.0     0.0    0.000000         0.975   \n",
              "3     14576      6540     700       1.0     0.0    0.000000         0.975   \n",
              "4     14576     72731     700       1.0     0.0    0.000000         0.975   \n",
              "5     14576     24764     700       1.0     0.0    0.000000         0.975   \n",
              "6     14576     32266     700       0.0     0.0    0.146498         0.975   \n",
              "\n",
              "   title  publisher_cluster  author_cluster  number_pages  \n",
              "1    0.0           1.000000        0.628093      0.819805  \n",
              "3    0.0           0.761851        1.000000      0.688312  \n",
              "4    0.0           0.761851        0.460938      0.146193  \n",
              "5    0.0           1.000000        0.628093      0.636364  \n",
              "6    0.0           0.000000        0.499543      0.366883  "
            ]
          },
          "metadata": {
            "tags": []
          },
          "execution_count": 45
        }
      ]
    },
    {
      "cell_type": "code",
      "metadata": {
        "id": "QTDDAfRX5YEk"
      },
      "source": [
        "limited_network = network_data.copy()"
      ],
      "execution_count": null,
      "outputs": []
    },
    {
      "cell_type": "code",
      "metadata": {
        "id": "MwPtST6y5YEk"
      },
      "source": [
        "limited_network = limited_network[limited_network['weight'] > 700]"
      ],
      "execution_count": null,
      "outputs": []
    },
    {
      "cell_type": "code",
      "metadata": {
        "id": "SGvCIY9W5YEk",
        "outputId": "d338a2d8-2739-4d32-fe34-db5088ef7b5e"
      },
      "source": [
        "limited_network['weight'].value_counts()"
      ],
      "execution_count": null,
      "outputs": [
        {
          "output_type": "execute_result",
          "data": {
            "text/plain": [
              "800     26161\n",
              "850      7716\n",
              "880      3610\n",
              "900      2020\n",
              "920      1226\n",
              "935       855\n",
              "1000      705\n",
              "950       566\n",
              "960       418\n",
              "970       299\n",
              "975       260\n",
              "980       168\n",
              "987       152\n",
              "990       140\n",
              "984       139\n",
              "993        90\n",
              "997        80\n",
              "995        78\n",
              "999        72\n",
              "Name: weight, dtype: int64"
            ]
          },
          "metadata": {
            "tags": []
          },
          "execution_count": 60
        }
      ]
    },
    {
      "cell_type": "code",
      "metadata": {
        "id": "OYx3d2Ui5YEl",
        "outputId": "e6986ef7-b530-47f3-8fb5-3f1a4e20f25a"
      },
      "source": [
        "from sklearn.ensemble import RandomForestRegressor\n",
        "from matplotlib import pyplot\n",
        "\n",
        "# define dataset\n",
        "features = ['author', 'main_topic', 'interest_age', 'title' , 'publisher_cluster', 'author_cluster', 'number_pages']\n",
        "target = 'weight'\n",
        "\n",
        "X = limited_network[features].values.reshape(-1, len(features))\n",
        "y = limited_network[target].values\n",
        "# define the model\n",
        "model = RandomForestRegressor()\n",
        "# fit the model\n",
        "model.fit(X, y)\n",
        "# get importance\n",
        "importance = model.feature_importances_\n",
        "# summarize feature importance\n",
        "for i,v in zip(features, importance):\n",
        "  print('Feature: %s, Score: %.5f' % (i,v))\n",
        "# plot feature importance\n",
        "pyplot.bar([x for x in range(len(importance))], importance)\n",
        "pyplot.show()"
      ],
      "execution_count": null,
      "outputs": [
        {
          "output_type": "stream",
          "text": [
            "Feature: author, Score: 0.07388\n",
            "Feature: main_topic, Score: 0.14972\n",
            "Feature: interest_age, Score: 0.05607\n",
            "Feature: title, Score: 0.04570\n",
            "Feature: publisher_cluster, Score: 0.03030\n",
            "Feature: author_cluster, Score: 0.21874\n",
            "Feature: number_pages, Score: 0.42560\n"
          ],
          "name": "stdout"
        },
        {
          "output_type": "display_data",
          "data": {
            "image/png": "[encoded data removed]",
            "text/plain": [
              "<Figure size 432x288 with 1 Axes>"
            ]
          },
          "metadata": {
            "tags": [],
            "needs_background": "light"
          }
        }
      ]
    },
    {
      "cell_type": "code",
      "metadata": {
        "id": "5L_mYGDL5YEl"
      },
      "source": [
        ""
      ],
      "execution_count": null,
      "outputs": []
    },
    {
      "cell_type": "markdown",
      "metadata": {
        "id": "x_wORtWhwzQ9"
      },
      "source": [
        "## **Features' Correlation Matrix**"
      ]
    },
    {
      "cell_type": "code",
      "metadata": {
        "colab": {
          "base_uri": "https://localhost:8080/",
          "height": 631
        },
        "id": "7n5kruMrucNk",
        "outputId": "a49c8e6f-2c71-4961-a490-c055192f177f"
      },
      "source": [
        "#From the correlation matrix, author has higher correlation with weight which means\n",
        "#items with same author are more often bought together\n",
        "#Besides, lanaguge and publisher_cluster is highly correlated.\n",
        "#It is because that we group publisher_cluster based on language first, \n",
        "#then gave five sub-cluster for each language\n",
        "\n",
        "%matplotlib inline\n",
        "import matplotlib.pyplot as plt  # Matlab-style plotting\n",
        "import seaborn as sns\n",
        "color = sns.color_palette()\n",
        "sns.set_style('darkgrid')\n",
        "\n",
        "corr_network = network_data.copy()\n",
        "corr_network = corr_network.drop(columns=['itemID_i', 'itemID_j'])\n",
        "\n",
        "corrmat = corr_network.corr()\n",
        "plt.subplots(figsize=(12,9))\n",
        "sns.heatmap(corrmat, vmax=0.9, square=True)"
      ],
      "execution_count": null,
      "outputs": [
        {
          "output_type": "execute_result",
          "data": {
            "text/plain": [
              "<matplotlib.axes._subplots.AxesSubplot at 0x7fa5f40a46d0>"
            ]
          },
          "metadata": {
            "tags": []
          },
          "execution_count": 42
        },
        {
          "output_type": "display_data",
          "data": {
            "image/png": "[encoded data removed]",
            "text/plain": [
              "<Figure size 864x648 with 2 Axes>"
            ]
          },
          "metadata": {
            "tags": []
          }
        }
      ]
    },
    {
      "cell_type": "code",
      "metadata": {
        "id": "0Dmgb0925hVU"
      },
      "source": [
        ""
      ],
      "execution_count": null,
      "outputs": []
    },
    {
      "cell_type": "markdown",
      "metadata": {
        "id": "GTl1r5_Nw8f4"
      },
      "source": [
        "## **Neural Network**"
      ]
    },
    {
      "cell_type": "markdown",
      "metadata": {
        "id": "wXroRSOT4gsj"
      },
      "source": [
        "### **Use Network_data** (Mean Absoulute Error: 21.6 by 30 epochs) -> need to be trained on more epochs \n",
        "-> include all network data performs better in prediction"
      ]
    },
    {
      "cell_type": "code",
      "metadata": {
        "id": "kNINDYcsuGUA"
      },
      "source": [
        "from keras.callbacks import ModelCheckpoint\n",
        "from keras.models import Sequential\n",
        "from keras.layers import Dense, Activation, Flatten\n",
        "from sklearn.model_selection import train_test_split\n",
        "from sklearn.ensemble import RandomForestRegressor\n",
        "from sklearn.metrics import mean_absolute_error \n",
        "from matplotlib import pyplot as plt\n",
        "import seaborn as sb\n",
        "import matplotlib.pyplot as plt\n",
        "import pandas as pd\n",
        "import numpy as np\n",
        "import warnings \n",
        "warnings.filterwarnings('ignore')\n",
        "warnings.filterwarnings('ignore', category=DeprecationWarning)\n",
        "from xgboost import XGBRegressor"
      ],
      "execution_count": null,
      "outputs": []
    },
    {
      "cell_type": "code",
      "metadata": {
        "colab": {
          "base_uri": "https://localhost:8080/",
          "height": 162
        },
        "id": "oh_INPiDuZVX",
        "outputId": "0ef1b156-ad04-47cb-fa09-feb2e3fe6306"
      },
      "source": [
        "network_data.describe()"
      ],
      "execution_count": null,
      "outputs": [
        {
          "output_type": "error",
          "ename": "NameError",
          "evalue": "ignored",
          "traceback": [
            "\u001b[0;31m---------------------------------------------------------------------------\u001b[0m",
            "\u001b[0;31mNameError\u001b[0m                                 Traceback (most recent call last)",
            "\u001b[0;32m<ipython-input-2-cdecb74d0608>\u001b[0m in \u001b[0;36m<module>\u001b[0;34m()\u001b[0m\n\u001b[0;32m----> 1\u001b[0;31m \u001b[0mnetwork_data\u001b[0m\u001b[0;34m.\u001b[0m\u001b[0mdescribe\u001b[0m\u001b[0;34m(\u001b[0m\u001b[0;34m)\u001b[0m\u001b[0;34m\u001b[0m\u001b[0;34m\u001b[0m\u001b[0m\n\u001b[0m",
            "\u001b[0;31mNameError\u001b[0m: name 'network_data' is not defined"
          ]
        }
      ]
    },
    {
      "cell_type": "code",
      "metadata": {
        "id": "EIFtG0qjugRP"
      },
      "source": [
        "def oneHotEncode(df,colNames):\n",
        "    for col in colNames:\n",
        "      #if( df[col].dtype == np.dtype('object')):\n",
        "        dummies = pd.get_dummies(df[col],prefix=col)\n",
        "        df = pd.concat([df,dummies],axis=1)\n",
        "\n",
        "        #drop the encoded column\n",
        "        df.drop([col],axis = 1 , inplace=True)\n",
        "    return df"
      ],
      "execution_count": null,
      "outputs": []
    },
    {
      "cell_type": "code",
      "metadata": {
        "id": "nb787csJvw2E"
      },
      "source": [
        "#convert categorical feature into one hot encoding variable\n",
        "network_data['author'] = network_data['author'].astype(int)\n",
        "#network_data['language'] = network_data['language'].astype(int)\n",
        "\n",
        "print('There were {} columns before encoding categorical features'.format(network_data.shape[1]))\n",
        "network_data = oneHotEncode(network_data, ['author'])\n",
        "print('There are {} columns after encoding categorical features'.format(network_data.shape[1]))"
      ],
      "execution_count": null,
      "outputs": []
    },
    {
      "cell_type": "code",
      "metadata": {
        "id": "QRUC-V5kwDOB"
      },
      "source": [
        "network_data.head()"
      ],
      "execution_count": null,
      "outputs": []
    },
    {
      "cell_type": "code",
      "metadata": {
        "id": "pRr5zTyTwJBE"
      },
      "source": [
        "random_seed = 46\n",
        "np.random.seed(random_seed)\n",
        "\n",
        "target = network_data['weight']\n",
        "X = network_data.copy()\n",
        "X = X.drop(columns=['itemID_i', 'itemID_j', 'weight'])\n",
        "\n",
        "print(X.shape)\n",
        "X.head()"
      ],
      "execution_count": null,
      "outputs": []
    },
    {
      "cell_type": "code",
      "metadata": {
        "id": "ZzV6gbjAwOJB"
      },
      "source": [
        "#Prepare training and testing data\n",
        "\n",
        "from sklearn.model_selection import train_test_split\n",
        "\n",
        "# ratio for training and test data split\n",
        "ratio_test = 0.2\n",
        "# define random seed to get same result for the training and test data\n",
        "data_train, data_test, target_train, target_test = train_test_split(X, target, test_size=ratio_test, random_state=random_seed, shuffle=True)\n",
        "#data_val, data_test, target_val, target_test = train_test_split(data_test, target_test, test_size=0.5, random_state=random_seed, shuffle=True)\n",
        "\n",
        "# Check splits\n",
        "print('Train size: {}'.format(len(target_train)))\n",
        "print('Test size: {}'.format(len(target_test)))\n",
        "#print('Validation size: {}'.format(len(target_val)))"
      ],
      "execution_count": null,
      "outputs": []
    },
    {
      "cell_type": "markdown",
      "metadata": {
        "id": "3lB6eZ17xY5N"
      },
      "source": [
        "**Build the Neural Network Model Architecture**"
      ]
    },
    {
      "cell_type": "code",
      "metadata": {
        "id": "TOfanrZwwRxq"
      },
      "source": [
        "#model\n",
        "NN_model = Sequential()\n",
        "#input layer\n",
        "NN_model.add(Dense(128, kernel_initializer='normal',input_dim = data_train.shape[1], activation='relu'))\n",
        "\n",
        "#hidden layers\n",
        "NN_model.add(Dense(256, kernel_initializer='normal',activation='relu'))\n",
        "NN_model.add(Dense(256, kernel_initializer='normal',activation='relu'))\n",
        "NN_model.add(Dense(256, kernel_initializer='normal',activation='relu'))\n",
        "\n",
        "#output layer\n",
        "NN_model.add(Dense(1, kernel_initializer='normal',activation='linear'))"
      ],
      "execution_count": null,
      "outputs": []
    },
    {
      "cell_type": "code",
      "metadata": {
        "id": "TdDWMIE6wVUn"
      },
      "source": [
        "#compile the network\n",
        "NN_model.compile(loss='mean_absolute_error', optimizer='adam', metrics=['mean_absolute_error'])\n",
        "NN_model.summary()"
      ],
      "execution_count": null,
      "outputs": []
    },
    {
      "cell_type": "code",
      "metadata": {
        "id": "-Za7g46bwXcL"
      },
      "source": [
        "#define a checkpoint callback\n",
        "checkpoint_name = 'Weights-{epoch:03d}--{val_loss:.5f}.hdf5' \n",
        "checkpoint = ModelCheckpoint(checkpoint_name, monitor='val_loss', verbose = 1, save_best_only = True, mode ='auto')\n",
        "callbacks_list = [checkpoint]"
      ],
      "execution_count": null,
      "outputs": []
    },
    {
      "cell_type": "markdown",
      "metadata": {
        "id": "5DAeWPGGxhHr"
      },
      "source": [
        "**Model Training**"
      ]
    },
    {
      "cell_type": "code",
      "metadata": {
        "id": "lp3ENCKOwZj5"
      },
      "source": [
        "NN_model.fit(data_train, target_train, epochs=30, batch_size=32, validation_split = 0.2, callbacks=callbacks_list)"
      ],
      "execution_count": null,
      "outputs": []
    },
    {
      "cell_type": "code",
      "metadata": {
        "id": "9r5kGGldwdZ0"
      },
      "source": [
        "# Load wights file of the best model :\n",
        "# weights_file = 'Weights-023--20.77628.hdf5' # choose the best checkpoint Weights-085--0.42944.hdf5\n",
        "NN_model.load_weights(weights_file) # load it\n",
        "NN_model.compile(loss='mean_absolute_error', optimizer='adam', metrics=['mean_absolute_error'])"
      ],
      "execution_count": null,
      "outputs": []
    },
    {
      "cell_type": "markdown",
      "metadata": {
        "id": "u14V0iEixnlG"
      },
      "source": [
        "**Model Prediction**"
      ]
    },
    {
      "cell_type": "code",
      "metadata": {
        "id": "egoY-1FZwjxB"
      },
      "source": [
        "ypred = NN_model.predict(data_test)"
      ],
      "execution_count": null,
      "outputs": []
    },
    {
      "cell_type": "code",
      "metadata": {
        "id": "5bznnKO7wmT3"
      },
      "source": [
        "print(\"MAE: %.4f\" % mean_absolute_error(target_test, ypred))"
      ],
      "execution_count": null,
      "outputs": []
    },
    {
      "cell_type": "code",
      "metadata": {
        "id": "ewljSZhVwoNo"
      },
      "source": [
        "#compare the difference of the actual value and the predicted value for testing dataset\n",
        "from matplotlib.pyplot import figure\n",
        "\n",
        "x_ax = range(len(ypred))\n",
        "figure(figsize=(20, 10), dpi=80)\n",
        "plt.scatter(x_ax, target_test, s=5, color=\"blue\", label=\"original\")\n",
        "plt.plot(x_ax, ypred, lw=0.2, color=\"red\", label=\"predicted\")\n",
        "plt.legend()\n",
        "plt.show()"
      ],
      "execution_count": null,
      "outputs": []
    },
    {
      "cell_type": "code",
      "metadata": {
        "id": "PyABUZS3wrCV"
      },
      "source": [
        "import statistics\n",
        "\n",
        "print('Prediction mean: ', ypred.mean())\n",
        "print('Max Prediction: ', ypred.max())\n",
        "print('Min Prediction: ', ypred.min())\n",
        "\n",
        "#print the boxplot for the prediction ypred\n",
        "plt.boxplot(ypred)"
      ],
      "execution_count": null,
      "outputs": []
    },
    {
      "cell_type": "markdown",
      "metadata": {
        "id": "ojLzy4Gw2abA"
      },
      "source": [
        "### **Use limited_network** (Mean Absoulute Error: 37 by 30 epochs) -> need to be trained on more epochs"
      ]
    },
    {
      "cell_type": "code",
      "metadata": {
        "id": "s-x-FBoD0jes"
      },
      "source": [
        "limited_network.describe()"
      ],
      "execution_count": null,
      "outputs": []
    },
    {
      "cell_type": "code",
      "metadata": {
        "id": "U8wGLKZp2Xg8"
      },
      "source": [
        "#convert categorical feature into one hot encoding variable\n",
        "limited_network['author'] = limited_network['author'].astype(int)\n",
        "#network_data['language'] = network_data['language'].astype(int)\n",
        "\n",
        "print('There were {} columns before encoding categorical features'.format(limited_network.shape[1]))\n",
        "limited_network = oneHotEncode(limited_network, ['author'])\n",
        "print('There are {} columns after encoding categorical features'.format(limited_network.shape[1]))\n",
        "limited_network.head()"
      ],
      "execution_count": null,
      "outputs": []
    },
    {
      "cell_type": "code",
      "metadata": {
        "id": "3LBzakCx2mVQ"
      },
      "source": [
        "random_seed = 46\n",
        "np.random.seed(random_seed)\n",
        "\n",
        "target = limited_network['weight']\n",
        "X = limited_network.copy()\n",
        "X = X.drop(columns=['itemID_i', 'itemID_j', 'weight'])\n",
        "\n",
        "print(X.shape)\n",
        "X.head()"
      ],
      "execution_count": null,
      "outputs": []
    },
    {
      "cell_type": "code",
      "metadata": {
        "id": "wU_Y6rdC29hG"
      },
      "source": [
        "#Prepare training and testing data\n",
        "\n",
        "from sklearn.model_selection import train_test_split\n",
        "\n",
        "# ratio for training and test data split\n",
        "ratio_test = 0.2\n",
        "# define random seed to get same result for the training and test data\n",
        "data_train, data_test, target_train, target_test = train_test_split(X, target, test_size=ratio_test, random_state=random_seed, shuffle=True)\n",
        "#data_val, data_test, target_val, target_test = train_test_split(data_test, target_test, test_size=0.5, random_state=random_seed, shuffle=True)\n",
        "\n",
        "# Check splits\n",
        "print('Train size: {}'.format(len(target_train)))\n",
        "print('Test size: {}'.format(len(target_test)))\n",
        "#print('Validation size: {}'.format(len(target_val)))"
      ],
      "execution_count": null,
      "outputs": []
    },
    {
      "cell_type": "code",
      "metadata": {
        "id": "hhnmKHWh29-n"
      },
      "source": [
        "#model\n",
        "NN_model = Sequential()\n",
        "#input layer\n",
        "NN_model.add(Dense(128, kernel_initializer='normal',input_dim = data_train.shape[1], activation='relu'))\n",
        "\n",
        "#hidden layers\n",
        "NN_model.add(Dense(256, kernel_initializer='normal',activation='relu'))\n",
        "NN_model.add(Dense(256, kernel_initializer='normal',activation='relu'))\n",
        "NN_model.add(Dense(256, kernel_initializer='normal',activation='relu'))\n",
        "\n",
        "#output layer\n",
        "NN_model.add(Dense(1, kernel_initializer='normal',activation='linear'))"
      ],
      "execution_count": null,
      "outputs": []
    },
    {
      "cell_type": "code",
      "metadata": {
        "id": "w2ZoJohN3CbG"
      },
      "source": [
        "#compile the network\n",
        "NN_model.compile(loss='mean_absolute_error', optimizer='adam', metrics=['mean_absolute_error'])\n",
        "NN_model.summary()"
      ],
      "execution_count": null,
      "outputs": []
    },
    {
      "cell_type": "code",
      "metadata": {
        "id": "jF45bwNm3FC3"
      },
      "source": [
        "#define a checkpoint callback\n",
        "checkpoint_name = 'Weights-{epoch:03d}--{val_loss:.5f}.hdf5' \n",
        "checkpoint = ModelCheckpoint(checkpoint_name, monitor='val_loss', verbose = 1, save_best_only = True, mode ='auto')\n",
        "callbacks_list = [checkpoint]"
      ],
      "execution_count": null,
      "outputs": []
    },
    {
      "cell_type": "code",
      "metadata": {
        "id": "P8P7sCFQ3IP4"
      },
      "source": [
        "NN_model.fit(data_train, target_train, epochs=30, batch_size=32, validation_split = 0.2, callbacks=callbacks_list)"
      ],
      "execution_count": null,
      "outputs": []
    },
    {
      "cell_type": "code",
      "metadata": {
        "id": "gSQ2O0hR3LsM"
      },
      "source": [
        "# Load wights file of the best model :\n",
        "# weights_file = 'Weights-024--35.87862.hdf5' # choose the best checkpoint Weights-085--0.42944.hdf5\n",
        "NN_model.load_weights(weights_file) # load it\n",
        "NN_model.compile(loss='mean_absolute_error', optimizer='adam', metrics=['mean_absolute_error'])"
      ],
      "execution_count": null,
      "outputs": []
    },
    {
      "cell_type": "code",
      "metadata": {
        "id": "ED71fhQI3js4"
      },
      "source": [
        "ypred = NN_model.predict(data_test)"
      ],
      "execution_count": null,
      "outputs": []
    },
    {
      "cell_type": "code",
      "metadata": {
        "id": "6bsu8uBc3j3-"
      },
      "source": [
        "print(\"MAE: %.4f\" % mean_absolute_error(target_test, ypred))"
      ],
      "execution_count": null,
      "outputs": []
    },
    {
      "cell_type": "code",
      "metadata": {
        "id": "lf5r8xay3sCF"
      },
      "source": [
        "#compare the difference of the actual value and the predicted value for testing dataset\n",
        "from matplotlib.pyplot import figure\n",
        "\n",
        "x_ax = range(len(ypred))\n",
        "figure(figsize=(20, 10), dpi=80)\n",
        "plt.scatter(x_ax, target_test, s=5, color=\"blue\", label=\"original\")\n",
        "plt.plot(x_ax, ypred, lw=0.2, color=\"red\", label=\"predicted\")\n",
        "plt.legend()\n",
        "plt.show()"
      ],
      "execution_count": null,
      "outputs": []
    },
    {
      "cell_type": "code",
      "metadata": {
        "id": "1epcimoe3wCq"
      },
      "source": [
        "import statistics\n",
        "\n",
        "print('Prediction mean: ', ypred.mean())\n",
        "print('Max Prediction: ', ypred.max())\n",
        "print('Min Prediction: ', ypred.min())\n",
        "\n",
        "#print the boxplot for the prediction ypred\n",
        "plt.boxplot(ypred)"
      ],
      "execution_count": null,
      "outputs": []
    },
    {
      "cell_type": "code",
      "metadata": {
        "id": "e02kzC_q4PRl"
      },
      "source": [
        ""
      ],
      "execution_count": null,
      "outputs": []
    },
    {
      "cell_type": "code",
      "metadata": {
        "id": "OE0epXwu5t-T"
      },
      "source": [
        ""
      ],
      "execution_count": null,
      "outputs": []
    }
  ]
}