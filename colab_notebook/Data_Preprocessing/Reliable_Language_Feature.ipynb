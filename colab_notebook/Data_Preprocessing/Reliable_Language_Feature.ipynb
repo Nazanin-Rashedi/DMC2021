{
 "cells": [
  {
   "cell_type": "code",
   "execution_count": 1,
   "metadata": {},
   "outputs": [],
   "source": [
    "import pandas as pd\n",
    "books_dataset = pd.read_csv('D:/Uni Mannheim/Semester 2/Data Mining 2/DMC/google_books.csv', sep=',')\n",
    "items_dataset = pd.read_csv('D:/Uni Mannheim/Semester 2/Data Mining 2/DMC/items_inc_lang.csv', sep=',')"
   ]
  },
  {
   "cell_type": "code",
   "execution_count": 4,
   "metadata": {},
   "outputs": [
    {
     "data": {
      "text/html": [
       "<div>\n",
       "<style scoped>\n",
       "    .dataframe tbody tr th:only-of-type {\n",
       "        vertical-align: middle;\n",
       "    }\n",
       "\n",
       "    .dataframe tbody tr th {\n",
       "        vertical-align: top;\n",
       "    }\n",
       "\n",
       "    .dataframe thead th {\n",
       "        text-align: right;\n",
       "    }\n",
       "</style>\n",
       "<table border=\"1\" class=\"dataframe\">\n",
       "  <thead>\n",
       "    <tr style=\"text-align: right;\">\n",
       "      <th></th>\n",
       "      <th>Unnamed: 0</th>\n",
       "      <th>title</th>\n",
       "      <th>authors</th>\n",
       "      <th>language</th>\n",
       "      <th>pageCount</th>\n",
       "      <th>description</th>\n",
       "    </tr>\n",
       "  </thead>\n",
       "  <tbody>\n",
       "    <tr>\n",
       "      <th>0</th>\n",
       "      <td>0</td>\n",
       "      <td>['Princess Poppy: The Big Mix Up', 'Princess P...</td>\n",
       "      <td>[['Janey Louise Jones']]</td>\n",
       "      <td>['en']</td>\n",
       "      <td>[128]</td>\n",
       "      <td>[\"A brand-new story in the best-selling Prince...</td>\n",
       "    </tr>\n",
       "  </tbody>\n",
       "</table>\n",
       "</div>"
      ],
      "text/plain": [
       "   Unnamed: 0                                              title  \\\n",
       "0           0  ['Princess Poppy: The Big Mix Up', 'Princess P...   \n",
       "\n",
       "                    authors language pageCount  \\\n",
       "0  [['Janey Louise Jones']]   ['en']     [128]   \n",
       "\n",
       "                                         description  \n",
       "0  [\"A brand-new story in the best-selling Prince...  "
      ]
     },
     "execution_count": 4,
     "metadata": {},
     "output_type": "execute_result"
    }
   ],
   "source": [
    "books_dataset.head(1)"
   ]
  },
  {
   "cell_type": "code",
   "execution_count": 5,
   "metadata": {},
   "outputs": [
    {
     "data": {
      "text/html": [
       "<div>\n",
       "<style scoped>\n",
       "    .dataframe tbody tr th:only-of-type {\n",
       "        vertical-align: middle;\n",
       "    }\n",
       "\n",
       "    .dataframe tbody tr th {\n",
       "        vertical-align: top;\n",
       "    }\n",
       "\n",
       "    .dataframe thead th {\n",
       "        text-align: right;\n",
       "    }\n",
       "</style>\n",
       "<table border=\"1\" class=\"dataframe\">\n",
       "  <thead>\n",
       "    <tr style=\"text-align: right;\">\n",
       "      <th></th>\n",
       "      <th>Unnamed: 0</th>\n",
       "      <th>itemID</th>\n",
       "      <th>title</th>\n",
       "      <th>author</th>\n",
       "      <th>publisher</th>\n",
       "      <th>main topic</th>\n",
       "      <th>subtopics</th>\n",
       "      <th>language</th>\n",
       "    </tr>\n",
       "  </thead>\n",
       "  <tbody>\n",
       "    <tr>\n",
       "      <th>0</th>\n",
       "      <td>0</td>\n",
       "      <td>21310</td>\n",
       "      <td>Princess Poppy: The Big Mix Up</td>\n",
       "      <td>Janey Louise Jones</td>\n",
       "      <td>Penguin Random House Children's UK</td>\n",
       "      <td>YFB</td>\n",
       "      <td>[5AH]</td>\n",
       "      <td>en</td>\n",
       "    </tr>\n",
       "  </tbody>\n",
       "</table>\n",
       "</div>"
      ],
      "text/plain": [
       "   Unnamed: 0  itemID                           title              author  \\\n",
       "0           0   21310  Princess Poppy: The Big Mix Up  Janey Louise Jones   \n",
       "\n",
       "                            publisher main topic subtopics language  \n",
       "0  Penguin Random House Children's UK        YFB     [5AH]       en  "
      ]
     },
     "execution_count": 5,
     "metadata": {},
     "output_type": "execute_result"
    }
   ],
   "source": [
    "items_dataset.head(1)"
   ]
  },
  {
   "cell_type": "code",
   "execution_count": 26,
   "metadata": {},
   "outputs": [
    {
     "name": "stdout",
     "output_type": "stream",
     "text": [
      "<class 'str'>\n"
     ]
    }
   ],
   "source": [
    "e = items_dataset.iloc[345]['subtopics']\n",
    "print(type(e))"
   ]
  },
  {
   "cell_type": "code",
   "execution_count": 22,
   "metadata": {},
   "outputs": [
    {
     "name": "stderr",
     "output_type": "stream",
     "text": [
      "<ipython-input-22-092bdf1a0c22>:4: SettingWithCopyWarning: \n",
      "A value is trying to be set on a copy of a slice from a DataFrame\n",
      "\n",
      "See the caveats in the documentation: https://pandas.pydata.org/pandas-docs/stable/user_guide/indexing.html#returning-a-view-versus-a-copy\n",
      "  books_dataset.iloc[j]['title_no'] = no_title\n"
     ]
    }
   ],
   "source": [
    "#books_dataset.insert(3, 'title_no','')\n",
    "for j in range (len (books_dataset)):\n",
    "    no_title = len(books_dataset.iloc[j]['title'])\n",
    "    books_dataset.iloc[j]['title_no'] = no_title"
   ]
  },
  {
   "cell_type": "code",
   "execution_count": 23,
   "metadata": {},
   "outputs": [
    {
     "data": {
      "text/html": [
       "<div>\n",
       "<style scoped>\n",
       "    .dataframe tbody tr th:only-of-type {\n",
       "        vertical-align: middle;\n",
       "    }\n",
       "\n",
       "    .dataframe tbody tr th {\n",
       "        vertical-align: top;\n",
       "    }\n",
       "\n",
       "    .dataframe thead th {\n",
       "        text-align: right;\n",
       "    }\n",
       "</style>\n",
       "<table border=\"1\" class=\"dataframe\">\n",
       "  <thead>\n",
       "    <tr style=\"text-align: right;\">\n",
       "      <th></th>\n",
       "      <th>Unnamed: 0</th>\n",
       "      <th>title</th>\n",
       "      <th>authors</th>\n",
       "      <th>title_no</th>\n",
       "      <th>language</th>\n",
       "      <th>pageCount</th>\n",
       "      <th>description</th>\n",
       "    </tr>\n",
       "  </thead>\n",
       "  <tbody>\n",
       "    <tr>\n",
       "      <th>0</th>\n",
       "      <td>0</td>\n",
       "      <td>['Princess Poppy: The Big Mix Up', 'Princess P...</td>\n",
       "      <td>[['Janey Louise Jones']]</td>\n",
       "      <td></td>\n",
       "      <td>['en']</td>\n",
       "      <td>[128]</td>\n",
       "      <td>[\"A brand-new story in the best-selling Prince...</td>\n",
       "    </tr>\n",
       "    <tr>\n",
       "      <th>1</th>\n",
       "      <td>1</td>\n",
       "      <td>['Einfach zeichnen! Step by Step', 'Business-S...</td>\n",
       "      <td>[None, ['Johannes Sauer'], ['Gaby Köster', 'Ti...</td>\n",
       "      <td></td>\n",
       "      <td>['de']</td>\n",
       "      <td>[228, 224, 220, 190, 156, 144]</td>\n",
       "      <td>[None, 'Der Leuchtturm ist ein kraftvolles Mot...</td>\n",
       "    </tr>\n",
       "    <tr>\n",
       "      <th>2</th>\n",
       "      <td>2</td>\n",
       "      <td>['Red Queen', \"Red Queen Collector's Edition\",...</td>\n",
       "      <td>[['Victoria Aveyard']]</td>\n",
       "      <td></td>\n",
       "      <td>['en', 'da', 'id']</td>\n",
       "      <td>[320, 416, 2064, None, 480, 96, 816, 1064, 112]</td>\n",
       "      <td>[\"The first novel in the #1 bestselling RED QU...</td>\n",
       "    </tr>\n",
       "    <tr>\n",
       "      <th>3</th>\n",
       "      <td>3</td>\n",
       "      <td>['Meine Kindergartenfreunde', 'Meine Kindergar...</td>\n",
       "      <td>[['Bianka Nadja Goylmonil'], None]</td>\n",
       "      <td></td>\n",
       "      <td>['de']</td>\n",
       "      <td>[65, 64]</td>\n",
       "      <td>['Ein wunderschönes Freundebuch zur Erinnerung...</td>\n",
       "    </tr>\n",
       "    <tr>\n",
       "      <th>4</th>\n",
       "      <td>4</td>\n",
       "      <td>['Ewig geliebt']</td>\n",
       "      <td>[['J. R. Ward']]</td>\n",
       "      <td></td>\n",
       "      <td>['de']</td>\n",
       "      <td>[368]</td>\n",
       "      <td>['Rhage und Mary sind Geliebte und Seelenverwa...</td>\n",
       "    </tr>\n",
       "    <tr>\n",
       "      <th>5</th>\n",
       "      <td>5</td>\n",
       "      <td>['Meine Sticker-Tiere', 'Meine Sticker - Tiere...</td>\n",
       "      <td>[None]</td>\n",
       "      <td></td>\n",
       "      <td>['de']</td>\n",
       "      <td>[24, 40]</td>\n",
       "      <td>[None]</td>\n",
       "    </tr>\n",
       "    <tr>\n",
       "      <th>6</th>\n",
       "      <td>6</td>\n",
       "      <td>['Unsterblich - Tor der Dämmerung', 'Unsterbli...</td>\n",
       "      <td>[['Julie Kagawa'], None]</td>\n",
       "      <td></td>\n",
       "      <td>['de', 'en']</td>\n",
       "      <td>[608, None]</td>\n",
       "      <td>['Nur sie kann die Menschheit retten Unsere We...</td>\n",
       "    </tr>\n",
       "    <tr>\n",
       "      <th>7</th>\n",
       "      <td>7</td>\n",
       "      <td>['Unsterblich 01 - Tor der Dämmerung', 'Unster...</td>\n",
       "      <td>[['Julie Kagawa'], None]</td>\n",
       "      <td></td>\n",
       "      <td>['de', 'en']</td>\n",
       "      <td>[608, None]</td>\n",
       "      <td>['Nur sie kann die Menschheit retten Unsere We...</td>\n",
       "    </tr>\n",
       "    <tr>\n",
       "      <th>8</th>\n",
       "      <td>8</td>\n",
       "      <td>['Pedro und die Bettler von Cartagena']</td>\n",
       "      <td>[['Ursula Hasler', 'Susann Opel-Götz']]</td>\n",
       "      <td></td>\n",
       "      <td>['de']</td>\n",
       "      <td>[137]</td>\n",
       "      <td>['Kind; Armut; Dritte Welt; Kinderbuch; Kolumb...</td>\n",
       "    </tr>\n",
       "    <tr>\n",
       "      <th>9</th>\n",
       "      <td>9</td>\n",
       "      <td>['Die Haushörerin']</td>\n",
       "      <td>[['Anna Lummfeld']]</td>\n",
       "      <td></td>\n",
       "      <td>['de']</td>\n",
       "      <td>[408]</td>\n",
       "      <td>['Die zwanzigjährige Lilli ahnt nicht, dass si...</td>\n",
       "    </tr>\n",
       "  </tbody>\n",
       "</table>\n",
       "</div>"
      ],
      "text/plain": [
       "   Unnamed: 0                                              title  \\\n",
       "0           0  ['Princess Poppy: The Big Mix Up', 'Princess P...   \n",
       "1           1  ['Einfach zeichnen! Step by Step', 'Business-S...   \n",
       "2           2  ['Red Queen', \"Red Queen Collector's Edition\",...   \n",
       "3           3  ['Meine Kindergartenfreunde', 'Meine Kindergar...   \n",
       "4           4                                   ['Ewig geliebt']   \n",
       "5           5  ['Meine Sticker-Tiere', 'Meine Sticker - Tiere...   \n",
       "6           6  ['Unsterblich - Tor der Dämmerung', 'Unsterbli...   \n",
       "7           7  ['Unsterblich 01 - Tor der Dämmerung', 'Unster...   \n",
       "8           8            ['Pedro und die Bettler von Cartagena']   \n",
       "9           9                                ['Die Haushörerin']   \n",
       "\n",
       "                                             authors title_no  \\\n",
       "0                           [['Janey Louise Jones']]            \n",
       "1  [None, ['Johannes Sauer'], ['Gaby Köster', 'Ti...            \n",
       "2                             [['Victoria Aveyard']]            \n",
       "3                 [['Bianka Nadja Goylmonil'], None]            \n",
       "4                                   [['J. R. Ward']]            \n",
       "5                                             [None]            \n",
       "6                           [['Julie Kagawa'], None]            \n",
       "7                           [['Julie Kagawa'], None]            \n",
       "8            [['Ursula Hasler', 'Susann Opel-Götz']]            \n",
       "9                                [['Anna Lummfeld']]            \n",
       "\n",
       "             language                                        pageCount  \\\n",
       "0              ['en']                                            [128]   \n",
       "1              ['de']                   [228, 224, 220, 190, 156, 144]   \n",
       "2  ['en', 'da', 'id']  [320, 416, 2064, None, 480, 96, 816, 1064, 112]   \n",
       "3              ['de']                                         [65, 64]   \n",
       "4              ['de']                                            [368]   \n",
       "5              ['de']                                         [24, 40]   \n",
       "6        ['de', 'en']                                      [608, None]   \n",
       "7        ['de', 'en']                                      [608, None]   \n",
       "8              ['de']                                            [137]   \n",
       "9              ['de']                                            [408]   \n",
       "\n",
       "                                         description  \n",
       "0  [\"A brand-new story in the best-selling Prince...  \n",
       "1  [None, 'Der Leuchtturm ist ein kraftvolles Mot...  \n",
       "2  [\"The first novel in the #1 bestselling RED QU...  \n",
       "3  ['Ein wunderschönes Freundebuch zur Erinnerung...  \n",
       "4  ['Rhage und Mary sind Geliebte und Seelenverwa...  \n",
       "5                                             [None]  \n",
       "6  ['Nur sie kann die Menschheit retten Unsere We...  \n",
       "7  ['Nur sie kann die Menschheit retten Unsere We...  \n",
       "8  ['Kind; Armut; Dritte Welt; Kinderbuch; Kolumb...  \n",
       "9  ['Die zwanzigjährige Lilli ahnt nicht, dass si...  "
      ]
     },
     "execution_count": 23,
     "metadata": {},
     "output_type": "execute_result"
    }
   ],
   "source": [
    "books_dataset.head(10)"
   ]
  },
  {
   "cell_type": "code",
   "execution_count": 21,
   "metadata": {},
   "outputs": [
    {
     "name": "stderr",
     "output_type": "stream",
     "text": [
      "<ipython-input-21-413f1afb5392>:5: SettingWithCopyWarning: \n",
      "A value is trying to be set on a copy of a slice from a DataFrame\n",
      "\n",
      "See the caveats in the documentation: https://pandas.pydata.org/pandas-docs/stable/user_guide/indexing.html#returning-a-view-versus-a-copy\n",
      "  items_dataset.iloc[i]['lang_by_google'] = books_dataset.iloc[j]['language']\n",
      "C:\\Users\\ASUS\\anaconda3\\lib\\site-packages\\pandas\\core\\indexing.py:670: SettingWithCopyWarning: \n",
      "A value is trying to be set on a copy of a slice from a DataFrame\n",
      "\n",
      "See the caveats in the documentation: https://pandas.pydata.org/pandas-docs/stable/user_guide/indexing.html#returning-a-view-versus-a-copy\n",
      "  iloc._setitem_with_indexer(indexer, value)\n",
      "<ipython-input-21-413f1afb5392>:6: SettingWithCopyWarning: \n",
      "A value is trying to be set on a copy of a slice from a DataFrame\n",
      "\n",
      "See the caveats in the documentation: https://pandas.pydata.org/pandas-docs/stable/user_guide/indexing.html#returning-a-view-versus-a-copy\n",
      "  items_dataset.iloc[i]['pageCount'] = books_dataset.iloc[j]['pageCount']\n",
      "<ipython-input-21-413f1afb5392>:7: SettingWithCopyWarning: \n",
      "A value is trying to be set on a copy of a slice from a DataFrame\n",
      "\n",
      "See the caveats in the documentation: https://pandas.pydata.org/pandas-docs/stable/user_guide/indexing.html#returning-a-view-versus-a-copy\n",
      "  items_dataset.iloc[i]['description'] = books_dataset.iloc[j]['description']\n"
     ]
    },
    {
     "ename": "TypeError",
     "evalue": "'in <string>' requires string as left operand, not float",
     "output_type": "error",
     "traceback": [
      "\u001b[1;31m---------------------------------------------------------------------------\u001b[0m",
      "\u001b[1;31mTypeError\u001b[0m                                 Traceback (most recent call last)",
      "\u001b[1;32m<ipython-input-21-413f1afb5392>\u001b[0m in \u001b[0;36m<module>\u001b[1;34m\u001b[0m\n\u001b[0;32m      2\u001b[0m   \u001b[1;32mfor\u001b[0m \u001b[0mj\u001b[0m \u001b[1;32min\u001b[0m \u001b[0mrange\u001b[0m \u001b[1;33m(\u001b[0m\u001b[0mlen\u001b[0m \u001b[1;33m(\u001b[0m\u001b[0mbooks_dataset\u001b[0m\u001b[1;33m)\u001b[0m\u001b[1;33m)\u001b[0m\u001b[1;33m:\u001b[0m\u001b[1;33m\u001b[0m\u001b[1;33m\u001b[0m\u001b[0m\n\u001b[0;32m      3\u001b[0m     \u001b[1;32mif\u001b[0m \u001b[1;33m(\u001b[0m\u001b[1;33m(\u001b[0m\u001b[0mbooks_dataset\u001b[0m\u001b[1;33m.\u001b[0m\u001b[0miloc\u001b[0m\u001b[1;33m[\u001b[0m\u001b[0mj\u001b[0m\u001b[1;33m]\u001b[0m\u001b[1;33m[\u001b[0m\u001b[1;34m'title'\u001b[0m\u001b[1;33m]\u001b[0m \u001b[1;33m!=\u001b[0m \u001b[1;32mNone\u001b[0m\u001b[1;33m)\u001b[0m \u001b[1;32mand\u001b[0m \u001b[1;33m(\u001b[0m\u001b[0mbooks_dataset\u001b[0m\u001b[1;33m.\u001b[0m\u001b[0miloc\u001b[0m\u001b[1;33m[\u001b[0m\u001b[0mj\u001b[0m\u001b[1;33m]\u001b[0m\u001b[1;33m[\u001b[0m\u001b[1;34m'authors'\u001b[0m\u001b[1;33m]\u001b[0m\u001b[1;33m!=\u001b[0m \u001b[1;32mNone\u001b[0m\u001b[1;33m)\u001b[0m\u001b[1;33m)\u001b[0m\u001b[1;33m:\u001b[0m\u001b[1;33m\u001b[0m\u001b[1;33m\u001b[0m\u001b[0m\n\u001b[1;32m----> 4\u001b[1;33m         \u001b[1;32mif\u001b[0m \u001b[1;33m(\u001b[0m\u001b[1;33m(\u001b[0m\u001b[0mitems_dataset\u001b[0m\u001b[1;33m.\u001b[0m\u001b[0miloc\u001b[0m\u001b[1;33m[\u001b[0m\u001b[0mi\u001b[0m\u001b[1;33m]\u001b[0m\u001b[1;33m[\u001b[0m\u001b[1;34m'title'\u001b[0m\u001b[1;33m]\u001b[0m \u001b[1;32min\u001b[0m  \u001b[0mbooks_dataset\u001b[0m\u001b[1;33m.\u001b[0m\u001b[0miloc\u001b[0m\u001b[1;33m[\u001b[0m\u001b[0mj\u001b[0m\u001b[1;33m]\u001b[0m\u001b[1;33m[\u001b[0m\u001b[1;34m'title'\u001b[0m\u001b[1;33m]\u001b[0m\u001b[1;33m)\u001b[0m \u001b[1;32mand\u001b[0m \u001b[1;33m(\u001b[0m\u001b[0mitems_dataset\u001b[0m\u001b[1;33m.\u001b[0m\u001b[0miloc\u001b[0m\u001b[1;33m[\u001b[0m\u001b[0mi\u001b[0m\u001b[1;33m]\u001b[0m\u001b[1;33m[\u001b[0m\u001b[1;34m'author'\u001b[0m\u001b[1;33m]\u001b[0m \u001b[1;32min\u001b[0m  \u001b[0mbooks_dataset\u001b[0m\u001b[1;33m.\u001b[0m\u001b[0miloc\u001b[0m\u001b[1;33m[\u001b[0m\u001b[0mj\u001b[0m\u001b[1;33m]\u001b[0m\u001b[1;33m[\u001b[0m\u001b[1;34m'authors'\u001b[0m\u001b[1;33m]\u001b[0m\u001b[1;33m)\u001b[0m\u001b[1;33m)\u001b[0m\u001b[1;33m:\u001b[0m\u001b[1;33m\u001b[0m\u001b[1;33m\u001b[0m\u001b[0m\n\u001b[0m\u001b[0;32m      5\u001b[0m             \u001b[0mitems_dataset\u001b[0m\u001b[1;33m.\u001b[0m\u001b[0miloc\u001b[0m\u001b[1;33m[\u001b[0m\u001b[0mi\u001b[0m\u001b[1;33m]\u001b[0m\u001b[1;33m[\u001b[0m\u001b[1;34m'lang_by_google'\u001b[0m\u001b[1;33m]\u001b[0m \u001b[1;33m=\u001b[0m \u001b[0mbooks_dataset\u001b[0m\u001b[1;33m.\u001b[0m\u001b[0miloc\u001b[0m\u001b[1;33m[\u001b[0m\u001b[0mj\u001b[0m\u001b[1;33m]\u001b[0m\u001b[1;33m[\u001b[0m\u001b[1;34m'language'\u001b[0m\u001b[1;33m]\u001b[0m\u001b[1;33m\u001b[0m\u001b[1;33m\u001b[0m\u001b[0m\n\u001b[0;32m      6\u001b[0m             \u001b[0mitems_dataset\u001b[0m\u001b[1;33m.\u001b[0m\u001b[0miloc\u001b[0m\u001b[1;33m[\u001b[0m\u001b[0mi\u001b[0m\u001b[1;33m]\u001b[0m\u001b[1;33m[\u001b[0m\u001b[1;34m'pageCount'\u001b[0m\u001b[1;33m]\u001b[0m \u001b[1;33m=\u001b[0m \u001b[0mbooks_dataset\u001b[0m\u001b[1;33m.\u001b[0m\u001b[0miloc\u001b[0m\u001b[1;33m[\u001b[0m\u001b[0mj\u001b[0m\u001b[1;33m]\u001b[0m\u001b[1;33m[\u001b[0m\u001b[1;34m'pageCount'\u001b[0m\u001b[1;33m]\u001b[0m\u001b[1;33m\u001b[0m\u001b[1;33m\u001b[0m\u001b[0m\n",
      "\u001b[1;31mTypeError\u001b[0m: 'in <string>' requires string as left operand, not float"
     ]
    }
   ],
   "source": [
    "for i in range (len (items_dataset)):\n",
    "  for j in range (len (books_dataset)):\n",
    "    if ((books_dataset.iloc[j]['title'] != None) and (books_dataset.iloc[j]['authors']!= None)):\n",
    "        if ((items_dataset.iloc[i]['title'] in  books_dataset.iloc[j]['title']) and (items_dataset.iloc[i]['author'] in  books_dataset.iloc[j]['authors'])):\n",
    "            items_dataset.iloc[i]['lang_by_google'] = books_dataset.iloc[j]['language']\n",
    "            items_dataset.iloc[i]['pageCount'] = books_dataset.iloc[j]['pageCount']\n",
    "            items_dataset.iloc[i]['description'] = books_dataset.iloc[j]['description']"
   ]
  },
  {
   "cell_type": "code",
   "execution_count": null,
   "metadata": {},
   "outputs": [],
   "source": [
    "items_dataset.head()"
   ]
  },
  {
   "cell_type": "code",
   "execution_count": null,
   "metadata": {},
   "outputs": [],
   "source": []
  }
 ],
 "metadata": {
  "kernelspec": {
   "display_name": "Python 3",
   "language": "python",
   "name": "python3"
  },
  "language_info": {
   "codemirror_mode": {
    "name": "ipython",
    "version": 3
   },
   "file_extension": ".py",
   "mimetype": "text/x-python",
   "name": "python",
   "nbconvert_exporter": "python",
   "pygments_lexer": "ipython3",
   "version": "3.8.5"
  }
 },
 "nbformat": 4,
 "nbformat_minor": 4
}
