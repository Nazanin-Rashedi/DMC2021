{
 "cells": [
  {
   "cell_type": "code",
   "execution_count": 1,
   "metadata": {},
   "outputs": [],
   "source": [
    "# Importing necessary libraries\n",
    "import pandas as pd\n",
    "import numpy as np"
   ]
  },
  {
   "cell_type": "code",
   "execution_count": 2,
   "metadata": {},
   "outputs": [],
   "source": [
    "#Importing dataset\n",
    "books_data = pd.read_csv('D:/Uni Mannheim/Semester 2/Data Mining 2/DMC/final_annotated_item_dataset.csv', sep=',')\n",
    "header_items_lookup_df = pd.read_csv('D:/Uni Mannheim/Semester 2/Data Mining 2/DMC/header_items_lookup_df.csv', sep=',')\n",
    "header_items_df = pd.read_csv('D:/Uni Mannheim/Semester 2/Data Mining 2/DMC/header_items_df.csv',\n",
    "                 lineterminator='\\n')\n",
    "header_items_df.drop(['Unnamed: 0','title', 'author', 'publisher','recommended_age', 'mt_st_'], axis= 1, inplace=True)\n",
    "header_items_lookup_df.drop(['Unnamed: 0'], axis= 1, inplace=True)\n",
    "df = books_data.copy()"
   ]
  },
  {
   "cell_type": "code",
   "execution_count": 3,
   "metadata": {},
   "outputs": [
    {
     "data": {
      "text/html": [
       "<div>\n",
       "<style scoped>\n",
       "    .dataframe tbody tr th:only-of-type {\n",
       "        vertical-align: middle;\n",
       "    }\n",
       "\n",
       "    .dataframe tbody tr th {\n",
       "        vertical-align: top;\n",
       "    }\n",
       "\n",
       "    .dataframe thead th {\n",
       "        text-align: right;\n",
       "    }\n",
       "</style>\n",
       "<table border=\"1\" class=\"dataframe\">\n",
       "  <thead>\n",
       "    <tr style=\"text-align: right;\">\n",
       "      <th></th>\n",
       "      <th>headerID</th>\n",
       "      <th>language</th>\n",
       "      <th>number_pages</th>\n",
       "      <th>release_date</th>\n",
       "      <th>description_</th>\n",
       "    </tr>\n",
       "  </thead>\n",
       "  <tbody>\n",
       "    <tr>\n",
       "      <th>0</th>\n",
       "      <td>0</td>\n",
       "      <td>{'Englisch'}</td>\n",
       "      <td>{304}</td>\n",
       "      <td>{Timestamp('2018-04-17 00:00:00')}</td>\n",
       "      <td>at the beginning was the wordand from the word...</td>\n",
       "    </tr>\n",
       "  </tbody>\n",
       "</table>\n",
       "</div>"
      ],
      "text/plain": [
       "   headerID      language number_pages                        release_date  \\\n",
       "0         0  {'Englisch'}        {304}  {Timestamp('2018-04-17 00:00:00')}   \n",
       "\n",
       "                                        description_  \n",
       "0  at the beginning was the wordand from the word...  "
      ]
     },
     "execution_count": 3,
     "metadata": {},
     "output_type": "execute_result"
    }
   ],
   "source": [
    "header_items_df.head(1)"
   ]
  },
  {
   "cell_type": "code",
   "execution_count": 4,
   "metadata": {},
   "outputs": [
    {
     "data": {
      "text/html": [
       "<div>\n",
       "<style scoped>\n",
       "    .dataframe tbody tr th:only-of-type {\n",
       "        vertical-align: middle;\n",
       "    }\n",
       "\n",
       "    .dataframe tbody tr th {\n",
       "        vertical-align: top;\n",
       "    }\n",
       "\n",
       "    .dataframe thead th {\n",
       "        text-align: right;\n",
       "    }\n",
       "</style>\n",
       "<table border=\"1\" class=\"dataframe\">\n",
       "  <thead>\n",
       "    <tr style=\"text-align: right;\">\n",
       "      <th></th>\n",
       "      <th>itemID</th>\n",
       "      <th>headerID</th>\n",
       "    </tr>\n",
       "  </thead>\n",
       "  <tbody>\n",
       "    <tr>\n",
       "      <th>0</th>\n",
       "      <td>21310</td>\n",
       "      <td>45065</td>\n",
       "    </tr>\n",
       "  </tbody>\n",
       "</table>\n",
       "</div>"
      ],
      "text/plain": [
       "   itemID  headerID\n",
       "0   21310     45065"
      ]
     },
     "execution_count": 4,
     "metadata": {},
     "output_type": "execute_result"
    }
   ],
   "source": [
    "header_items_lookup_df.head(1)"
   ]
  },
  {
   "cell_type": "code",
   "execution_count": 5,
   "metadata": {},
   "outputs": [],
   "source": [
    "header_temp = header_items_df.merge(header_items_lookup_df, how='left', on='headerID')\n",
    "header_temp = header_temp.rename(columns={'language':'language_Thalia'})\n",
    "header_temp = header_temp.rename(columns={'description_':'description_Thalia'})\n",
    "header_temp.drop(['headerID'], axis= 1, inplace=True)"
   ]
  },
  {
   "cell_type": "code",
   "execution_count": 6,
   "metadata": {},
   "outputs": [
    {
     "data": {
      "text/html": [
       "<div>\n",
       "<style scoped>\n",
       "    .dataframe tbody tr th:only-of-type {\n",
       "        vertical-align: middle;\n",
       "    }\n",
       "\n",
       "    .dataframe tbody tr th {\n",
       "        vertical-align: top;\n",
       "    }\n",
       "\n",
       "    .dataframe thead th {\n",
       "        text-align: right;\n",
       "    }\n",
       "</style>\n",
       "<table border=\"1\" class=\"dataframe\">\n",
       "  <thead>\n",
       "    <tr style=\"text-align: right;\">\n",
       "      <th></th>\n",
       "      <th>language_Thalia</th>\n",
       "      <th>number_pages</th>\n",
       "      <th>release_date</th>\n",
       "      <th>description_Thalia</th>\n",
       "      <th>itemID</th>\n",
       "    </tr>\n",
       "  </thead>\n",
       "  <tbody>\n",
       "    <tr>\n",
       "      <th>0</th>\n",
       "      <td>{'Englisch'}</td>\n",
       "      <td>{304}</td>\n",
       "      <td>{Timestamp('2018-04-17 00:00:00')}</td>\n",
       "      <td>at the beginning was the wordand from the word...</td>\n",
       "      <td>5649</td>\n",
       "    </tr>\n",
       "  </tbody>\n",
       "</table>\n",
       "</div>"
      ],
      "text/plain": [
       "  language_Thalia number_pages                        release_date  \\\n",
       "0    {'Englisch'}        {304}  {Timestamp('2018-04-17 00:00:00')}   \n",
       "\n",
       "                                  description_Thalia  itemID  \n",
       "0  at the beginning was the wordand from the word...    5649  "
      ]
     },
     "execution_count": 6,
     "metadata": {},
     "output_type": "execute_result"
    }
   ],
   "source": [
    "header_temp.head(1)"
   ]
  },
  {
   "cell_type": "code",
   "execution_count": 7,
   "metadata": {},
   "outputs": [],
   "source": [
    "df = df.merge(header_temp, how='left', on='itemID')\n",
    "df.drop(['Unnamed: 0'], axis= 1, inplace=True)"
   ]
  },
  {
   "cell_type": "code",
   "execution_count": 8,
   "metadata": {},
   "outputs": [
    {
     "data": {
      "text/html": [
       "<div>\n",
       "<style scoped>\n",
       "    .dataframe tbody tr th:only-of-type {\n",
       "        vertical-align: middle;\n",
       "    }\n",
       "\n",
       "    .dataframe tbody tr th {\n",
       "        vertical-align: top;\n",
       "    }\n",
       "\n",
       "    .dataframe thead th {\n",
       "        text-align: right;\n",
       "    }\n",
       "</style>\n",
       "<table border=\"1\" class=\"dataframe\">\n",
       "  <thead>\n",
       "    <tr style=\"text-align: right;\">\n",
       "      <th></th>\n",
       "      <th>itemID</th>\n",
       "      <th>title</th>\n",
       "      <th>author</th>\n",
       "      <th>publisher</th>\n",
       "      <th>main topic</th>\n",
       "      <th>subtopics</th>\n",
       "      <th>language</th>\n",
       "      <th>description</th>\n",
       "      <th>ISBN_13</th>\n",
       "      <th>interest_age</th>\n",
       "      <th>LangDetect</th>\n",
       "      <th>language_Thalia</th>\n",
       "      <th>number_pages</th>\n",
       "      <th>release_date</th>\n",
       "      <th>description_Thalia</th>\n",
       "    </tr>\n",
       "  </thead>\n",
       "  <tbody>\n",
       "    <tr>\n",
       "      <th>0</th>\n",
       "      <td>21310</td>\n",
       "      <td>Princess Poppy: The Big Mix Up</td>\n",
       "      <td>Janey Louise Jones</td>\n",
       "      <td>Penguin Random House Children's UK</td>\n",
       "      <td>YFB</td>\n",
       "      <td>[5AH]</td>\n",
       "      <td>en</td>\n",
       "      <td>A brand-new story in the best-selling Princess...</td>\n",
       "      <td>[{'type': 'ISBN_13', 'identifier': '9781409048...</td>\n",
       "      <td>1</td>\n",
       "      <td>en</td>\n",
       "      <td>{'Englisch'}</td>\n",
       "      <td>{''}</td>\n",
       "      <td>{Timestamp('2010-11-30 00:00:00')}</td>\n",
       "      <td>a brand new story in the best selling princess...</td>\n",
       "    </tr>\n",
       "    <tr>\n",
       "      <th>1</th>\n",
       "      <td>73018</td>\n",
       "      <td>Einfach zeichnen! Step by Step</td>\n",
       "      <td>Wiebke Krabbe</td>\n",
       "      <td>Schwager und Steinlein</td>\n",
       "      <td>AGZ</td>\n",
       "      <td>[5AJ,AGZ,WFA,YBG,YBL,YNA,YPA]</td>\n",
       "      <td>de</td>\n",
       "      <td>NaN</td>\n",
       "      <td>[{'type': 'ISBN_10', 'identifier': '3849927601...</td>\n",
       "      <td>1</td>\n",
       "      <td>de</td>\n",
       "      <td>{'Deutsch'}</td>\n",
       "      <td>{224}</td>\n",
       "      <td>{Timestamp('2020-12-02 00:00:00')}</td>\n",
       "      <td></td>\n",
       "    </tr>\n",
       "    <tr>\n",
       "      <th>2</th>\n",
       "      <td>19194</td>\n",
       "      <td>Red Queen 1</td>\n",
       "      <td>Victoria Aveyard</td>\n",
       "      <td>Orion Publishing Group</td>\n",
       "      <td>YFH</td>\n",
       "      <td>[5AP,FBA]</td>\n",
       "      <td>en</td>\n",
       "      <td>The first novel in the #1 bestselling RED QUEE...</td>\n",
       "      <td>[{'type': 'ISBN_13', 'identifier': '9781409150...</td>\n",
       "      <td>1.5</td>\n",
       "      <td>en</td>\n",
       "      <td>{'Englisch'}</td>\n",
       "      <td>{''}</td>\n",
       "      <td>{Timestamp('2016-02-03 00:00:00')}</td>\n",
       "      <td>mare barrows world is divided by blood—those w...</td>\n",
       "    </tr>\n",
       "    <tr>\n",
       "      <th>3</th>\n",
       "      <td>40250</td>\n",
       "      <td>Meine Kindergarten-Freunde (Pirat)</td>\n",
       "      <td>NaN</td>\n",
       "      <td>Ars Edition GmbH</td>\n",
       "      <td>YB</td>\n",
       "      <td>[5AC,5AD,YBG,YBL,YF]</td>\n",
       "      <td>de</td>\n",
       "      <td>Ein wunderschönes Freundebuch zur Erinnerung a...</td>\n",
       "      <td>[{'type': 'ISBN_13', 'identifier': '9798691079...</td>\n",
       "      <td>0</td>\n",
       "      <td>de</td>\n",
       "      <td>{'Deutsch'}</td>\n",
       "      <td>{64}</td>\n",
       "      <td>{Timestamp('2015-06-04 00:00:00')}</td>\n",
       "      <td>NaN</td>\n",
       "    </tr>\n",
       "    <tr>\n",
       "      <th>4</th>\n",
       "      <td>46107</td>\n",
       "      <td>Mein großes Schablonen-Buch - Wilde Tiere</td>\n",
       "      <td>Elizabeth Golding</td>\n",
       "      <td>Edition Michael Fischer</td>\n",
       "      <td>WFTM</td>\n",
       "      <td>[WD,WFTM,YBG,YBL,YBLD,YBLN1]</td>\n",
       "      <td>de</td>\n",
       "      <td>NaN</td>\n",
       "      <td>[{'type': 'ISBN_13', 'identifier': '9798691079...</td>\n",
       "      <td>0</td>\n",
       "      <td>de</td>\n",
       "      <td>{'Deutsch'}</td>\n",
       "      <td>{16}</td>\n",
       "      <td>{Timestamp('2019-02-19 00:00:00')}</td>\n",
       "      <td>die welt der wilden tieremalen lernen war noch...</td>\n",
       "    </tr>\n",
       "  </tbody>\n",
       "</table>\n",
       "</div>"
      ],
      "text/plain": [
       "   itemID                                      title              author  \\\n",
       "0   21310             Princess Poppy: The Big Mix Up  Janey Louise Jones   \n",
       "1   73018             Einfach zeichnen! Step by Step       Wiebke Krabbe   \n",
       "2   19194                                Red Queen 1    Victoria Aveyard   \n",
       "3   40250         Meine Kindergarten-Freunde (Pirat)                 NaN   \n",
       "4   46107  Mein großes Schablonen-Buch - Wilde Tiere   Elizabeth Golding   \n",
       "\n",
       "                            publisher main topic  \\\n",
       "0  Penguin Random House Children's UK        YFB   \n",
       "1              Schwager und Steinlein        AGZ   \n",
       "2              Orion Publishing Group        YFH   \n",
       "3                    Ars Edition GmbH         YB   \n",
       "4             Edition Michael Fischer       WFTM   \n",
       "\n",
       "                       subtopics language  \\\n",
       "0                          [5AH]       en   \n",
       "1  [5AJ,AGZ,WFA,YBG,YBL,YNA,YPA]       de   \n",
       "2                      [5AP,FBA]       en   \n",
       "3           [5AC,5AD,YBG,YBL,YF]       de   \n",
       "4   [WD,WFTM,YBG,YBL,YBLD,YBLN1]       de   \n",
       "\n",
       "                                         description  \\\n",
       "0  A brand-new story in the best-selling Princess...   \n",
       "1                                                NaN   \n",
       "2  The first novel in the #1 bestselling RED QUEE...   \n",
       "3  Ein wunderschönes Freundebuch zur Erinnerung a...   \n",
       "4                                                NaN   \n",
       "\n",
       "                                             ISBN_13 interest_age LangDetect  \\\n",
       "0  [{'type': 'ISBN_13', 'identifier': '9781409048...            1         en   \n",
       "1  [{'type': 'ISBN_10', 'identifier': '3849927601...            1         de   \n",
       "2  [{'type': 'ISBN_13', 'identifier': '9781409150...          1.5         en   \n",
       "3  [{'type': 'ISBN_13', 'identifier': '9798691079...            0         de   \n",
       "4  [{'type': 'ISBN_13', 'identifier': '9798691079...            0         de   \n",
       "\n",
       "  language_Thalia number_pages                        release_date  \\\n",
       "0    {'Englisch'}         {''}  {Timestamp('2010-11-30 00:00:00')}   \n",
       "1     {'Deutsch'}        {224}  {Timestamp('2020-12-02 00:00:00')}   \n",
       "2    {'Englisch'}         {''}  {Timestamp('2016-02-03 00:00:00')}   \n",
       "3     {'Deutsch'}         {64}  {Timestamp('2015-06-04 00:00:00')}   \n",
       "4     {'Deutsch'}         {16}  {Timestamp('2019-02-19 00:00:00')}   \n",
       "\n",
       "                                  description_Thalia  \n",
       "0  a brand new story in the best selling princess...  \n",
       "1                                                     \n",
       "2  mare barrows world is divided by blood—those w...  \n",
       "3                                                NaN  \n",
       "4  die welt der wilden tieremalen lernen war noch...  "
      ]
     },
     "execution_count": 8,
     "metadata": {},
     "output_type": "execute_result"
    }
   ],
   "source": [
    "df.head(5)"
   ]
  },
  {
   "cell_type": "code",
   "execution_count": 9,
   "metadata": {},
   "outputs": [
    {
     "data": {
      "text/plain": [
       "15652"
      ]
     },
     "execution_count": 9,
     "metadata": {},
     "output_type": "execute_result"
    }
   ],
   "source": [
    "df['description'].isna().sum()"
   ]
  },
  {
   "cell_type": "code",
   "execution_count": 10,
   "metadata": {},
   "outputs": [
    {
     "name": "stdout",
     "output_type": "stream",
     "text": [
      "15652\n"
     ]
    }
   ],
   "source": [
    "j = 0\n",
    "for i in range (len(df.index)):\n",
    "    if ((pd.isnull(df.loc[i, 'description'])) or (df.loc[i, 'description'] == None)):\n",
    "        j = j + 1\n",
    "print(j)"
   ]
  },
  {
   "cell_type": "code",
   "execution_count": 11,
   "metadata": {},
   "outputs": [
    {
     "name": "stdout",
     "output_type": "stream",
     "text": [
      "15652\n"
     ]
    }
   ],
   "source": [
    "j = 0\n",
    "for i in range (len(df.index)):\n",
    "    if ((pd.isnull(df.loc[i, 'description'])) or (df.loc[i, 'description'] == None)):\n",
    "        thalia_description = df.at[i,'description_Thalia']\n",
    "        df.loc[i, 'description'] = thalia_description\n",
    "        j=j+1\n",
    "print(j)"
   ]
  },
  {
   "cell_type": "code",
   "execution_count": 12,
   "metadata": {},
   "outputs": [
    {
     "data": {
      "text/plain": [
       "2888"
      ]
     },
     "execution_count": 12,
     "metadata": {},
     "output_type": "execute_result"
    }
   ],
   "source": [
    "df['description'].isna().sum()"
   ]
  },
  {
   "cell_type": "code",
   "execution_count": 13,
   "metadata": {},
   "outputs": [
    {
     "data": {
      "text/html": [
       "<div>\n",
       "<style scoped>\n",
       "    .dataframe tbody tr th:only-of-type {\n",
       "        vertical-align: middle;\n",
       "    }\n",
       "\n",
       "    .dataframe tbody tr th {\n",
       "        vertical-align: top;\n",
       "    }\n",
       "\n",
       "    .dataframe thead th {\n",
       "        text-align: right;\n",
       "    }\n",
       "</style>\n",
       "<table border=\"1\" class=\"dataframe\">\n",
       "  <thead>\n",
       "    <tr style=\"text-align: right;\">\n",
       "      <th></th>\n",
       "      <th>itemID</th>\n",
       "      <th>title</th>\n",
       "      <th>author</th>\n",
       "      <th>publisher</th>\n",
       "      <th>main topic</th>\n",
       "      <th>subtopics</th>\n",
       "      <th>language</th>\n",
       "      <th>description</th>\n",
       "      <th>ISBN_13</th>\n",
       "      <th>interest_age</th>\n",
       "      <th>LangDetect</th>\n",
       "      <th>language_Thalia</th>\n",
       "      <th>number_pages</th>\n",
       "      <th>release_date</th>\n",
       "      <th>description_Thalia</th>\n",
       "    </tr>\n",
       "  </thead>\n",
       "  <tbody>\n",
       "    <tr>\n",
       "      <th>0</th>\n",
       "      <td>21310</td>\n",
       "      <td>Princess Poppy: The Big Mix Up</td>\n",
       "      <td>Janey Louise Jones</td>\n",
       "      <td>Penguin Random House Children's UK</td>\n",
       "      <td>YFB</td>\n",
       "      <td>[5AH]</td>\n",
       "      <td>en</td>\n",
       "      <td>A brand-new story in the best-selling Princess...</td>\n",
       "      <td>[{'type': 'ISBN_13', 'identifier': '9781409048...</td>\n",
       "      <td>1</td>\n",
       "      <td>en</td>\n",
       "      <td>{'Englisch'}</td>\n",
       "      <td>{''}</td>\n",
       "      <td>{Timestamp('2010-11-30 00:00:00')}</td>\n",
       "      <td>a brand new story in the best selling princess...</td>\n",
       "    </tr>\n",
       "  </tbody>\n",
       "</table>\n",
       "</div>"
      ],
      "text/plain": [
       "   itemID                           title              author  \\\n",
       "0   21310  Princess Poppy: The Big Mix Up  Janey Louise Jones   \n",
       "\n",
       "                            publisher main topic subtopics language  \\\n",
       "0  Penguin Random House Children's UK        YFB     [5AH]       en   \n",
       "\n",
       "                                         description  \\\n",
       "0  A brand-new story in the best-selling Princess...   \n",
       "\n",
       "                                             ISBN_13 interest_age LangDetect  \\\n",
       "0  [{'type': 'ISBN_13', 'identifier': '9781409048...            1         en   \n",
       "\n",
       "  language_Thalia number_pages                        release_date  \\\n",
       "0    {'Englisch'}         {''}  {Timestamp('2010-11-30 00:00:00')}   \n",
       "\n",
       "                                  description_Thalia  \n",
       "0  a brand new story in the best selling princess...  "
      ]
     },
     "execution_count": 13,
     "metadata": {},
     "output_type": "execute_result"
    }
   ],
   "source": [
    "df.head(1)"
   ]
  },
  {
   "cell_type": "code",
   "execution_count": 14,
   "metadata": {},
   "outputs": [],
   "source": [
    "for i in range (len(df.index)):\n",
    "    lang_talia = df.at[i,'language_Thalia']\n",
    "    if (lang_talia == str({'Englisch'})):\n",
    "        lang_talia = 'en'\n",
    "        df.loc[i, 'language_Thalia'] = lang_talia\n",
    "    elif (lang_talia == str({'Deutsch'})):\n",
    "        lang_talia = 'de'\n",
    "        df.loc[i, 'language_Thalia'] = lang_talia\n",
    "    elif (lang_talia == str({'Spanisch'})):\n",
    "        lang_talia = 'es'\n",
    "        df.loc[i, 'language_Thalia'] = lang_talia\n",
    "    elif (lang_talia == str({'Italienisch'})):\n",
    "        lang_talia = 'it'\n",
    "        df.loc[i, 'language_Thalia'] = lang_talia\n",
    "    elif (lang_talia == str({'Französisch'})):\n",
    "        lang_talia = 'fr'\n",
    "        df.loc[i, 'language_Thalia'] = lang_talia\n",
    "    elif (lang_talia == str({'Portugiesisch'})):\n",
    "        lang_talia = 'pt'\n",
    "        df.loc[i, 'language_Thalia'] = lang_talia"
   ]
  },
  {
   "cell_type": "code",
   "execution_count": 15,
   "metadata": {},
   "outputs": [
    {
     "data": {
      "text/html": [
       "<div>\n",
       "<style scoped>\n",
       "    .dataframe tbody tr th:only-of-type {\n",
       "        vertical-align: middle;\n",
       "    }\n",
       "\n",
       "    .dataframe tbody tr th {\n",
       "        vertical-align: top;\n",
       "    }\n",
       "\n",
       "    .dataframe thead th {\n",
       "        text-align: right;\n",
       "    }\n",
       "</style>\n",
       "<table border=\"1\" class=\"dataframe\">\n",
       "  <thead>\n",
       "    <tr style=\"text-align: right;\">\n",
       "      <th></th>\n",
       "      <th>itemID</th>\n",
       "      <th>title</th>\n",
       "      <th>author</th>\n",
       "      <th>publisher</th>\n",
       "      <th>main topic</th>\n",
       "      <th>subtopics</th>\n",
       "      <th>language</th>\n",
       "      <th>description</th>\n",
       "      <th>ISBN_13</th>\n",
       "      <th>interest_age</th>\n",
       "      <th>LangDetect</th>\n",
       "      <th>language_Thalia</th>\n",
       "      <th>number_pages</th>\n",
       "      <th>release_date</th>\n",
       "      <th>description_Thalia</th>\n",
       "    </tr>\n",
       "  </thead>\n",
       "  <tbody>\n",
       "    <tr>\n",
       "      <th>0</th>\n",
       "      <td>21310</td>\n",
       "      <td>Princess Poppy: The Big Mix Up</td>\n",
       "      <td>Janey Louise Jones</td>\n",
       "      <td>Penguin Random House Children's UK</td>\n",
       "      <td>YFB</td>\n",
       "      <td>[5AH]</td>\n",
       "      <td>en</td>\n",
       "      <td>A brand-new story in the best-selling Princess...</td>\n",
       "      <td>[{'type': 'ISBN_13', 'identifier': '9781409048...</td>\n",
       "      <td>1</td>\n",
       "      <td>en</td>\n",
       "      <td>en</td>\n",
       "      <td>{''}</td>\n",
       "      <td>{Timestamp('2010-11-30 00:00:00')}</td>\n",
       "      <td>a brand new story in the best selling princess...</td>\n",
       "    </tr>\n",
       "  </tbody>\n",
       "</table>\n",
       "</div>"
      ],
      "text/plain": [
       "   itemID                           title              author  \\\n",
       "0   21310  Princess Poppy: The Big Mix Up  Janey Louise Jones   \n",
       "\n",
       "                            publisher main topic subtopics language  \\\n",
       "0  Penguin Random House Children's UK        YFB     [5AH]       en   \n",
       "\n",
       "                                         description  \\\n",
       "0  A brand-new story in the best-selling Princess...   \n",
       "\n",
       "                                             ISBN_13 interest_age LangDetect  \\\n",
       "0  [{'type': 'ISBN_13', 'identifier': '9781409048...            1         en   \n",
       "\n",
       "  language_Thalia number_pages                        release_date  \\\n",
       "0              en         {''}  {Timestamp('2010-11-30 00:00:00')}   \n",
       "\n",
       "                                  description_Thalia  \n",
       "0  a brand new story in the best selling princess...  "
      ]
     },
     "execution_count": 15,
     "metadata": {},
     "output_type": "execute_result"
    }
   ],
   "source": [
    "df.head(1)"
   ]
  },
  {
   "cell_type": "code",
   "execution_count": 19,
   "metadata": {},
   "outputs": [
    {
     "name": "stdout",
     "output_type": "stream",
     "text": [
      "Requirement already satisfied: langdetect in c:\\users\\asus\\anaconda3\\lib\\site-packages (1.0.9)\n",
      "Requirement already satisfied: six in c:\\users\\asus\\anaconda3\\lib\\site-packages (from langdetect) (1.15.0)\n"
     ]
    }
   ],
   "source": [
    "df ['LangDetect2'] = ''\n",
    "!pip install langdetect\n",
    "from langdetect import DetectorFactory, detect\n",
    "from langdetect.lang_detect_exception import LangDetectException\n",
    "DetectorFactory.seed = 0\n",
    "for i in range (len(df.index)):\n",
    "    concat_string = str(df.loc[i].at['title']) + str(df.loc[i].at['author']) + str(df.loc[i].at['publisher']) + str(df.loc[i].at['description']) + str(df.loc[i].at['description_Thalia'])\n",
    "    try:\n",
    "        language = detect(concat_string)\n",
    "    except LangDetectException:\n",
    "        language = 'unknown'\n",
    "    df.at[i,'LangDetect2'] = language"
   ]
  },
  {
   "cell_type": "code",
   "execution_count": 22,
   "metadata": {},
   "outputs": [],
   "source": [
    "df.to_csv('Thalia_googlebooks_added.csv')"
   ]
  },
  {
   "cell_type": "code",
   "execution_count": 148,
   "metadata": {},
   "outputs": [],
   "source": [
    "books_data_new = pd.read_csv('D:/Uni Mannheim/Semester 2/Data Mining 2/DMC/Thalia_googlebooks_added.csv', sep=',')"
   ]
  },
  {
   "cell_type": "code",
   "execution_count": 149,
   "metadata": {},
   "outputs": [
    {
     "data": {
      "text/html": [
       "<div>\n",
       "<style scoped>\n",
       "    .dataframe tbody tr th:only-of-type {\n",
       "        vertical-align: middle;\n",
       "    }\n",
       "\n",
       "    .dataframe tbody tr th {\n",
       "        vertical-align: top;\n",
       "    }\n",
       "\n",
       "    .dataframe thead th {\n",
       "        text-align: right;\n",
       "    }\n",
       "</style>\n",
       "<table border=\"1\" class=\"dataframe\">\n",
       "  <thead>\n",
       "    <tr style=\"text-align: right;\">\n",
       "      <th></th>\n",
       "      <th>Unnamed: 0</th>\n",
       "      <th>itemID</th>\n",
       "      <th>title</th>\n",
       "      <th>author</th>\n",
       "      <th>publisher</th>\n",
       "      <th>main topic</th>\n",
       "      <th>subtopics</th>\n",
       "      <th>language</th>\n",
       "      <th>description</th>\n",
       "      <th>ISBN_13</th>\n",
       "      <th>interest_age</th>\n",
       "      <th>LangDetect</th>\n",
       "      <th>language_Thalia</th>\n",
       "      <th>number_pages</th>\n",
       "      <th>release_date</th>\n",
       "      <th>description_Thalia</th>\n",
       "      <th>LangDetect2</th>\n",
       "    </tr>\n",
       "  </thead>\n",
       "  <tbody>\n",
       "    <tr>\n",
       "      <th>0</th>\n",
       "      <td>0</td>\n",
       "      <td>21310</td>\n",
       "      <td>Princess Poppy: The Big Mix Up</td>\n",
       "      <td>Janey Louise Jones</td>\n",
       "      <td>Penguin Random House Children's UK</td>\n",
       "      <td>YFB</td>\n",
       "      <td>[5AH]</td>\n",
       "      <td>en</td>\n",
       "      <td>A brand-new story in the best-selling Princess...</td>\n",
       "      <td>[{'type': 'ISBN_13', 'identifier': '9781409048...</td>\n",
       "      <td>1</td>\n",
       "      <td>en</td>\n",
       "      <td>en</td>\n",
       "      <td>{''}</td>\n",
       "      <td>{Timestamp('2010-11-30 00:00:00')}</td>\n",
       "      <td>a brand new story in the best selling princess...</td>\n",
       "      <td>en</td>\n",
       "    </tr>\n",
       "  </tbody>\n",
       "</table>\n",
       "</div>"
      ],
      "text/plain": [
       "   Unnamed: 0  itemID                           title              author  \\\n",
       "0           0   21310  Princess Poppy: The Big Mix Up  Janey Louise Jones   \n",
       "\n",
       "                            publisher main topic subtopics language  \\\n",
       "0  Penguin Random House Children's UK        YFB     [5AH]       en   \n",
       "\n",
       "                                         description  \\\n",
       "0  A brand-new story in the best-selling Princess...   \n",
       "\n",
       "                                             ISBN_13 interest_age LangDetect  \\\n",
       "0  [{'type': 'ISBN_13', 'identifier': '9781409048...            1         en   \n",
       "\n",
       "  language_Thalia number_pages                        release_date  \\\n",
       "0              en         {''}  {Timestamp('2010-11-30 00:00:00')}   \n",
       "\n",
       "                                  description_Thalia LangDetect2  \n",
       "0  a brand new story in the best selling princess...          en  "
      ]
     },
     "execution_count": 149,
     "metadata": {},
     "output_type": "execute_result"
    }
   ],
   "source": [
    "books_data_new.head(1)"
   ]
  },
  {
   "cell_type": "code",
   "execution_count": 150,
   "metadata": {},
   "outputs": [],
   "source": [
    "df = books_data_new.copy()"
   ]
  },
  {
   "cell_type": "code",
   "execution_count": 151,
   "metadata": {},
   "outputs": [],
   "source": [
    "for i in range (len(df.index)):\n",
    "    lang_talia = df.at[i,'language_Thalia']\n",
    "    lang_dec2 = df.at[i,'LangDetect2']\n",
    "    if (lang_talia == str({'Albanisch'})):\n",
    "        lang_talia = 'sq'\n",
    "        df.loc[i, 'language_Thalia'] = lang_talia\n",
    "    elif (lang_talia == str({'Arabisch'})):\n",
    "        lang_talia = 'ar'\n",
    "        df.loc[i, 'language_Thalia'] = lang_talia\n",
    "    elif (lang_talia == str({'Chinesisch'})):\n",
    "        lang_talia = 'zh'\n",
    "        df.loc[i, 'language_Thalia'] = lang_talia\n",
    "    elif (lang_talia == str({'Estnisch'})):\n",
    "        lang_talia = 'et'\n",
    "        df.loc[i, 'language_Thalia'] = lang_talia\n",
    "    elif (lang_talia == str({'Finnisch'})):\n",
    "        lang_talia = 'fi'\n",
    "        df.loc[i, 'language_Thalia'] = lang_talia\n",
    "    elif (lang_talia == str({'Hindi'})):\n",
    "        lang_talia = 'hi'\n",
    "        df.loc[i, 'language_Thalia'] = lang_talia\n",
    "    elif (lang_talia == str({'Norwegisch'})):\n",
    "        lang_talia = 'no'\n",
    "        df.loc[i, 'language_Thalia'] = lang_talia\n",
    "    elif (lang_talia == str({'Polnisch'})):\n",
    "        lang_talia = 'pl'\n",
    "        df.loc[i, 'language_Thalia'] = lang_talia\n",
    "    elif (lang_talia == str({'Russisch'})):\n",
    "        lang_talia = 'ru'\n",
    "        df.loc[i, 'language_Thalia'] = lang_talia\n",
    "    elif (lang_talia == str({'Schwedisch'})):\n",
    "        lang_talia = 'sv'\n",
    "        df.loc[i, 'language_Thalia'] = lang_talia\n",
    "    elif (lang_talia == str({'Ungarisch'})):\n",
    "        lang_talia = 'hu'\n",
    "        df.loc[i, 'language_Thalia'] = lang_talia\n",
    "    elif (lang_talia == str({'Vietnamesisch'})):\n",
    "        lang_talia = 'vi'\n",
    "        df.loc[i, 'language_Thalia'] = lang_talia\n",
    "    elif (lang_talia == str({'Afar'})):\n",
    "        lang_talia = 'af'\n",
    "        df.loc[i, 'language_Thalia'] = lang_talia\n",
    "    elif (lang_talia == str({'Niederländisch'})):\n",
    "        lang_talia = 'nl'\n",
    "        df.loc[i, 'language_Thalia'] = lang_talia\n",
    "    elif (lang_talia == str({'Indonesisch'})):\n",
    "        lang_talia = 'id'\n",
    "        df.loc[i, 'language_Thalia'] = lang_talia\n",
    "    elif (lang_talia == str({'Tagalog'})):\n",
    "        lang_talia = 'tl'\n",
    "        df.loc[i, 'language_Thalia'] = lang_talia\n",
    "    elif (lang_talia == str({'Dänisch'})):\n",
    "        lang_talia = 'da'\n",
    "        df.loc[i, 'language_Thalia'] = lang_talia\n",
    "    elif (lang_talia == str({'Katalanisch'})):\n",
    "        lang_talia = 'ca'\n",
    "        df.loc[i, 'language_Thalia'] = lang_talia\n",
    "    elif (lang_talia == str({'Ukrainisch'})):\n",
    "        lang_talia = 'uk'\n",
    "        df.loc[i, 'language_Thalia'] = lang_talia\n",
    "    elif (lang_talia == str({'Ukrainisch'})):\n",
    "        lang_talia = 'uk'\n",
    "        df.loc[i, 'language_Thalia'] = lang_talia\n",
    "    elif (lang_talia == str({'Türkisch'})):\n",
    "        lang_talia = 'tr'\n",
    "        df.loc[i, 'language_Thalia'] = lang_talia\n",
    "    elif (lang_talia == str({'Rumänisch'})):\n",
    "        lang_talia = 'ro'\n",
    "        df.loc[i, 'language_Thalia'] = lang_talia\n",
    "    elif (lang_talia == str({'Maltesisch'})):\n",
    "        lang_talia = 'mt'\n",
    "        df.loc[i, 'language_Thalia'] = lang_talia \n",
    "    elif (lang_talia == str({'Isländisch'})):\n",
    "        lang_talia = 'is'\n",
    "        df.loc[i, 'language_Thalia'] = lang_talia \n",
    "    elif (lang_talia == str({'Mazedonisch'})):\n",
    "        lang_talia = 'mk'\n",
    "        df.loc[i, 'language_Thalia'] = lang_talia \n",
    "    elif (lang_talia == str({'Kroatisch'})):\n",
    "        lang_talia = 'hr'\n",
    "        df.loc[i, 'language_Thalia'] = lang_talia \n",
    "    elif (lang_talia == str({'Griechisch'})):\n",
    "        lang_talia = 'el'\n",
    "        df.loc[i, 'language_Thalia'] = lang_talia \n",
    "    elif (lang_talia == str({'Tschechisch'})):\n",
    "        lang_talia = 'ce'\n",
    "        df.loc[i, 'language_Thalia'] = lang_talia \n",
    "    elif (lang_talia == str({'Koreanisch'})):\n",
    "        lang_talia = 'ko'\n",
    "        df.loc[i, 'language_Thalia'] = lang_talia \n",
    "    elif (lang_talia == str({'Bulgarisch'})):\n",
    "        lang_talia = 'bg'\n",
    "        df.loc[i, 'language_Thalia'] = lang_talia \n",
    "    elif (lang_talia == str({'Japanisch'})):\n",
    "        lang_talia = 'ja'\n",
    "        df.loc[i, 'language_Thalia'] = lang_talia \n",
    "      \n",
    "        \n",
    "    elif (lang_talia == str({'Englisch, Spanisch'})): \n",
    "        df.loc[i, 'language_Thalia'] = lang_dec2\n",
    "    elif (lang_talia == str({'Englisch, Französisch'})): \n",
    "        df.loc[i, 'language_Thalia'] = lang_dec2\n",
    "    elif (lang_talia == str({'Deutsch, Englisch'})): \n",
    "        df.loc[i, 'language_Thalia'] = lang_dec2 \n",
    "    elif (lang_talia == str({'Deutsch, Französisch'})): \n",
    "        df.loc[i, 'language_Thalia'] = lang_dec2 \n",
    "    elif (lang_talia == str({'Deutsch, Spanisch'})): \n",
    "        df.loc[i, 'language_Thalia'] = lang_dec2 \n",
    "    elif (lang_talia == str({'Deutsch, Englisch, Französisch'})): \n",
    "        df.loc[i, 'language_Thalia'] = lang_dec2 \n",
    "    elif (lang_talia == str({'Deutsch, Englisch', 'Englisch'})): \n",
    "        df.loc[i, 'language_Thalia'] = lang_dec2 \n",
    "    elif (lang_talia == str({'Deutsch, Englisch (Untertitel: Deutsch, Englisch)'})): \n",
    "        df.loc[i, 'language_Thalia'] = lang_dec2\n",
    "    elif (lang_talia == str({'Deutsch, Englisch (Untertitel: Deutsch)'})): \n",
    "        df.loc[i, 'language_Thalia'] = lang_dec2 \n",
    "    elif (lang_talia == str({''})): \n",
    "        df.loc[i, 'language_Thalia'] = lang_dec2 \n",
    "    elif (lang_talia == str({'', 'Deutsch'})): \n",
    "        df.loc[i, 'language_Thalia'] = lang_dec2\n",
    "    elif (lang_talia == str({'', 'Englisch'})): \n",
    "        df.loc[i, 'language_Thalia'] = lang_dec2\n",
    "    elif (lang_talia == str( {'', 'Hindi'})): \n",
    "        df.loc[i, 'language_Thalia'] = lang_dec2\n",
    "    elif (lang_talia == str( {'Chinesisch, Englisch'})): \n",
    "        df.loc[i, 'language_Thalia'] = lang_dec2\n",
    "    elif (lang_talia == str( {'Chinesisch, Deutsch, Englisch, Italienisch, Polnisch, RumÃ¤nisch'})): \n",
    "        df.loc[i, 'language_Thalia'] = lang_dec2\n",
    "    elif (lang_talia == str( {'Chinesisch, Deutsch (Untertitel: Deutsch)'})): \n",
    "        df.loc[i, 'language_Thalia'] = lang_dec2\n",
    "    elif (len(str(lang_talia)) > 19):\n",
    "        df.loc[i, 'language_Thalia'] = lang_dec2  "
   ]
  },
  {
   "cell_type": "code",
   "execution_count": 152,
   "metadata": {},
   "outputs": [
    {
     "name": "stdout",
     "output_type": "stream",
     "text": [
      "9036\n"
     ]
    }
   ],
   "source": [
    "j=0\n",
    "for i in range (len(df.index)):\n",
    "    lang = df.at[i,'language']\n",
    "    lang_talia = df.at[i,'language_Thalia']\n",
    "    lang_dec1 = df.at[i,'LangDetect']\n",
    "    lang_dec2 = df.at[i,'LangDetect2']\n",
    "    if ((lang_talia != lang) and (lang_talia == lang_dec2)):\n",
    "        df.loc[i, 'language'] = lang_talia\n",
    "        j = j + 1\n",
    "print(j)    "
   ]
  },
  {
   "cell_type": "code",
   "execution_count": 156,
   "metadata": {},
   "outputs": [],
   "source": [
    "df.to_csv('Thalia_googlebooks_added.csv')"
   ]
  },
  {
   "cell_type": "code",
   "execution_count": 187,
   "metadata": {},
   "outputs": [
    {
     "data": {
      "text/html": [
       "<div>\n",
       "<style scoped>\n",
       "    .dataframe tbody tr th:only-of-type {\n",
       "        vertical-align: middle;\n",
       "    }\n",
       "\n",
       "    .dataframe tbody tr th {\n",
       "        vertical-align: top;\n",
       "    }\n",
       "\n",
       "    .dataframe thead th {\n",
       "        text-align: right;\n",
       "    }\n",
       "</style>\n",
       "<table border=\"1\" class=\"dataframe\">\n",
       "  <thead>\n",
       "    <tr style=\"text-align: right;\">\n",
       "      <th></th>\n",
       "      <th>Unnamed: 0</th>\n",
       "      <th>Unnamed: 0.1</th>\n",
       "      <th>itemID</th>\n",
       "      <th>title</th>\n",
       "      <th>author</th>\n",
       "      <th>publisher</th>\n",
       "      <th>main topic</th>\n",
       "      <th>subtopics</th>\n",
       "      <th>language</th>\n",
       "      <th>description</th>\n",
       "      <th>ISBN_13</th>\n",
       "      <th>interest_age</th>\n",
       "      <th>LangDetect</th>\n",
       "      <th>language_Thalia</th>\n",
       "      <th>number_pages</th>\n",
       "      <th>release_date</th>\n",
       "      <th>description_Thalia</th>\n",
       "      <th>LangDetect2</th>\n",
       "    </tr>\n",
       "  </thead>\n",
       "  <tbody>\n",
       "    <tr>\n",
       "      <th>0</th>\n",
       "      <td>0</td>\n",
       "      <td>0</td>\n",
       "      <td>21310</td>\n",
       "      <td>Princess Poppy: The Big Mix Up</td>\n",
       "      <td>Janey Louise Jones</td>\n",
       "      <td>Penguin Random House Children's UK</td>\n",
       "      <td>YFB</td>\n",
       "      <td>[5AH]</td>\n",
       "      <td>en</td>\n",
       "      <td>A brand-new story in the best-selling Princess...</td>\n",
       "      <td>[{'type': 'ISBN_13', 'identifier': '9781409048...</td>\n",
       "      <td>1</td>\n",
       "      <td>en</td>\n",
       "      <td>en</td>\n",
       "      <td>{''}</td>\n",
       "      <td>{Timestamp('2010-11-30 00:00:00')}</td>\n",
       "      <td>a brand new story in the best selling princess...</td>\n",
       "      <td>en</td>\n",
       "    </tr>\n",
       "  </tbody>\n",
       "</table>\n",
       "</div>"
      ],
      "text/plain": [
       "   Unnamed: 0  Unnamed: 0.1  itemID                           title  \\\n",
       "0           0             0   21310  Princess Poppy: The Big Mix Up   \n",
       "\n",
       "               author                           publisher main topic  \\\n",
       "0  Janey Louise Jones  Penguin Random House Children's UK        YFB   \n",
       "\n",
       "  subtopics language                                        description  \\\n",
       "0     [5AH]       en  A brand-new story in the best-selling Princess...   \n",
       "\n",
       "                                             ISBN_13 interest_age LangDetect  \\\n",
       "0  [{'type': 'ISBN_13', 'identifier': '9781409048...            1         en   \n",
       "\n",
       "  language_Thalia number_pages                        release_date  \\\n",
       "0              en         {''}  {Timestamp('2010-11-30 00:00:00')}   \n",
       "\n",
       "                                  description_Thalia LangDetect2  \n",
       "0  a brand new story in the best selling princess...          en  "
      ]
     },
     "execution_count": 187,
     "metadata": {},
     "output_type": "execute_result"
    }
   ],
   "source": [
    "books_data_new = pd.read_csv('D:/Uni Mannheim/Semester 2/Data Mining 2/DMC/Thalia_googlebooks_added.csv', sep=',')\n",
    "df = books_data_new.copy()\n",
    "df.head(1)"
   ]
  },
  {
   "cell_type": "code",
   "execution_count": 188,
   "metadata": {},
   "outputs": [
    {
     "name": "stdout",
     "output_type": "stream",
     "text": [
      "4166\n"
     ]
    }
   ],
   "source": [
    "j=0\n",
    "for i in range (len(df.index)):\n",
    "    lang = df.at[i,'language']\n",
    "    lang_talia = df.at[i,'language_Thalia']\n",
    "    description_talia = df.at[i,'description_Thalia']\n",
    "    lang_dec1 = df.at[i,'LangDetect']\n",
    "    lang_dec2 = df.at[i,'LangDetect2']\n",
    "    if ((lang_talia != lang_dec2) and (lang_talia == 'de')):\n",
    "        df.loc[i, 'language'] = lang_talia\n",
    "        df.loc[i, 'description'] = description_talia\n",
    "        j = j + 1\n",
    "print(j)   "
   ]
  },
  {
   "cell_type": "code",
   "execution_count": 189,
   "metadata": {},
   "outputs": [
    {
     "name": "stdout",
     "output_type": "stream",
     "text": [
      "485\n"
     ]
    }
   ],
   "source": [
    "j=0\n",
    "for i in range (len(df.index)):\n",
    "    lang = df.at[i,'language']\n",
    "    lang_talia = df.at[i,'language_Thalia']\n",
    "    lang_dec1 = df.at[i,'LangDetect']\n",
    "    lang_dec2 = df.at[i,'LangDetect2']\n",
    "    if ((lang_talia != lang) and (lang_talia == 'en') and (lang_dec2 == 'de')):\n",
    "        df.loc[i, 'language_Thalia'] = lang_dec2\n",
    "        df.loc[i, 'language'] = lang_dec2\n",
    "        j = j + 1\n",
    "print(j)  "
   ]
  },
  {
   "cell_type": "code",
   "execution_count": 193,
   "metadata": {},
   "outputs": [],
   "source": [
    "df.to_csv('Thalia_googlebooks_added.csv')"
   ]
  },
  {
   "cell_type": "code",
   "execution_count": 674,
   "metadata": {},
   "outputs": [],
   "source": [
    "books_data_new = pd.read_csv('D:/Uni Mannheim/Semester 2/Data Mining 2/DMC/Thalia_googlebooks_added.csv', sep=',')\n",
    "df = books_data_new.copy()"
   ]
  },
  {
   "cell_type": "code",
   "execution_count": 675,
   "metadata": {},
   "outputs": [
    {
     "name": "stdout",
     "output_type": "stream",
     "text": [
      "0\n"
     ]
    }
   ],
   "source": [
    "j=0\n",
    "for i in range (len(df.index)):\n",
    "    lang = df.at[i,'language']\n",
    "    lang_talia = df.at[i,'language_Thalia']\n",
    "    description_talia = df.at[i,'description_Thalia']\n",
    "    lang_dec1 = df.at[i,'LangDetect']\n",
    "    lang_dec2 = df.at[i,'LangDetect2']\n",
    "    if ((lang_talia != lang) and (lang_talia == 'es') and (lang == 'en')):\n",
    "        df.loc[i, 'language'] = lang_talia\n",
    "        df.loc[i, 'description'] = description_talia\n",
    "        j = j + 1\n",
    "print(j)  "
   ]
  },
  {
   "cell_type": "code",
   "execution_count": 676,
   "metadata": {},
   "outputs": [
    {
     "name": "stdout",
     "output_type": "stream",
     "text": [
      "0\n"
     ]
    }
   ],
   "source": [
    "j=0\n",
    "for i in range (len(df.index)):\n",
    "    lang = df.at[i,'language']\n",
    "    lang_talia = df.at[i,'language_Thalia']\n",
    "    description_talia = df.at[i,'description_Thalia']\n",
    "    lang_dec1 = df.at[i,'LangDetect']\n",
    "    lang_dec2 = df.at[i,'LangDetect2']\n",
    "    if ((lang_talia != lang) and (lang_talia == 'it') and (lang == 'en')):\n",
    "        df.loc[i, 'language'] = lang_talia\n",
    "        df.loc[i, 'description'] = description_talia\n",
    "        j = j + 1\n",
    "print(j)  "
   ]
  },
  {
   "cell_type": "code",
   "execution_count": 677,
   "metadata": {},
   "outputs": [
    {
     "name": "stdout",
     "output_type": "stream",
     "text": [
      "0\n"
     ]
    }
   ],
   "source": [
    "j=0\n",
    "for i in range (len(df.index)):\n",
    "    lang = df.at[i,'language']\n",
    "    lang_talia = df.at[i,'language_Thalia']\n",
    "    description_talia = df.at[i,'description_Thalia']\n",
    "    lang_dec1 = df.at[i,'LangDetect']\n",
    "    lang_dec2 = df.at[i,'LangDetect2']\n",
    "    if ((lang_talia != lang) and (lang_talia == 'fr') and (lang == 'en')):\n",
    "        df.loc[i, 'language'] = lang_talia\n",
    "        df.loc[i, 'description'] = description_talia\n",
    "        j = j + 1\n",
    "print(j)  "
   ]
  },
  {
   "cell_type": "code",
   "execution_count": 156,
   "metadata": {},
   "outputs": [
    {
     "name": "stdout",
     "output_type": "stream",
     "text": [
      "0\n"
     ]
    }
   ],
   "source": [
    "j=0\n",
    "for i in range (len(df.index)):\n",
    "    lang = df.at[i,'language']\n",
    "    lang_talia = df.at[i,'language_Thalia']\n",
    "    description_talia = df.at[i,'description_Thalia']\n",
    "    lang_dec1 = df.at[i,'LangDetect']\n",
    "    lang_dec2 = df.at[i,'LangDetect2']\n",
    "    if ((lang_talia != lang) and (lang_talia == 'ru') and (lang == 'en')):\n",
    "        df.loc[i, 'language'] = lang_talia\n",
    "        df.loc[i, 'description'] = description_talia\n",
    "        j = j + 1\n",
    "print(j)  "
   ]
  },
  {
   "cell_type": "code",
   "execution_count": 157,
   "metadata": {},
   "outputs": [
    {
     "name": "stdout",
     "output_type": "stream",
     "text": [
      "0\n"
     ]
    }
   ],
   "source": [
    "j=0\n",
    "for i in range (len(df.index)):\n",
    "    lang = df.at[i,'language']\n",
    "    lang_talia = df.at[i,'language_Thalia']\n",
    "    description_talia = df.at[i,'description_Thalia']\n",
    "    lang_dec1 = df.at[i,'LangDetect']\n",
    "    lang_dec2 = df.at[i,'LangDetect2']\n",
    "    if ((lang_talia != lang) and (lang_talia == 'pt') and (lang == 'en')):\n",
    "        df.loc[i, 'language'] = lang_talia\n",
    "        df.loc[i, 'description'] = description_talia\n",
    "        j = j + 1\n",
    "print(j)  "
   ]
  },
  {
   "cell_type": "code",
   "execution_count": 204,
   "metadata": {},
   "outputs": [
    {
     "name": "stdout",
     "output_type": "stream",
     "text": [
      "44\n"
     ]
    }
   ],
   "source": [
    "j=0\n",
    "for i in range (len(df.index)):\n",
    "    lang = df.at[i,'language']\n",
    "    lang_talia = df.at[i,'language_Thalia']\n",
    "    description_talia = df.at[i,'description_Thalia']\n",
    "    lang_dec1 = df.at[i,'LangDetect']\n",
    "    lang_dec2 = df.at[i,'LangDetect2']\n",
    "    if ((lang_talia != lang) and (lang_talia == 'hi') and (lang == 'en')):\n",
    "        df.loc[i, 'language'] = lang_talia\n",
    "        df.loc[i, 'description'] = description_talia\n",
    "        j = j + 1\n",
    "print(j)  "
   ]
  },
  {
   "cell_type": "code",
   "execution_count": 205,
   "metadata": {},
   "outputs": [
    {
     "name": "stdout",
     "output_type": "stream",
     "text": [
      "19\n"
     ]
    }
   ],
   "source": [
    "j=0\n",
    "for i in range (len(df.index)):\n",
    "    lang = df.at[i,'language']\n",
    "    lang_talia = df.at[i,'language_Thalia']\n",
    "    description_talia = df.at[i,'description_Thalia']\n",
    "    lang_dec1 = df.at[i,'LangDetect']\n",
    "    lang_dec2 = df.at[i,'LangDetect2']\n",
    "    if ((lang_talia != lang) and (lang_talia == 'zh') and (lang == 'en')):\n",
    "        df.loc[i, 'language'] = lang_talia\n",
    "        df.loc[i, 'description'] = description_talia\n",
    "        j = j + 1\n",
    "print(j)  "
   ]
  },
  {
   "cell_type": "code",
   "execution_count": 206,
   "metadata": {},
   "outputs": [
    {
     "name": "stdout",
     "output_type": "stream",
     "text": [
      "20\n"
     ]
    }
   ],
   "source": [
    "j=0\n",
    "for i in range (len(df.index)):\n",
    "    lang = df.at[i,'language']\n",
    "    lang_talia = df.at[i,'language_Thalia']\n",
    "    description_talia = df.at[i,'description_Thalia']\n",
    "    lang_dec1 = df.at[i,'LangDetect']\n",
    "    lang_dec2 = df.at[i,'LangDetect2']\n",
    "    if ((lang_talia != lang) and (lang_talia == 'sv') and (lang == 'en')):\n",
    "        df.loc[i, 'language'] = lang_talia\n",
    "        df.loc[i, 'description'] = description_talia\n",
    "        j = j + 1\n",
    "print(j) "
   ]
  },
  {
   "cell_type": "code",
   "execution_count": 207,
   "metadata": {},
   "outputs": [
    {
     "name": "stdout",
     "output_type": "stream",
     "text": [
      "16\n"
     ]
    }
   ],
   "source": [
    "j=0\n",
    "for i in range (len(df.index)):\n",
    "    lang = df.at[i,'language']\n",
    "    lang_talia = df.at[i,'language_Thalia']\n",
    "    description_talia = df.at[i,'description_Thalia']\n",
    "    lang_dec1 = df.at[i,'LangDetect']\n",
    "    lang_dec2 = df.at[i,'LangDetect2']\n",
    "    if ((lang_talia != lang) and (lang_talia == 'nl') and (lang == 'en')):\n",
    "        df.loc[i, 'language'] = lang_talia\n",
    "        df.loc[i, 'description'] = description_talia\n",
    "        j = j + 1\n",
    "print(j) "
   ]
  },
  {
   "cell_type": "code",
   "execution_count": 208,
   "metadata": {},
   "outputs": [
    {
     "name": "stdout",
     "output_type": "stream",
     "text": [
      "10\n"
     ]
    }
   ],
   "source": [
    "j=0\n",
    "for i in range (len(df.index)):\n",
    "    lang = df.at[i,'language']\n",
    "    lang_talia = df.at[i,'language_Thalia']\n",
    "    description_talia = df.at[i,'description_Thalia']\n",
    "    lang_dec1 = df.at[i,'LangDetect']\n",
    "    lang_dec2 = df.at[i,'LangDetect2']\n",
    "    if ((lang_talia != lang) and (lang_talia == 'fi') and (lang == 'en')):\n",
    "        df.loc[i, 'language'] = lang_talia\n",
    "        df.loc[i, 'description'] = description_talia\n",
    "        j = j + 1\n",
    "print(j) "
   ]
  },
  {
   "cell_type": "code",
   "execution_count": 209,
   "metadata": {},
   "outputs": [
    {
     "name": "stdout",
     "output_type": "stream",
     "text": [
      "8\n"
     ]
    }
   ],
   "source": [
    "j=0\n",
    "for i in range (len(df.index)):\n",
    "    lang = df.at[i,'language']\n",
    "    lang_talia = df.at[i,'language_Thalia']\n",
    "    description_talia = df.at[i,'description_Thalia']\n",
    "    lang_dec1 = df.at[i,'LangDetect']\n",
    "    lang_dec2 = df.at[i,'LangDetect2']\n",
    "    if ((lang_talia != lang) and (lang_talia == 'tr') and (lang == 'en')):\n",
    "        df.loc[i, 'language'] = lang_talia\n",
    "        df.loc[i, 'description'] = description_talia\n",
    "        j = j + 1\n",
    "print(j) "
   ]
  },
  {
   "cell_type": "code",
   "execution_count": 210,
   "metadata": {},
   "outputs": [
    {
     "name": "stdout",
     "output_type": "stream",
     "text": [
      "784\n"
     ]
    }
   ],
   "source": [
    "disagree = 0\n",
    "for i in range (len(df.index)):\n",
    "    if (df.loc[i, 'language'] != df.loc[i, 'language_Thalia']):\n",
    "        disagree = disagree + 1\n",
    "print (disagree)"
   ]
  },
  {
   "cell_type": "code",
   "execution_count": 29,
   "metadata": {},
   "outputs": [],
   "source": [
    "df.to_csv('Thalia_googlebooks_added.csv')"
   ]
  },
  {
   "cell_type": "code",
   "execution_count": 678,
   "metadata": {},
   "outputs": [],
   "source": [
    "import pandas as pd\n",
    "import numpy as np\n",
    "books_data_new = pd.read_csv('D:/Uni Mannheim/Semester 2/Data Mining 2/DMC/Thalia_googlebooks_added.csv', sep=',')\n",
    "df = books_data_new.copy()\n",
    "df.drop(['Unnamed: 0', 'Unnamed: 0.1', 'Unnamed: 0.1.1', 'Unnamed: 0.1.1.1'], axis= 1, inplace=True)"
   ]
  },
  {
   "cell_type": "code",
   "execution_count": 679,
   "metadata": {},
   "outputs": [],
   "source": [
    "df.loc[6301, 'language'] = df.at[6301,'language_Thalia']\n",
    "df.loc[9937, 'language'] = df.at[9937,'language_Thalia']\n",
    "df.loc[11688, 'language'] = df.at[11688,'language_Thalia']\n",
    "df.loc[11726, 'language'] = df.at[11726,'language_Thalia']\n",
    "df.loc[15840, 'language'] = df.at[15840,'language_Thalia']\n",
    "df.loc[70010, 'language'] = df.at[70010,'language_Thalia']\n",
    "df.loc[35037, 'language'] = df.at[35037,'language_Thalia']\n",
    "df.loc[56775, 'language'] = df.at[56775,'language_Thalia']\n",
    "df.loc[61931, 'language'] = df.at[61931,'language_Thalia']\n",
    "df.loc[66674, 'language'] = df.at[66674,'language_Thalia']\n",
    "df.loc[66682, 'language'] = df.at[66682,'language_Thalia']\n",
    "df.loc[66727, 'language'] = df.at[66727,'language_Thalia']\n",
    "df.loc[67260, 'language'] = df.at[67260,'language_Thalia']\n",
    "df.loc[67904, 'language'] = df.at[67904,'language_Thalia']\n",
    "df.loc[67917, 'language'] = df.at[67917,'language_Thalia']\n",
    "df.loc[68711, 'language'] = df.at[68711,'language_Thalia']\n",
    "df.loc[66726, 'language'] = df.at[66726,'language_Thalia']\n",
    "df.loc[67272, 'language'] = df.at[67272,'language_Thalia']\n",
    "df.loc[68768, 'language'] = df.at[68768,'language_Thalia']\n",
    "df.loc[40106, 'language'] = df.at[40106,'language_Thalia']\n",
    "df.loc[73332, 'language'] = df.at[73332,'language_Thalia']\n",
    "df.loc[43447, 'language'] = df.at[43447,'language_Thalia']\n",
    "df.loc[33792, 'language'] = df.at[33792,'language_Thalia']\n",
    "df.loc[60556, 'language'] = df.at[60556,'language_Thalia']\n",
    "df.loc[29802, 'language'] = df.at[29802,'language_Thalia']\n",
    "df.loc[54050, 'language'] = df.at[54050,'language_Thalia']\n",
    "df.loc[44237, 'language'] = df.at[44237,'language_Thalia']\n",
    "df.loc[66819, 'language'] = df.at[66819,'language_Thalia']\n",
    "df.loc[4012, 'language'] = df.at[4012,'language_Thalia']\n",
    "df.loc[4454, 'language'] = df.at[4454,'language_Thalia']\n",
    "df.loc[70492, 'language'] = df.at[70492,'language_Thalia']\n",
    "df.loc[36801, 'language'] = df.at[36801,'language_Thalia']\n",
    "df.loc[54482, 'language'] = df.at[54482,'language_Thalia']\n",
    "df.loc[69363, 'language'] = df.at[69363,'language_Thalia']\n",
    "df.loc[70514, 'language'] = df.at[70514,'language_Thalia']\n",
    "df.loc[72304, 'language'] = df.at[72304,'language_Thalia']\n",
    "df.loc[72319, 'language'] = df.at[72319,'language_Thalia']\n",
    "df.loc[72700, 'language'] = df.at[72700,'language_Thalia']\n",
    "df.loc[73302, 'language'] = df.at[73302,'language_Thalia']\n",
    "df.loc[68916, 'language'] = df.at[68916,'language_Thalia']\n",
    "df.loc[63178, 'language'] = df.at[63178,'language_Thalia']\n",
    "df.loc[67368, 'language'] = df.at[67368,'language_Thalia']\n",
    "df.loc[67368, 'description'] = df.at[67368,'description_Thalia']\n",
    "df.loc[67599, 'language'] = df.at[67599,'language_Thalia']\n",
    "df.loc[67599, 'description'] = df.at[67599,'description_Thalia']\n",
    "df.loc[77470, 'language'] = df.at[77470,'language_Thalia']\n",
    "df.loc[77470, 'description'] = df.at[77470,'description_Thalia']\n",
    "df.loc[71872, 'language'] = df.at[71872,'language_Thalia']\n",
    "df.loc[71872, 'description'] = df.at[71872,'description_Thalia']\n",
    "df.loc[69691, 'language'] = df.at[69691,'language_Thalia']\n",
    "df.loc[69691, 'description'] = df.at[69691,'description_Thalia']\n",
    "df.loc[66665, 'language'] = df.at[66665,'language_Thalia']\n",
    "df.loc[66743, 'language'] = df.at[66743,'language_Thalia']\n",
    "df.loc[66759, 'language'] = df.at[66759,'language_Thalia']\n",
    "df.loc[66777, 'language'] = df.at[66777,'language_Thalia']\n",
    "df.loc[67245, 'language'] = df.at[67245,'language_Thalia']\n",
    "df.loc[68762, 'language'] = df.at[68762,'language_Thalia']\n",
    "df.loc[68774, 'language'] = df.at[68774,'language_Thalia']\n",
    "\n",
    "df.loc[7242, 'language_Thalia'] = df.at[7242,'language']\n",
    "df.loc[13960, 'language_Thalia'] = df.at[13960,'language']\n",
    "df.loc[20000, 'language_Thalia'] = df.at[20000,'language']\n",
    "df.loc[70612, 'language_Thalia'] = df.at[70612,'language']\n",
    "df.loc[513, 'language_Thalia'] = df.at[513,'language']\n",
    "df.loc[1875, 'language_Thalia'] = df.at[1875,'language']\n",
    "df.loc[20527, 'language_Thalia'] = df.at[20527,'language']\n",
    "df.loc[22212, 'language_Thalia'] = df.at[22212,'language']\n",
    "df.loc[25168, 'language_Thalia'] = df.at[25168,'language']\n",
    "df.loc[33335, 'language_Thalia'] = df.at[33335,'language']\n",
    "df.loc[33348, 'language_Thalia'] = df.at[33348,'language']\n",
    "df.loc[33855, 'language_Thalia'] = df.at[33855,'language']\n",
    "df.loc[35111, 'language_Thalia'] = df.at[35111,'language']\n",
    "df.loc[46336, 'language_Thalia'] = df.at[46336,'language']\n",
    "df.loc[51833, 'language_Thalia'] = df.at[51833,'language']\n",
    "df.loc[55895, 'language_Thalia'] = df.at[55895,'language']\n",
    "df.loc[58002, 'language_Thalia'] = df.at[58002,'language']\n",
    "df.loc[73537, 'language_Thalia'] = df.at[73537,'language']\n",
    "df.loc[73598, 'language_Thalia'] = df.at[73598,'language']\n",
    "df.loc[73603, 'language_Thalia'] = df.at[73603,'language']\n",
    "df.loc[73616, 'language_Thalia'] = df.at[73616,'language']\n",
    "df.loc[73653, 'language_Thalia'] = df.at[73653,'language']\n",
    "df.loc[73196, 'language_Thalia'] = df.at[73196,'language']\n",
    "df.loc[73280, 'language_Thalia'] = df.at[73280,'language']\n",
    "df.loc[73372, 'language_Thalia'] = df.at[73372,'language']\n",
    "df.loc[73375, 'language_Thalia'] = df.at[73375,'language']\n",
    "df.loc[72872, 'language_Thalia'] = df.at[72872,'language']\n",
    "df.loc[73135, 'language_Thalia'] = df.at[73135,'language']\n",
    "df.loc[73137, 'language_Thalia'] = df.at[73137,'language']\n",
    "df.loc[73159, 'language_Thalia'] = df.at[73159,'language']\n",
    "df.loc[73160, 'language_Thalia'] = df.at[73160,'language']\n",
    "df.loc[72675, 'language_Thalia'] = df.at[72675,'language']\n",
    "df.loc[72697, 'language_Thalia'] = df.at[72697,'language']\n",
    "df.loc[72709, 'language_Thalia'] = df.at[72709,'language']\n",
    "df.loc[72713, 'language_Thalia'] = df.at[72713,'language']\n",
    "df.loc[72844, 'language_Thalia'] = df.at[72844,'language']\n",
    "df.loc[65085, 'language_Thalia'] = df.at[65085,'language']\n",
    "df.loc[67543, 'language_Thalia'] = df.at[67543,'language']\n",
    "df.loc[65085, 'language_Thalia'] = df.at[65085,'language']\n",
    "df.loc[67564, 'language_Thalia'] = df.at[67564,'language']\n",
    "df.loc[69051, 'language_Thalia'] = df.at[69051,'language']\n",
    "df.loc[70696, 'language_Thalia'] = df.at[70696,'language']\n",
    "df.loc[65043, 'language_Thalia'] = df.at[65043,'language']\n",
    "df.loc[66923, 'language_Thalia'] = df.at[66923,'language']\n",
    "df.loc[67009, 'language_Thalia'] = df.at[67009,'language']\n",
    "df.loc[67030, 'language_Thalia'] = df.at[67030,'language']\n",
    "df.loc[67081, 'language_Thalia'] = df.at[67081,'language']\n",
    "df.loc[55159, 'language_Thalia'] = df.at[55159,'language']\n",
    "df.loc[55169, 'language_Thalia'] = df.at[55169,'language']\n",
    "df.loc[8085, 'language_Thalia'] = df.at[8085,'language']\n",
    "df.loc[72368, 'language_Thalia'] = df.at[72368,'language']\n",
    "df.loc[55982, 'language_Thalia'] = df.at[55982,'language']\n",
    "df.loc[56489, 'language_Thalia'] = df.at[56489,'language']\n",
    "df.loc[63621, 'language_Thalia'] = df.at[63621,'language']\n",
    "df.loc[58224, 'language_Thalia'] = df.at[58224,'language']\n",
    "df.loc[58226, 'language_Thalia'] = df.at[58226,'language']\n",
    "df.loc[61657, 'language_Thalia'] = df.at[61657,'language']\n",
    "df.loc[59999, 'language_Thalia'] = df.at[59999,'language']\n",
    "df.loc[55000, 'language_Thalia'] = df.at[55000,'language']\n",
    "df.loc[50000, 'language_Thalia'] = df.at[50000,'language']\n",
    "df.loc[31055, 'language_Thalia'] = df.at[31055,'language']\n",
    "df.loc[29999, 'language_Thalia'] = df.at[29999,'language']\n",
    "df.loc[10000, 'language_Thalia'] = df.at[10000,'language']\n",
    "df.loc[70000, 'language_Thalia'] = df.at[70000,'language']\n",
    "df.loc[75000, 'language_Thalia'] = df.at[75000,'language']\n",
    "\n",
    "df.loc[69385, 'language_Thalia'] = 'es'\n",
    "df.loc[69385, 'language'] = 'es'\n",
    "df.loc[63747, 'language_Thalia'] = 'de'\n",
    "df.loc[63747, 'language'] = 'de'\n",
    "df.loc[63747, 'description'] = df.at[63747,'description_Thalia']"
   ]
  },
  {
   "cell_type": "code",
   "execution_count": 680,
   "metadata": {},
   "outputs": [
    {
     "name": "stdout",
     "output_type": "stream",
     "text": [
      "9\n"
     ]
    }
   ],
   "source": [
    "j=0\n",
    "for i in range (len(df.index)):\n",
    "    lang = df.at[i,'language']\n",
    "    lang_talia = df.at[i,'language_Thalia']\n",
    "    description_talia = df.at[i,'description_Thalia']\n",
    "    lang_dec1 = df.at[i,'LangDetect']\n",
    "    lang_dec2 = df.at[i,'LangDetect2']\n",
    "    if ((lang_talia != lang) and (lang_talia == lang_dec1)):\n",
    "        df.loc[i, 'language'] = lang_talia\n",
    "        df.loc[i, 'description'] = description_talia\n",
    "        j = j + 1\n",
    "print(j) "
   ]
  },
  {
   "cell_type": "code",
   "execution_count": 681,
   "metadata": {},
   "outputs": [
    {
     "name": "stdout",
     "output_type": "stream",
     "text": [
      "12\n"
     ]
    }
   ],
   "source": [
    "j=0\n",
    "for i in range (len(df.index)):\n",
    "    lang = df.at[i,'language']\n",
    "    lang_talia = df.at[i,'language_Thalia']\n",
    "    description_talia = df.at[i,'description_Thalia']\n",
    "    lang_dec1 = df.at[i,'LangDetect']\n",
    "    lang_dec2 = df.at[i,'LangDetect2']\n",
    "    if ((lang_talia != lang) and (lang_talia == 'es') and (lang_dec2 == 'en')):\n",
    "        df.loc[i, 'language'] = lang_talia\n",
    "        df.loc[i, 'description'] = description_talia\n",
    "        j = j + 1\n",
    "print(j) "
   ]
  },
  {
   "cell_type": "code",
   "execution_count": 682,
   "metadata": {},
   "outputs": [
    {
     "name": "stdout",
     "output_type": "stream",
     "text": [
      "8\n"
     ]
    }
   ],
   "source": [
    "j=0\n",
    "for i in range (len(df.index)):\n",
    "    lang = df.at[i,'language']\n",
    "    lang_talia = df.at[i,'language_Thalia']\n",
    "    description_talia = df.at[i,'description_Thalia']\n",
    "    lang_dec1 = df.at[i,'LangDetect']\n",
    "    lang_dec2 = df.at[i,'LangDetect2']\n",
    "    if ((lang_talia != lang) and (lang_talia == 'hi') and (lang_dec2 == 'en')):\n",
    "        df.loc[i, 'language'] = lang_talia\n",
    "        df.loc[i, 'description'] = description_talia\n",
    "        j = j + 1\n",
    "print(j) "
   ]
  },
  {
   "cell_type": "code",
   "execution_count": 683,
   "metadata": {},
   "outputs": [
    {
     "name": "stdout",
     "output_type": "stream",
     "text": [
      "7\n"
     ]
    }
   ],
   "source": [
    "j=0\n",
    "for i in range (len(df.index)):\n",
    "    lang = df.at[i,'language']\n",
    "    lang_talia = df.at[i,'language_Thalia']\n",
    "    description_talia = df.at[i,'description_Thalia']\n",
    "    lang_dec1 = df.at[i,'LangDetect']\n",
    "    lang_dec2 = df.at[i,'LangDetect2']\n",
    "    if ((lang_talia != lang) and (lang_talia == 'ar') and (lang_dec2 == 'en')):\n",
    "        df.loc[i, 'language'] = lang_talia\n",
    "        df.loc[i, 'description'] = description_talia\n",
    "        j = j + 1\n",
    "print(j) "
   ]
  },
  {
   "cell_type": "code",
   "execution_count": 684,
   "metadata": {},
   "outputs": [
    {
     "name": "stdout",
     "output_type": "stream",
     "text": [
      "93\n"
     ]
    }
   ],
   "source": [
    "j=0\n",
    "for i in range (len(df.index)):\n",
    "    lang = df.at[i,'language']\n",
    "    lang_talia = df.at[i,'language_Thalia']\n",
    "    description_talia = df.at[i,'description_Thalia']\n",
    "    lang_dec1 = df.at[i,'LangDetect']\n",
    "    lang_dec2 = df.at[i,'LangDetect2']\n",
    "    if ((lang_talia != lang) and (lang_talia == 'en') and (lang_dec2 == 'es')):\n",
    "        df.loc[i, 'language_Thalia'] = lang_dec2\n",
    "        j = j + 1\n",
    "print(j) "
   ]
  },
  {
   "cell_type": "code",
   "execution_count": 685,
   "metadata": {},
   "outputs": [
    {
     "name": "stdout",
     "output_type": "stream",
     "text": [
      "22\n"
     ]
    }
   ],
   "source": [
    "j=0\n",
    "for i in range (len(df.index)):\n",
    "    lang = df.at[i,'language']\n",
    "    lang_talia = df.at[i,'language_Thalia']\n",
    "    description_talia = df.at[i,'description_Thalia']\n",
    "    lang_dec1 = df.at[i,'LangDetect']\n",
    "    lang_dec2 = df.at[i,'LangDetect2']\n",
    "    if ((lang_talia != lang) and (lang_talia == 'es') and (lang_dec2 == 'de')):\n",
    "        df.loc[i, 'language_Thalia'] = lang_dec2\n",
    "        j = j + 1\n",
    "print(j) "
   ]
  },
  {
   "cell_type": "code",
   "execution_count": 686,
   "metadata": {},
   "outputs": [
    {
     "name": "stdout",
     "output_type": "stream",
     "text": [
      "18\n"
     ]
    }
   ],
   "source": [
    "j=0\n",
    "for i in range (len(df.index)):\n",
    "    lang = df.at[i,'language']\n",
    "    lang_talia = df.at[i,'language_Thalia']\n",
    "    description_talia = df.at[i,'description_Thalia']\n",
    "    lang_dec1 = df.at[i,'LangDetect']\n",
    "    lang_dec2 = df.at[i,'LangDetect2']\n",
    "    if ((lang_talia != lang) and (lang_talia == 'it') and (lang_dec2 == 'de')):\n",
    "        df.loc[i, 'language_Thalia'] = lang_dec2\n",
    "        j = j + 1\n",
    "print(j) "
   ]
  },
  {
   "cell_type": "code",
   "execution_count": 687,
   "metadata": {},
   "outputs": [
    {
     "name": "stdout",
     "output_type": "stream",
     "text": [
      "67\n"
     ]
    }
   ],
   "source": [
    "j=0\n",
    "for i in range (len(df.index)):\n",
    "    lang = df.at[i,'language']\n",
    "    lang_talia = df.at[i,'language_Thalia']\n",
    "    description_talia = df.at[i,'description_Thalia']\n",
    "    lang_dec1 = df.at[i,'LangDetect']\n",
    "    lang_dec2 = df.at[i,'LangDetect2']\n",
    "    if ((lang_talia != lang) and (lang_talia == 'en') and (lang_dec2 == 'fr')):\n",
    "        df.loc[i, 'language_Thalia'] = lang_dec2\n",
    "        j = j + 1\n",
    "print(j) "
   ]
  },
  {
   "cell_type": "code",
   "execution_count": 688,
   "metadata": {},
   "outputs": [
    {
     "name": "stdout",
     "output_type": "stream",
     "text": [
      "58\n"
     ]
    }
   ],
   "source": [
    "j=0\n",
    "for i in range (len(df.index)):\n",
    "    lang = df.at[i,'language']\n",
    "    lang_talia = df.at[i,'language_Thalia']\n",
    "    description_talia = df.at[i,'description_Thalia']\n",
    "    lang_dec1 = df.at[i,'LangDetect']\n",
    "    lang_dec2 = df.at[i,'LangDetect2']\n",
    "    if ((lang_talia != lang) and (lang_talia == 'en') and (lang_dec2 == 'it')):\n",
    "        df.loc[i, 'language_Thalia'] = lang_dec2\n",
    "        j = j + 1\n",
    "print(j) "
   ]
  },
  {
   "cell_type": "code",
   "execution_count": 689,
   "metadata": {},
   "outputs": [
    {
     "name": "stdout",
     "output_type": "stream",
     "text": [
      "6\n"
     ]
    }
   ],
   "source": [
    "j=0\n",
    "for i in range (len(df.index)):\n",
    "    lang = df.at[i,'language']\n",
    "    lang_talia = df.at[i,'language_Thalia']\n",
    "    description_talia = df.at[i,'description_Thalia']\n",
    "    lang_dec1 = df.at[i,'LangDetect']\n",
    "    lang_dec2 = df.at[i,'LangDetect2']\n",
    "    if ((lang_talia != lang) and (lang_talia == 'ja') and (lang_dec2 == 'en')):\n",
    "        df.loc[i, 'language'] = lang_talia\n",
    "        df.loc[i, 'description'] = description_talia\n",
    "        j = j + 1\n",
    "print(j) "
   ]
  },
  {
   "cell_type": "code",
   "execution_count": 690,
   "metadata": {},
   "outputs": [
    {
     "name": "stdout",
     "output_type": "stream",
     "text": [
      "4\n"
     ]
    }
   ],
   "source": [
    "j=0\n",
    "for i in range (len(df.index)):\n",
    "    lang = df.at[i,'language']\n",
    "    lang_talia = df.at[i,'language_Thalia']\n",
    "    description_talia = df.at[i,'description_Thalia']\n",
    "    lang_dec1 = df.at[i,'LangDetect']\n",
    "    lang_dec2 = df.at[i,'LangDetect2']\n",
    "    if ((lang_talia != lang) and (lang_talia == 'it') and (lang_dec2 == 'en')):\n",
    "        df.loc[i, 'language'] = lang_talia\n",
    "        df.loc[i, 'description'] = description_talia\n",
    "        j = j + 1\n",
    "print(j) "
   ]
  },
  {
   "cell_type": "code",
   "execution_count": 691,
   "metadata": {},
   "outputs": [
    {
     "name": "stdout",
     "output_type": "stream",
     "text": [
      "12\n"
     ]
    }
   ],
   "source": [
    "j=0\n",
    "for i in range (len(df.index)):\n",
    "    lang = df.at[i,'language']\n",
    "    lang_talia = df.at[i,'language_Thalia']\n",
    "    description_talia = df.at[i,'description_Thalia']\n",
    "    lang_dec1 = df.at[i,'LangDetect']\n",
    "    lang_dec2 = df.at[i,'LangDetect2']\n",
    "    if ((lang_talia != lang) and (lang_talia == 'fr') and (lang_dec2 == 'de')):\n",
    "        df.loc[i, 'language'] = lang_talia\n",
    "        df.loc[i, 'description'] = description_talia\n",
    "        j = j + 1\n",
    "print(j) "
   ]
  },
  {
   "cell_type": "code",
   "execution_count": 692,
   "metadata": {},
   "outputs": [
    {
     "name": "stdout",
     "output_type": "stream",
     "text": [
      "369\n"
     ]
    }
   ],
   "source": [
    "j=0\n",
    "for i in range (len(df.index)):\n",
    "    lang = df.at[i,'language']\n",
    "    lang_talia = df.at[i,'language_Thalia']\n",
    "    description_talia = df.at[i,'description_Thalia']\n",
    "    lang_dec1 = df.at[i,'LangDetect']\n",
    "    lang_dec2 = df.at[i,'LangDetect2']\n",
    "    if ((lang_talia != lang) and (lang_talia == 'zh') and (lang_dec2 == 'en')):\n",
    "        df.loc[i, 'language'] = lang_talia\n",
    "        df.loc[i, 'description'] = description_talia\n",
    "        j = j + 1\n",
    "    if ((lang_talia != lang) and (lang_talia == 'ca') and (lang_dec2 == 'en')):\n",
    "        df.loc[i, 'language'] = lang_talia\n",
    "        df.loc[i, 'description'] = description_talia\n",
    "        j = j + 1\n",
    "    if ((lang_talia != lang) and (lang_talia == 'fr') and (lang_dec2 == 'en')):\n",
    "        df.loc[i, 'language'] = lang_talia\n",
    "        df.loc[i, 'description'] = description_talia\n",
    "        j = j + 1\n",
    "    if ((lang_talia != lang) and (lang_talia == 'ro') and (lang_dec2 == 'en')):\n",
    "        df.loc[i, 'language'] = lang_talia\n",
    "        df.loc[i, 'description'] = description_talia\n",
    "        j = j + 1\n",
    "    if ((lang_talia != lang) and (lang_talia == 'pt') and (lang_dec2 == 'en')):\n",
    "        df.loc[i, 'language'] = lang_talia\n",
    "        df.loc[i, 'description'] = description_talia\n",
    "        j = j + 1\n",
    "    if ((lang_talia != lang) and (lang_talia == 'vi') and (lang_dec2 == 'en')):\n",
    "        df.loc[i, 'language'] = lang_talia\n",
    "        df.loc[i, 'description'] = description_talia\n",
    "        j = j + 1\n",
    "    if ((lang_talia != lang) and (lang_talia == 'ko') and (lang_dec2 == 'en')):\n",
    "        df.loc[i, 'language'] = lang_talia\n",
    "        df.loc[i, 'description'] = description_talia\n",
    "        j = j + 1\n",
    "    if ((lang_talia != lang) and (lang_talia == 'mt') and (lang_dec2 == 'en')):\n",
    "        df.loc[i, 'language'] = lang_talia\n",
    "        df.loc[i, 'description'] = description_talia\n",
    "        j = j + 1\n",
    "    if ((lang_talia != lang) and (lang_talia == 'da') and (lang_dec2 == 'en')):\n",
    "        df.loc[i, 'language'] = lang_talia\n",
    "        df.loc[i, 'description'] = description_talia\n",
    "        j = j + 1\n",
    "    if ((lang_talia != lang) and (lang_talia == 'en') and (lang_dec2 == 'hu')):\n",
    "        df.loc[i, 'language'] = lang_talia\n",
    "        df.loc[i, 'description'] = description_talia\n",
    "        j = j + 1\n",
    "    if ((lang_talia != lang) and (lang_talia == 'es') and (lang_dec2 == 'it')):\n",
    "        df.loc[i, 'language'] = lang_talia\n",
    "        df.loc[i, 'description'] = description_talia\n",
    "        j = j + 1\n",
    "    if ((lang_talia != lang) and (lang_talia == 'es') and (lang_dec2 == 'fr')):\n",
    "        df.loc[i, 'language'] = lang_talia\n",
    "        df.loc[i, 'description'] = description_talia\n",
    "        j = j + 1\n",
    "    if ((lang_talia != lang) and (lang_talia == 'en') and (lang_dec2 == 'sv')):\n",
    "        df.loc[i, 'language'] = lang_talia\n",
    "        df.loc[i, 'description'] = description_talia\n",
    "        j = j + 1\n",
    "    if ((lang_talia != lang) and (lang_talia == 'en') and (lang_dec2 == 'pt')):\n",
    "        df.loc[i, 'language'] = lang_talia\n",
    "        df.loc[i, 'description'] = description_talia\n",
    "        j = j + 1\n",
    "    if ((lang_talia != lang) and (lang_talia == 'en') and (lang_dec2 == 'nl')):\n",
    "        df.loc[i, 'language'] = lang_talia\n",
    "        df.loc[i, 'description'] = description_talia\n",
    "        j = j + 1\n",
    "    if ((lang_talia != lang) and (lang_talia == 'en') and (lang_dec2 == 'fi')):\n",
    "        df.loc[i, 'language'] = lang_talia\n",
    "        df.loc[i, 'description'] = description_talia\n",
    "        j = j + 1\n",
    "    if ((lang_talia != lang) and (lang_talia == 'ru')):\n",
    "        df.loc[i, 'language'] = lang_talia\n",
    "        df.loc[i, 'description'] = description_talia\n",
    "        j = j + 1\n",
    "    if ((lang_talia != lang) and (lang_talia == 'es')):\n",
    "        df.loc[i, 'language'] = lang_talia\n",
    "        df.loc[i, 'description'] = description_talia\n",
    "        j = j + 1\n",
    "    if ((lang_talia != lang) and (lang_talia == 'pt')):\n",
    "        df.loc[i, 'language'] = lang_talia\n",
    "        df.loc[i, 'description'] = description_talia\n",
    "        j = j + 1\n",
    "    if ((lang_talia != lang) and (lang_talia == 'it')):\n",
    "        df.loc[i, 'language'] = lang_talia\n",
    "        df.loc[i, 'description'] = description_talia\n",
    "        j = j + 1\n",
    "    if ((lang_talia != lang) and (lang_talia == 'fr')):\n",
    "        df.loc[i, 'language'] = lang_talia\n",
    "        df.loc[i, 'description'] = description_talia\n",
    "        j = j + 1\n",
    "    if ((lang_talia != lang) and (lang_talia == 'sv')):\n",
    "        df.loc[i, 'language'] = lang_talia\n",
    "        df.loc[i, 'description'] = description_talia\n",
    "        j = j + 1\n",
    "    if ((lang_talia != lang) and (lang_talia == 'nl')):\n",
    "        df.loc[i, 'language'] = lang_talia\n",
    "        df.loc[i, 'description'] = description_talia\n",
    "        j = j + 1\n",
    "    if ((lang_talia != lang) and (lang_talia == 'no')):\n",
    "        df.loc[i, 'language'] = lang_talia\n",
    "        df.loc[i, 'description'] = description_talia\n",
    "        j = j + 1        \n",
    "    if ((lang_talia != lang) and (lang_talia == 'ce')):\n",
    "        df.loc[i, 'language'] = lang_talia\n",
    "        df.loc[i, 'description'] = description_talia\n",
    "        j = j + 1       \n",
    "    if ((lang_talia != lang) and (lang_talia == 'el')):\n",
    "        df.loc[i, 'language'] = lang_talia\n",
    "        df.loc[i, 'description'] = description_talia\n",
    "        j = j + 1               \n",
    "    if ((lang_talia != lang) and (lang_talia == 'pl')):\n",
    "        df.loc[i, 'language'] = lang_talia\n",
    "        df.loc[i, 'description'] = description_talia\n",
    "        j = j + 1       \n",
    "    if ((lang_talia != lang) and (lang_talia == 'hi')):\n",
    "        df.loc[i, 'language'] = lang_talia\n",
    "        df.loc[i, 'description'] = description_talia\n",
    "        j = j + 1               \n",
    "    if ((lang_talia != lang) and (lang_talia == 'ca')):\n",
    "        df.loc[i, 'language'] = lang_talia\n",
    "        df.loc[i, 'description'] = description_talia\n",
    "        j = j + 1               \n",
    "    if ((lang_talia != lang) and (lang_talia == 'da')):\n",
    "        df.loc[i, 'language'] = lang_talia\n",
    "        df.loc[i, 'description'] = description_talia\n",
    "        j = j + 1               \n",
    "    if ((lang_talia != lang) and (lang_talia == 'ja')):\n",
    "        df.loc[i, 'language'] = lang_talia\n",
    "        df.loc[i, 'description'] = description_talia\n",
    "        j = j + 1   \n",
    "    if ((lang_talia != lang) and (lang_talia == 'ro')):\n",
    "        df.loc[i, 'language'] = lang_talia\n",
    "        df.loc[i, 'description'] = description_talia\n",
    "        j = j + 1   \n",
    "    if ((lang_talia != lang) and (lang_talia == 'bg')):\n",
    "        df.loc[i, 'language'] = lang_talia\n",
    "        df.loc[i, 'description'] = description_talia\n",
    "        j = j + 1           \n",
    "    if ((lang_talia != lang) and (lang_talia == 'tr')):\n",
    "        df.loc[i, 'language'] = lang_talia\n",
    "        df.loc[i, 'description'] = description_talia\n",
    "        j = j + 1           \n",
    "    if ((lang_talia != lang) and (lang_talia == 'is')):\n",
    "        df.loc[i, 'language'] = lang_talia\n",
    "        df.loc[i, 'description'] = description_talia\n",
    "        j = j + 1           \n",
    "    if ((lang_talia != lang) and (lang_talia == 'uk')):\n",
    "        df.loc[i, 'language'] = lang_talia\n",
    "        df.loc[i, 'description'] = description_talia\n",
    "        j = j + 1           \n",
    "    if ((lang_talia != lang) and (lang_talia == 'et')):\n",
    "        df.loc[i, 'language'] = lang_talia\n",
    "        df.loc[i, 'description'] = description_talia\n",
    "        j = j + 1           \n",
    "    if ((lang_talia != lang) and (lang_talia == 'zh')):\n",
    "        df.loc[i, 'language'] = lang_talia\n",
    "        df.loc[i, 'description'] = description_talia\n",
    "        j = j + 1           \n",
    "    if ((lang_talia != lang) and (lang_talia == 'fi')):\n",
    "        df.loc[i, 'language'] = lang_talia\n",
    "        df.loc[i, 'description'] = description_talia\n",
    "        j = j + 1           \n",
    "    if ((lang_talia != lang) and (lang_talia == 'en') and (lang_dec2 == 'id')):\n",
    "        df.loc[i, 'language'] = lang_talia\n",
    "        df.loc[i, 'description'] = description_talia\n",
    "        j = j + 1\n",
    "    if ((lang_talia != lang) and (lang_talia == 'en') and (lang_dec2 == 'pl')):\n",
    "        df.loc[i, 'language'] = lang_talia\n",
    "        df.loc[i, 'description'] = description_talia\n",
    "        j = j + 1\n",
    "    if ((lang_talia != lang) and (lang_talia == 'en') and (lang_dec2 == 'vi')):\n",
    "        df.loc[i, 'language'] = lang_talia\n",
    "        df.loc[i, 'description'] = description_talia\n",
    "        j = j + 1 \n",
    "    if ((lang_talia != lang) and (lang_talia == 'en') and (lang_dec2 == 'da')):\n",
    "        df.loc[i, 'language'] = lang_talia\n",
    "        df.loc[i, 'description'] = description_talia\n",
    "        j = j + 1  \n",
    "    if ((lang_talia != lang) and (lang_talia == 'en') and (lang_dec2 == 'ml')):\n",
    "        df.loc[i, 'language'] = lang_talia\n",
    "        df.loc[i, 'description'] = description_talia\n",
    "        j = j + 1  \n",
    "    if ((lang_talia != lang) and (lang_talia == 'en') and (lang_dec2 == 'tl')):\n",
    "        df.loc[i, 'language'] = lang_talia\n",
    "        df.loc[i, 'description'] = description_talia\n",
    "        j = j + 1 \n",
    "    if ((lang_talia != lang) and (lang_talia == 'en') and (lang_dec2 == 'ro')):\n",
    "        df.loc[i, 'language'] = lang_talia\n",
    "        df.loc[i, 'description'] = description_talia\n",
    "        j = j + 1         \n",
    "        \n",
    "print(j)\n"
   ]
  },
  {
   "cell_type": "code",
   "execution_count": 693,
   "metadata": {},
   "outputs": [
    {
     "name": "stdout",
     "output_type": "stream",
     "text": [
      "6\n"
     ]
    }
   ],
   "source": [
    "j=0\n",
    "for i in range (len(df.index)):\n",
    "    lang = df.at[i,'language']\n",
    "    lang_talia = df.at[i,'language_Thalia']\n",
    "    description_talia = df.at[i,'description_Thalia']\n",
    "    lang_dec1 = df.at[i,'LangDetect']\n",
    "    lang_dec2 = df.at[i,'LangDetect2']\n",
    "    if ((lang_talia != lang) and (lang_talia == 'en') and (lang_dec2 == 'cy')):\n",
    "        df.loc[i, 'language_Thalia'] = lang_dec2\n",
    "        j = j + 1\n",
    "print(j) "
   ]
  },
  {
   "cell_type": "code",
   "execution_count": 694,
   "metadata": {},
   "outputs": [
    {
     "name": "stdout",
     "output_type": "stream",
     "text": [
      "2\n"
     ]
    }
   ],
   "source": [
    "j=0\n",
    "for i in range (len(df.index)):\n",
    "    lang = df.at[i,'language']\n",
    "    lang_talia = df.at[i,'language_Thalia']\n",
    "    description_talia = df.at[i,'description_Thalia']\n",
    "    lang_dec1 = df.at[i,'LangDetect']\n",
    "    lang_dec2 = df.at[i,'LangDetect2']\n",
    "    if ((lang_talia != lang) and (lang_talia == 'en') and (lang_dec2 == 'no')):\n",
    "        df.loc[i, 'language_Thalia'] = lang_dec2\n",
    "        j = j + 1\n",
    "print(j) "
   ]
  },
  {
   "cell_type": "code",
   "execution_count": 695,
   "metadata": {},
   "outputs": [],
   "source": [
    "df.loc[22871, 'language_Thalia']= 'ln'\n",
    "df.loc[22871, 'language']= 'ln'\n",
    "df.loc[22871, 'description']= df.at[22871,'description_Thalia']\n",
    "df.loc[49398, 'language_Thalia']= 'ln'\n",
    "df.loc[49398, 'language']= 'ln'\n",
    "df.loc[49398, 'description']= df.at[49398,'description_Thalia']\n",
    "df.loc[56547, 'language_Thalia']= 'ln'\n",
    "df.loc[56547, 'language']= 'ln'\n",
    "df.loc[56547, 'description']= df.at[56547,'description_Thalia']\n",
    "df.loc[548, 'language_Thalia']= 'he'\n",
    "df.loc[548, 'language']= 'he'\n",
    "df.loc[548, 'description']= df.at[548,'description_Thalia'] \n",
    "df.loc[40531, 'language_Thalia']= 'he'\n",
    "df.loc[40531, 'language']= 'he'\n",
    "df.loc[40531, 'description']= df.at[40531,'description_Thalia'] \n",
    "df.loc[49634, 'language_Thalia']= 'lv'\n",
    "df.loc[49634, 'language']= 'lv'\n",
    "df.loc[49634, 'description']= df.at[49634,'description_Thalia'] \n",
    "df.loc[56441, 'language_Thalia']= 'lv'\n",
    "df.loc[56441, 'language']= 'lv'\n",
    "df.loc[56441, 'description']= df.at[56441,'description_Thalia']\n",
    "df.loc[62088, 'language_Thalia']= 'sl'\n",
    "df.loc[62088, 'language']= 'sl'\n",
    "df.loc[62088, 'description']= df.at[62088,'description_Thalia'] \n",
    "df.loc[71955, 'language_Thalia']= 'sr'\n",
    "df.loc[71955, 'language']= 'sr'\n",
    "df.loc[71955, 'description']= df.at[62088,'description_Thalia'] "
   ]
  },
  {
   "cell_type": "code",
   "execution_count": 696,
   "metadata": {},
   "outputs": [
    {
     "name": "stdout",
     "output_type": "stream",
     "text": [
      "7\n"
     ]
    }
   ],
   "source": [
    "j=0\n",
    "for i in range (len(df.index)):\n",
    "    lang = df.at[i,'language']\n",
    "    lang_talia = df.at[i,'language_Thalia']\n",
    "    description_talia = df.at[i,'description_Thalia']\n",
    "    lang_dec1 = df.at[i,'LangDetect']\n",
    "    lang_dec2 = df.at[i,'LangDetect2']\n",
    "    if ((lang_talia != lang) and (lang_talia == 'en')):\n",
    "        df.loc[i, 'language'] = lang_talia\n",
    "        df.loc[i, 'description'] = description_talia\n",
    "        j = j + 1\n",
    "print(j) "
   ]
  },
  {
   "cell_type": "code",
   "execution_count": 702,
   "metadata": {},
   "outputs": [],
   "source": [
    "df.drop(['LangDetect','language_Thalia', 'description_Thalia','LangDetect2'], axis= 1, inplace=True)"
   ]
  },
  {
   "cell_type": "code",
   "execution_count": 707,
   "metadata": {},
   "outputs": [],
   "source": [
    "df.at[11346,'language'] = 'el'\n",
    "df.at[11346,'publisher'] = 'Tektime'\n",
    "df.at[62613,'language'] = 'sk'\n",
    "df.at[62613,'publisher'] = 'Tektime'\n",
    "df.at[62614,'language'] = 'ja'\n",
    "df.at[62614,'publisher'] = 'Tektime'\n",
    "df.at[62616,'language'] = 'ro'\n",
    "df.at[62616,'publisher'] = 'Tektime'\n",
    "df.at[62622,'publisher'] = 'Tektime'\n",
    "df.at[62628,'language'] = 'ro'\n",
    "df.at[62624,'publisher'] = 'Tektime'\n",
    "df.at[62626,'publisher'] = 'Tektime'\n",
    "df.at[62627,'publisher'] = 'Tektime'\n",
    "df.at[62628,'publisher'] = 'Tektime'\n",
    "df.at[27869,'publisher'] = 'KerlakEnterprises'\n",
    "df.at[14859,'publisher'] = 'Double-Edged Publishing, Inc.'\n",
    "df.at[70195,'publisher'] = 'Independently published'\n",
    "df.at[42562,'language'] = 'zh'"
   ]
  },
  {
   "cell_type": "code",
   "execution_count": 708,
   "metadata": {},
   "outputs": [],
   "source": [
    "new_df = df.reindex(columns=['itemID', 'title', 'author', 'publisher', 'main topic', 'subtopics', 'language', 'description', 'interest_age', 'number_pages', 'release_date', 'ISBN_13'])"
   ]
  },
  {
   "cell_type": "code",
   "execution_count": 709,
   "metadata": {},
   "outputs": [
    {
     "data": {
      "text/html": [
       "<div>\n",
       "<style scoped>\n",
       "    .dataframe tbody tr th:only-of-type {\n",
       "        vertical-align: middle;\n",
       "    }\n",
       "\n",
       "    .dataframe tbody tr th {\n",
       "        vertical-align: top;\n",
       "    }\n",
       "\n",
       "    .dataframe thead th {\n",
       "        text-align: right;\n",
       "    }\n",
       "</style>\n",
       "<table border=\"1\" class=\"dataframe\">\n",
       "  <thead>\n",
       "    <tr style=\"text-align: right;\">\n",
       "      <th></th>\n",
       "      <th>itemID</th>\n",
       "      <th>title</th>\n",
       "      <th>author</th>\n",
       "      <th>publisher</th>\n",
       "      <th>main topic</th>\n",
       "      <th>subtopics</th>\n",
       "      <th>language</th>\n",
       "      <th>description</th>\n",
       "      <th>interest_age</th>\n",
       "      <th>number_pages</th>\n",
       "      <th>release_date</th>\n",
       "      <th>ISBN_13</th>\n",
       "    </tr>\n",
       "  </thead>\n",
       "  <tbody>\n",
       "    <tr>\n",
       "      <th>0</th>\n",
       "      <td>21310</td>\n",
       "      <td>Princess Poppy: The Big Mix Up</td>\n",
       "      <td>Janey Louise Jones</td>\n",
       "      <td>Penguin Random House Children's UK</td>\n",
       "      <td>YFB</td>\n",
       "      <td>[5AH]</td>\n",
       "      <td>en</td>\n",
       "      <td>A brand-new story in the best-selling Princess...</td>\n",
       "      <td>1</td>\n",
       "      <td>{''}</td>\n",
       "      <td>{Timestamp('2010-11-30 00:00:00')}</td>\n",
       "      <td>[{'type': 'ISBN_13', 'identifier': '9781409048...</td>\n",
       "    </tr>\n",
       "    <tr>\n",
       "      <th>1</th>\n",
       "      <td>73018</td>\n",
       "      <td>Einfach zeichnen! Step by Step</td>\n",
       "      <td>Wiebke Krabbe</td>\n",
       "      <td>Schwager und Steinlein</td>\n",
       "      <td>AGZ</td>\n",
       "      <td>[5AJ,AGZ,WFA,YBG,YBL,YNA,YPA]</td>\n",
       "      <td>de</td>\n",
       "      <td></td>\n",
       "      <td>1</td>\n",
       "      <td>{224}</td>\n",
       "      <td>{Timestamp('2020-12-02 00:00:00')}</td>\n",
       "      <td>[{'type': 'ISBN_10', 'identifier': '3849927601...</td>\n",
       "    </tr>\n",
       "    <tr>\n",
       "      <th>2</th>\n",
       "      <td>19194</td>\n",
       "      <td>Red Queen 1</td>\n",
       "      <td>Victoria Aveyard</td>\n",
       "      <td>Orion Publishing Group</td>\n",
       "      <td>YFH</td>\n",
       "      <td>[5AP,FBA]</td>\n",
       "      <td>en</td>\n",
       "      <td>The first novel in the #1 bestselling RED QUEE...</td>\n",
       "      <td>1.5</td>\n",
       "      <td>{''}</td>\n",
       "      <td>{Timestamp('2016-02-03 00:00:00')}</td>\n",
       "      <td>[{'type': 'ISBN_13', 'identifier': '9781409150...</td>\n",
       "    </tr>\n",
       "    <tr>\n",
       "      <th>3</th>\n",
       "      <td>40250</td>\n",
       "      <td>Meine Kindergarten-Freunde (Pirat)</td>\n",
       "      <td>NaN</td>\n",
       "      <td>Ars Edition GmbH</td>\n",
       "      <td>YB</td>\n",
       "      <td>[5AC,5AD,YBG,YBL,YF]</td>\n",
       "      <td>de</td>\n",
       "      <td>Ein wunderschönes Freundebuch zur Erinnerung a...</td>\n",
       "      <td>0</td>\n",
       "      <td>{64}</td>\n",
       "      <td>{Timestamp('2015-06-04 00:00:00')}</td>\n",
       "      <td>[{'type': 'ISBN_13', 'identifier': '9798691079...</td>\n",
       "    </tr>\n",
       "    <tr>\n",
       "      <th>4</th>\n",
       "      <td>46107</td>\n",
       "      <td>Mein großes Schablonen-Buch - Wilde Tiere</td>\n",
       "      <td>Elizabeth Golding</td>\n",
       "      <td>Edition Michael Fischer</td>\n",
       "      <td>WFTM</td>\n",
       "      <td>[WD,WFTM,YBG,YBL,YBLD,YBLN1]</td>\n",
       "      <td>de</td>\n",
       "      <td>die welt der wilden tieremalen lernen war noch...</td>\n",
       "      <td>0</td>\n",
       "      <td>{16}</td>\n",
       "      <td>{Timestamp('2019-02-19 00:00:00')}</td>\n",
       "      <td>[{'type': 'ISBN_13', 'identifier': '9798691079...</td>\n",
       "    </tr>\n",
       "  </tbody>\n",
       "</table>\n",
       "</div>"
      ],
      "text/plain": [
       "   itemID                                      title              author  \\\n",
       "0   21310             Princess Poppy: The Big Mix Up  Janey Louise Jones   \n",
       "1   73018             Einfach zeichnen! Step by Step       Wiebke Krabbe   \n",
       "2   19194                                Red Queen 1    Victoria Aveyard   \n",
       "3   40250         Meine Kindergarten-Freunde (Pirat)                 NaN   \n",
       "4   46107  Mein großes Schablonen-Buch - Wilde Tiere   Elizabeth Golding   \n",
       "\n",
       "                            publisher main topic  \\\n",
       "0  Penguin Random House Children's UK        YFB   \n",
       "1              Schwager und Steinlein        AGZ   \n",
       "2              Orion Publishing Group        YFH   \n",
       "3                    Ars Edition GmbH         YB   \n",
       "4             Edition Michael Fischer       WFTM   \n",
       "\n",
       "                       subtopics language  \\\n",
       "0                          [5AH]       en   \n",
       "1  [5AJ,AGZ,WFA,YBG,YBL,YNA,YPA]       de   \n",
       "2                      [5AP,FBA]       en   \n",
       "3           [5AC,5AD,YBG,YBL,YF]       de   \n",
       "4   [WD,WFTM,YBG,YBL,YBLD,YBLN1]       de   \n",
       "\n",
       "                                         description interest_age  \\\n",
       "0  A brand-new story in the best-selling Princess...            1   \n",
       "1                                                               1   \n",
       "2  The first novel in the #1 bestselling RED QUEE...          1.5   \n",
       "3  Ein wunderschönes Freundebuch zur Erinnerung a...            0   \n",
       "4  die welt der wilden tieremalen lernen war noch...            0   \n",
       "\n",
       "  number_pages                        release_date  \\\n",
       "0         {''}  {Timestamp('2010-11-30 00:00:00')}   \n",
       "1        {224}  {Timestamp('2020-12-02 00:00:00')}   \n",
       "2         {''}  {Timestamp('2016-02-03 00:00:00')}   \n",
       "3         {64}  {Timestamp('2015-06-04 00:00:00')}   \n",
       "4         {16}  {Timestamp('2019-02-19 00:00:00')}   \n",
       "\n",
       "                                             ISBN_13  \n",
       "0  [{'type': 'ISBN_13', 'identifier': '9781409048...  \n",
       "1  [{'type': 'ISBN_10', 'identifier': '3849927601...  \n",
       "2  [{'type': 'ISBN_13', 'identifier': '9781409150...  \n",
       "3  [{'type': 'ISBN_13', 'identifier': '9798691079...  \n",
       "4  [{'type': 'ISBN_13', 'identifier': '9798691079...  "
      ]
     },
     "execution_count": 709,
     "metadata": {},
     "output_type": "execute_result"
    }
   ],
   "source": [
    "new_df.head()"
   ]
  },
  {
   "cell_type": "code",
   "execution_count": 710,
   "metadata": {},
   "outputs": [],
   "source": [
    "new_df.to_csv('Thalia_googlebooks_added.csv')"
   ]
  },
  {
   "cell_type": "code",
   "execution_count": 711,
   "metadata": {},
   "outputs": [
    {
     "data": {
      "text/plain": [
       "4281"
      ]
     },
     "execution_count": 711,
     "metadata": {},
     "output_type": "execute_result"
    }
   ],
   "source": [
    "df['description'].isna().sum()"
   ]
  },
  {
   "cell_type": "code",
   "execution_count": null,
   "metadata": {},
   "outputs": [],
   "source": []
  }
 ],
 "metadata": {
  "kernelspec": {
   "display_name": "Python 3",
   "language": "python",
   "name": "python3"
  },
  "language_info": {
   "codemirror_mode": {
    "name": "ipython",
    "version": 3
   },
   "file_extension": ".py",
   "mimetype": "text/x-python",
   "name": "python",
   "nbconvert_exporter": "python",
   "pygments_lexer": "ipython3",
   "version": "3.8.5"
  }
 },
 "nbformat": 4,
 "nbformat_minor": 4
}
