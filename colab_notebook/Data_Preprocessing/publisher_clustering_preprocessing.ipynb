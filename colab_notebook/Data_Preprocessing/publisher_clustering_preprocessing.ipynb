{
 "cells": [
  {
   "cell_type": "code",
   "execution_count": 1,
   "metadata": {},
   "outputs": [
    {
     "name": "stdout",
     "output_type": "stream",
     "text": [
      "Requirement already satisfied: googletrans in c:\\users\\asus\\anaconda3\\lib\\site-packages (3.1.0a0)\n",
      "Requirement already satisfied: httpx==0.13.3 in c:\\users\\asus\\anaconda3\\lib\\site-packages (from googletrans) (0.13.3)\n",
      "Requirement already satisfied: idna==2.* in c:\\users\\asus\\anaconda3\\lib\\site-packages (from httpx==0.13.3->googletrans) (2.10)\n",
      "Requirement already satisfied: httpcore==0.9.* in c:\\users\\asus\\anaconda3\\lib\\site-packages (from httpx==0.13.3->googletrans) (0.9.1)\n",
      "Requirement already satisfied: rfc3986<2,>=1.3 in c:\\users\\asus\\anaconda3\\lib\\site-packages (from httpx==0.13.3->googletrans) (1.5.0)\n",
      "Requirement already satisfied: certifi in c:\\users\\asus\\anaconda3\\lib\\site-packages (from httpx==0.13.3->googletrans) (2020.6.20)\n",
      "Requirement already satisfied: hstspreload in c:\\users\\asus\\anaconda3\\lib\\site-packages (from httpx==0.13.3->googletrans) (2020.12.22)\n",
      "Requirement already satisfied: chardet==3.* in c:\\users\\asus\\anaconda3\\lib\\site-packages (from httpx==0.13.3->googletrans) (3.0.4)\n",
      "Requirement already satisfied: sniffio in c:\\users\\asus\\anaconda3\\lib\\site-packages (from httpx==0.13.3->googletrans) (1.2.0)\n",
      "Requirement already satisfied: h11<0.10,>=0.8 in c:\\users\\asus\\anaconda3\\lib\\site-packages (from httpcore==0.9.*->httpx==0.13.3->googletrans) (0.9.0)\n",
      "Requirement already satisfied: h2==3.* in c:\\users\\asus\\anaconda3\\lib\\site-packages (from httpcore==0.9.*->httpx==0.13.3->googletrans) (3.2.0)\n",
      "Requirement already satisfied: hyperframe<6,>=5.2.0 in c:\\users\\asus\\anaconda3\\lib\\site-packages (from h2==3.*->httpcore==0.9.*->httpx==0.13.3->googletrans) (5.2.0)\n",
      "Requirement already satisfied: hpack<4,>=3.0 in c:\\users\\asus\\anaconda3\\lib\\site-packages (from h2==3.*->httpcore==0.9.*->httpx==0.13.3->googletrans) (3.0.0)\n"
     ]
    }
   ],
   "source": [
    "!pip install googletrans\n",
    "import pandas as pd\n",
    "from googletrans import Translator\n",
    "from langdetect import DetectorFactory, detect\n",
    "from langdetect.lang_detect_exception import LangDetectException"
   ]
  },
  {
   "cell_type": "code",
   "execution_count": 2,
   "metadata": {},
   "outputs": [],
   "source": [
    "#Import dataset\n",
    "books_data = pd.read_csv('D:/Uni Mannheim/Semester 2/Data Mining 2/DMC/Thalia_googlebooks_added.csv', sep=',')\n",
    "df = books_data.copy()\n",
    "google_df = pd.read_csv('D:/Uni Mannheim/Semester 2/Data Mining 2/DMC/google_books.csv', sep=',')\n",
    "header_items_lookup_df = pd.read_csv('D:/Uni Mannheim/Semester 2/Data Mining 2/DMC/header_items_lookup_df.csv', sep=',')\n",
    "header_items_df = pd.read_csv('D:/Uni Mannheim/Semester 2/Data Mining 2/DMC/header_items_df.csv',\n",
    "                 lineterminator='\\n')\n",
    "header_items_df.drop(['Unnamed: 0','title', 'author', 'publisher','recommended_age', 'mt_st_'], axis= 1, inplace=True)\n",
    "header_items_lookup_df.drop(['Unnamed: 0'], axis= 1, inplace=True)\n",
    "df.drop(['Unnamed: 0','title','author','publisher','main topic','subtopics', 'interest_age', 'number_pages', 'release_date', 'ISBN_13'], axis= 1, inplace=True)"
   ]
  },
  {
   "cell_type": "code",
   "execution_count": 3,
   "metadata": {},
   "outputs": [
    {
     "data": {
      "text/html": [
       "<div>\n",
       "<style scoped>\n",
       "    .dataframe tbody tr th:only-of-type {\n",
       "        vertical-align: middle;\n",
       "    }\n",
       "\n",
       "    .dataframe tbody tr th {\n",
       "        vertical-align: top;\n",
       "    }\n",
       "\n",
       "    .dataframe thead th {\n",
       "        text-align: right;\n",
       "    }\n",
       "</style>\n",
       "<table border=\"1\" class=\"dataframe\">\n",
       "  <thead>\n",
       "    <tr style=\"text-align: right;\">\n",
       "      <th></th>\n",
       "      <th>itemID</th>\n",
       "      <th>language</th>\n",
       "      <th>description</th>\n",
       "    </tr>\n",
       "  </thead>\n",
       "  <tbody>\n",
       "    <tr>\n",
       "      <th>0</th>\n",
       "      <td>21310</td>\n",
       "      <td>en</td>\n",
       "      <td>A brand-new story in the best-selling Princess...</td>\n",
       "    </tr>\n",
       "  </tbody>\n",
       "</table>\n",
       "</div>"
      ],
      "text/plain": [
       "   itemID language                                        description\n",
       "0   21310       en  A brand-new story in the best-selling Princess..."
      ]
     },
     "execution_count": 3,
     "metadata": {},
     "output_type": "execute_result"
    }
   ],
   "source": [
    "df.head(1)"
   ]
  },
  {
   "cell_type": "code",
   "execution_count": 4,
   "metadata": {},
   "outputs": [
    {
     "data": {
      "text/html": [
       "<div>\n",
       "<style scoped>\n",
       "    .dataframe tbody tr th:only-of-type {\n",
       "        vertical-align: middle;\n",
       "    }\n",
       "\n",
       "    .dataframe tbody tr th {\n",
       "        vertical-align: top;\n",
       "    }\n",
       "\n",
       "    .dataframe thead th {\n",
       "        text-align: right;\n",
       "    }\n",
       "</style>\n",
       "<table border=\"1\" class=\"dataframe\">\n",
       "  <thead>\n",
       "    <tr style=\"text-align: right;\">\n",
       "      <th></th>\n",
       "      <th>language_google</th>\n",
       "      <th>description_google</th>\n",
       "    </tr>\n",
       "  </thead>\n",
       "  <tbody>\n",
       "    <tr>\n",
       "      <th>0</th>\n",
       "      <td>['en']</td>\n",
       "      <td>[\"A brand-new story in the best-selling Prince...</td>\n",
       "    </tr>\n",
       "  </tbody>\n",
       "</table>\n",
       "</div>"
      ],
      "text/plain": [
       "  language_google                                 description_google\n",
       "0          ['en']  [\"A brand-new story in the best-selling Prince..."
      ]
     },
     "execution_count": 4,
     "metadata": {},
     "output_type": "execute_result"
    }
   ],
   "source": [
    "google_df.drop(['Unnamed: 0', 'title' , 'authors', 'pageCount'], axis= 1, inplace=True)\n",
    "google_df = google_df.rename(columns={'language':'language_google'})\n",
    "google_df = google_df.rename(columns={'description':'description_google'})\n",
    "google_df.head(1)"
   ]
  },
  {
   "cell_type": "code",
   "execution_count": 5,
   "metadata": {},
   "outputs": [
    {
     "data": {
      "text/html": [
       "<div>\n",
       "<style scoped>\n",
       "    .dataframe tbody tr th:only-of-type {\n",
       "        vertical-align: middle;\n",
       "    }\n",
       "\n",
       "    .dataframe tbody tr th {\n",
       "        vertical-align: top;\n",
       "    }\n",
       "\n",
       "    .dataframe thead th {\n",
       "        text-align: right;\n",
       "    }\n",
       "</style>\n",
       "<table border=\"1\" class=\"dataframe\">\n",
       "  <thead>\n",
       "    <tr style=\"text-align: right;\">\n",
       "      <th></th>\n",
       "      <th>headerID</th>\n",
       "      <th>language</th>\n",
       "      <th>number_pages</th>\n",
       "      <th>release_date</th>\n",
       "      <th>description_</th>\n",
       "    </tr>\n",
       "  </thead>\n",
       "  <tbody>\n",
       "    <tr>\n",
       "      <th>0</th>\n",
       "      <td>0</td>\n",
       "      <td>{'Englisch'}</td>\n",
       "      <td>{304}</td>\n",
       "      <td>{Timestamp('2018-04-17 00:00:00')}</td>\n",
       "      <td>at the beginning was the wordand from the word...</td>\n",
       "    </tr>\n",
       "  </tbody>\n",
       "</table>\n",
       "</div>"
      ],
      "text/plain": [
       "   headerID      language number_pages                        release_date  \\\n",
       "0         0  {'Englisch'}        {304}  {Timestamp('2018-04-17 00:00:00')}   \n",
       "\n",
       "                                        description_  \n",
       "0  at the beginning was the wordand from the word...  "
      ]
     },
     "execution_count": 5,
     "metadata": {},
     "output_type": "execute_result"
    }
   ],
   "source": [
    "header_items_df.head(1)"
   ]
  },
  {
   "cell_type": "code",
   "execution_count": 6,
   "metadata": {},
   "outputs": [
    {
     "data": {
      "text/html": [
       "<div>\n",
       "<style scoped>\n",
       "    .dataframe tbody tr th:only-of-type {\n",
       "        vertical-align: middle;\n",
       "    }\n",
       "\n",
       "    .dataframe tbody tr th {\n",
       "        vertical-align: top;\n",
       "    }\n",
       "\n",
       "    .dataframe thead th {\n",
       "        text-align: right;\n",
       "    }\n",
       "</style>\n",
       "<table border=\"1\" class=\"dataframe\">\n",
       "  <thead>\n",
       "    <tr style=\"text-align: right;\">\n",
       "      <th></th>\n",
       "      <th>itemID</th>\n",
       "      <th>headerID</th>\n",
       "    </tr>\n",
       "  </thead>\n",
       "  <tbody>\n",
       "    <tr>\n",
       "      <th>0</th>\n",
       "      <td>21310</td>\n",
       "      <td>45065</td>\n",
       "    </tr>\n",
       "  </tbody>\n",
       "</table>\n",
       "</div>"
      ],
      "text/plain": [
       "   itemID  headerID\n",
       "0   21310     45065"
      ]
     },
     "execution_count": 6,
     "metadata": {},
     "output_type": "execute_result"
    }
   ],
   "source": [
    "header_items_lookup_df.head(1)"
   ]
  },
  {
   "cell_type": "code",
   "execution_count": 7,
   "metadata": {},
   "outputs": [],
   "source": [
    "header_temp = header_items_df.merge(header_items_lookup_df, how='left', on='headerID')\n",
    "header_temp = header_temp.rename(columns={'language':'language_Thalia'})\n",
    "header_temp = header_temp.rename(columns={'description_':'description_Thalia'})\n",
    "header_temp.drop(['headerID' , 'number_pages', 'release_date' , 'description_Thalia'], axis= 1, inplace=True)"
   ]
  },
  {
   "cell_type": "code",
   "execution_count": 8,
   "metadata": {},
   "outputs": [
    {
     "data": {
      "text/html": [
       "<div>\n",
       "<style scoped>\n",
       "    .dataframe tbody tr th:only-of-type {\n",
       "        vertical-align: middle;\n",
       "    }\n",
       "\n",
       "    .dataframe tbody tr th {\n",
       "        vertical-align: top;\n",
       "    }\n",
       "\n",
       "    .dataframe thead th {\n",
       "        text-align: right;\n",
       "    }\n",
       "</style>\n",
       "<table border=\"1\" class=\"dataframe\">\n",
       "  <thead>\n",
       "    <tr style=\"text-align: right;\">\n",
       "      <th></th>\n",
       "      <th>language_Thalia</th>\n",
       "      <th>itemID</th>\n",
       "    </tr>\n",
       "  </thead>\n",
       "  <tbody>\n",
       "    <tr>\n",
       "      <th>0</th>\n",
       "      <td>{'Englisch'}</td>\n",
       "      <td>5649</td>\n",
       "    </tr>\n",
       "  </tbody>\n",
       "</table>\n",
       "</div>"
      ],
      "text/plain": [
       "  language_Thalia  itemID\n",
       "0    {'Englisch'}    5649"
      ]
     },
     "execution_count": 8,
     "metadata": {},
     "output_type": "execute_result"
    }
   ],
   "source": [
    "header_temp.head(1)"
   ]
  },
  {
   "cell_type": "code",
   "execution_count": 9,
   "metadata": {},
   "outputs": [],
   "source": [
    "df = df.merge(header_temp, how='left', on='itemID')"
   ]
  },
  {
   "cell_type": "code",
   "execution_count": 10,
   "metadata": {},
   "outputs": [
    {
     "data": {
      "text/html": [
       "<div>\n",
       "<style scoped>\n",
       "    .dataframe tbody tr th:only-of-type {\n",
       "        vertical-align: middle;\n",
       "    }\n",
       "\n",
       "    .dataframe tbody tr th {\n",
       "        vertical-align: top;\n",
       "    }\n",
       "\n",
       "    .dataframe thead th {\n",
       "        text-align: right;\n",
       "    }\n",
       "</style>\n",
       "<table border=\"1\" class=\"dataframe\">\n",
       "  <thead>\n",
       "    <tr style=\"text-align: right;\">\n",
       "      <th></th>\n",
       "      <th>itemID</th>\n",
       "      <th>language</th>\n",
       "      <th>description</th>\n",
       "      <th>language_Thalia</th>\n",
       "    </tr>\n",
       "  </thead>\n",
       "  <tbody>\n",
       "    <tr>\n",
       "      <th>0</th>\n",
       "      <td>21310</td>\n",
       "      <td>en</td>\n",
       "      <td>A brand-new story in the best-selling Princess...</td>\n",
       "      <td>{'Englisch'}</td>\n",
       "    </tr>\n",
       "  </tbody>\n",
       "</table>\n",
       "</div>"
      ],
      "text/plain": [
       "   itemID language                                        description  \\\n",
       "0   21310       en  A brand-new story in the best-selling Princess...   \n",
       "\n",
       "  language_Thalia  \n",
       "0    {'Englisch'}  "
      ]
     },
     "execution_count": 10,
     "metadata": {},
     "output_type": "execute_result"
    }
   ],
   "source": [
    "df.head(1)"
   ]
  },
  {
   "cell_type": "code",
   "execution_count": 11,
   "metadata": {},
   "outputs": [],
   "source": [
    "df = df.join(google_df)"
   ]
  },
  {
   "cell_type": "code",
   "execution_count": 12,
   "metadata": {},
   "outputs": [
    {
     "data": {
      "text/html": [
       "<div>\n",
       "<style scoped>\n",
       "    .dataframe tbody tr th:only-of-type {\n",
       "        vertical-align: middle;\n",
       "    }\n",
       "\n",
       "    .dataframe tbody tr th {\n",
       "        vertical-align: top;\n",
       "    }\n",
       "\n",
       "    .dataframe thead th {\n",
       "        text-align: right;\n",
       "    }\n",
       "</style>\n",
       "<table border=\"1\" class=\"dataframe\">\n",
       "  <thead>\n",
       "    <tr style=\"text-align: right;\">\n",
       "      <th></th>\n",
       "      <th>itemID</th>\n",
       "      <th>language</th>\n",
       "      <th>description</th>\n",
       "      <th>language_Thalia</th>\n",
       "      <th>language_google</th>\n",
       "      <th>description_google</th>\n",
       "    </tr>\n",
       "  </thead>\n",
       "  <tbody>\n",
       "    <tr>\n",
       "      <th>0</th>\n",
       "      <td>21310</td>\n",
       "      <td>en</td>\n",
       "      <td>A brand-new story in the best-selling Princess...</td>\n",
       "      <td>{'Englisch'}</td>\n",
       "      <td>['en']</td>\n",
       "      <td>[\"A brand-new story in the best-selling Prince...</td>\n",
       "    </tr>\n",
       "  </tbody>\n",
       "</table>\n",
       "</div>"
      ],
      "text/plain": [
       "   itemID language                                        description  \\\n",
       "0   21310       en  A brand-new story in the best-selling Princess...   \n",
       "\n",
       "  language_Thalia language_google  \\\n",
       "0    {'Englisch'}          ['en']   \n",
       "\n",
       "                                  description_google  \n",
       "0  [\"A brand-new story in the best-selling Prince...  "
      ]
     },
     "execution_count": 12,
     "metadata": {},
     "output_type": "execute_result"
    }
   ],
   "source": [
    "df.head(1)"
   ]
  },
  {
   "cell_type": "code",
   "execution_count": 13,
   "metadata": {},
   "outputs": [
    {
     "name": "stdout",
     "output_type": "stream",
     "text": [
      "5428\n",
      "2384\n"
     ]
    }
   ],
   "source": [
    "j = 0\n",
    "k = 0\n",
    "for i in range (len(df)):\n",
    "    current_lang_google =str(df.at[i,'language_google'])\n",
    "    current_lang_thalia =str(df.at[i,'language_Thalia'])\n",
    "    if (',' in current_lang_google):\n",
    "        df.loc[i, 'multiple_in_google'] = 'Yes'\n",
    "        j = j + 1\n",
    "    if (',' in current_lang_thalia):\n",
    "        df.loc[i, 'multiple_in_thalia'] = 'Yes'\n",
    "        k = k + 1\n",
    "print(j)\n",
    "print(k)"
   ]
  },
  {
   "cell_type": "code",
   "execution_count": 14,
   "metadata": {},
   "outputs": [],
   "source": [
    "df_g_y = df[df['multiple_in_google'] == 'Yes']\n",
    "df_g_n = df[df['multiple_in_google'] != 'Yes']\n",
    "df_g_n_t_y = df_g_n[df_g_n['multiple_in_thalia'] == 'Yes']\n",
    "df_g_n_t_n = df_g_n[df_g_n['multiple_in_thalia'] != 'Yes']\n",
    "df_g_y_t_y = df_g_y[df_g_y['multiple_in_thalia'] == 'Yes']\n",
    "df_g_y_t_n = df_g_y[df_g_y['multiple_in_thalia'] != 'Yes']"
   ]
  },
  {
   "cell_type": "code",
   "execution_count": 15,
   "metadata": {},
   "outputs": [
    {
     "data": {
      "text/html": [
       "<div>\n",
       "<style scoped>\n",
       "    .dataframe tbody tr th:only-of-type {\n",
       "        vertical-align: middle;\n",
       "    }\n",
       "\n",
       "    .dataframe tbody tr th {\n",
       "        vertical-align: top;\n",
       "    }\n",
       "\n",
       "    .dataframe thead th {\n",
       "        text-align: right;\n",
       "    }\n",
       "</style>\n",
       "<table border=\"1\" class=\"dataframe\">\n",
       "  <thead>\n",
       "    <tr style=\"text-align: right;\">\n",
       "      <th></th>\n",
       "      <th>itemID</th>\n",
       "      <th>language</th>\n",
       "      <th>description</th>\n",
       "      <th>language_Thalia</th>\n",
       "      <th>language_google</th>\n",
       "      <th>description_google</th>\n",
       "      <th>multiple_in_google</th>\n",
       "      <th>multiple_in_thalia</th>\n",
       "    </tr>\n",
       "  </thead>\n",
       "  <tbody>\n",
       "    <tr>\n",
       "      <th>135</th>\n",
       "      <td>19898</td>\n",
       "      <td>de</td>\n",
       "      <td>jack ist 12 jahre alt und lebt auf einer farm ...</td>\n",
       "      <td>{'Deutsch, Englisch'}</td>\n",
       "      <td>['en']</td>\n",
       "      <td>['Rescued from the outrageous neglect of his a...</td>\n",
       "      <td>NaN</td>\n",
       "      <td>Yes</td>\n",
       "    </tr>\n",
       "  </tbody>\n",
       "</table>\n",
       "</div>"
      ],
      "text/plain": [
       "     itemID language                                        description  \\\n",
       "135   19898       de  jack ist 12 jahre alt und lebt auf einer farm ...   \n",
       "\n",
       "           language_Thalia language_google  \\\n",
       "135  {'Deutsch, Englisch'}          ['en']   \n",
       "\n",
       "                                    description_google multiple_in_google  \\\n",
       "135  ['Rescued from the outrageous neglect of his a...                NaN   \n",
       "\n",
       "    multiple_in_thalia  \n",
       "135                Yes  "
      ]
     },
     "execution_count": 15,
     "metadata": {},
     "output_type": "execute_result"
    }
   ],
   "source": [
    "df_g_n_t_y.head(1)"
   ]
  },
  {
   "cell_type": "code",
   "execution_count": 16,
   "metadata": {},
   "outputs": [
    {
     "name": "stdout",
     "output_type": "stream",
     "text": [
      "['en']\n",
      "['de']\n",
      "['es']\n",
      "['it']\n",
      "['fr']\n",
      "['pl']\n",
      "['sv']\n",
      "['nl']\n",
      "['pt']\n",
      "['pt-BR']\n",
      "['hi']\n",
      "['lv']\n",
      "['hu']\n",
      "['zh-CN']\n",
      "['fi']\n",
      "['af']\n"
     ]
    }
   ],
   "source": [
    "print (df_g_n_t_y.at[135,'language_google'])\n",
    "current_lang1 = df_g_n_t_y.at[135,'language_google']\n",
    "df_temp = df_g_n_t_y[df_g_n_t_y['language_google'] == current_lang1]\n",
    "df_temp = df_temp[df_temp['language'] != 'en']\n",
    "all_indexes = df_temp.index.values\n",
    "for index in all_indexes:\n",
    "    df.loc[index, 'language'] = 'en'\n",
    "    \n",
    "\n",
    "print (df_g_n_t_y.at[200,'language_google'])\n",
    "current_lang1 = df_g_n_t_y.at[200,'language_google']\n",
    "df_temp = df_g_n_t_y[df_g_n_t_y['language_google'] == current_lang1]\n",
    "df_temp = df_temp[df_temp['language'] != 'de']\n",
    "all_indexes = df_temp.index.values\n",
    "for index in all_indexes:\n",
    "    df.loc[index, 'language'] = 'de'\n",
    "    \n",
    "    \n",
    "print (df_g_n_t_y.at[12309,'language_google'])\n",
    "current_lang1 = df_g_n_t_y.at[12309,'language_google']\n",
    "df_temp = df_g_n_t_y[df_g_n_t_y['language_google'] == current_lang1]\n",
    "df_temp = df_temp[df_temp['language'] != 'es']\n",
    "all_indexes = df_temp.index.values\n",
    "for index in all_indexes:\n",
    "    df.loc[index, 'language'] = 'es'\n",
    "    \n",
    "    \n",
    "print (df_g_n_t_y.at[1550,'language_google'])\n",
    "current_lang1 = df_g_n_t_y.at[1550,'language_google']\n",
    "df_temp = df_g_n_t_y[df_g_n_t_y['language_google'] == current_lang1]\n",
    "df_temp = df_temp[df_temp['language'] != 'it']\n",
    "all_indexes = df_temp.index.values\n",
    "for index in all_indexes:\n",
    "    df.loc[index, 'language'] = 'it'\n",
    "    \n",
    "    \n",
    "print (df_g_n_t_y.at[15321,'language_google'])\n",
    "current_lang1 = df_g_n_t_y.at[15321,'language_google']\n",
    "df_temp = df_g_n_t_y[df_g_n_t_y['language_google'] == current_lang1]\n",
    "df_temp = df_temp[df_temp['language'] != 'fr']\n",
    "all_indexes = df_temp.index.values\n",
    "for index in all_indexes:\n",
    "    df.loc[index, 'language'] = 'fr'\n",
    "    \n",
    "print (df_g_n_t_y.at[24160,'language_google'])\n",
    "current_lang1 = df_g_n_t_y.at[24160,'language_google']\n",
    "df_temp = df_g_n_t_y[df_g_n_t_y['language_google'] == current_lang1]\n",
    "df_temp = df_temp[df_temp['language'] != 'pl']\n",
    "all_indexes = df_temp.index.values\n",
    "for index in all_indexes:\n",
    "    df.loc[index, 'language'] = 'pl'\n",
    "    \n",
    "print (df_g_n_t_y.at[47653,'language_google'])\n",
    "current_lang1 = df_g_n_t_y.at[47653,'language_google']\n",
    "df_temp = df_g_n_t_y[df_g_n_t_y['language_google'] == current_lang1]\n",
    "df_temp = df_temp[df_temp['language'] != 'sv']\n",
    "all_indexes = df_temp.index.values\n",
    "for index in all_indexes:\n",
    "    df.loc[index, 'language'] = 'sv'\n",
    "    \n",
    "print (df_g_n_t_y.at[36084,'language_google'])\n",
    "current_lang1 = df_g_n_t_y.at[36084,'language_google']\n",
    "df_temp = df_g_n_t_y[df_g_n_t_y['language_google'] == current_lang1]\n",
    "df_temp = df_temp[df_temp['language'] != 'nl']\n",
    "all_indexes = df_temp.index.values\n",
    "for index in all_indexes:\n",
    "    df.loc[index, 'language'] = 'nl'\n",
    "    \n",
    "print (df_g_n_t_y.at[53154,'language_google'])\n",
    "current_lang1 = df_g_n_t_y.at[53154,'language_google']\n",
    "df_temp = df_g_n_t_y[df_g_n_t_y['language_google'] == current_lang1]\n",
    "df_temp = df_temp[df_temp['language'] != 'pt']\n",
    "all_indexes = df_temp.index.values\n",
    "for index in all_indexes:\n",
    "    df.loc[index, 'language'] = 'pt'\n",
    "    \n",
    "print (df_g_n_t_y.at[30979,'language_google'])\n",
    "current_lang1 = df_g_n_t_y.at[30979,'language_google']\n",
    "df_temp = df_g_n_t_y[df_g_n_t_y['language_google'] == current_lang1]\n",
    "df_temp = df_temp[df_temp['language'] != 'pt']\n",
    "all_indexes = df_temp.index.values\n",
    "for index in all_indexes:\n",
    "    df.loc[index, 'language'] = 'pt'\n",
    "    \n",
    "print (df_g_n_t_y.at[29744,'language_google'])\n",
    "current_lang1 = df_g_n_t_y.at[29744,'language_google']\n",
    "df_temp = df_g_n_t_y[df_g_n_t_y['language_google'] == current_lang1]\n",
    "df_temp = df_temp[df_temp['language'] != 'hi']\n",
    "all_indexes = df_temp.index.values\n",
    "for index in all_indexes:\n",
    "    df.loc[index, 'language'] = 'hi'\n",
    "\n",
    "print (df_g_n_t_y.at[52004,'language_google'])\n",
    "current_lang1 = df_g_n_t_y.at[52004,'language_google']\n",
    "df_temp = df_g_n_t_y[df_g_n_t_y['language_google'] == current_lang1]\n",
    "df_temp = df_temp[df_temp['language'] != 'iv']\n",
    "all_indexes = df_temp.index.values\n",
    "for index in all_indexes:\n",
    "    df.loc[index, 'language'] = 'iv'\n",
    "\n",
    "print (df_g_n_t_y.at[52145,'language_google'])\n",
    "current_lang1 = df_g_n_t_y.at[52145,'language_google']\n",
    "df_temp = df_g_n_t_y[df_g_n_t_y['language_google'] == current_lang1]\n",
    "df_temp = df_temp[df_temp['language'] != 'hu']\n",
    "all_indexes = df_temp.index.values\n",
    "for index in all_indexes:\n",
    "    df.loc[index, 'language'] = 'hu'\n",
    "    \n",
    "\n",
    "print (df_g_n_t_y.at[51446,'language_google'])\n",
    "current_lang1 = df_g_n_t_y.at[51446,'language_google']\n",
    "df_temp = df_g_n_t_y[df_g_n_t_y['language_google'] == current_lang1]\n",
    "df_temp = df_temp[df_temp['language'] != 'zh']\n",
    "all_indexes = df_temp.index.values\n",
    "for index in all_indexes:\n",
    "    df.loc[index, 'language'] = 'zh'\n",
    "    \n",
    "\n",
    "print (df_g_n_t_y.at[57894,'language_google'])\n",
    "current_lang1 = df_g_n_t_y.at[57894,'language_google']\n",
    "df_temp = df_g_n_t_y[df_g_n_t_y['language_google'] == current_lang1]\n",
    "df_temp = df_temp[df_temp['language'] != 'fi']\n",
    "all_indexes = df_temp.index.values\n",
    "for index in all_indexes:\n",
    "    df.loc[index, 'language'] = 'fi'\n",
    "    \n",
    "print (df_g_n_t_y.at[61389,'language_google'])\n",
    "current_lang1 = df_g_n_t_y.at[61389,'language_google']\n",
    "df_temp = df_g_n_t_y[df_g_n_t_y['language_google'] == current_lang1]\n",
    "df_temp = df_temp[df_temp['language'] != 'af']\n",
    "all_indexes = df_temp.index.values\n",
    "for index in all_indexes:\n",
    "    df.loc[index, 'language'] = 'af'"
   ]
  },
  {
   "cell_type": "code",
   "execution_count": 17,
   "metadata": {},
   "outputs": [],
   "source": [
    "df_g_y = df[df['multiple_in_google'] == 'Yes']\n",
    "df_g_n = df[df['multiple_in_google'] != 'Yes']\n",
    "df_g_n_t_y = df_g_n[df_g_n['multiple_in_thalia'] == 'Yes']\n",
    "df_g_n_t_n = df_g_n[df_g_n['multiple_in_thalia'] != 'Yes']\n",
    "df_g_y_t_y = df_g_y[df_g_y['multiple_in_thalia'] == 'Yes']\n",
    "df_g_y_t_n = df_g_y[df_g_y['multiple_in_thalia'] != 'Yes']"
   ]
  },
  {
   "cell_type": "code",
   "execution_count": 18,
   "metadata": {},
   "outputs": [
    {
     "name": "stdout",
     "output_type": "stream",
     "text": [
      "   language language_google  itemID\n",
      "0        en          ['en']    1439\n",
      "1        de          ['de']     434\n",
      "2        es          ['es']      70\n",
      "3        it          ['it']      24\n",
      "4        fr          ['fr']      12\n",
      "5        sv          ['sv']       6\n",
      "6        pt          ['pt']       6\n",
      "7        nl          ['nl']       3\n",
      "8        pt       ['pt-BR']       2\n",
      "9        zh       ['zh-CN']       2\n",
      "10       pl          ['pl']       1\n",
      "11       hi          ['hi']       1\n",
      "12       iv          ['lv']       1\n",
      "13       hu          ['hu']       1\n",
      "14       fi          ['fi']       1\n",
      "15       af          ['af']       1\n"
     ]
    }
   ],
   "source": [
    "lang_type = df_g_n_t_y.groupby(['language' , 'language_google'],sort = False).agg({'itemID': 'count'}).reset_index()\n",
    "lang_type.sort_values(by=['itemID'], ascending=False, inplace=True, ignore_index= True)\n",
    "print(lang_type)"
   ]
  },
  {
   "cell_type": "code",
   "execution_count": 19,
   "metadata": {},
   "outputs": [
    {
     "data": {
      "text/html": [
       "<div>\n",
       "<style scoped>\n",
       "    .dataframe tbody tr th:only-of-type {\n",
       "        vertical-align: middle;\n",
       "    }\n",
       "\n",
       "    .dataframe tbody tr th {\n",
       "        vertical-align: top;\n",
       "    }\n",
       "\n",
       "    .dataframe thead th {\n",
       "        text-align: right;\n",
       "    }\n",
       "</style>\n",
       "<table border=\"1\" class=\"dataframe\">\n",
       "  <thead>\n",
       "    <tr style=\"text-align: right;\">\n",
       "      <th></th>\n",
       "      <th>itemID</th>\n",
       "      <th>language</th>\n",
       "      <th>description</th>\n",
       "      <th>language_Thalia</th>\n",
       "      <th>language_google</th>\n",
       "      <th>description_google</th>\n",
       "      <th>multiple_in_google</th>\n",
       "      <th>multiple_in_thalia</th>\n",
       "    </tr>\n",
       "  </thead>\n",
       "  <tbody>\n",
       "    <tr>\n",
       "      <th>2</th>\n",
       "      <td>19194</td>\n",
       "      <td>en</td>\n",
       "      <td>The first novel in the #1 bestselling RED QUEE...</td>\n",
       "      <td>{'Englisch'}</td>\n",
       "      <td>['en', 'da', 'id']</td>\n",
       "      <td>[\"The first novel in the #1 bestselling RED QU...</td>\n",
       "      <td>Yes</td>\n",
       "      <td>NaN</td>\n",
       "    </tr>\n",
       "  </tbody>\n",
       "</table>\n",
       "</div>"
      ],
      "text/plain": [
       "   itemID language                                        description  \\\n",
       "2   19194       en  The first novel in the #1 bestselling RED QUEE...   \n",
       "\n",
       "  language_Thalia     language_google  \\\n",
       "2    {'Englisch'}  ['en', 'da', 'id']   \n",
       "\n",
       "                                  description_google multiple_in_google  \\\n",
       "2  [\"The first novel in the #1 bestselling RED QU...                Yes   \n",
       "\n",
       "  multiple_in_thalia  \n",
       "2                NaN  "
      ]
     },
     "execution_count": 19,
     "metadata": {},
     "output_type": "execute_result"
    }
   ],
   "source": [
    "df_g_y_t_n.head(1)"
   ]
  },
  {
   "cell_type": "code",
   "execution_count": 20,
   "metadata": {},
   "outputs": [
    {
     "name": "stdout",
     "output_type": "stream",
     "text": [
      "{'Englisch'}\n",
      "{'Spanisch'}\n",
      "{'Italienisch'}\n",
      "{'Deutsch (Untertitel: Deutsch)'}\n"
     ]
    }
   ],
   "source": [
    "print (df_g_y_t_n.at[2,'language_Thalia'])\n",
    "current_lang1 = df_g_y_t_n.at[2,'language_Thalia']\n",
    "df_temp = df_g_y_t_n[df_g_y_t_n['language_Thalia'] == current_lang1]\n",
    "df_temp = df_temp[df_temp['language_Thalia'] != 'en']\n",
    "all_indexes = df_temp.index.values\n",
    "for index in all_indexes:\n",
    "    df.loc[index, 'language'] = 'en'\n",
    "    \n",
    "print (df_g_y_t_n.at[658,'language_Thalia'])\n",
    "current_lang1 = df_g_y_t_n.at[658,'language_Thalia']\n",
    "df_temp = df_g_y_t_n[df_g_y_t_n['language_Thalia'] == current_lang1]\n",
    "df_temp = df_temp[df_temp['language_Thalia'] != 'es']\n",
    "all_indexes = df_temp.index.values\n",
    "for index in all_indexes:\n",
    "    df.loc[index, 'language'] = 'es'\n",
    "    \n",
    "print (df_g_y_t_n.at[8682,'language_Thalia'])\n",
    "current_lang1 = df_g_y_t_n.at[8682,'language_Thalia']\n",
    "df_temp = df_g_y_t_n[df_g_y_t_n['language_Thalia'] == current_lang1]\n",
    "df_temp = df_temp[df_temp['language_Thalia'] != 'it']\n",
    "all_indexes = df_temp.index.values\n",
    "for index in all_indexes:\n",
    "    df.loc[index, 'language'] = 'it'\n",
    "    \n",
    "print (df_g_y_t_n.at[13952,'language_Thalia'])\n",
    "current_lang1 = df_g_y_t_n.at[13952,'language_Thalia']\n",
    "df_temp = df_g_y_t_n[df_g_y_t_n['language_Thalia'] == current_lang1]\n",
    "df_temp = df_temp[df_temp['language_Thalia'] != 'de']\n",
    "all_indexes = df_temp.index.values\n",
    "for index in all_indexes:\n",
    "    df.loc[index, 'language'] = 'de'    \n"
   ]
  },
  {
   "cell_type": "code",
   "execution_count": 21,
   "metadata": {},
   "outputs": [],
   "source": [
    "df_g_y = df[df['multiple_in_google'] == 'Yes']\n",
    "df_g_n = df[df['multiple_in_google'] != 'Yes']\n",
    "df_g_n_t_y = df_g_n[df_g_n['multiple_in_thalia'] == 'Yes']\n",
    "df_g_n_t_n = df_g_n[df_g_n['multiple_in_thalia'] != 'Yes']\n",
    "df_g_y_t_y = df_g_y[df_g_y['multiple_in_thalia'] == 'Yes']\n",
    "df_g_y_t_n = df_g_y[df_g_y['multiple_in_thalia'] != 'Yes']"
   ]
  },
  {
   "cell_type": "code",
   "execution_count": 22,
   "metadata": {},
   "outputs": [
    {
     "name": "stdout",
     "output_type": "stream",
     "text": [
      "   language                    language_Thalia  itemID\n",
      "0        de                        {'Deutsch'}    2465\n",
      "1        en                       {'Englisch'}    2358\n",
      "2        es                       {'Spanisch'}     158\n",
      "3        en                               {''}      78\n",
      "4        it                    {'Italienisch'}      50\n",
      "5        de                               {''}      44\n",
      "6        fr                    {'Französisch'}      41\n",
      "7        pt                  {'Portugiesisch'}      19\n",
      "8        ru                       {'Russisch'}       8\n",
      "9        sv                     {'Schwedisch'}       7\n",
      "10       hi                          {'Hindi'}       7\n",
      "11       de  {'Deutsch (Untertitel: Deutsch)'}       7\n",
      "12       nl                 {'Niederländisch'}       6\n",
      "13       hu                      {'Ungarisch'}       4\n",
      "14       ca                    {'Katalanisch'}       3\n",
      "15       id                               {''}       3\n",
      "16       sv                               {''}       3\n",
      "17       pt                               {''}       2\n",
      "18       zh                     {'Chinesisch'}       2\n",
      "19       hr                      {'Kroatisch'}       2\n",
      "20       da                        {'Dänisch'}       2\n",
      "21       pl                       {'Polnisch'}       2\n",
      "22       es                               {''}       2\n",
      "23       no                     {'Norwegisch'}       2\n",
      "24       fr                               {''}       1\n",
      "25       fi                       {'Finnisch'}       1\n",
      "26       ce                    {'Tschechisch'}       1\n",
      "27       no                               {''}       1\n",
      "28       so                               {''}       1\n",
      "29       tr                       {'Türkisch'}       1\n",
      "30       ro                      {'Rumänisch'}       1\n",
      "31       nl                               {''}       1\n",
      "32       et                       {'Estnisch'}       1\n"
     ]
    }
   ],
   "source": [
    "lang_type = df_g_y_t_n.groupby(['language' , 'language_Thalia'],sort = False).agg({'itemID': 'count'}).reset_index()\n",
    "lang_type.sort_values(by=['itemID'], ascending=False, inplace=True, ignore_index= True)\n",
    "print(lang_type)"
   ]
  },
  {
   "cell_type": "code",
   "execution_count": 23,
   "metadata": {},
   "outputs": [
    {
     "data": {
      "text/html": [
       "<div>\n",
       "<style scoped>\n",
       "    .dataframe tbody tr th:only-of-type {\n",
       "        vertical-align: middle;\n",
       "    }\n",
       "\n",
       "    .dataframe tbody tr th {\n",
       "        vertical-align: top;\n",
       "    }\n",
       "\n",
       "    .dataframe thead th {\n",
       "        text-align: right;\n",
       "    }\n",
       "</style>\n",
       "<table border=\"1\" class=\"dataframe\">\n",
       "  <thead>\n",
       "    <tr style=\"text-align: right;\">\n",
       "      <th></th>\n",
       "      <th>itemID</th>\n",
       "      <th>language</th>\n",
       "      <th>description</th>\n",
       "      <th>language_Thalia</th>\n",
       "      <th>language_google</th>\n",
       "      <th>description_google</th>\n",
       "      <th>multiple_in_google</th>\n",
       "      <th>multiple_in_thalia</th>\n",
       "    </tr>\n",
       "  </thead>\n",
       "  <tbody>\n",
       "    <tr>\n",
       "      <th>765</th>\n",
       "      <td>52634</td>\n",
       "      <td>de</td>\n",
       "      <td>bewundere die bewohner des korallenriffs tauch...</td>\n",
       "      <td>{'Deutsch, Englisch'}</td>\n",
       "      <td>['de', 'en']</td>\n",
       "      <td>['Die aufregenden Abenteuer des Hobbits Bilbo ...</td>\n",
       "      <td>Yes</td>\n",
       "      <td>Yes</td>\n",
       "    </tr>\n",
       "  </tbody>\n",
       "</table>\n",
       "</div>"
      ],
      "text/plain": [
       "     itemID language                                        description  \\\n",
       "765   52634       de  bewundere die bewohner des korallenriffs tauch...   \n",
       "\n",
       "           language_Thalia language_google  \\\n",
       "765  {'Deutsch, Englisch'}    ['de', 'en']   \n",
       "\n",
       "                                    description_google multiple_in_google  \\\n",
       "765  ['Die aufregenden Abenteuer des Hobbits Bilbo ...                Yes   \n",
       "\n",
       "    multiple_in_thalia  \n",
       "765                Yes  "
      ]
     },
     "execution_count": 23,
     "metadata": {},
     "output_type": "execute_result"
    }
   ],
   "source": [
    "df_g_y_t_y.head(1)"
   ]
  },
  {
   "cell_type": "code",
   "execution_count": 24,
   "metadata": {},
   "outputs": [],
   "source": [
    "df.loc[2645, 'language'] = 'de'\n",
    "df.loc[8142, 'language'] = 'de'\n",
    "df.loc[31039, 'language'] = 'de'\n",
    "df.loc[49751, 'language'] = 'de'\n",
    "df.loc[69823, 'language'] = 'de'\n",
    "\n",
    "\n",
    "df.loc[32439, 'language'] = 'es'\n",
    "df.loc[51129, 'language'] = 'fr'\n",
    "\n",
    "df.loc[3732, 'language'] = 'en'\n",
    "df.loc[4865, 'language'] = 'en'\n",
    "df.loc[7668, 'language'] = 'en'\n",
    "df.loc[8918, 'language'] = 'en'\n",
    "df.loc[11612, 'language'] = 'en'\n",
    "df.loc[30959, 'language'] = 'en'\n",
    "df.loc[31062, 'language'] = 'en'\n",
    "df.loc[35943, 'language'] = 'en'\n",
    "df.loc[37469, 'language'] = 'en'\n",
    "df.loc[39795, 'language'] = 'en'\n",
    "df.loc[42222, 'language'] = 'en'\n",
    "df.loc[43194, 'language'] = 'en'\n",
    "df.loc[44608, 'language'] = 'en'\n",
    "df.loc[45667, 'language'] = 'en'\n",
    "df.loc[46118, 'language'] = 'en'\n",
    "df.loc[56772, 'language'] = 'en'\n",
    "df.loc[59856, 'language'] = 'en'\n",
    "df.loc[65277, 'language'] = 'en'"
   ]
  },
  {
   "cell_type": "code",
   "execution_count": 25,
   "metadata": {},
   "outputs": [
    {
     "data": {
      "text/html": [
       "<div>\n",
       "<style scoped>\n",
       "    .dataframe tbody tr th:only-of-type {\n",
       "        vertical-align: middle;\n",
       "    }\n",
       "\n",
       "    .dataframe tbody tr th {\n",
       "        vertical-align: top;\n",
       "    }\n",
       "\n",
       "    .dataframe thead th {\n",
       "        text-align: right;\n",
       "    }\n",
       "</style>\n",
       "<table border=\"1\" class=\"dataframe\">\n",
       "  <thead>\n",
       "    <tr style=\"text-align: right;\">\n",
       "      <th></th>\n",
       "      <th>itemID</th>\n",
       "      <th>language</th>\n",
       "      <th>description</th>\n",
       "      <th>description_google</th>\n",
       "    </tr>\n",
       "  </thead>\n",
       "  <tbody>\n",
       "    <tr>\n",
       "      <th>0</th>\n",
       "      <td>21310</td>\n",
       "      <td>en</td>\n",
       "      <td>A brand-new story in the best-selling Princess...</td>\n",
       "      <td>[\"A brand-new story in the best-selling Prince...</td>\n",
       "    </tr>\n",
       "  </tbody>\n",
       "</table>\n",
       "</div>"
      ],
      "text/plain": [
       "   itemID language                                        description  \\\n",
       "0   21310       en  A brand-new story in the best-selling Princess...   \n",
       "\n",
       "                                  description_google  \n",
       "0  [\"A brand-new story in the best-selling Prince...  "
      ]
     },
     "execution_count": 25,
     "metadata": {},
     "output_type": "execute_result"
    }
   ],
   "source": [
    "df.drop(['language_Thalia','language_google', 'multiple_in_google','multiple_in_thalia',], axis= 1, inplace=True)\n",
    "df.head(1)"
   ]
  },
  {
   "cell_type": "code",
   "execution_count": 26,
   "metadata": {},
   "outputs": [
    {
     "data": {
      "text/html": [
       "<div>\n",
       "<style scoped>\n",
       "    .dataframe tbody tr th:only-of-type {\n",
       "        vertical-align: middle;\n",
       "    }\n",
       "\n",
       "    .dataframe tbody tr th {\n",
       "        vertical-align: top;\n",
       "    }\n",
       "\n",
       "    .dataframe thead th {\n",
       "        text-align: right;\n",
       "    }\n",
       "</style>\n",
       "<table border=\"1\" class=\"dataframe\">\n",
       "  <thead>\n",
       "    <tr style=\"text-align: right;\">\n",
       "      <th></th>\n",
       "      <th>itemID</th>\n",
       "      <th>title</th>\n",
       "      <th>author</th>\n",
       "      <th>publisher</th>\n",
       "      <th>main topic</th>\n",
       "      <th>subtopics</th>\n",
       "      <th>interest_age</th>\n",
       "      <th>number_pages</th>\n",
       "      <th>release_date</th>\n",
       "      <th>ISBN_13</th>\n",
       "    </tr>\n",
       "  </thead>\n",
       "  <tbody>\n",
       "    <tr>\n",
       "      <th>0</th>\n",
       "      <td>21310</td>\n",
       "      <td>Princess Poppy: The Big Mix Up</td>\n",
       "      <td>Janey Louise Jones</td>\n",
       "      <td>Penguin Random House Children's UK</td>\n",
       "      <td>YFB</td>\n",
       "      <td>[5AH]</td>\n",
       "      <td>1</td>\n",
       "      <td>{''}</td>\n",
       "      <td>{Timestamp('2010-11-30 00:00:00')}</td>\n",
       "      <td>[{'type': 'ISBN_13', 'identifier': '9781409048...</td>\n",
       "    </tr>\n",
       "  </tbody>\n",
       "</table>\n",
       "</div>"
      ],
      "text/plain": [
       "   itemID                           title              author  \\\n",
       "0   21310  Princess Poppy: The Big Mix Up  Janey Louise Jones   \n",
       "\n",
       "                            publisher main topic subtopics interest_age  \\\n",
       "0  Penguin Random House Children's UK        YFB     [5AH]            1   \n",
       "\n",
       "  number_pages                        release_date  \\\n",
       "0         {''}  {Timestamp('2010-11-30 00:00:00')}   \n",
       "\n",
       "                                             ISBN_13  \n",
       "0  [{'type': 'ISBN_13', 'identifier': '9781409048...  "
      ]
     },
     "execution_count": 26,
     "metadata": {},
     "output_type": "execute_result"
    }
   ],
   "source": [
    "books_data.drop(['Unnamed: 0','language', 'description'], axis= 1, inplace=True)\n",
    "books_data.head(1)"
   ]
  },
  {
   "cell_type": "code",
   "execution_count": 27,
   "metadata": {},
   "outputs": [],
   "source": [
    "books_data = books_data.merge(df, how='left', on='itemID')"
   ]
  },
  {
   "cell_type": "code",
   "execution_count": 28,
   "metadata": {},
   "outputs": [
    {
     "data": {
      "text/html": [
       "<div>\n",
       "<style scoped>\n",
       "    .dataframe tbody tr th:only-of-type {\n",
       "        vertical-align: middle;\n",
       "    }\n",
       "\n",
       "    .dataframe tbody tr th {\n",
       "        vertical-align: top;\n",
       "    }\n",
       "\n",
       "    .dataframe thead th {\n",
       "        text-align: right;\n",
       "    }\n",
       "</style>\n",
       "<table border=\"1\" class=\"dataframe\">\n",
       "  <thead>\n",
       "    <tr style=\"text-align: right;\">\n",
       "      <th></th>\n",
       "      <th>itemID</th>\n",
       "      <th>title</th>\n",
       "      <th>author</th>\n",
       "      <th>publisher</th>\n",
       "      <th>main topic</th>\n",
       "      <th>subtopics</th>\n",
       "      <th>interest_age</th>\n",
       "      <th>number_pages</th>\n",
       "      <th>release_date</th>\n",
       "      <th>ISBN_13</th>\n",
       "      <th>language</th>\n",
       "      <th>description</th>\n",
       "      <th>description_google</th>\n",
       "    </tr>\n",
       "  </thead>\n",
       "  <tbody>\n",
       "    <tr>\n",
       "      <th>0</th>\n",
       "      <td>21310</td>\n",
       "      <td>Princess Poppy: The Big Mix Up</td>\n",
       "      <td>Janey Louise Jones</td>\n",
       "      <td>Penguin Random House Children's UK</td>\n",
       "      <td>YFB</td>\n",
       "      <td>[5AH]</td>\n",
       "      <td>1</td>\n",
       "      <td>{''}</td>\n",
       "      <td>{Timestamp('2010-11-30 00:00:00')}</td>\n",
       "      <td>[{'type': 'ISBN_13', 'identifier': '9781409048...</td>\n",
       "      <td>en</td>\n",
       "      <td>A brand-new story in the best-selling Princess...</td>\n",
       "      <td>[\"A brand-new story in the best-selling Prince...</td>\n",
       "    </tr>\n",
       "  </tbody>\n",
       "</table>\n",
       "</div>"
      ],
      "text/plain": [
       "   itemID                           title              author  \\\n",
       "0   21310  Princess Poppy: The Big Mix Up  Janey Louise Jones   \n",
       "\n",
       "                            publisher main topic subtopics interest_age  \\\n",
       "0  Penguin Random House Children's UK        YFB     [5AH]            1   \n",
       "\n",
       "  number_pages                        release_date  \\\n",
       "0         {''}  {Timestamp('2010-11-30 00:00:00')}   \n",
       "\n",
       "                                             ISBN_13 language  \\\n",
       "0  [{'type': 'ISBN_13', 'identifier': '9781409048...       en   \n",
       "\n",
       "                                         description  \\\n",
       "0  A brand-new story in the best-selling Princess...   \n",
       "\n",
       "                                  description_google  \n",
       "0  [\"A brand-new story in the best-selling Prince...  "
      ]
     },
     "execution_count": 28,
     "metadata": {},
     "output_type": "execute_result"
    }
   ],
   "source": [
    "books_data.head(1)"
   ]
  },
  {
   "cell_type": "code",
   "execution_count": 29,
   "metadata": {},
   "outputs": [],
   "source": [
    "books_data.to_csv('final_improv_ver1.csv')"
   ]
  },
  {
   "cell_type": "code",
   "execution_count": 30,
   "metadata": {},
   "outputs": [],
   "source": [
    "df = books_data.copy()"
   ]
  },
  {
   "cell_type": "code",
   "execution_count": 31,
   "metadata": {},
   "outputs": [],
   "source": [
    "df_en = df[df['language'] == 'en']\n",
    "df_temp = df[df['language'] != 'en']\n",
    "df_de = df_temp[df_temp['language'] == 'de']\n",
    "df_temp = df_temp[df_temp['language'] != 'de']\n",
    "df_es = df_temp[df_temp['language'] == 'es']\n",
    "df_temp = df_temp[df_temp['language'] != 'es']\n",
    "df_it = df_temp[df_temp['language'] == 'it']\n",
    "df_temp = df_temp[df_temp['language'] != 'it']\n",
    "df_fr = df_temp[df_temp['language'] == 'fr']\n",
    "df_temp = df_temp[df_temp['language'] != 'fr']\n",
    "df_pt = df_temp[df_temp['language'] == 'pt']\n",
    "df_temp = df_temp[df_temp['language'] != 'pt']\n",
    "df_sv = df_temp[df_temp['language'] == 'sv']\n",
    "df_temp = df_temp[df_temp['language'] != 'sv']\n",
    "df_nl = df_temp[df_temp['language'] == 'nl']\n",
    "df_temp = df_temp[df_temp['language'] != 'nl']\n",
    "df_ru = df_temp[df_temp['language'] == 'ru']\n",
    "df_temp = df_temp[df_temp['language'] != 'ru']\n",
    "df_hu = df_temp[df_temp['language'] == 'hu']\n",
    "df_temp = df_temp[df_temp['language'] != 'hu']\n",
    "df_fi = df_temp[df_temp['language'] == 'fi']\n",
    "df_temp = df_temp[df_temp['language'] != 'fi']\n",
    "df_hi = df_temp[df_temp['language'] == 'hi']\n",
    "df_rem = df_temp[df_temp['language'] != 'hi']"
   ]
  },
  {
   "cell_type": "code",
   "execution_count": 32,
   "metadata": {},
   "outputs": [],
   "source": [
    "df_en_nan = df_en[df_en['description'].isnull()]\n",
    "df_en_no_nan = df_en[df_en['description'].notnull()]"
   ]
  },
  {
   "cell_type": "code",
   "execution_count": 33,
   "metadata": {},
   "outputs": [
    {
     "name": "stderr",
     "output_type": "stream",
     "text": [
      "<ipython-input-33-635d4101ad54>:1: SettingWithCopyWarning: \n",
      "A value is trying to be set on a copy of a slice from a DataFrame.\n",
      "Try using .loc[row_indexer,col_indexer] = value instead\n",
      "\n",
      "See the caveats in the documentation: https://pandas.pydata.org/pandas-docs/stable/user_guide/indexing.html#returning-a-view-versus-a-copy\n",
      "  df_en_no_nan['LangDetect'] = ''\n",
      "<ipython-input-33-635d4101ad54>:2: SettingWithCopyWarning: \n",
      "A value is trying to be set on a copy of a slice from a DataFrame.\n",
      "Try using .loc[row_indexer,col_indexer] = value instead\n",
      "\n",
      "See the caveats in the documentation: https://pandas.pydata.org/pandas-docs/stable/user_guide/indexing.html#returning-a-view-versus-a-copy\n",
      "  df_en_no_nan['LangDetect2'] = ''\n"
     ]
    }
   ],
   "source": [
    "df_en_no_nan['LangDetect'] = ''\n",
    "df_en_no_nan['LangDetect2'] = ''\n",
    "DetectorFactory.seed = 0\n",
    "all_indexes = df_en_no_nan.index.values\n",
    "for index in all_indexes:\n",
    "    pre_description = str(df_en_no_nan.loc[index, 'description'])\n",
    "    try:\n",
    "        language = detect(pre_description)\n",
    "    except LangDetectException:\n",
    "        language = 'unknown'\n",
    "    df_en_no_nan.at[index,'LangDetect'] = language\n",
    "\n",
    "for index in all_indexes:\n",
    "    pre_description2 = str(df_en_no_nan.loc[index, 'description_google'])\n",
    "    try:\n",
    "        language = detect(pre_description2)\n",
    "    except LangDetectException:\n",
    "        language = 'unknown'\n",
    "    df_en_no_nan.at[index,'LangDetect2'] = language\n"
   ]
  },
  {
   "cell_type": "code",
   "execution_count": 42,
   "metadata": {},
   "outputs": [
    {
     "name": "stdout",
     "output_type": "stream",
     "text": [
      "880\n"
     ]
    }
   ],
   "source": [
    "j = 0 \n",
    "df_en_req = df_en_no_nan[df_en_no_nan['LangDetect'] != 'en']\n",
    "df_en_req = df_en_req[df_en_req['LangDetect'] != 'unknown']\n",
    "df_temp = df_en_req[df_en_req['LangDetect2'] == 'en']\n",
    "all_indexes = df_temp.index.values\n",
    "for index in all_indexes:\n",
    "    df.at[index,'description'] = df_temp.at[index,'description_google']\n",
    "    j = j + 1\n",
    "print(j)"
   ]
  },
  {
   "cell_type": "code",
   "execution_count": 46,
   "metadata": {},
   "outputs": [],
   "source": [
    "df_de_nan = df_de[df_de['description'].isnull()]\n",
    "df_de_no_nan = df_de[df_de['description'].notnull()]"
   ]
  },
  {
   "cell_type": "code",
   "execution_count": 47,
   "metadata": {},
   "outputs": [
    {
     "name": "stderr",
     "output_type": "stream",
     "text": [
      "<ipython-input-47-6ade738b5ad7>:1: SettingWithCopyWarning: \n",
      "A value is trying to be set on a copy of a slice from a DataFrame.\n",
      "Try using .loc[row_indexer,col_indexer] = value instead\n",
      "\n",
      "See the caveats in the documentation: https://pandas.pydata.org/pandas-docs/stable/user_guide/indexing.html#returning-a-view-versus-a-copy\n",
      "  df_de_no_nan['LangDetect'] = ''\n",
      "<ipython-input-47-6ade738b5ad7>:2: SettingWithCopyWarning: \n",
      "A value is trying to be set on a copy of a slice from a DataFrame.\n",
      "Try using .loc[row_indexer,col_indexer] = value instead\n",
      "\n",
      "See the caveats in the documentation: https://pandas.pydata.org/pandas-docs/stable/user_guide/indexing.html#returning-a-view-versus-a-copy\n",
      "  df_de_no_nan['LangDetect2'] = ''\n"
     ]
    }
   ],
   "source": [
    "df_de_no_nan['LangDetect'] = ''\n",
    "df_de_no_nan['LangDetect2'] = ''\n",
    "DetectorFactory.seed = 0\n",
    "all_indexes = df_de_no_nan.index.values\n",
    "for index in all_indexes:\n",
    "    pre_description = str(df_de_no_nan.loc[index, 'description'])\n",
    "    try:\n",
    "        language = detect(pre_description)\n",
    "    except LangDetectException:\n",
    "        language = 'unknown'\n",
    "    df_de_no_nan.at[index,'LangDetect'] = language\n",
    "\n",
    "for index in all_indexes:\n",
    "    pre_description2 = str(df_de_no_nan.loc[index, 'description_google'])\n",
    "    try:\n",
    "        language = detect(pre_description2)\n",
    "    except LangDetectException:\n",
    "        language = 'unknown'\n",
    "    df_de_no_nan.at[index,'LangDetect2'] = language\n"
   ]
  },
  {
   "cell_type": "code",
   "execution_count": 48,
   "metadata": {},
   "outputs": [
    {
     "name": "stdout",
     "output_type": "stream",
     "text": [
      "709\n"
     ]
    }
   ],
   "source": [
    "j = 0 \n",
    "df_de_req = df_de_no_nan[df_de_no_nan['LangDetect'] != 'de']\n",
    "df_de_req = df_de_req[df_de_req['LangDetect'] != 'unknown']\n",
    "df_temp = df_de_req[df_de_req['LangDetect2'] == 'de']\n",
    "all_indexes = df_temp.index.values\n",
    "for index in all_indexes:\n",
    "    df.at[index,'description'] = df_temp.at[index,'description_google']\n",
    "    j = j + 1\n",
    "print(j)"
   ]
  },
  {
   "cell_type": "code",
   "execution_count": 49,
   "metadata": {},
   "outputs": [],
   "source": [
    "df_es_nan = df_es[df_es['description'].isnull()]\n",
    "df_es_no_nan = df_es[df_es['description'].notnull()]"
   ]
  },
  {
   "cell_type": "code",
   "execution_count": 50,
   "metadata": {},
   "outputs": [
    {
     "name": "stderr",
     "output_type": "stream",
     "text": [
      "<ipython-input-50-20524eaf2714>:1: SettingWithCopyWarning: \n",
      "A value is trying to be set on a copy of a slice from a DataFrame.\n",
      "Try using .loc[row_indexer,col_indexer] = value instead\n",
      "\n",
      "See the caveats in the documentation: https://pandas.pydata.org/pandas-docs/stable/user_guide/indexing.html#returning-a-view-versus-a-copy\n",
      "  df_es_no_nan['LangDetect'] = ''\n",
      "<ipython-input-50-20524eaf2714>:2: SettingWithCopyWarning: \n",
      "A value is trying to be set on a copy of a slice from a DataFrame.\n",
      "Try using .loc[row_indexer,col_indexer] = value instead\n",
      "\n",
      "See the caveats in the documentation: https://pandas.pydata.org/pandas-docs/stable/user_guide/indexing.html#returning-a-view-versus-a-copy\n",
      "  df_es_no_nan['LangDetect2'] = ''\n"
     ]
    }
   ],
   "source": [
    "df_es_no_nan['LangDetect'] = ''\n",
    "df_es_no_nan['LangDetect2'] = ''\n",
    "DetectorFactory.seed = 0\n",
    "all_indexes = df_es_no_nan.index.values\n",
    "for index in all_indexes:\n",
    "    pre_description = str(df_es_no_nan.loc[index, 'description'])\n",
    "    try:\n",
    "        language = detect(pre_description)\n",
    "    except LangDetectException:\n",
    "        language = 'unknown'\n",
    "    df_es_no_nan.at[index,'LangDetect'] = language\n",
    "\n",
    "for index in all_indexes:\n",
    "    pre_description2 = str(df_es_no_nan.loc[index, 'description_google'])\n",
    "    try:\n",
    "        language = detect(pre_description2)\n",
    "    except LangDetectException:\n",
    "        language = 'unknown'\n",
    "    df_es_no_nan.at[index,'LangDetect2'] = language\n"
   ]
  },
  {
   "cell_type": "code",
   "execution_count": 51,
   "metadata": {},
   "outputs": [
    {
     "name": "stdout",
     "output_type": "stream",
     "text": [
      "73\n"
     ]
    }
   ],
   "source": [
    "j = 0 \n",
    "df_es_req = df_es_no_nan[df_es_no_nan['LangDetect'] != 'es']\n",
    "df_es_req = df_es_req[df_es_req['LangDetect'] != 'unknown']\n",
    "df_temp = df_es_req[df_es_req['LangDetect2'] == 'es']\n",
    "all_indexes = df_temp.index.values\n",
    "for index in all_indexes:\n",
    "    df.at[index,'description'] = df_temp.at[index,'description_google']\n",
    "    j = j + 1\n",
    "print(j)"
   ]
  },
  {
   "cell_type": "code",
   "execution_count": 52,
   "metadata": {},
   "outputs": [],
   "source": [
    "df_it_nan = df_it[df_it['description'].isnull()]\n",
    "df_it_no_nan = df_it[df_it['description'].notnull()]"
   ]
  },
  {
   "cell_type": "code",
   "execution_count": 53,
   "metadata": {},
   "outputs": [
    {
     "name": "stderr",
     "output_type": "stream",
     "text": [
      "<ipython-input-53-dfce78d50a93>:1: SettingWithCopyWarning: \n",
      "A value is trying to be set on a copy of a slice from a DataFrame.\n",
      "Try using .loc[row_indexer,col_indexer] = value instead\n",
      "\n",
      "See the caveats in the documentation: https://pandas.pydata.org/pandas-docs/stable/user_guide/indexing.html#returning-a-view-versus-a-copy\n",
      "  df_it_no_nan['LangDetect'] = ''\n",
      "<ipython-input-53-dfce78d50a93>:2: SettingWithCopyWarning: \n",
      "A value is trying to be set on a copy of a slice from a DataFrame.\n",
      "Try using .loc[row_indexer,col_indexer] = value instead\n",
      "\n",
      "See the caveats in the documentation: https://pandas.pydata.org/pandas-docs/stable/user_guide/indexing.html#returning-a-view-versus-a-copy\n",
      "  df_it_no_nan['LangDetect2'] = ''\n"
     ]
    }
   ],
   "source": [
    "df_it_no_nan['LangDetect'] = ''\n",
    "df_it_no_nan['LangDetect2'] = ''\n",
    "DetectorFactory.seed = 0\n",
    "all_indexes = df_it_no_nan.index.values\n",
    "for index in all_indexes:\n",
    "    pre_description = str(df_it_no_nan.loc[index, 'description'])\n",
    "    try:\n",
    "        language = detect(pre_description)\n",
    "    except LangDetectException:\n",
    "        language = 'unknown'\n",
    "    df_it_no_nan.at[index,'LangDetect'] = language\n",
    "\n",
    "for index in all_indexes:\n",
    "    pre_description2 = str(df_it_no_nan.loc[index, 'description_google'])\n",
    "    try:\n",
    "        language = detect(pre_description2)\n",
    "    except LangDetectException:\n",
    "        language = 'unknown'\n",
    "    df_it_no_nan.at[index,'LangDetect2'] = language"
   ]
  },
  {
   "cell_type": "code",
   "execution_count": 54,
   "metadata": {},
   "outputs": [
    {
     "name": "stdout",
     "output_type": "stream",
     "text": [
      "36\n"
     ]
    }
   ],
   "source": [
    "j = 0 \n",
    "df_it_req = df_it_no_nan[df_it_no_nan['LangDetect'] != 'it']\n",
    "df_it_req = df_it_req[df_it_req['LangDetect'] != 'unknown']\n",
    "df_temp = df_it_req[df_it_req['LangDetect2'] == 'it']\n",
    "all_indexes = df_temp.index.values\n",
    "for index in all_indexes:\n",
    "    df.at[index,'description'] = df_temp.at[index,'description_google']\n",
    "    j = j + 1\n",
    "print(j)"
   ]
  },
  {
   "cell_type": "code",
   "execution_count": 55,
   "metadata": {},
   "outputs": [],
   "source": [
    "df_fr_nan = df_fr[df_fr['description'].isnull()]\n",
    "df_fr_no_nan = df_fr[df_fr['description'].notnull()]"
   ]
  },
  {
   "cell_type": "code",
   "execution_count": 56,
   "metadata": {},
   "outputs": [
    {
     "name": "stderr",
     "output_type": "stream",
     "text": [
      "<ipython-input-56-e7b167eaa567>:1: SettingWithCopyWarning: \n",
      "A value is trying to be set on a copy of a slice from a DataFrame.\n",
      "Try using .loc[row_indexer,col_indexer] = value instead\n",
      "\n",
      "See the caveats in the documentation: https://pandas.pydata.org/pandas-docs/stable/user_guide/indexing.html#returning-a-view-versus-a-copy\n",
      "  df_fr_no_nan['LangDetect'] = ''\n",
      "<ipython-input-56-e7b167eaa567>:2: SettingWithCopyWarning: \n",
      "A value is trying to be set on a copy of a slice from a DataFrame.\n",
      "Try using .loc[row_indexer,col_indexer] = value instead\n",
      "\n",
      "See the caveats in the documentation: https://pandas.pydata.org/pandas-docs/stable/user_guide/indexing.html#returning-a-view-versus-a-copy\n",
      "  df_fr_no_nan['LangDetect2'] = ''\n"
     ]
    }
   ],
   "source": [
    "df_fr_no_nan['LangDetect'] = ''\n",
    "df_fr_no_nan['LangDetect2'] = ''\n",
    "DetectorFactory.seed = 0\n",
    "all_indexes = df_fr_no_nan.index.values\n",
    "for index in all_indexes:\n",
    "    pre_description = str(df_fr_no_nan.loc[index, 'description'])\n",
    "    try:\n",
    "        language = detect(pre_description)\n",
    "    except LangDetectException:\n",
    "        language = 'unknown'\n",
    "    df_fr_no_nan.at[index,'LangDetect'] = language\n",
    "\n",
    "for index in all_indexes:\n",
    "    pre_description2 = str(df_fr_no_nan.loc[index, 'description_google'])\n",
    "    try:\n",
    "        language = detect(pre_description2)\n",
    "    except LangDetectException:\n",
    "        language = 'unknown'\n",
    "    df_fr_no_nan.at[index,'LangDetect2'] = language"
   ]
  },
  {
   "cell_type": "code",
   "execution_count": 57,
   "metadata": {},
   "outputs": [
    {
     "name": "stdout",
     "output_type": "stream",
     "text": [
      "12\n"
     ]
    }
   ],
   "source": [
    "j = 0 \n",
    "df_fr_req = df_fr_no_nan[df_fr_no_nan['LangDetect'] != 'fr']\n",
    "df_fr_req = df_fr_req[df_fr_req['LangDetect'] != 'unknown']\n",
    "df_temp = df_fr_req[df_fr_req['LangDetect2'] == 'fr']\n",
    "all_indexes = df_temp.index.values\n",
    "for index in all_indexes:\n",
    "    df.at[index,'description'] = df_temp.at[index,'description_google']\n",
    "    j = j + 1\n",
    "print(j)"
   ]
  },
  {
   "cell_type": "code",
   "execution_count": 62,
   "metadata": {},
   "outputs": [],
   "source": [
    "df.drop(['description_google'], axis= 1, inplace=True)"
   ]
  },
  {
   "cell_type": "code",
   "execution_count": 63,
   "metadata": {},
   "outputs": [
    {
     "data": {
      "text/html": [
       "<div>\n",
       "<style scoped>\n",
       "    .dataframe tbody tr th:only-of-type {\n",
       "        vertical-align: middle;\n",
       "    }\n",
       "\n",
       "    .dataframe tbody tr th {\n",
       "        vertical-align: top;\n",
       "    }\n",
       "\n",
       "    .dataframe thead th {\n",
       "        text-align: right;\n",
       "    }\n",
       "</style>\n",
       "<table border=\"1\" class=\"dataframe\">\n",
       "  <thead>\n",
       "    <tr style=\"text-align: right;\">\n",
       "      <th></th>\n",
       "      <th>itemID</th>\n",
       "      <th>title</th>\n",
       "      <th>author</th>\n",
       "      <th>publisher</th>\n",
       "      <th>main topic</th>\n",
       "      <th>subtopics</th>\n",
       "      <th>interest_age</th>\n",
       "      <th>number_pages</th>\n",
       "      <th>release_date</th>\n",
       "      <th>ISBN_13</th>\n",
       "      <th>language</th>\n",
       "      <th>description</th>\n",
       "    </tr>\n",
       "  </thead>\n",
       "  <tbody>\n",
       "    <tr>\n",
       "      <th>0</th>\n",
       "      <td>21310</td>\n",
       "      <td>Princess Poppy: The Big Mix Up</td>\n",
       "      <td>Janey Louise Jones</td>\n",
       "      <td>Penguin Random House Children's UK</td>\n",
       "      <td>YFB</td>\n",
       "      <td>[5AH]</td>\n",
       "      <td>1</td>\n",
       "      <td>{''}</td>\n",
       "      <td>{Timestamp('2010-11-30 00:00:00')}</td>\n",
       "      <td>[{'type': 'ISBN_13', 'identifier': '9781409048...</td>\n",
       "      <td>en</td>\n",
       "      <td>A brand-new story in the best-selling Princess...</td>\n",
       "    </tr>\n",
       "  </tbody>\n",
       "</table>\n",
       "</div>"
      ],
      "text/plain": [
       "   itemID                           title              author  \\\n",
       "0   21310  Princess Poppy: The Big Mix Up  Janey Louise Jones   \n",
       "\n",
       "                            publisher main topic subtopics interest_age  \\\n",
       "0  Penguin Random House Children's UK        YFB     [5AH]            1   \n",
       "\n",
       "  number_pages                        release_date  \\\n",
       "0         {''}  {Timestamp('2010-11-30 00:00:00')}   \n",
       "\n",
       "                                             ISBN_13 language  \\\n",
       "0  [{'type': 'ISBN_13', 'identifier': '9781409048...       en   \n",
       "\n",
       "                                         description  \n",
       "0  A brand-new story in the best-selling Princess...  "
      ]
     },
     "execution_count": 63,
     "metadata": {},
     "output_type": "execute_result"
    }
   ],
   "source": [
    "df.head(1)"
   ]
  },
  {
   "cell_type": "code",
   "execution_count": 64,
   "metadata": {},
   "outputs": [],
   "source": [
    "df.to_csv('final_improv_ver2.csv')"
   ]
  },
  {
   "cell_type": "code",
   "execution_count": null,
   "metadata": {},
   "outputs": [],
   "source": []
  }
 ],
 "metadata": {
  "kernelspec": {
   "display_name": "Python 3",
   "language": "python",
   "name": "python3"
  },
  "language_info": {
   "codemirror_mode": {
    "name": "ipython",
    "version": 3
   },
   "file_extension": ".py",
   "mimetype": "text/x-python",
   "name": "python",
   "nbconvert_exporter": "python",
   "pygments_lexer": "ipython3",
   "version": "3.8.5"
  }
 },
 "nbformat": 4,
 "nbformat_minor": 4
}
