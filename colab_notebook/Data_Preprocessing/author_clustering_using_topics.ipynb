{
 "cells": [
  {
   "cell_type": "code",
   "execution_count": 1,
   "metadata": {},
   "outputs": [
    {
     "name": "stderr",
     "output_type": "stream",
     "text": [
      "[nltk_data] Downloading package stopwords to\n",
      "[nltk_data]     C:\\Users\\ASUS\\AppData\\Roaming\\nltk_data...\n",
      "[nltk_data]   Package stopwords is already up-to-date!\n"
     ]
    }
   ],
   "source": [
    "import pandas as pd\n",
    "import numpy as np\n",
    "import nltk\n",
    "nltk.download('stopwords')\n",
    "from nltk.corpus import stopwords\n",
    "from sklearn import preprocessing \n",
    "from sklearn import metrics\n",
    "from sklearn.cluster import KMeans\n",
    "from sklearn.metrics.pairwise import linear_kernel\n",
    "from sklearn.metrics.pairwise import cosine_similarity\n",
    "from sklearn.feature_extraction.text import CountVectorizer\n",
    "from sklearn.feature_extraction.text import TfidfVectorizer\n",
    "from sklearn.cluster import MiniBatchKMeans\n",
    "from sklearn.decomposition import PCA\n",
    "from sklearn.decomposition import TruncatedSVD\n",
    "from nltk.tokenize import RegexpTokenizer\n",
    "from scipy.spatial.distance import cdist\n",
    "import re\n",
    "import string\n",
    "import random\n",
    "import matplotlib.pyplot as plt\n",
    "%matplotlib inline"
   ]
  },
  {
   "cell_type": "code",
   "execution_count": 2,
   "metadata": {},
   "outputs": [],
   "source": [
    "# Function for removing NonAscii characters\n",
    "def _removeNonAscii(s):\n",
    "    return \"\".join(i for i in s if  ord(i)<128)\n",
    "\n",
    "# Function for converting into lower case\n",
    "def make_lower_case(text):\n",
    "    return text.lower()\n",
    "\n",
    "# Function for removing stop words\n",
    "def remove_stop_words(text, item_lang):\n",
    "    if item_lang in lang_in_nltk:\n",
    "        text = text.split()\n",
    "        stops = set(stopwords.words(item_lang)) #change to other language #\"english\"\n",
    "        text = [w for w in text if not w in stops]\n",
    "        text = \" \".join(text)\n",
    "    return text\n",
    "\n",
    "# Function for removing punctuation\n",
    "def remove_punctuation(text):\n",
    "    tokenizer = RegexpTokenizer(r'\\w+')\n",
    "    text = tokenizer.tokenize(text)\n",
    "    text = \" \".join(text)\n",
    "    return text\n",
    "\n",
    "# Function for removing the html tags\n",
    "def remove_html(text):\n",
    "    html_pattern = re.compile('<.*?>')\n",
    "    return html_pattern.sub(r'', text)"
   ]
  },
  {
   "cell_type": "code",
   "execution_count": 3,
   "metadata": {},
   "outputs": [],
   "source": [
    "#Import dataset\n",
    "books_data = pd.read_csv('D:/Uni Mannheim/Semester 2/Data Mining 2/DMC/publisher_cluster_added.csv', sep=',')\n",
    "df = books_data.copy()\n",
    "df.drop(['Unnamed: 0'], axis= 1, inplace=True)"
   ]
  },
  {
   "cell_type": "code",
   "execution_count": 4,
   "metadata": {},
   "outputs": [
    {
     "data": {
      "text/html": [
       "<div>\n",
       "<style scoped>\n",
       "    .dataframe tbody tr th:only-of-type {\n",
       "        vertical-align: middle;\n",
       "    }\n",
       "\n",
       "    .dataframe tbody tr th {\n",
       "        vertical-align: top;\n",
       "    }\n",
       "\n",
       "    .dataframe thead th {\n",
       "        text-align: right;\n",
       "    }\n",
       "</style>\n",
       "<table border=\"1\" class=\"dataframe\">\n",
       "  <thead>\n",
       "    <tr style=\"text-align: right;\">\n",
       "      <th></th>\n",
       "      <th>itemID</th>\n",
       "      <th>title</th>\n",
       "      <th>author</th>\n",
       "      <th>publisher</th>\n",
       "      <th>main topic</th>\n",
       "      <th>subtopics</th>\n",
       "      <th>interest_age</th>\n",
       "      <th>number_pages</th>\n",
       "      <th>release_date</th>\n",
       "      <th>ISBN_13</th>\n",
       "      <th>language</th>\n",
       "      <th>description</th>\n",
       "      <th>publisher_cluster</th>\n",
       "    </tr>\n",
       "  </thead>\n",
       "  <tbody>\n",
       "    <tr>\n",
       "      <th>0</th>\n",
       "      <td>21310</td>\n",
       "      <td>Princess Poppy: The Big Mix Up</td>\n",
       "      <td>Janey Louise Jones</td>\n",
       "      <td>Penguin Random House Children's UK</td>\n",
       "      <td>YFB</td>\n",
       "      <td>[5AH]</td>\n",
       "      <td>1</td>\n",
       "      <td>{''}</td>\n",
       "      <td>{Timestamp('2010-11-30 00:00:00')}</td>\n",
       "      <td>[{'type': 'ISBN_13', 'identifier': '9781409048...</td>\n",
       "      <td>en</td>\n",
       "      <td>A brand-new story in the best-selling Princess...</td>\n",
       "      <td>1</td>\n",
       "    </tr>\n",
       "  </tbody>\n",
       "</table>\n",
       "</div>"
      ],
      "text/plain": [
       "   itemID                           title              author  \\\n",
       "0   21310  Princess Poppy: The Big Mix Up  Janey Louise Jones   \n",
       "\n",
       "                            publisher main topic subtopics interest_age  \\\n",
       "0  Penguin Random House Children's UK        YFB     [5AH]            1   \n",
       "\n",
       "  number_pages                        release_date  \\\n",
       "0         {''}  {Timestamp('2010-11-30 00:00:00')}   \n",
       "\n",
       "                                             ISBN_13 language  \\\n",
       "0  [{'type': 'ISBN_13', 'identifier': '9781409048...       en   \n",
       "\n",
       "                                         description  publisher_cluster  \n",
       "0  A brand-new story in the best-selling Princess...                  1  "
      ]
     },
     "execution_count": 4,
     "metadata": {},
     "output_type": "execute_result"
    }
   ],
   "source": [
    "df.head(1)"
   ]
  },
  {
   "cell_type": "code",
   "execution_count": 5,
   "metadata": {},
   "outputs": [
    {
     "data": {
      "text/html": [
       "<div>\n",
       "<style scoped>\n",
       "    .dataframe tbody tr th:only-of-type {\n",
       "        vertical-align: middle;\n",
       "    }\n",
       "\n",
       "    .dataframe tbody tr th {\n",
       "        vertical-align: top;\n",
       "    }\n",
       "\n",
       "    .dataframe thead th {\n",
       "        text-align: right;\n",
       "    }\n",
       "</style>\n",
       "<table border=\"1\" class=\"dataframe\">\n",
       "  <thead>\n",
       "    <tr style=\"text-align: right;\">\n",
       "      <th></th>\n",
       "      <th>itemID</th>\n",
       "      <th>title</th>\n",
       "      <th>author</th>\n",
       "      <th>publisher</th>\n",
       "      <th>main topic</th>\n",
       "      <th>subtopics</th>\n",
       "      <th>language</th>\n",
       "      <th>description</th>\n",
       "      <th>ISBN_13</th>\n",
       "      <th>interest_age</th>\n",
       "      <th>LangDetect</th>\n",
       "      <th>maintopic_text</th>\n",
       "      <th>subtopics_text</th>\n",
       "    </tr>\n",
       "  </thead>\n",
       "  <tbody>\n",
       "    <tr>\n",
       "      <th>0</th>\n",
       "      <td>21310</td>\n",
       "      <td>Princess Poppy: The Big Mix Up</td>\n",
       "      <td>Janey Louise Jones</td>\n",
       "      <td>Penguin Random House Children's UK</td>\n",
       "      <td>YFB</td>\n",
       "      <td>[5AH]</td>\n",
       "      <td>en</td>\n",
       "      <td>A brand-new story in the best-selling Princess...</td>\n",
       "      <td>[{'type': 'ISBN_13', 'identifier': '9781409048...</td>\n",
       "      <td>1</td>\n",
       "      <td>en</td>\n",
       "      <td>Children’s / Teenage fiction: General fiction</td>\n",
       "      <td>['Interest age: from c 7 years']</td>\n",
       "    </tr>\n",
       "  </tbody>\n",
       "</table>\n",
       "</div>"
      ],
      "text/plain": [
       "   itemID                           title              author  \\\n",
       "0   21310  Princess Poppy: The Big Mix Up  Janey Louise Jones   \n",
       "\n",
       "                            publisher main topic subtopics language  \\\n",
       "0  Penguin Random House Children's UK        YFB     [5AH]       en   \n",
       "\n",
       "                                         description  \\\n",
       "0  A brand-new story in the best-selling Princess...   \n",
       "\n",
       "                                             ISBN_13 interest_age LangDetect  \\\n",
       "0  [{'type': 'ISBN_13', 'identifier': '9781409048...            1         en   \n",
       "\n",
       "                                  maintopic_text  \\\n",
       "0  Children’s / Teenage fiction: General fiction   \n",
       "\n",
       "                     subtopics_text  \n",
       "0  ['Interest age: from c 7 years']  "
      ]
     },
     "execution_count": 5,
     "metadata": {},
     "output_type": "execute_result"
    }
   ],
   "source": [
    "thema = pd.read_csv('D:/Uni Mannheim/Semester 2/Data Mining 2/DMC/Others datasets/Nazanin/annotated_item_dataset_thema_text.csv', sep=',')\n",
    "thema.drop(['Unnamed: 0'], axis= 1, inplace=True)\n",
    "thema.head(1)"
   ]
  },
  {
   "cell_type": "code",
   "execution_count": 6,
   "metadata": {},
   "outputs": [],
   "source": [
    "thema.drop(['title','author', 'publisher','main topic', 'subtopics', 'language', 'description', 'ISBN_13', 'interest_age', 'LangDetect'], axis= 1, inplace=True)"
   ]
  },
  {
   "cell_type": "code",
   "execution_count": 7,
   "metadata": {},
   "outputs": [
    {
     "data": {
      "text/plain": [
       "itemID            78030\n",
       "maintopic_text    77772\n",
       "subtopics_text    41126\n",
       "dtype: int64"
      ]
     },
     "execution_count": 7,
     "metadata": {},
     "output_type": "execute_result"
    }
   ],
   "source": [
    "thema.count()"
   ]
  },
  {
   "cell_type": "code",
   "execution_count": 8,
   "metadata": {},
   "outputs": [],
   "source": [
    "df = df.merge(thema, how= 'left', on='itemID')"
   ]
  },
  {
   "cell_type": "code",
   "execution_count": 9,
   "metadata": {},
   "outputs": [],
   "source": [
    "df['maintopic_text'] = df['maintopic_text'].fillna('')\n",
    "df['subtopics_text'] = df['subtopics_text'].fillna('')"
   ]
  },
  {
   "cell_type": "code",
   "execution_count": 10,
   "metadata": {},
   "outputs": [],
   "source": [
    "for i in range (len(df.index)):\n",
    "    main_topic = str(df.at[i,'maintopic_text'])\n",
    "    sub_topic = str(df.at[i,'subtopics_text'])\n",
    "    total_topic = main_topic + sub_topic\n",
    "    df.loc[i, 'total_topic'] = total_topic"
   ]
  },
  {
   "cell_type": "code",
   "execution_count": 11,
   "metadata": {},
   "outputs": [
    {
     "data": {
      "text/plain": [
       "itemID               78030\n",
       "title                78030\n",
       "author               75824\n",
       "publisher            78030\n",
       "main topic           77772\n",
       "subtopics            78029\n",
       "interest_age         78030\n",
       "number_pages         78021\n",
       "release_date         78021\n",
       "ISBN_13              77112\n",
       "language             78030\n",
       "description          73749\n",
       "publisher_cluster    78030\n",
       "maintopic_text       78030\n",
       "subtopics_text       78030\n",
       "total_topic          78030\n",
       "dtype: int64"
      ]
     },
     "execution_count": 11,
     "metadata": {},
     "output_type": "execute_result"
    }
   ],
   "source": [
    "#df.drop(['maintopic_text','subtopics_text'], axis= 1, inplace=True)\n",
    "df.count()"
   ]
  },
  {
   "cell_type": "code",
   "execution_count": 12,
   "metadata": {},
   "outputs": [],
   "source": [
    "df2 = df[df['author'].isna()]\n",
    "df = df[df['author'].notnull()]"
   ]
  },
  {
   "cell_type": "code",
   "execution_count": 13,
   "metadata": {},
   "outputs": [
    {
     "data": {
      "text/plain": [
       "itemID               2206\n",
       "title                2206\n",
       "author                  0\n",
       "publisher            2206\n",
       "main topic           2181\n",
       "subtopics            2206\n",
       "interest_age         2206\n",
       "number_pages         2205\n",
       "release_date         2205\n",
       "ISBN_13              2186\n",
       "language             2206\n",
       "description          1834\n",
       "publisher_cluster    2206\n",
       "maintopic_text       2206\n",
       "subtopics_text       2206\n",
       "total_topic          2206\n",
       "dtype: int64"
      ]
     },
     "execution_count": 13,
     "metadata": {},
     "output_type": "execute_result"
    }
   ],
   "source": [
    "df2.count()"
   ]
  },
  {
   "cell_type": "code",
   "execution_count": 14,
   "metadata": {},
   "outputs": [
    {
     "data": {
      "text/plain": [
       "itemID               75824\n",
       "title                75824\n",
       "author               75824\n",
       "publisher            75824\n",
       "main topic           75591\n",
       "subtopics            75823\n",
       "interest_age         75824\n",
       "number_pages         75816\n",
       "release_date         75816\n",
       "ISBN_13              74926\n",
       "language             75824\n",
       "description          71915\n",
       "publisher_cluster    75824\n",
       "maintopic_text       75824\n",
       "subtopics_text       75824\n",
       "total_topic          75824\n",
       "dtype: int64"
      ]
     },
     "execution_count": 14,
     "metadata": {},
     "output_type": "execute_result"
    }
   ],
   "source": [
    "df.count()"
   ]
  },
  {
   "cell_type": "code",
   "execution_count": 15,
   "metadata": {},
   "outputs": [],
   "source": [
    "df_concat = df.groupby(['author'])['total_topic'].apply(','.join).reset_index()"
   ]
  },
  {
   "cell_type": "code",
   "execution_count": 16,
   "metadata": {},
   "outputs": [],
   "source": [
    "for i in range (len(df_concat.index)):\n",
    "    processesed_description = df_concat.at[i,'total_topic']\n",
    "    processesed_description = _removeNonAscii(processesed_description)\n",
    "    processesed_description = make_lower_case(processesed_description)\n",
    "    processesed_description = remove_punctuation(processesed_description)\n",
    "    processesed_description = remove_html(processesed_description)\n",
    "    df_concat.loc[i, 'total_topic'] = processesed_description"
   ]
  },
  {
   "cell_type": "code",
   "execution_count": 17,
   "metadata": {},
   "outputs": [],
   "source": [
    "vec = TfidfVectorizer(stop_words=\"english\")\n",
    "vec.fit(df_concat.total_topic.values)\n",
    "features = vec.transform(df_concat.total_topic.values)"
   ]
  },
  {
   "cell_type": "code",
   "execution_count": 18,
   "metadata": {},
   "outputs": [
    {
     "data": {
      "text/plain": [
       "(36669, 2073)"
      ]
     },
     "execution_count": 18,
     "metadata": {},
     "output_type": "execute_result"
    }
   ],
   "source": [
    "features.shape"
   ]
  },
  {
   "cell_type": "code",
   "execution_count": 19,
   "metadata": {},
   "outputs": [],
   "source": [
    "features = preprocessing.normalize(features)"
   ]
  },
  {
   "cell_type": "code",
   "execution_count": 20,
   "metadata": {},
   "outputs": [],
   "source": [
    "kmeans = KMeans(n_clusters=20, random_state=0).fit(features)\n",
    "labels = kmeans.labels_\n",
    "centers = kmeans.cluster_centers_"
   ]
  },
  {
   "cell_type": "code",
   "execution_count": 21,
   "metadata": {},
   "outputs": [],
   "source": [
    "#We collect cosine similarity of the centroids in a 2D array to be used by our RS.\n",
    "cosine_sim_author = np.ndarray(shape=(20,20), dtype=np.ndarray, order='F')\n",
    "for i in range (20):\n",
    "    for j in range (20):\n",
    "        # Dot and norm\n",
    "        dot = sum(a*b for a, b in zip(centers[i], centers[j]))\n",
    "        norm_a = sum(a*a for a in centers[i]) ** 0.5\n",
    "        norm_b = sum(b*b for b in centers[j]) ** 0.5\n",
    "        # Cosine similarity\n",
    "        cos_sim = dot / (norm_a*norm_b)\n",
    "        cosine_sim_author[i,j] = cos_sim"
   ]
  },
  {
   "cell_type": "code",
   "execution_count": 22,
   "metadata": {},
   "outputs": [
    {
     "name": "stdout",
     "output_type": "stream",
     "text": [
      "[[0.9999999999999998 0.3407845335442216 0.1535973459726355\n",
      "  0.34815918045310745 0.3409330622863031 0.1900915666550329\n",
      "  0.39081625551249566 0.21970868375191574 0.42497466694220665\n",
      "  0.292232423052543 0.37519902298233976 0.3351886266046458\n",
      "  0.2460399709163743 0.31150166088038406 0.2236967132939758\n",
      "  0.38864138850181695 0.2087169836385856 0.2614619781825115\n",
      "  0.1704869174571438 0.5099246408811111]\n",
      " [0.3407845335442216 1.0 0.04808148321997798 0.18225042204321065\n",
      "  0.4869244583061165 0.09597009550364076 0.5683778390219959\n",
      "  0.11397635642487272 0.5159180304089604 0.3595207331279233\n",
      "  0.5017985986077885 0.5445793673503294 0.3380046858535409\n",
      "  0.5290834299995082 0.2080261406996985 0.6443495587695554\n",
      "  0.23287254964027634 0.39896452964094975 0.05942726039559365\n",
      "  0.5645095845998672]\n",
      " [0.1535973459726355 0.04808148321997798 1.0 0.03052043474855843\n",
      "  0.017021092481113866 0.04204616009964359 0.10045240240888648\n",
      "  0.6206444439133468 0.628092590280627 0.03204182845928035\n",
      "  0.06399608176402721 0.006529887785209492 0.015277537176448145\n",
      "  0.029955298294475238 0.2772162602231449 0.02887955512511226\n",
      "  0.07752413519712234 0.07608690071517768 0.6979333902350486\n",
      "  0.03122037753018196]\n",
      " [0.34815918045310745 0.18225042204321065 0.03052043474855843 1.0\n",
      "  0.14446015617166935 0.14157564640980982 0.25511067287700945\n",
      "  0.07797314016248544 0.23601280699820484 0.22516889819600294\n",
      "  0.1809497227335189 0.1561166958569924 0.15107357773522273\n",
      "  0.15807208070152887 0.15821540768453699 0.19343739130450865\n",
      "  0.1455786489690796 0.15989632686785832 0.05457196706384917\n",
      "  0.3352147304441266]\n",
      " [0.3409330622863031 0.4869244583061165 0.017021092481113866\n",
      "  0.14446015617166935 1.0 0.1258408105385973 0.4722258318917906\n",
      "  0.08888431178351132 0.49954311819543606 0.3449514872923256\n",
      "  0.5444379995428726 0.4948199689242871 0.3758875901397265\n",
      "  0.4224649688127755 0.19210702820320147 0.5298175432035802\n",
      "  0.2757084285748001 0.32654576027046284 0.03278921318363949\n",
      "  0.591917443934482]\n",
      " [0.1900915666550329 0.09597009550364076 0.04204616009964359\n",
      "  0.14157564640980982 0.1258408105385973 1.0000000000000002\n",
      "  0.11571199630174961 0.059439234787392374 0.12946396668673626\n",
      "  0.12098507029179938 0.10692190988679753 0.09019568025744676\n",
      "  0.09451879249442552 0.07867271826374517 0.09139313831263296\n",
      "  0.11036113781642036 0.06772181161248464 0.08641137585952832\n",
      "  0.04729540958334031 0.35288731940518436]\n",
      " [0.39081625551249566 0.5683778390219959 0.10045240240888648\n",
      "  0.25511067287700945 0.4722258318917906 0.11571199630174961 1.0\n",
      "  0.14040385496064606 0.5562673661187907 0.3681919562597442\n",
      "  0.5116278598694043 0.5187174556528825 0.34641318745397\n",
      "  0.5077111102676747 0.25724684093817896 0.6369248243802694\n",
      "  0.26248763785163554 0.39117878494105357 0.1021479941616457\n",
      "  0.5940148157040303]\n",
      " [0.21970868375191574 0.11397635642487272 0.6206444439133468\n",
      "  0.07797314016248544 0.08888431178351132 0.059439234787392374\n",
      "  0.14040385496064606 1.0000000000000002 0.4593928650325169\n",
      "  0.08827978347334046 0.34218272826902607 0.06878350746481797\n",
      "  0.07198268938486081 0.09924066928047666 0.23210506995440208\n",
      "  0.09708671134947007 0.11000872172620392 0.11572892811101039\n",
      "  0.5003430747337098 0.11154454337401941]\n",
      " [0.42497466694220665 0.5159180304089604 0.628092590280627\n",
      "  0.23601280699820484 0.49954311819543606 0.12946396668673626\n",
      "  0.5562673661187907 0.4593928650325169 0.9999999999999999\n",
      "  0.42298141931508454 0.49342794258206557 0.4507849209945225\n",
      "  0.3513206928402446 0.4689802551755028 0.40951308929239216\n",
      "  0.5443850367091162 0.30440407895788535 0.38158021555540006\n",
      "  0.4609376168053644 0.6833524586258115]\n",
      " [0.292232423052543 0.3595207331279233 0.03204182845928035\n",
      "  0.22516889819600294 0.3449514872923256 0.12098507029179938\n",
      "  0.3681919562597442 0.08827978347334046 0.42298141931508454 1.0\n",
      "  0.34805192754162484 0.31313839563608314 0.26756928046161804\n",
      "  0.31142522199527456 0.213058830859221 0.3806935202635769\n",
      "  0.20372705109396283 0.29861500380207057 0.0479692939461136\n",
      "  0.5036333639570773]\n",
      " [0.37519902298233976 0.5017985986077885 0.06399608176402721\n",
      "  0.1809497227335189 0.5444379995428726 0.10692190988679753\n",
      "  0.5116278598694043 0.34218272826902607 0.49342794258206557\n",
      "  0.34805192754162484 1.0 0.4594000135400078 0.3242838150050599\n",
      "  0.44917225583356507 0.21999464732367793 0.5389362092295766\n",
      "  0.2393505410387114 0.3558299465113001 0.08391265501503668\n",
      "  0.5446691723350459]\n",
      " [0.3351886266046458 0.5445793673503294 0.006529887785209492\n",
      "  0.1561166958569924 0.4948199689242871 0.09019568025744676\n",
      "  0.5187174556528825 0.06878350746481797 0.4507849209945225\n",
      "  0.31313839563608314 0.4594000135400078 0.9999999999999999\n",
      "  0.34417339129650426 0.5032457759319275 0.17752698408172277\n",
      "  0.5882210580960702 0.20617728358935422 0.36028599539712847\n",
      "  0.0251467055696676 0.5281465134230038]\n",
      " [0.2460399709163743 0.3380046858535409 0.015277537176448145\n",
      "  0.15107357773522273 0.3758875901397265 0.09451879249442552\n",
      "  0.34641318745397 0.07198268938486081 0.3513206928402446\n",
      "  0.26756928046161804 0.3242838150050599 0.34417339129650426\n",
      "  1.0000000000000002 0.30519266697265657 0.31427429045684824\n",
      "  0.3738748015988958 0.18917688000631025 0.23666325175355807\n",
      "  0.03316619926656733 0.4249881880728558]\n",
      " [0.31150166088038406 0.5290834299995082 0.029955298294475238\n",
      "  0.15807208070152887 0.4224649688127755 0.07867271826374517\n",
      "  0.5077111102676747 0.09924066928047666 0.4689802551755028\n",
      "  0.31142522199527456 0.44917225583356507 0.5032457759319275\n",
      "  0.30519266697265657 1.0000000000000002 0.19071960817233038\n",
      "  0.5755624511490286 0.20856513142315408 0.35664997663754816\n",
      "  0.04678045885039288 0.5098446917341207]\n",
      " [0.2236967132939758 0.2080261406996985 0.2772162602231449\n",
      "  0.15821540768453699 0.19210702820320147 0.09139313831263296\n",
      "  0.25724684093817896 0.23210506995440208 0.40951308929239216\n",
      "  0.213058830859221 0.21999464732367793 0.17752698408172277\n",
      "  0.31427429045684824 0.19071960817233038 1.0 0.22184772247908366\n",
      "  0.14208880191607193 0.16954942206245502 0.2318384400300877\n",
      "  0.3174168136677435]\n",
      " [0.38864138850181695 0.6443495587695554 0.02887955512511226\n",
      "  0.19343739130450865 0.5298175432035802 0.11036113781642036\n",
      "  0.6369248243802694 0.09708671134947007 0.5443850367091162\n",
      "  0.3806935202635769 0.5389362092295766 0.5882210580960702\n",
      "  0.3738748015988958 0.5755624511490286 0.22184772247908366\n",
      "  1.0000000000000002 0.2647807632679264 0.4150467003512271\n",
      "  0.04633307144212342 0.6189873265482204]\n",
      " [0.2087169836385856 0.23287254964027634 0.07752413519712234\n",
      "  0.1455786489690796 0.2757084285748001 0.06772181161248464\n",
      "  0.26248763785163554 0.11000872172620392 0.30440407895788535\n",
      "  0.20372705109396283 0.2393505410387114 0.20617728358935422\n",
      "  0.18917688000631025 0.20856513142315408 0.14208880191607193\n",
      "  0.2647807632679264 1.0000000000000002 0.16738512206480663\n",
      "  0.07175897122743874 0.373666782177377]\n",
      " [0.2614619781825115 0.39896452964094975 0.07608690071517768\n",
      "  0.15989632686785832 0.32654576027046284 0.08641137585952832\n",
      "  0.39117878494105357 0.11572892811101039 0.38158021555540006\n",
      "  0.29861500380207057 0.3558299465113001 0.36028599539712847\n",
      "  0.23666325175355807 0.35664997663754816 0.16954942206245502\n",
      "  0.4150467003512271 0.16738512206480663 1.0 0.08520920652002573\n",
      "  0.4060289121561882]\n",
      " [0.1704869174571438 0.05942726039559365 0.6979333902350486\n",
      "  0.05457196706384917 0.03278921318363949 0.04729540958334031\n",
      "  0.1021479941616457 0.5003430747337098 0.4609376168053644\n",
      "  0.0479692939461136 0.08391265501503668 0.0251467055696676\n",
      "  0.03316619926656733 0.04678045885039288 0.2318384400300877\n",
      "  0.04633307144212342 0.07175897122743874 0.08520920652002573 1.0\n",
      "  0.0563805532502077]\n",
      " [0.5099246408811111 0.5645095845998672 0.03122037753018196\n",
      "  0.3352147304441266 0.591917443934482 0.35288731940518436\n",
      "  0.5940148157040303 0.11154454337401941 0.6833524586258115\n",
      "  0.5036333639570773 0.5446691723350459 0.5281465134230038\n",
      "  0.4249881880728558 0.5098446917341207 0.3174168136677435\n",
      "  0.6189873265482204 0.373666782177377 0.4060289121561882\n",
      "  0.0563805532502077 1.0]]\n"
     ]
    }
   ],
   "source": [
    "print(cosine_sim_author)"
   ]
  },
  {
   "cell_type": "code",
   "execution_count": 23,
   "metadata": {},
   "outputs": [
    {
     "name": "stdout",
     "output_type": "stream",
     "text": [
      "<class 'numpy.ndarray'>\n"
     ]
    }
   ],
   "source": [
    "print(type(cosine_sim_author))"
   ]
  },
  {
   "cell_type": "code",
   "execution_count": 24,
   "metadata": {},
   "outputs": [],
   "source": [
    "from numpy import asarray\n",
    "from numpy import save\n",
    "# save to npy file\n",
    "save('cosine_sim_author.npy', cosine_sim_author)"
   ]
  },
  {
   "cell_type": "code",
   "execution_count": 25,
   "metadata": {},
   "outputs": [
    {
     "name": "stdout",
     "output_type": "stream",
     "text": [
      "[[0.9999999999999998 0.3407845335442216 0.1535973459726355\n",
      "  0.34815918045310745 0.3409330622863031 0.1900915666550329\n",
      "  0.39081625551249566 0.21970868375191574 0.42497466694220665\n",
      "  0.292232423052543 0.37519902298233976 0.3351886266046458\n",
      "  0.2460399709163743 0.31150166088038406 0.2236967132939758\n",
      "  0.38864138850181695 0.2087169836385856 0.2614619781825115\n",
      "  0.1704869174571438 0.5099246408811111]\n",
      " [0.3407845335442216 1.0 0.04808148321997798 0.18225042204321065\n",
      "  0.4869244583061165 0.09597009550364076 0.5683778390219959\n",
      "  0.11397635642487272 0.5159180304089604 0.3595207331279233\n",
      "  0.5017985986077885 0.5445793673503294 0.3380046858535409\n",
      "  0.5290834299995082 0.2080261406996985 0.6443495587695554\n",
      "  0.23287254964027634 0.39896452964094975 0.05942726039559365\n",
      "  0.5645095845998672]\n",
      " [0.1535973459726355 0.04808148321997798 1.0 0.03052043474855843\n",
      "  0.017021092481113866 0.04204616009964359 0.10045240240888648\n",
      "  0.6206444439133468 0.628092590280627 0.03204182845928035\n",
      "  0.06399608176402721 0.006529887785209492 0.015277537176448145\n",
      "  0.029955298294475238 0.2772162602231449 0.02887955512511226\n",
      "  0.07752413519712234 0.07608690071517768 0.6979333902350486\n",
      "  0.03122037753018196]\n",
      " [0.34815918045310745 0.18225042204321065 0.03052043474855843 1.0\n",
      "  0.14446015617166935 0.14157564640980982 0.25511067287700945\n",
      "  0.07797314016248544 0.23601280699820484 0.22516889819600294\n",
      "  0.1809497227335189 0.1561166958569924 0.15107357773522273\n",
      "  0.15807208070152887 0.15821540768453699 0.19343739130450865\n",
      "  0.1455786489690796 0.15989632686785832 0.05457196706384917\n",
      "  0.3352147304441266]\n",
      " [0.3409330622863031 0.4869244583061165 0.017021092481113866\n",
      "  0.14446015617166935 1.0 0.1258408105385973 0.4722258318917906\n",
      "  0.08888431178351132 0.49954311819543606 0.3449514872923256\n",
      "  0.5444379995428726 0.4948199689242871 0.3758875901397265\n",
      "  0.4224649688127755 0.19210702820320147 0.5298175432035802\n",
      "  0.2757084285748001 0.32654576027046284 0.03278921318363949\n",
      "  0.591917443934482]\n",
      " [0.1900915666550329 0.09597009550364076 0.04204616009964359\n",
      "  0.14157564640980982 0.1258408105385973 1.0000000000000002\n",
      "  0.11571199630174961 0.059439234787392374 0.12946396668673626\n",
      "  0.12098507029179938 0.10692190988679753 0.09019568025744676\n",
      "  0.09451879249442552 0.07867271826374517 0.09139313831263296\n",
      "  0.11036113781642036 0.06772181161248464 0.08641137585952832\n",
      "  0.04729540958334031 0.35288731940518436]\n",
      " [0.39081625551249566 0.5683778390219959 0.10045240240888648\n",
      "  0.25511067287700945 0.4722258318917906 0.11571199630174961 1.0\n",
      "  0.14040385496064606 0.5562673661187907 0.3681919562597442\n",
      "  0.5116278598694043 0.5187174556528825 0.34641318745397\n",
      "  0.5077111102676747 0.25724684093817896 0.6369248243802694\n",
      "  0.26248763785163554 0.39117878494105357 0.1021479941616457\n",
      "  0.5940148157040303]\n",
      " [0.21970868375191574 0.11397635642487272 0.6206444439133468\n",
      "  0.07797314016248544 0.08888431178351132 0.059439234787392374\n",
      "  0.14040385496064606 1.0000000000000002 0.4593928650325169\n",
      "  0.08827978347334046 0.34218272826902607 0.06878350746481797\n",
      "  0.07198268938486081 0.09924066928047666 0.23210506995440208\n",
      "  0.09708671134947007 0.11000872172620392 0.11572892811101039\n",
      "  0.5003430747337098 0.11154454337401941]\n",
      " [0.42497466694220665 0.5159180304089604 0.628092590280627\n",
      "  0.23601280699820484 0.49954311819543606 0.12946396668673626\n",
      "  0.5562673661187907 0.4593928650325169 0.9999999999999999\n",
      "  0.42298141931508454 0.49342794258206557 0.4507849209945225\n",
      "  0.3513206928402446 0.4689802551755028 0.40951308929239216\n",
      "  0.5443850367091162 0.30440407895788535 0.38158021555540006\n",
      "  0.4609376168053644 0.6833524586258115]\n",
      " [0.292232423052543 0.3595207331279233 0.03204182845928035\n",
      "  0.22516889819600294 0.3449514872923256 0.12098507029179938\n",
      "  0.3681919562597442 0.08827978347334046 0.42298141931508454 1.0\n",
      "  0.34805192754162484 0.31313839563608314 0.26756928046161804\n",
      "  0.31142522199527456 0.213058830859221 0.3806935202635769\n",
      "  0.20372705109396283 0.29861500380207057 0.0479692939461136\n",
      "  0.5036333639570773]\n",
      " [0.37519902298233976 0.5017985986077885 0.06399608176402721\n",
      "  0.1809497227335189 0.5444379995428726 0.10692190988679753\n",
      "  0.5116278598694043 0.34218272826902607 0.49342794258206557\n",
      "  0.34805192754162484 1.0 0.4594000135400078 0.3242838150050599\n",
      "  0.44917225583356507 0.21999464732367793 0.5389362092295766\n",
      "  0.2393505410387114 0.3558299465113001 0.08391265501503668\n",
      "  0.5446691723350459]\n",
      " [0.3351886266046458 0.5445793673503294 0.006529887785209492\n",
      "  0.1561166958569924 0.4948199689242871 0.09019568025744676\n",
      "  0.5187174556528825 0.06878350746481797 0.4507849209945225\n",
      "  0.31313839563608314 0.4594000135400078 0.9999999999999999\n",
      "  0.34417339129650426 0.5032457759319275 0.17752698408172277\n",
      "  0.5882210580960702 0.20617728358935422 0.36028599539712847\n",
      "  0.0251467055696676 0.5281465134230038]\n",
      " [0.2460399709163743 0.3380046858535409 0.015277537176448145\n",
      "  0.15107357773522273 0.3758875901397265 0.09451879249442552\n",
      "  0.34641318745397 0.07198268938486081 0.3513206928402446\n",
      "  0.26756928046161804 0.3242838150050599 0.34417339129650426\n",
      "  1.0000000000000002 0.30519266697265657 0.31427429045684824\n",
      "  0.3738748015988958 0.18917688000631025 0.23666325175355807\n",
      "  0.03316619926656733 0.4249881880728558]\n",
      " [0.31150166088038406 0.5290834299995082 0.029955298294475238\n",
      "  0.15807208070152887 0.4224649688127755 0.07867271826374517\n",
      "  0.5077111102676747 0.09924066928047666 0.4689802551755028\n",
      "  0.31142522199527456 0.44917225583356507 0.5032457759319275\n",
      "  0.30519266697265657 1.0000000000000002 0.19071960817233038\n",
      "  0.5755624511490286 0.20856513142315408 0.35664997663754816\n",
      "  0.04678045885039288 0.5098446917341207]\n",
      " [0.2236967132939758 0.2080261406996985 0.2772162602231449\n",
      "  0.15821540768453699 0.19210702820320147 0.09139313831263296\n",
      "  0.25724684093817896 0.23210506995440208 0.40951308929239216\n",
      "  0.213058830859221 0.21999464732367793 0.17752698408172277\n",
      "  0.31427429045684824 0.19071960817233038 1.0 0.22184772247908366\n",
      "  0.14208880191607193 0.16954942206245502 0.2318384400300877\n",
      "  0.3174168136677435]\n",
      " [0.38864138850181695 0.6443495587695554 0.02887955512511226\n",
      "  0.19343739130450865 0.5298175432035802 0.11036113781642036\n",
      "  0.6369248243802694 0.09708671134947007 0.5443850367091162\n",
      "  0.3806935202635769 0.5389362092295766 0.5882210580960702\n",
      "  0.3738748015988958 0.5755624511490286 0.22184772247908366\n",
      "  1.0000000000000002 0.2647807632679264 0.4150467003512271\n",
      "  0.04633307144212342 0.6189873265482204]\n",
      " [0.2087169836385856 0.23287254964027634 0.07752413519712234\n",
      "  0.1455786489690796 0.2757084285748001 0.06772181161248464\n",
      "  0.26248763785163554 0.11000872172620392 0.30440407895788535\n",
      "  0.20372705109396283 0.2393505410387114 0.20617728358935422\n",
      "  0.18917688000631025 0.20856513142315408 0.14208880191607193\n",
      "  0.2647807632679264 1.0000000000000002 0.16738512206480663\n",
      "  0.07175897122743874 0.373666782177377]\n",
      " [0.2614619781825115 0.39896452964094975 0.07608690071517768\n",
      "  0.15989632686785832 0.32654576027046284 0.08641137585952832\n",
      "  0.39117878494105357 0.11572892811101039 0.38158021555540006\n",
      "  0.29861500380207057 0.3558299465113001 0.36028599539712847\n",
      "  0.23666325175355807 0.35664997663754816 0.16954942206245502\n",
      "  0.4150467003512271 0.16738512206480663 1.0 0.08520920652002573\n",
      "  0.4060289121561882]\n",
      " [0.1704869174571438 0.05942726039559365 0.6979333902350486\n",
      "  0.05457196706384917 0.03278921318363949 0.04729540958334031\n",
      "  0.1021479941616457 0.5003430747337098 0.4609376168053644\n",
      "  0.0479692939461136 0.08391265501503668 0.0251467055696676\n",
      "  0.03316619926656733 0.04678045885039288 0.2318384400300877\n",
      "  0.04633307144212342 0.07175897122743874 0.08520920652002573 1.0\n",
      "  0.0563805532502077]\n",
      " [0.5099246408811111 0.5645095845998672 0.03122037753018196\n",
      "  0.3352147304441266 0.591917443934482 0.35288731940518436\n",
      "  0.5940148157040303 0.11154454337401941 0.6833524586258115\n",
      "  0.5036333639570773 0.5446691723350459 0.5281465134230038\n",
      "  0.4249881880728558 0.5098446917341207 0.3174168136677435\n",
      "  0.6189873265482204 0.373666782177377 0.4060289121561882\n",
      "  0.0563805532502077 1.0]]\n"
     ]
    }
   ],
   "source": [
    "from numpy import load\n",
    "# load array\n",
    "data = load('cosine_sim_author.npy', allow_pickle=True)\n",
    "# print the array\n",
    "print(data)"
   ]
  },
  {
   "cell_type": "code",
   "execution_count": 26,
   "metadata": {},
   "outputs": [],
   "source": [
    "df_concat['author_cluster'] = labels.tolist()"
   ]
  },
  {
   "cell_type": "code",
   "execution_count": 27,
   "metadata": {},
   "outputs": [],
   "source": [
    "df_concat.drop(['total_topic'], axis= 1, inplace=True)\n",
    "df = df.merge(df_concat, on='author')"
   ]
  },
  {
   "cell_type": "code",
   "execution_count": 28,
   "metadata": {},
   "outputs": [
    {
     "name": "stdout",
     "output_type": "stream",
     "text": [
      "    author_cluster  itemID\n",
      "0                0   13599\n",
      "1                3    7040\n",
      "2               19    6575\n",
      "3                4    6296\n",
      "4                2    4718\n",
      "5               18    4447\n",
      "6                6    4063\n",
      "7               15    3559\n",
      "8                7    3423\n",
      "9               10    2938\n",
      "10               1    2926\n",
      "11              11    2629\n",
      "12               8    2550\n",
      "13               9    2320\n",
      "14              13    1917\n",
      "15              17    1912\n",
      "16              12    1847\n",
      "17               5    1242\n",
      "18              14    1136\n",
      "19              16     687\n"
     ]
    }
   ],
   "source": [
    "aut_type = df.groupby('author_cluster',sort = False).agg({'itemID': 'count'}).reset_index()\n",
    "aut_type.sort_values(by=['itemID'], ascending=False, inplace=True, ignore_index= True)\n",
    "print(aut_type)"
   ]
  },
  {
   "cell_type": "code",
   "execution_count": 29,
   "metadata": {},
   "outputs": [],
   "source": [
    "frames = [df, df2]\n",
    "df = pd.concat(frames)"
   ]
  },
  {
   "cell_type": "code",
   "execution_count": 30,
   "metadata": {},
   "outputs": [
    {
     "data": {
      "text/plain": [
       "itemID               78030\n",
       "title                78030\n",
       "author               75824\n",
       "publisher            78030\n",
       "main topic           77772\n",
       "subtopics            78029\n",
       "interest_age         78030\n",
       "number_pages         78021\n",
       "release_date         78021\n",
       "ISBN_13              77112\n",
       "language             78030\n",
       "description          73749\n",
       "publisher_cluster    78030\n",
       "maintopic_text       78030\n",
       "subtopics_text       78030\n",
       "total_topic          78030\n",
       "author_cluster       75824\n",
       "dtype: int64"
      ]
     },
     "execution_count": 30,
     "metadata": {},
     "output_type": "execute_result"
    }
   ],
   "source": [
    "df.count()"
   ]
  },
  {
   "cell_type": "code",
   "execution_count": 31,
   "metadata": {},
   "outputs": [
    {
     "data": {
      "text/html": [
       "<div>\n",
       "<style scoped>\n",
       "    .dataframe tbody tr th:only-of-type {\n",
       "        vertical-align: middle;\n",
       "    }\n",
       "\n",
       "    .dataframe tbody tr th {\n",
       "        vertical-align: top;\n",
       "    }\n",
       "\n",
       "    .dataframe thead th {\n",
       "        text-align: right;\n",
       "    }\n",
       "</style>\n",
       "<table border=\"1\" class=\"dataframe\">\n",
       "  <thead>\n",
       "    <tr style=\"text-align: right;\">\n",
       "      <th></th>\n",
       "      <th>itemID</th>\n",
       "      <th>title</th>\n",
       "      <th>author</th>\n",
       "      <th>publisher</th>\n",
       "      <th>main topic</th>\n",
       "      <th>subtopics</th>\n",
       "      <th>interest_age</th>\n",
       "      <th>number_pages</th>\n",
       "      <th>release_date</th>\n",
       "      <th>ISBN_13</th>\n",
       "      <th>language</th>\n",
       "      <th>description</th>\n",
       "      <th>publisher_cluster</th>\n",
       "      <th>maintopic_text</th>\n",
       "      <th>subtopics_text</th>\n",
       "      <th>total_topic</th>\n",
       "      <th>author_cluster</th>\n",
       "    </tr>\n",
       "  </thead>\n",
       "  <tbody>\n",
       "    <tr>\n",
       "      <th>0</th>\n",
       "      <td>21310</td>\n",
       "      <td>Princess Poppy: The Big Mix Up</td>\n",
       "      <td>Janey Louise Jones</td>\n",
       "      <td>Penguin Random House Children's UK</td>\n",
       "      <td>YFB</td>\n",
       "      <td>[5AH]</td>\n",
       "      <td>1</td>\n",
       "      <td>{''}</td>\n",
       "      <td>{Timestamp('2010-11-30 00:00:00')}</td>\n",
       "      <td>[{'type': 'ISBN_13', 'identifier': '9781409048...</td>\n",
       "      <td>en</td>\n",
       "      <td>A brand-new story in the best-selling Princess...</td>\n",
       "      <td>1</td>\n",
       "      <td>Children’s / Teenage fiction: General fiction</td>\n",
       "      <td>['Interest age: from c 7 years']</td>\n",
       "      <td>Children’s / Teenage fiction: General fiction[...</td>\n",
       "      <td>15.0</td>\n",
       "    </tr>\n",
       "  </tbody>\n",
       "</table>\n",
       "</div>"
      ],
      "text/plain": [
       "   itemID                           title              author  \\\n",
       "0   21310  Princess Poppy: The Big Mix Up  Janey Louise Jones   \n",
       "\n",
       "                            publisher main topic subtopics interest_age  \\\n",
       "0  Penguin Random House Children's UK        YFB     [5AH]            1   \n",
       "\n",
       "  number_pages                        release_date  \\\n",
       "0         {''}  {Timestamp('2010-11-30 00:00:00')}   \n",
       "\n",
       "                                             ISBN_13 language  \\\n",
       "0  [{'type': 'ISBN_13', 'identifier': '9781409048...       en   \n",
       "\n",
       "                                         description  publisher_cluster  \\\n",
       "0  A brand-new story in the best-selling Princess...                  1   \n",
       "\n",
       "                                  maintopic_text  \\\n",
       "0  Children’s / Teenage fiction: General fiction   \n",
       "\n",
       "                     subtopics_text  \\\n",
       "0  ['Interest age: from c 7 years']   \n",
       "\n",
       "                                         total_topic  author_cluster  \n",
       "0  Children’s / Teenage fiction: General fiction[...            15.0  "
      ]
     },
     "execution_count": 31,
     "metadata": {},
     "output_type": "execute_result"
    }
   ],
   "source": [
    "df.head(1)"
   ]
  },
  {
   "cell_type": "code",
   "execution_count": 32,
   "metadata": {},
   "outputs": [],
   "source": [
    "df.drop(['total_topic' , 'ISBN_13'], axis= 1, inplace=True)\n",
    "df = df[['itemID', 'title', 'author', 'publisher', 'main topic', 'subtopics', 'language', 'interest_age', 'description', 'publisher_cluster', 'author_cluster','number_pages', 'maintopic_text', 'subtopics_text','release_date']]"
   ]
  },
  {
   "cell_type": "code",
   "execution_count": 33,
   "metadata": {},
   "outputs": [],
   "source": [
    "df.to_csv('publisher_author_cluster_added.csv')"
   ]
  },
  {
   "cell_type": "code",
   "execution_count": null,
   "metadata": {},
   "outputs": [],
   "source": []
  }
 ],
 "metadata": {
  "kernelspec": {
   "display_name": "Python 3",
   "language": "python",
   "name": "python3"
  },
  "language_info": {
   "codemirror_mode": {
    "name": "ipython",
    "version": 3
   },
   "file_extension": ".py",
   "mimetype": "text/x-python",
   "name": "python",
   "nbconvert_exporter": "python",
   "pygments_lexer": "ipython3",
   "version": "3.8.5"
  }
 },
 "nbformat": 4,
 "nbformat_minor": 4
}
