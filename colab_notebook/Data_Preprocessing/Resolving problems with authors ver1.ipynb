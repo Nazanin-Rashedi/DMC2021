{
 "cells": [
  {
   "cell_type": "code",
   "execution_count": 1,
   "metadata": {},
   "outputs": [],
   "source": [
    "import pandas as pd\n",
    "import numpy as np"
   ]
  },
  {
   "cell_type": "code",
   "execution_count": 2,
   "metadata": {},
   "outputs": [],
   "source": [
    "#Import dataset\n",
    "books_data = pd.read_csv('D:/Uni Mannheim/Semester 2/Data Mining 2/DMC/publisher_cluster_added.csv', sep=',')\n",
    "df = books_data.copy()\n",
    "df.drop(['Unnamed: 0'], axis= 1, inplace=True)"
   ]
  },
  {
   "cell_type": "code",
   "execution_count": 3,
   "metadata": {},
   "outputs": [
    {
     "data": {
      "text/html": [
       "<div>\n",
       "<style scoped>\n",
       "    .dataframe tbody tr th:only-of-type {\n",
       "        vertical-align: middle;\n",
       "    }\n",
       "\n",
       "    .dataframe tbody tr th {\n",
       "        vertical-align: top;\n",
       "    }\n",
       "\n",
       "    .dataframe thead th {\n",
       "        text-align: right;\n",
       "    }\n",
       "</style>\n",
       "<table border=\"1\" class=\"dataframe\">\n",
       "  <thead>\n",
       "    <tr style=\"text-align: right;\">\n",
       "      <th></th>\n",
       "      <th>itemID</th>\n",
       "      <th>title</th>\n",
       "      <th>author</th>\n",
       "      <th>publisher</th>\n",
       "      <th>main topic</th>\n",
       "      <th>subtopics</th>\n",
       "      <th>interest_age</th>\n",
       "      <th>number_pages</th>\n",
       "      <th>release_date</th>\n",
       "      <th>ISBN_13</th>\n",
       "      <th>language</th>\n",
       "      <th>description</th>\n",
       "      <th>publisher_cluster</th>\n",
       "    </tr>\n",
       "  </thead>\n",
       "  <tbody>\n",
       "    <tr>\n",
       "      <th>0</th>\n",
       "      <td>21310</td>\n",
       "      <td>Princess Poppy: The Big Mix Up</td>\n",
       "      <td>Janey Louise Jones</td>\n",
       "      <td>Penguin Random House Children's UK</td>\n",
       "      <td>YFB</td>\n",
       "      <td>[5AH]</td>\n",
       "      <td>1</td>\n",
       "      <td>{''}</td>\n",
       "      <td>{Timestamp('2010-11-30 00:00:00')}</td>\n",
       "      <td>[{'type': 'ISBN_13', 'identifier': '9781409048...</td>\n",
       "      <td>en</td>\n",
       "      <td>A brand-new story in the best-selling Princess...</td>\n",
       "      <td>1</td>\n",
       "    </tr>\n",
       "  </tbody>\n",
       "</table>\n",
       "</div>"
      ],
      "text/plain": [
       "   itemID                           title              author  \\\n",
       "0   21310  Princess Poppy: The Big Mix Up  Janey Louise Jones   \n",
       "\n",
       "                            publisher main topic subtopics interest_age  \\\n",
       "0  Penguin Random House Children's UK        YFB     [5AH]            1   \n",
       "\n",
       "  number_pages                        release_date  \\\n",
       "0         {''}  {Timestamp('2010-11-30 00:00:00')}   \n",
       "\n",
       "                                             ISBN_13 language  \\\n",
       "0  [{'type': 'ISBN_13', 'identifier': '9781409048...       en   \n",
       "\n",
       "                                         description  publisher_cluster  \n",
       "0  A brand-new story in the best-selling Princess...                  1  "
      ]
     },
     "execution_count": 3,
     "metadata": {},
     "output_type": "execute_result"
    }
   ],
   "source": [
    "df.head(1)"
   ]
  },
  {
   "cell_type": "code",
   "execution_count": 4,
   "metadata": {},
   "outputs": [
    {
     "data": {
      "text/plain": [
       "3240"
      ]
     },
     "execution_count": 4,
     "metadata": {},
     "output_type": "execute_result"
    }
   ],
   "source": [
    "df['author'].isna().sum()"
   ]
  },
  {
   "cell_type": "code",
   "execution_count": 5,
   "metadata": {},
   "outputs": [],
   "source": [
    "df1 = df[df['author'].notnull()]\n",
    "df2 = df[df['author'].isna()]\n",
    "df_temp = df1[['title','author']]"
   ]
  },
  {
   "cell_type": "code",
   "execution_count": 6,
   "metadata": {},
   "outputs": [
    {
     "data": {
      "text/html": [
       "<div>\n",
       "<style scoped>\n",
       "    .dataframe tbody tr th:only-of-type {\n",
       "        vertical-align: middle;\n",
       "    }\n",
       "\n",
       "    .dataframe tbody tr th {\n",
       "        vertical-align: top;\n",
       "    }\n",
       "\n",
       "    .dataframe thead th {\n",
       "        text-align: right;\n",
       "    }\n",
       "</style>\n",
       "<table border=\"1\" class=\"dataframe\">\n",
       "  <thead>\n",
       "    <tr style=\"text-align: right;\">\n",
       "      <th></th>\n",
       "      <th>title</th>\n",
       "      <th>author</th>\n",
       "    </tr>\n",
       "  </thead>\n",
       "  <tbody>\n",
       "    <tr>\n",
       "      <th>0</th>\n",
       "      <td>Princess Poppy: The Big Mix Up</td>\n",
       "      <td>Janey Louise Jones</td>\n",
       "    </tr>\n",
       "  </tbody>\n",
       "</table>\n",
       "</div>"
      ],
      "text/plain": [
       "                            title              author\n",
       "0  Princess Poppy: The Big Mix Up  Janey Louise Jones"
      ]
     },
     "execution_count": 6,
     "metadata": {},
     "output_type": "execute_result"
    }
   ],
   "source": [
    "df_temp.head(1)"
   ]
  },
  {
   "cell_type": "code",
   "execution_count": 7,
   "metadata": {},
   "outputs": [
    {
     "data": {
      "text/plain": [
       "title     74790\n",
       "author    74790\n",
       "dtype: int64"
      ]
     },
     "execution_count": 7,
     "metadata": {},
     "output_type": "execute_result"
    }
   ],
   "source": [
    "df_temp.count()"
   ]
  },
  {
   "cell_type": "code",
   "execution_count": 10,
   "metadata": {},
   "outputs": [],
   "source": [
    "df_edit = df2.merge(df_temp, on='title')\n",
    "df_edit['author_x'] = df_edit['author_y']\n",
    "df_edit.drop(['author_y'], axis= 1, inplace=True)\n",
    "df_edit = df_edit.rename(columns={'author_x': 'author'})\n",
    "df_edit= df_edit[['itemID','author']]"
   ]
  },
  {
   "cell_type": "code",
   "execution_count": 11,
   "metadata": {},
   "outputs": [
    {
     "data": {
      "text/plain": [
       "itemID    229\n",
       "author    229\n",
       "dtype: int64"
      ]
     },
     "execution_count": 11,
     "metadata": {},
     "output_type": "execute_result"
    }
   ],
   "source": [
    "df_edit.count()"
   ]
  },
  {
   "cell_type": "code",
   "execution_count": 12,
   "metadata": {},
   "outputs": [
    {
     "data": {
      "text/html": [
       "<div>\n",
       "<style scoped>\n",
       "    .dataframe tbody tr th:only-of-type {\n",
       "        vertical-align: middle;\n",
       "    }\n",
       "\n",
       "    .dataframe tbody tr th {\n",
       "        vertical-align: top;\n",
       "    }\n",
       "\n",
       "    .dataframe thead th {\n",
       "        text-align: right;\n",
       "    }\n",
       "</style>\n",
       "<table border=\"1\" class=\"dataframe\">\n",
       "  <thead>\n",
       "    <tr style=\"text-align: right;\">\n",
       "      <th></th>\n",
       "      <th>itemID</th>\n",
       "      <th>author</th>\n",
       "    </tr>\n",
       "  </thead>\n",
       "  <tbody>\n",
       "    <tr>\n",
       "      <th>0</th>\n",
       "      <td>42600</td>\n",
       "      <td>Arlene Mosel</td>\n",
       "    </tr>\n",
       "  </tbody>\n",
       "</table>\n",
       "</div>"
      ],
      "text/plain": [
       "   itemID        author\n",
       "0   42600  Arlene Mosel"
      ]
     },
     "execution_count": 12,
     "metadata": {},
     "output_type": "execute_result"
    }
   ],
   "source": [
    "df_edit.head(1)"
   ]
  },
  {
   "cell_type": "code",
   "execution_count": 13,
   "metadata": {},
   "outputs": [
    {
     "name": "stderr",
     "output_type": "stream",
     "text": [
      "C:\\Users\\ASUS\\anaconda3\\lib\\site-packages\\pandas\\core\\frame.py:4163: SettingWithCopyWarning: \n",
      "A value is trying to be set on a copy of a slice from a DataFrame\n",
      "\n",
      "See the caveats in the documentation: https://pandas.pydata.org/pandas-docs/stable/user_guide/indexing.html#returning-a-view-versus-a-copy\n",
      "  return super().drop(\n"
     ]
    }
   ],
   "source": [
    "df2.drop(['author'], axis= 1, inplace=True)\n",
    "df2 = df2.merge(df_edit, how= 'left', on='itemID')"
   ]
  },
  {
   "cell_type": "code",
   "execution_count": 14,
   "metadata": {},
   "outputs": [
    {
     "data": {
      "text/plain": [
       "itemID               3389\n",
       "title                3389\n",
       "publisher            3389\n",
       "main topic           3357\n",
       "subtopics            3389\n",
       "interest_age         3389\n",
       "number_pages         3388\n",
       "release_date         3388\n",
       "ISBN_13              3365\n",
       "language             3389\n",
       "description          2974\n",
       "publisher_cluster    3389\n",
       "author                229\n",
       "dtype: int64"
      ]
     },
     "execution_count": 14,
     "metadata": {},
     "output_type": "execute_result"
    }
   ],
   "source": [
    "df2.count()"
   ]
  },
  {
   "cell_type": "code",
   "execution_count": 15,
   "metadata": {},
   "outputs": [],
   "source": [
    "df2.sort_values(\"author\", inplace = True)\n",
    "df2.drop_duplicates(subset = 'itemID',\n",
    "                     keep = 'first', inplace = True)"
   ]
  },
  {
   "cell_type": "code",
   "execution_count": 17,
   "metadata": {},
   "outputs": [],
   "source": [
    "df2 = df2[['itemID', 'title', 'author', 'publisher', 'main topic', 'subtopics', 'interest_age', 'number_pages', 'release_date', 'ISBN_13', 'language' , 'description', 'publisher_cluster']]"
   ]
  },
  {
   "cell_type": "code",
   "execution_count": 18,
   "metadata": {},
   "outputs": [
    {
     "data": {
      "text/plain": [
       "itemID               3240\n",
       "title                3240\n",
       "author                 80\n",
       "publisher            3240\n",
       "main topic           3208\n",
       "subtopics            3240\n",
       "interest_age         3240\n",
       "number_pages         3239\n",
       "release_date         3239\n",
       "ISBN_13              3216\n",
       "language             3240\n",
       "description          2827\n",
       "publisher_cluster    3240\n",
       "dtype: int64"
      ]
     },
     "execution_count": 18,
     "metadata": {},
     "output_type": "execute_result"
    }
   ],
   "source": [
    "df2.count()"
   ]
  },
  {
   "cell_type": "code",
   "execution_count": 19,
   "metadata": {},
   "outputs": [],
   "source": [
    "frames = [df1, df2]\n",
    "df = pd.concat(frames)"
   ]
  },
  {
   "cell_type": "code",
   "execution_count": 20,
   "metadata": {},
   "outputs": [
    {
     "data": {
      "text/plain": [
       "3160"
      ]
     },
     "execution_count": 20,
     "metadata": {},
     "output_type": "execute_result"
    }
   ],
   "source": [
    "df['author'].isna().sum()"
   ]
  },
  {
   "cell_type": "code",
   "execution_count": 21,
   "metadata": {},
   "outputs": [],
   "source": [
    "df.to_csv('publisher_cluster_added.csv')"
   ]
  },
  {
   "cell_type": "code",
   "execution_count": 55,
   "metadata": {},
   "outputs": [],
   "source": [
    "import pickle\n",
    "with open('D:/Uni Mannheim/Semester 2/Data Mining 2/DMC/Others datasets/Team 404/team404.pickle', \"rb\") as fh:\n",
    "  df1 = pickle.load(fh)"
   ]
  },
  {
   "cell_type": "code",
   "execution_count": 56,
   "metadata": {},
   "outputs": [
    {
     "data": {
      "text/html": [
       "<div>\n",
       "<style scoped>\n",
       "    .dataframe tbody tr th:only-of-type {\n",
       "        vertical-align: middle;\n",
       "    }\n",
       "\n",
       "    .dataframe tbody tr th {\n",
       "        vertical-align: top;\n",
       "    }\n",
       "\n",
       "    .dataframe thead th {\n",
       "        text-align: right;\n",
       "    }\n",
       "</style>\n",
       "<table border=\"1\" class=\"dataframe\">\n",
       "  <thead>\n",
       "    <tr style=\"text-align: right;\">\n",
       "      <th></th>\n",
       "      <th>itemID</th>\n",
       "      <th>authors</th>\n",
       "      <th>google_authors</th>\n",
       "      <th>thalia_authors</th>\n",
       "    </tr>\n",
       "  </thead>\n",
       "  <tbody>\n",
       "    <tr>\n",
       "      <th>0</th>\n",
       "      <td>21310</td>\n",
       "      <td>[Janey Louise Jones]</td>\n",
       "      <td>[Janey Louise Jones]</td>\n",
       "      <td>&lt;NA&gt;</td>\n",
       "    </tr>\n",
       "  </tbody>\n",
       "</table>\n",
       "</div>"
      ],
      "text/plain": [
       "   itemID               authors        google_authors thalia_authors\n",
       "0   21310  [Janey Louise Jones]  [Janey Louise Jones]           <NA>"
      ]
     },
     "execution_count": 56,
     "metadata": {},
     "output_type": "execute_result"
    }
   ],
   "source": [
    "df_temp = df1.copy()\n",
    "df_temp = df_temp [['itemID', 'authors', 'google_authors', 'thalia_authors']]\n",
    "df_temp.head(1)"
   ]
  },
  {
   "cell_type": "code",
   "execution_count": 57,
   "metadata": {},
   "outputs": [
    {
     "name": "stdout",
     "output_type": "stream",
     "text": [
      "<class 'pandas.core.frame.DataFrame'>\n"
     ]
    }
   ],
   "source": [
    "print(type(df_temp))"
   ]
  },
  {
   "cell_type": "code",
   "execution_count": 58,
   "metadata": {},
   "outputs": [],
   "source": [
    "df_temp.dropna(subset=['itemID'],inplace=True)"
   ]
  },
  {
   "cell_type": "code",
   "execution_count": 59,
   "metadata": {},
   "outputs": [
    {
     "data": {
      "text/plain": [
       "itemID            58976\n",
       "authors           57190\n",
       "google_authors    57777\n",
       "thalia_authors    42583\n",
       "dtype: int64"
      ]
     },
     "execution_count": 59,
     "metadata": {},
     "output_type": "execute_result"
    }
   ],
   "source": [
    "df_temp.count()"
   ]
  },
  {
   "cell_type": "code",
   "execution_count": 60,
   "metadata": {},
   "outputs": [
    {
     "name": "stderr",
     "output_type": "stream",
     "text": [
      "C:\\Users\\ASUS\\anaconda3\\lib\\site-packages\\pandas\\core\\frame.py:4163: SettingWithCopyWarning: \n",
      "A value is trying to be set on a copy of a slice from a DataFrame\n",
      "\n",
      "See the caveats in the documentation: https://pandas.pydata.org/pandas-docs/stable/user_guide/indexing.html#returning-a-view-versus-a-copy\n",
      "  return super().drop(\n"
     ]
    }
   ],
   "source": [
    "df1 = df[df['author'].notnull()]\n",
    "df2 = df[df['author'].isna()]\n",
    "df2.drop(['author'], axis= 1, inplace=True)"
   ]
  },
  {
   "cell_type": "code",
   "execution_count": 61,
   "metadata": {},
   "outputs": [],
   "source": [
    "df2 = df2.merge(df_temp, how= 'left', on='itemID')"
   ]
  },
  {
   "cell_type": "code",
   "execution_count": 62,
   "metadata": {},
   "outputs": [
    {
     "data": {
      "text/plain": [
       "itemID               3160\n",
       "title                3160\n",
       "publisher            3160\n",
       "main topic           3128\n",
       "subtopics            3160\n",
       "interest_age         3160\n",
       "number_pages         3159\n",
       "release_date         3159\n",
       "ISBN_13              3136\n",
       "language             3160\n",
       "description          2748\n",
       "publisher_cluster    3160\n",
       "authors                 0\n",
       "google_authors        890\n",
       "thalia_authors        364\n",
       "dtype: int64"
      ]
     },
     "execution_count": 62,
     "metadata": {},
     "output_type": "execute_result"
    }
   ],
   "source": [
    "df2.count()"
   ]
  },
  {
   "cell_type": "code",
   "execution_count": 63,
   "metadata": {},
   "outputs": [],
   "source": [
    "df3 = df2[df2['google_authors'] == df2['thalia_authors']]\n",
    "df4 = df2[df2['google_authors'] != df2['thalia_authors']]"
   ]
  },
  {
   "cell_type": "code",
   "execution_count": 64,
   "metadata": {},
   "outputs": [],
   "source": [
    "df3.drop(['authors','google_authors'], axis= 1, inplace=True)"
   ]
  },
  {
   "cell_type": "code",
   "execution_count": 66,
   "metadata": {},
   "outputs": [],
   "source": [
    "df3 = df3.rename(columns={'thalia_authors': 'author'})\n",
    "df3 = df3[['itemID', 'title', 'author', 'publisher', 'main topic', 'subtopics', 'interest_age', 'number_pages', 'release_date', 'ISBN_13', 'language' , 'description', 'publisher_cluster']]"
   ]
  },
  {
   "cell_type": "code",
   "execution_count": 67,
   "metadata": {},
   "outputs": [
    {
     "data": {
      "text/plain": [
       "itemID               135\n",
       "title                135\n",
       "author               135\n",
       "publisher            135\n",
       "main topic           131\n",
       "subtopics            135\n",
       "interest_age         135\n",
       "number_pages         135\n",
       "release_date         135\n",
       "ISBN_13              134\n",
       "language             135\n",
       "description          129\n",
       "publisher_cluster    135\n",
       "dtype: int64"
      ]
     },
     "execution_count": 67,
     "metadata": {},
     "output_type": "execute_result"
    }
   ],
   "source": [
    "df3.count()"
   ]
  },
  {
   "cell_type": "code",
   "execution_count": 68,
   "metadata": {},
   "outputs": [],
   "source": [
    "df5 = df4[df4['thalia_authors'].isna()]\n",
    "df6 = df4[df4['thalia_authors'].notnull()]"
   ]
  },
  {
   "cell_type": "code",
   "execution_count": 71,
   "metadata": {},
   "outputs": [],
   "source": [
    "df5.drop(['authors','thalia_authors'], axis= 1, inplace=True)"
   ]
  },
  {
   "cell_type": "code",
   "execution_count": 72,
   "metadata": {},
   "outputs": [],
   "source": [
    "df5 = df5.rename(columns={'google_authors': 'author'})"
   ]
  },
  {
   "cell_type": "code",
   "execution_count": 74,
   "metadata": {},
   "outputs": [],
   "source": [
    "df5 = df5[['itemID', 'title', 'author', 'publisher', 'main topic', 'subtopics', 'interest_age', 'number_pages', 'release_date', 'ISBN_13', 'language' , 'description', 'publisher_cluster']]"
   ]
  },
  {
   "cell_type": "code",
   "execution_count": 75,
   "metadata": {},
   "outputs": [
    {
     "data": {
      "text/plain": [
       "itemID               2796\n",
       "title                2796\n",
       "author                590\n",
       "publisher            2796\n",
       "main topic           2769\n",
       "subtopics            2796\n",
       "interest_age         2796\n",
       "number_pages         2795\n",
       "release_date         2795\n",
       "ISBN_13              2774\n",
       "language             2796\n",
       "description          2401\n",
       "publisher_cluster    2796\n",
       "dtype: int64"
      ]
     },
     "execution_count": 75,
     "metadata": {},
     "output_type": "execute_result"
    }
   ],
   "source": [
    "df5.count()"
   ]
  },
  {
   "cell_type": "code",
   "execution_count": 76,
   "metadata": {},
   "outputs": [],
   "source": [
    "df7 = df6[df6['google_authors'].isna()]\n",
    "df8 = df6[df6['google_authors'].notnull()]"
   ]
  },
  {
   "cell_type": "code",
   "execution_count": 79,
   "metadata": {},
   "outputs": [],
   "source": [
    "df7.drop(['authors','google_authors'], axis= 1, inplace=True)"
   ]
  },
  {
   "cell_type": "code",
   "execution_count": 80,
   "metadata": {},
   "outputs": [],
   "source": [
    "df7 = df7.rename(columns={'thalia_authors': 'author'})\n",
    "df7 = df7[['itemID', 'title', 'author', 'publisher', 'main topic', 'subtopics', 'interest_age', 'number_pages', 'release_date', 'ISBN_13', 'language' , 'description', 'publisher_cluster']]"
   ]
  },
  {
   "cell_type": "code",
   "execution_count": 81,
   "metadata": {},
   "outputs": [
    {
     "data": {
      "text/plain": [
       "itemID               64\n",
       "title                64\n",
       "author               64\n",
       "publisher            64\n",
       "main topic           63\n",
       "subtopics            64\n",
       "interest_age         64\n",
       "number_pages         64\n",
       "release_date         64\n",
       "ISBN_13              64\n",
       "language             64\n",
       "description          57\n",
       "publisher_cluster    64\n",
       "dtype: int64"
      ]
     },
     "execution_count": 81,
     "metadata": {},
     "output_type": "execute_result"
    }
   ],
   "source": [
    "df7.count()"
   ]
  },
  {
   "cell_type": "code",
   "execution_count": 88,
   "metadata": {},
   "outputs": [],
   "source": [
    "goal = str(df8.at[50,'thalia_authors'])\n",
    "df8.loc[50, 'google_authors'] = goal\n",
    "goal = str(df8.at[53,'thalia_authors'])\n",
    "df8.loc[53, 'google_authors'] = goal\n",
    "goal = str(df8.at[81,'thalia_authors'])\n",
    "df8.loc[81, 'google_authors'] = goal\n",
    "goal = str(df8.at[130,'thalia_authors'])\n",
    "df8.loc[130, 'google_authors'] = goal\n",
    "goal = str(df8.at[228,'thalia_authors'])\n",
    "df8.loc[228, 'google_authors'] = goal\n",
    "goal = str(df8.at[413,'thalia_authors'])\n",
    "df8.loc[413, 'google_authors'] = goal"
   ]
  },
  {
   "cell_type": "code",
   "execution_count": null,
   "metadata": {},
   "outputs": [],
   "source": [
    "d8.drop(['authors','thalia_authors'], axis= 1, inplace=True)"
   ]
  },
  {
   "cell_type": "code",
   "execution_count": 89,
   "metadata": {},
   "outputs": [],
   "source": [
    "df8 = df8.rename(columns={'google_authors': 'author'})\n",
    "df8 = df8[['itemID', 'title', 'author', 'publisher', 'main topic', 'subtopics', 'interest_age', 'number_pages', 'release_date', 'ISBN_13', 'language' , 'description', 'publisher_cluster']]"
   ]
  },
  {
   "cell_type": "code",
   "execution_count": 90,
   "metadata": {},
   "outputs": [
    {
     "data": {
      "text/plain": [
       "itemID               165\n",
       "title                165\n",
       "author               165\n",
       "publisher            165\n",
       "main topic           165\n",
       "subtopics            165\n",
       "interest_age         165\n",
       "number_pages         165\n",
       "release_date         165\n",
       "ISBN_13              164\n",
       "language             165\n",
       "description          161\n",
       "publisher_cluster    165\n",
       "dtype: int64"
      ]
     },
     "execution_count": 90,
     "metadata": {},
     "output_type": "execute_result"
    }
   ],
   "source": [
    "df8.count()"
   ]
  },
  {
   "cell_type": "code",
   "execution_count": 91,
   "metadata": {},
   "outputs": [],
   "source": [
    "frames = [df1, df3, df5, df7,df8]\n",
    "df = pd.concat(frames)"
   ]
  },
  {
   "cell_type": "code",
   "execution_count": 92,
   "metadata": {},
   "outputs": [
    {
     "data": {
      "text/plain": [
       "2206"
      ]
     },
     "execution_count": 92,
     "metadata": {},
     "output_type": "execute_result"
    }
   ],
   "source": [
    "df['author'].isna().sum()"
   ]
  },
  {
   "cell_type": "code",
   "execution_count": 93,
   "metadata": {},
   "outputs": [],
   "source": [
    "df.to_csv('publisher_cluster_added.csv')"
   ]
  },
  {
   "cell_type": "code",
   "execution_count": null,
   "metadata": {},
   "outputs": [],
   "source": []
  }
 ],
 "metadata": {
  "kernelspec": {
   "display_name": "Python 3",
   "language": "python",
   "name": "python3"
  },
  "language_info": {
   "codemirror_mode": {
    "name": "ipython",
    "version": 3
   },
   "file_extension": ".py",
   "mimetype": "text/x-python",
   "name": "python",
   "nbconvert_exporter": "python",
   "pygments_lexer": "ipython3",
   "version": "3.8.5"
  }
 },
 "nbformat": 4,
 "nbformat_minor": 4
}
