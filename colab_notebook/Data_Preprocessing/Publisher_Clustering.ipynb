{
 "cells": [
  {
   "cell_type": "code",
   "execution_count": 1,
   "metadata": {},
   "outputs": [],
   "source": [
    "#in this notebook, we will cluster publishers for different common languages in our item data set.\n",
    "#the distance between cluster centroids can be used as one componenet in our recommender system\n",
    "# Importing necessary libraries\n",
    "import pandas as pd\n",
    "import numpy as np\n",
    "import pandas as pd\n",
    "import numpy as np\n",
    "from nltk.corpus import stopwords\n",
    "from sklearn import metrics\n",
    "from sklearn.cluster import KMeans\n",
    "from sklearn.metrics.pairwise import linear_kernel\n",
    "from sklearn.metrics.pairwise import cosine_similarity\n",
    "from sklearn.feature_extraction.text import CountVectorizer\n",
    "from sklearn.feature_extraction.text import TfidfVectorizer\n",
    "from sklearn.cluster import MiniBatchKMeans\n",
    "from sklearn.decomposition import PCA\n",
    "from nltk.tokenize import RegexpTokenizer\n",
    "from scipy.spatial.distance import cdist\n",
    "import re\n",
    "import string\n",
    "import random\n",
    "import matplotlib.pyplot as plt\n",
    "%matplotlib inline"
   ]
  },
  {
   "cell_type": "code",
   "execution_count": 2,
   "metadata": {},
   "outputs": [],
   "source": [
    "#Import dataset\n",
    "books_data = pd.read_csv('D:/Uni Mannheim/Semester 2/Data Mining 2/DMC/final_improv_ver2.csv', sep=',')\n",
    "df = books_data.copy()"
   ]
  },
  {
   "cell_type": "code",
   "execution_count": 3,
   "metadata": {},
   "outputs": [
    {
     "data": {
      "text/plain": [
       "0"
      ]
     },
     "execution_count": 3,
     "metadata": {},
     "output_type": "execute_result"
    }
   ],
   "source": [
    "#as we can see, there is no NaN values for publishers in our dataset thanks to the preprocessing step that we have conducted\n",
    "df['publisher'].isna().sum()"
   ]
  },
  {
   "cell_type": "code",
   "execution_count": 4,
   "metadata": {
    "scrolled": false
   },
   "outputs": [
    {
     "name": "stdout",
     "output_type": "stream",
     "text": [
      "      language   itemID\n",
      "0           en  42445.0\n",
      "1           de  28785.0\n",
      "2           es   3435.0\n",
      "3           it    977.0\n",
      "4           fr    914.0\n",
      "5  other langs   1474.0\n"
     ]
    }
   ],
   "source": [
    "#as we can see here, the distribution of languages in our data set is as follows:\n",
    "#English: 54%, German 38%, Spanish 4%, Italian 1%, French 1%\n",
    "#we only do clustering for these five most common languages in our dataset\n",
    "#our approach mainly relies on the description attribute\n",
    "\n",
    "lang_type = df.groupby('language',sort = False).agg({'itemID': 'count'}).reset_index()\n",
    "lang_type.sort_values(by=['itemID'], ascending=False, inplace=True, ignore_index= True)\n",
    "threshold = 900\n",
    "m = lang_type['itemID'] < threshold\n",
    "lang_type1 = lang_type[~m].append(lang_type.loc[m, ['itemID']].sum(), ignore_index=True)\n",
    "lang_type1.at[5,'language'] = 'other langs'\n",
    "print(lang_type1)"
   ]
  },
  {
   "cell_type": "code",
   "execution_count": 5,
   "metadata": {},
   "outputs": [
    {
     "name": "stderr",
     "output_type": "stream",
     "text": [
      "<ipython-input-5-8a9908f44703>:16: SettingWithCopyWarning: \n",
      "A value is trying to be set on a copy of a slice from a DataFrame.\n",
      "Try using .loc[row_indexer,col_indexer] = value instead\n",
      "\n",
      "See the caveats in the documentation: https://pandas.pydata.org/pandas-docs/stable/user_guide/indexing.html#returning-a-view-versus-a-copy\n",
      "  df_de['description'] = df_de['description'].fillna('')\n",
      "<ipython-input-5-8a9908f44703>:20: SettingWithCopyWarning: \n",
      "A value is trying to be set on a copy of a slice from a DataFrame.\n",
      "Try using .loc[row_indexer,col_indexer] = value instead\n",
      "\n",
      "See the caveats in the documentation: https://pandas.pydata.org/pandas-docs/stable/user_guide/indexing.html#returning-a-view-versus-a-copy\n",
      "  df_fr['description'] = df_fr['description'].fillna('')\n",
      "<ipython-input-5-8a9908f44703>:21: SettingWithCopyWarning: \n",
      "A value is trying to be set on a copy of a slice from a DataFrame.\n",
      "Try using .loc[row_indexer,col_indexer] = value instead\n",
      "\n",
      "See the caveats in the documentation: https://pandas.pydata.org/pandas-docs/stable/user_guide/indexing.html#returning-a-view-versus-a-copy\n",
      "  df_rem['description'] = df_fr['description'].fillna('')\n"
     ]
    }
   ],
   "source": [
    "#here we simply divide our dataset w.r.t languages\n",
    "df_de = df[df['language'] == 'de']\n",
    "df_temp = df[df['language'] != 'de']\n",
    "df_en = df_temp[df_temp['language'] == 'en']\n",
    "df_temp = df_temp[df_temp['language'] != 'en']\n",
    "df_es = df_temp[df_temp['language'] == 'es']\n",
    "df_temp = df_temp[df_temp['language'] != 'es']\n",
    "df_it = df_temp[df_temp['language'] == 'it']\n",
    "df_temp = df_temp[df_temp['language'] != 'it']\n",
    "df_fr = df_temp[df_temp['language'] == 'fr']\n",
    "df_rem = df_temp[df_temp['language'] != 'fr'] \n",
    "\n",
    "#Note that we are going to concatanate all descriptions that we have for each publisher.\n",
    "#But there are items with NaN description. To acoid erros, we substitute all NaN values\n",
    "# in description attribute with empty strings ''\n",
    "df_de['description'] = df_de['description'].fillna('')\n",
    "df_en['description'] = df_en['description'].fillna('')\n",
    "df_es['description'] = df_es['description'].fillna('')\n",
    "df_it['description'] = df_it['description'].fillna('')\n",
    "df_fr['description'] = df_fr['description'].fillna('')\n",
    "df_rem['description'] = df_fr['description'].fillna('')\n",
    "\n",
    "#df_de_nan = df_de[df_de['description'].isnull()]\n",
    "#df_en_nan = df_en[df_en['description'].isnull()]\n",
    "#df_es_nan = df_es[df_es['description'].isnull()]\n",
    "#df_it_nan = df_it[df_it['description'].isnull()]\n",
    "#df_fr_nan = df_fr[df_fr['description'].isnull()]\n",
    "\n",
    "#df_de = df_de.dropna(subset=['description'])\n",
    "#df_en = df_en.dropna(subset=['description'])\n",
    "#df_es = df_es.dropna(subset=['description'])\n",
    "#df_it = df_it.dropna(subset=['description'])\n",
    "#df_fr = df_fr.dropna(subset=['description'])"
   ]
  },
  {
   "cell_type": "code",
   "execution_count": 6,
   "metadata": {},
   "outputs": [
    {
     "name": "stdout",
     "output_type": "stream",
     "text": [
      "number of disting publishers in en: 5177\n",
      "number of disting publishers in de: 2848\n",
      "number of disting publishers in es: 457\n",
      "number of disting publishers in it: 144\n",
      "number of disting publishers in fr: 218\n"
     ]
    }
   ],
   "source": [
    "#print the number of distinct publishers in each of these subsets of our data\n",
    "print('number of disting publishers in en:', len(pd.unique(df_en['publisher'])))\n",
    "print('number of disting publishers in de:', len(pd.unique(df_de['publisher'])))\n",
    "print('number of disting publishers in es:', len(pd.unique(df_es['publisher'])))\n",
    "print('number of disting publishers in it:', len(pd.unique(df_it['publisher'])))\n",
    "print('number of disting publishers in fr:', len(pd.unique(df_fr['publisher'])))"
   ]
  },
  {
   "cell_type": "code",
   "execution_count": 7,
   "metadata": {},
   "outputs": [],
   "source": [
    "#now we concatanate all descriptions that we have for each publisher.\n",
    "df_de_concat = df_de.groupby(['publisher'])['description'].apply(','.join).reset_index()\n",
    "df_en_concat = df_en.groupby(['publisher'])['description'].apply(','.join).reset_index()\n",
    "df_es_concat = df_es.groupby(['publisher'])['description'].apply(','.join).reset_index()\n",
    "df_it_concat = df_it.groupby(['publisher'])['description'].apply(','.join).reset_index()\n",
    "df_fr_concat = df_fr.groupby(['publisher'])['description'].apply(','.join).reset_index()"
   ]
  },
  {
   "cell_type": "code",
   "execution_count": 9,
   "metadata": {},
   "outputs": [],
   "source": [
    "# Function for removing NonAscii characters\n",
    "def _removeNonAscii(s):\n",
    "    return \"\".join(i for i in s if  ord(i)<128)\n",
    "\n",
    "# Function for converting into lower case\n",
    "def make_lower_case(text):\n",
    "    return text.lower()\n",
    "\n",
    "# Function for removing stop words\n",
    "def remove_stop_words(text, item_lang):\n",
    "    if item_lang in lang_in_nltk:\n",
    "        text = text.split()\n",
    "        stops = set(stopwords.words(item_lang)) #change to other language #\"english\"\n",
    "        text = [w for w in text if not w in stops]\n",
    "        text = \" \".join(text)\n",
    "    return text\n",
    "\n",
    "# Function for removing punctuation\n",
    "def remove_punctuation(text):\n",
    "    tokenizer = RegexpTokenizer(r'\\w+')\n",
    "    text = tokenizer.tokenize(text)\n",
    "    text = \" \".join(text)\n",
    "    return text\n",
    "\n",
    "# Function for removing the html tags\n",
    "def remove_html(text):\n",
    "    html_pattern = re.compile('<.*?>')\n",
    "    return html_pattern.sub(r'', text)"
   ]
  },
  {
   "cell_type": "code",
   "execution_count": 10,
   "metadata": {},
   "outputs": [],
   "source": [
    "#here, we preprocess documents that we collected with predefined functions.\n",
    "#note that we still does not use the stop word removal. #is it only available for English?\n",
    "\n",
    "for i in range (len(df_en_concat.index)):\n",
    "    processesed_description = df_en_concat.at[i,'description']\n",
    "    processesed_description = _removeNonAscii(processesed_description)\n",
    "    processesed_description = make_lower_case(processesed_description)\n",
    "    processesed_description = remove_punctuation(processesed_description)\n",
    "    processesed_description = remove_html(processesed_description)\n",
    "    df_en_concat.loc[i, 'description'] = processesed_description\n",
    "\n",
    "for i in range (len(df_de_concat.index)):\n",
    "    processesed_description = df_de_concat.at[i,'description']\n",
    "    processesed_description = _removeNonAscii(processesed_description)\n",
    "    processesed_description = make_lower_case(processesed_description)\n",
    "    processesed_description = remove_punctuation(processesed_description)\n",
    "    processesed_description = remove_html(processesed_description)\n",
    "    df_de_concat.loc[i, 'description'] = processesed_description\n",
    "\n",
    "    \n",
    "for i in range (len(df_es_concat.index)):\n",
    "    processesed_description = df_es_concat.at[i,'description']\n",
    "    processesed_description = _removeNonAscii(processesed_description)\n",
    "    processesed_description = make_lower_case(processesed_description)\n",
    "    processesed_description = remove_punctuation(processesed_description)\n",
    "    processesed_description = remove_html(processesed_description)\n",
    "    df_es_concat.loc[i, 'description'] = processesed_description\n",
    "    \n",
    "for i in range (len(df_it_concat.index)):\n",
    "    processesed_description = df_it_concat.at[i,'description']\n",
    "    processesed_description = _removeNonAscii(processesed_description)\n",
    "    processesed_description = make_lower_case(processesed_description)\n",
    "    processesed_description = remove_punctuation(processesed_description)\n",
    "    processesed_description = remove_html(processesed_description)\n",
    "    df_it_concat.loc[i, 'description'] = processesed_description\n",
    "    \n",
    "for i in range (len(df_fr_concat.index)):\n",
    "    processesed_description = df_fr_concat.at[i,'description']\n",
    "    processesed_description = _removeNonAscii(processesed_description)\n",
    "    processesed_description = make_lower_case(processesed_description)\n",
    "    processesed_description = remove_punctuation(processesed_description)\n",
    "    processesed_description = remove_html(processesed_description)\n",
    "    df_fr_concat.loc[i, 'description'] = processesed_description"
   ]
  },
  {
   "cell_type": "code",
   "execution_count": 10,
   "metadata": {},
   "outputs": [],
   "source": [
    "#We start with publisher clustering for German language.\n",
    "vec = TfidfVectorizer()\n",
    "vec.fit(df_de_concat.description.values)\n",
    "features = vec.transform(df_de_concat.description.values)"
   ]
  },
  {
   "cell_type": "code",
   "execution_count": 11,
   "metadata": {},
   "outputs": [
    {
     "data": {
      "image/png": "[encoded data removed]",
      "text/plain": [
       "<Figure size 432x288 with 1 Axes>"
      ]
     },
     "metadata": {
      "needs_background": "light"
     },
     "output_type": "display_data"
    }
   ],
   "source": [
    "#in this section we use elbow method to find out about number of required clusters in German language.\n",
    "\n",
    "# reduce the features to 2D\n",
    "pca = PCA(n_components=2, random_state=0)\n",
    "reduced_features = pca.fit_transform(features.toarray())\n",
    "\n",
    "distortions = []\n",
    "inertias = []\n",
    "mapping1 = {}\n",
    "mapping2 = {}\n",
    "K = range(1, 10)\n",
    " \n",
    "for k in K:\n",
    "    # Building and fitting the model\n",
    "    kmeans = KMeans(n_clusters=k, random_state=0).fit(reduced_features)\n",
    "    distortions.append(sum(np.min(cdist(reduced_features, kmeans.cluster_centers_,\n",
    "                                        'cosine'), axis=1)) / reduced_features.shape[0])\n",
    "    inertias.append(kmeans.inertia_)\n",
    " \n",
    "    mapping1[k] = sum(np.min(cdist(reduced_features, kmeans.cluster_centers_,\n",
    "                                   'cosine'), axis=1)) / reduced_features.shape[0]\n",
    "    mapping2[k] = kmeans.inertia_\n",
    "\n",
    "plt.plot(K, distortions, 'bx-')\n",
    "plt.xlabel('Values of K')\n",
    "plt.ylabel('Distortion')\n",
    "plt.title('The Elbow Method using Distortion')\n",
    "plt.show()"
   ]
  },
  {
   "cell_type": "code",
   "execution_count": 12,
   "metadata": {},
   "outputs": [
    {
     "data": {
      "image/png": "[encoded data removed]",
      "text/plain": [
       "<Figure size 432x288 with 1 Axes>"
      ]
     },
     "metadata": {
      "needs_background": "light"
     },
     "output_type": "display_data"
    }
   ],
   "source": [
    "plt.plot(K, inertias, 'bx-')\n",
    "plt.xlabel('Values of K')\n",
    "plt.ylabel('Inertia')\n",
    "plt.title('The Elbow Method using Inertia')\n",
    "plt.show()"
   ]
  },
  {
   "cell_type": "code",
   "execution_count": 13,
   "metadata": {},
   "outputs": [],
   "source": [
    "#using elbow method we can conclude that k=3 is a good choice. However, if we apply k=3, and look at the cosine\n",
    "#similarity matirx we can see that cosine similarity of two clusters is 0.99. Such distinction is not useful.\n",
    "#so, we will continue with k=2\n",
    "kmeans = KMeans(n_clusters=2, random_state=0).fit(features)\n",
    "labels = kmeans.labels_\n",
    "centers = kmeans.cluster_centers_"
   ]
  },
  {
   "cell_type": "code",
   "execution_count": 14,
   "metadata": {},
   "outputs": [],
   "source": [
    "#We collect cosine similarity of the centroids in a 2D array to be used by our RS.\n",
    "cosine_sim_pub_de = np.ndarray(shape=(2,2), dtype=np.ndarray, order='F')\n",
    "for i in range (2):\n",
    "    for j in range (2):\n",
    "        # Dot and norm\n",
    "        dot = sum(a*b for a, b in zip(centers[i], centers[j]))\n",
    "        norm_a = sum(a*a for a in centers[i]) ** 0.5\n",
    "        norm_b = sum(b*b for b in centers[j]) ** 0.5\n",
    "        # Cosine similarity\n",
    "        cos_sim = dot / (norm_a*norm_b)\n",
    "        cosine_sim_pub_de[i,j] = cos_sim"
   ]
  },
  {
   "cell_type": "code",
   "execution_count": 15,
   "metadata": {},
   "outputs": [
    {
     "name": "stdout",
     "output_type": "stream",
     "text": [
      "[[1.0 0.31513736784729934]\n",
      " [0.31513736784729934 1.0]]\n"
     ]
    }
   ],
   "source": [
    "print(cosine_sim_pub_de)"
   ]
  },
  {
   "cell_type": "code",
   "execution_count": 16,
   "metadata": {},
   "outputs": [
    {
     "data": {
      "text/html": [
       "<div>\n",
       "<style scoped>\n",
       "    .dataframe tbody tr th:only-of-type {\n",
       "        vertical-align: middle;\n",
       "    }\n",
       "\n",
       "    .dataframe tbody tr th {\n",
       "        vertical-align: top;\n",
       "    }\n",
       "\n",
       "    .dataframe thead th {\n",
       "        text-align: right;\n",
       "    }\n",
       "</style>\n",
       "<table border=\"1\" class=\"dataframe\">\n",
       "  <thead>\n",
       "    <tr style=\"text-align: right;\">\n",
       "      <th></th>\n",
       "      <th>itemID</th>\n",
       "      <th>title</th>\n",
       "      <th>author</th>\n",
       "      <th>publisher</th>\n",
       "      <th>main topic</th>\n",
       "      <th>subtopics</th>\n",
       "      <th>language</th>\n",
       "      <th>description</th>\n",
       "      <th>interest_age</th>\n",
       "      <th>number_pages</th>\n",
       "      <th>release_date</th>\n",
       "      <th>ISBN_13</th>\n",
       "      <th>publisher_cluster</th>\n",
       "    </tr>\n",
       "  </thead>\n",
       "  <tbody>\n",
       "    <tr>\n",
       "      <th>0</th>\n",
       "      <td>73018</td>\n",
       "      <td>Einfach zeichnen! Step by Step</td>\n",
       "      <td>Wiebke Krabbe</td>\n",
       "      <td>Schwager und Steinlein</td>\n",
       "      <td>AGZ</td>\n",
       "      <td>[5AJ,AGZ,WFA,YBG,YBL,YNA,YPA]</td>\n",
       "      <td>de</td>\n",
       "      <td></td>\n",
       "      <td>1</td>\n",
       "      <td>{224}</td>\n",
       "      <td>{Timestamp('2020-12-02 00:00:00')}</td>\n",
       "      <td>[{'type': 'ISBN_10', 'identifier': '3849927601...</td>\n",
       "      <td>0</td>\n",
       "    </tr>\n",
       "  </tbody>\n",
       "</table>\n",
       "</div>"
      ],
      "text/plain": [
       "   itemID                           title         author  \\\n",
       "0   73018  Einfach zeichnen! Step by Step  Wiebke Krabbe   \n",
       "\n",
       "                publisher main topic                      subtopics language  \\\n",
       "0  Schwager und Steinlein        AGZ  [5AJ,AGZ,WFA,YBG,YBL,YNA,YPA]       de   \n",
       "\n",
       "  description interest_age number_pages                        release_date  \\\n",
       "0                        1        {224}  {Timestamp('2020-12-02 00:00:00')}   \n",
       "\n",
       "                                             ISBN_13  publisher_cluster  \n",
       "0  [{'type': 'ISBN_10', 'identifier': '3849927601...                  0  "
      ]
     },
     "execution_count": 16,
     "metadata": {},
     "output_type": "execute_result"
    }
   ],
   "source": [
    "df_de_concat['publisher_cluster'] = labels.tolist()\n",
    "df_de_concat_copy = df_de_concat.copy() \n",
    "df_de_concat.drop(['description'], axis= 1, inplace=True)\n",
    "df_de = df_de.merge(df_de_concat, on='publisher')\n",
    "df_de.drop(['Unnamed: 0'], axis= 1, inplace=True)\n",
    "df_de.head(1)"
   ]
  },
  {
   "cell_type": "code",
   "execution_count": 17,
   "metadata": {},
   "outputs": [
    {
     "name": "stdout",
     "output_type": "stream",
     "text": [
      "   publisher_cluster  itemID\n",
      "0                  0   25368\n",
      "1                  1    4044\n"
     ]
    }
   ],
   "source": [
    "pub_type = df_de.groupby('publisher_cluster',sort = False).agg({'itemID': 'count'}).reset_index()\n",
    "pub_type.sort_values(by=['itemID'], ascending=False, inplace=True, ignore_index= True)\n",
    "print(pub_type)"
   ]
  },
  {
   "cell_type": "code",
   "execution_count": 18,
   "metadata": {},
   "outputs": [],
   "source": [
    "df_de_main = df_de[df_de['publisher_cluster'] == 0]\n",
    "df_de_rem = df_de[df_de['publisher_cluster'] != 0]\n",
    "df_de_concat_copy = df_de_concat_copy[df_de_concat_copy['publisher_cluster'] == 0]"
   ]
  },
  {
   "cell_type": "code",
   "execution_count": 19,
   "metadata": {},
   "outputs": [],
   "source": [
    "#Now, we will continue our clustring focusing on the main cluster for German language.\n",
    "vec = TfidfVectorizer()\n",
    "vec.fit(df_de_concat_copy.description.values)\n",
    "features = vec.transform(df_de_concat_copy.description.values)"
   ]
  },
  {
   "cell_type": "code",
   "execution_count": 20,
   "metadata": {},
   "outputs": [
    {
     "data": {
      "image/png": "[encoded data removed]",
      "text/plain": [
       "<Figure size 432x288 with 1 Axes>"
      ]
     },
     "metadata": {
      "needs_background": "light"
     },
     "output_type": "display_data"
    }
   ],
   "source": [
    "#in this section we use elbow method to find out about number of required clusters in German language.\n",
    "\n",
    "# reduce the features to 2D\n",
    "pca = PCA(n_components=2, random_state=0)\n",
    "reduced_features = pca.fit_transform(features.toarray())\n",
    "\n",
    "distortions = []\n",
    "inertias = []\n",
    "mapping1 = {}\n",
    "mapping2 = {}\n",
    "K = range(1, 10)\n",
    " \n",
    "for k in K:\n",
    "    # Building and fitting the model\n",
    "    kmeans = KMeans(n_clusters=k, random_state=0).fit(reduced_features)\n",
    "    distortions.append(sum(np.min(cdist(reduced_features, kmeans.cluster_centers_,\n",
    "                                        'cosine'), axis=1)) / reduced_features.shape[0])\n",
    "    inertias.append(kmeans.inertia_)\n",
    " \n",
    "    mapping1[k] = sum(np.min(cdist(reduced_features, kmeans.cluster_centers_,\n",
    "                                   'cosine'), axis=1)) / reduced_features.shape[0]\n",
    "    mapping2[k] = kmeans.inertia_\n",
    "\n",
    "plt.plot(K, distortions, 'bx-')\n",
    "plt.xlabel('Values of K')\n",
    "plt.ylabel('Distortion')\n",
    "plt.title('The Elbow Method using Distortion')\n",
    "plt.show()"
   ]
  },
  {
   "cell_type": "code",
   "execution_count": 21,
   "metadata": {},
   "outputs": [
    {
     "data": {
      "image/png": "[encoded data removed]",
      "text/plain": [
       "<Figure size 432x288 with 1 Axes>"
      ]
     },
     "metadata": {
      "needs_background": "light"
     },
     "output_type": "display_data"
    }
   ],
   "source": [
    "plt.plot(K, inertias, 'bx-')\n",
    "plt.xlabel('Values of K')\n",
    "plt.ylabel('Inertia')\n",
    "plt.title('The Elbow Method using Inertia')\n",
    "plt.show()"
   ]
  },
  {
   "cell_type": "code",
   "execution_count": 22,
   "metadata": {},
   "outputs": [],
   "source": [
    "#using elbow method we can conclude that k=2 or k=3 or k=4 is a good choice.\n",
    "#however, if we apply k=3 or k=2 we can see that cosine similarity of two clusters is equal to 0.98.\n",
    "#such distinction is not useful for our evaluation. it seems that two clusters are really similar to\n",
    "#each other anyway!, so we will continue with 3 clusters in order to isolate corner points as much as we can.\n",
    "#through experiment we can see that if we keep k=4 then one cluster will only includes 7 books, which is not desirable\n",
    "\n",
    "kmeans = KMeans(n_clusters=3, random_state=0).fit(features)\n",
    "labels = kmeans.labels_\n",
    "centers = kmeans.cluster_centers_"
   ]
  },
  {
   "cell_type": "code",
   "execution_count": 23,
   "metadata": {},
   "outputs": [],
   "source": [
    "#We collect cosine similarity of the centroids in a 2D array to be used by our RS.\n",
    "cosine_sim_pub_de_lev2 = np.ndarray(shape=(3,3), dtype=np.ndarray, order='F')\n",
    "for i in range (3):\n",
    "    for j in range (3):\n",
    "        # Dot and norm\n",
    "        dot = sum(a*b for a, b in zip(centers[i], centers[j]))\n",
    "        norm_a = sum(a*a for a in centers[i]) ** 0.5\n",
    "        norm_b = sum(b*b for b in centers[j]) ** 0.5\n",
    "        # Cosine similarity\n",
    "        cos_sim = dot / (norm_a*norm_b)\n",
    "        cosine_sim_pub_de_lev2[i,j] = cos_sim"
   ]
  },
  {
   "cell_type": "code",
   "execution_count": 24,
   "metadata": {},
   "outputs": [
    {
     "name": "stdout",
     "output_type": "stream",
     "text": [
      "[[1.0 0.8542686054060038 0.8246997999672416]\n",
      " [0.8542686054060038 1.0 0.9813799242789548]\n",
      " [0.8246997999672416 0.9813799242789548 1.0]]\n"
     ]
    }
   ],
   "source": [
    "print(cosine_sim_pub_de_lev2)"
   ]
  },
  {
   "cell_type": "code",
   "execution_count": 25,
   "metadata": {},
   "outputs": [
    {
     "data": {
      "text/html": [
       "<div>\n",
       "<style scoped>\n",
       "    .dataframe tbody tr th:only-of-type {\n",
       "        vertical-align: middle;\n",
       "    }\n",
       "\n",
       "    .dataframe tbody tr th {\n",
       "        vertical-align: top;\n",
       "    }\n",
       "\n",
       "    .dataframe thead th {\n",
       "        text-align: right;\n",
       "    }\n",
       "</style>\n",
       "<table border=\"1\" class=\"dataframe\">\n",
       "  <thead>\n",
       "    <tr style=\"text-align: right;\">\n",
       "      <th></th>\n",
       "      <th>itemID</th>\n",
       "      <th>title</th>\n",
       "      <th>author</th>\n",
       "      <th>publisher</th>\n",
       "      <th>main topic</th>\n",
       "      <th>subtopics</th>\n",
       "      <th>language</th>\n",
       "      <th>description</th>\n",
       "      <th>interest_age</th>\n",
       "      <th>number_pages</th>\n",
       "      <th>release_date</th>\n",
       "      <th>ISBN_13</th>\n",
       "      <th>publisher_cluster</th>\n",
       "      <th>publisher_cluster_level2</th>\n",
       "    </tr>\n",
       "  </thead>\n",
       "  <tbody>\n",
       "    <tr>\n",
       "      <th>0</th>\n",
       "      <td>73018</td>\n",
       "      <td>Einfach zeichnen! Step by Step</td>\n",
       "      <td>Wiebke Krabbe</td>\n",
       "      <td>Schwager und Steinlein</td>\n",
       "      <td>AGZ</td>\n",
       "      <td>[5AJ,AGZ,WFA,YBG,YBL,YNA,YPA]</td>\n",
       "      <td>de</td>\n",
       "      <td></td>\n",
       "      <td>1</td>\n",
       "      <td>{224}</td>\n",
       "      <td>{Timestamp('2020-12-02 00:00:00')}</td>\n",
       "      <td>[{'type': 'ISBN_10', 'identifier': '3849927601...</td>\n",
       "      <td>0</td>\n",
       "      <td>0</td>\n",
       "    </tr>\n",
       "  </tbody>\n",
       "</table>\n",
       "</div>"
      ],
      "text/plain": [
       "   itemID                           title         author  \\\n",
       "0   73018  Einfach zeichnen! Step by Step  Wiebke Krabbe   \n",
       "\n",
       "                publisher main topic                      subtopics language  \\\n",
       "0  Schwager und Steinlein        AGZ  [5AJ,AGZ,WFA,YBG,YBL,YNA,YPA]       de   \n",
       "\n",
       "  description interest_age number_pages                        release_date  \\\n",
       "0                        1        {224}  {Timestamp('2020-12-02 00:00:00')}   \n",
       "\n",
       "                                             ISBN_13  publisher_cluster  \\\n",
       "0  [{'type': 'ISBN_10', 'identifier': '3849927601...                  0   \n",
       "\n",
       "   publisher_cluster_level2  \n",
       "0                         0  "
      ]
     },
     "execution_count": 25,
     "metadata": {},
     "output_type": "execute_result"
    }
   ],
   "source": [
    "df_de_concat_copy['publisher_cluster_level2'] = labels.tolist()\n",
    "df_de_concat_copy.drop(['description','publisher_cluster'], axis= 1, inplace=True)\n",
    "df_de_main = df_de_main.merge(df_de_concat_copy, on='publisher')\n",
    "df_de_main.head(1)"
   ]
  },
  {
   "cell_type": "code",
   "execution_count": 26,
   "metadata": {},
   "outputs": [
    {
     "name": "stdout",
     "output_type": "stream",
     "text": [
      "   publisher_cluster_level2  itemID\n",
      "0                         2   19500\n",
      "1                         0    3459\n",
      "2                         1    2409\n"
     ]
    }
   ],
   "source": [
    "pub_type = df_de_main.groupby('publisher_cluster_level2',sort = False).agg({'itemID': 'count'}).reset_index()\n",
    "pub_type.sort_values(by=['itemID'], ascending=False, inplace=True, ignore_index= True)\n",
    "print(pub_type)"
   ]
  },
  {
   "cell_type": "code",
   "execution_count": 27,
   "metadata": {},
   "outputs": [
    {
     "name": "stderr",
     "output_type": "stream",
     "text": [
      "<ipython-input-27-702c3c9c185d>:1: SettingWithCopyWarning: \n",
      "A value is trying to be set on a copy of a slice from a DataFrame.\n",
      "Try using .loc[row_indexer,col_indexer] = value instead\n",
      "\n",
      "See the caveats in the documentation: https://pandas.pydata.org/pandas-docs/stable/user_guide/indexing.html#returning-a-view-versus-a-copy\n",
      "  df_de_rem['publisher_cluster_level2']= np.nan\n"
     ]
    }
   ],
   "source": [
    "df_de_rem['publisher_cluster_level2']= np.nan"
   ]
  },
  {
   "cell_type": "code",
   "execution_count": 28,
   "metadata": {},
   "outputs": [
    {
     "data": {
      "text/html": [
       "<div>\n",
       "<style scoped>\n",
       "    .dataframe tbody tr th:only-of-type {\n",
       "        vertical-align: middle;\n",
       "    }\n",
       "\n",
       "    .dataframe tbody tr th {\n",
       "        vertical-align: top;\n",
       "    }\n",
       "\n",
       "    .dataframe thead th {\n",
       "        text-align: right;\n",
       "    }\n",
       "</style>\n",
       "<table border=\"1\" class=\"dataframe\">\n",
       "  <thead>\n",
       "    <tr style=\"text-align: right;\">\n",
       "      <th></th>\n",
       "      <th>itemID</th>\n",
       "      <th>title</th>\n",
       "      <th>author</th>\n",
       "      <th>publisher</th>\n",
       "      <th>main topic</th>\n",
       "      <th>subtopics</th>\n",
       "      <th>language</th>\n",
       "      <th>description</th>\n",
       "      <th>interest_age</th>\n",
       "      <th>number_pages</th>\n",
       "      <th>release_date</th>\n",
       "      <th>ISBN_13</th>\n",
       "      <th>publisher_cluster</th>\n",
       "      <th>publisher_cluster_level2</th>\n",
       "    </tr>\n",
       "  </thead>\n",
       "  <tbody>\n",
       "    <tr>\n",
       "      <th>6893</th>\n",
       "      <td>54393</td>\n",
       "      <td>Picklewitch &amp; Jack and the Cuckoo Cousin</td>\n",
       "      <td>Claire Barker</td>\n",
       "      <td>Faber &amp; Faber</td>\n",
       "      <td>YFH</td>\n",
       "      <td>[5AF,YFQ,YFS]</td>\n",
       "      <td>de</td>\n",
       "      <td>DR FIRENZE SHARPTOOTH cordially invites ST IMA...</td>\n",
       "      <td>0.5</td>\n",
       "      <td>{240}</td>\n",
       "      <td>{Timestamp('2019-09-05 00:00:00')}</td>\n",
       "      <td>[{'type': 'ISBN_13', 'identifier': '9780571335...</td>\n",
       "      <td>1</td>\n",
       "      <td>NaN</td>\n",
       "    </tr>\n",
       "  </tbody>\n",
       "</table>\n",
       "</div>"
      ],
      "text/plain": [
       "      itemID                                     title         author  \\\n",
       "6893   54393  Picklewitch & Jack and the Cuckoo Cousin  Claire Barker   \n",
       "\n",
       "          publisher main topic      subtopics language  \\\n",
       "6893  Faber & Faber        YFH  [5AF,YFQ,YFS]       de   \n",
       "\n",
       "                                            description interest_age  \\\n",
       "6893  DR FIRENZE SHARPTOOTH cordially invites ST IMA...          0.5   \n",
       "\n",
       "     number_pages                        release_date  \\\n",
       "6893        {240}  {Timestamp('2019-09-05 00:00:00')}   \n",
       "\n",
       "                                                ISBN_13  publisher_cluster  \\\n",
       "6893  [{'type': 'ISBN_13', 'identifier': '9780571335...                  1   \n",
       "\n",
       "      publisher_cluster_level2  \n",
       "6893                       NaN  "
      ]
     },
     "execution_count": 28,
     "metadata": {},
     "output_type": "execute_result"
    }
   ],
   "source": [
    "df_de_rem.head(1)"
   ]
  },
  {
   "cell_type": "code",
   "execution_count": 29,
   "metadata": {},
   "outputs": [],
   "source": [
    "frames = [df_de_rem, df_de_main]\n",
    "df_de = pd.concat(frames)"
   ]
  },
  {
   "cell_type": "code",
   "execution_count": 30,
   "metadata": {},
   "outputs": [
    {
     "data": {
      "text/html": [
       "<div>\n",
       "<style scoped>\n",
       "    .dataframe tbody tr th:only-of-type {\n",
       "        vertical-align: middle;\n",
       "    }\n",
       "\n",
       "    .dataframe tbody tr th {\n",
       "        vertical-align: top;\n",
       "    }\n",
       "\n",
       "    .dataframe thead th {\n",
       "        text-align: right;\n",
       "    }\n",
       "</style>\n",
       "<table border=\"1\" class=\"dataframe\">\n",
       "  <thead>\n",
       "    <tr style=\"text-align: right;\">\n",
       "      <th></th>\n",
       "      <th>itemID</th>\n",
       "      <th>title</th>\n",
       "      <th>author</th>\n",
       "      <th>publisher</th>\n",
       "      <th>main topic</th>\n",
       "      <th>subtopics</th>\n",
       "      <th>language</th>\n",
       "      <th>description</th>\n",
       "      <th>interest_age</th>\n",
       "      <th>number_pages</th>\n",
       "      <th>release_date</th>\n",
       "      <th>ISBN_13</th>\n",
       "      <th>publisher_cluster</th>\n",
       "      <th>publisher_cluster_level2</th>\n",
       "    </tr>\n",
       "  </thead>\n",
       "  <tbody>\n",
       "    <tr>\n",
       "      <th>6893</th>\n",
       "      <td>54393</td>\n",
       "      <td>Picklewitch &amp; Jack and the Cuckoo Cousin</td>\n",
       "      <td>Claire Barker</td>\n",
       "      <td>Faber &amp; Faber</td>\n",
       "      <td>YFH</td>\n",
       "      <td>[5AF,YFQ,YFS]</td>\n",
       "      <td>de</td>\n",
       "      <td>DR FIRENZE SHARPTOOTH cordially invites ST IMA...</td>\n",
       "      <td>0.5</td>\n",
       "      <td>{240}</td>\n",
       "      <td>{Timestamp('2019-09-05 00:00:00')}</td>\n",
       "      <td>[{'type': 'ISBN_13', 'identifier': '9780571335...</td>\n",
       "      <td>1</td>\n",
       "      <td>NaN</td>\n",
       "    </tr>\n",
       "  </tbody>\n",
       "</table>\n",
       "</div>"
      ],
      "text/plain": [
       "      itemID                                     title         author  \\\n",
       "6893   54393  Picklewitch & Jack and the Cuckoo Cousin  Claire Barker   \n",
       "\n",
       "          publisher main topic      subtopics language  \\\n",
       "6893  Faber & Faber        YFH  [5AF,YFQ,YFS]       de   \n",
       "\n",
       "                                            description interest_age  \\\n",
       "6893  DR FIRENZE SHARPTOOTH cordially invites ST IMA...          0.5   \n",
       "\n",
       "     number_pages                        release_date  \\\n",
       "6893        {240}  {Timestamp('2019-09-05 00:00:00')}   \n",
       "\n",
       "                                                ISBN_13  publisher_cluster  \\\n",
       "6893  [{'type': 'ISBN_13', 'identifier': '9780571335...                  1   \n",
       "\n",
       "      publisher_cluster_level2  \n",
       "6893                       NaN  "
      ]
     },
     "execution_count": 30,
     "metadata": {},
     "output_type": "execute_result"
    }
   ],
   "source": [
    "df_de.head(1)"
   ]
  },
  {
   "cell_type": "code",
   "execution_count": 31,
   "metadata": {},
   "outputs": [
    {
     "data": {
      "text/html": [
       "<div>\n",
       "<style scoped>\n",
       "    .dataframe tbody tr th:only-of-type {\n",
       "        vertical-align: middle;\n",
       "    }\n",
       "\n",
       "    .dataframe tbody tr th {\n",
       "        vertical-align: top;\n",
       "    }\n",
       "\n",
       "    .dataframe thead th {\n",
       "        text-align: right;\n",
       "    }\n",
       "</style>\n",
       "<table border=\"1\" class=\"dataframe\">\n",
       "  <thead>\n",
       "    <tr style=\"text-align: right;\">\n",
       "      <th></th>\n",
       "      <th>itemID</th>\n",
       "      <th>title</th>\n",
       "      <th>author</th>\n",
       "      <th>publisher</th>\n",
       "      <th>main topic</th>\n",
       "      <th>subtopics</th>\n",
       "      <th>language</th>\n",
       "      <th>description</th>\n",
       "      <th>interest_age</th>\n",
       "      <th>number_pages</th>\n",
       "      <th>release_date</th>\n",
       "      <th>ISBN_13</th>\n",
       "      <th>publisher_cluster</th>\n",
       "      <th>publisher_cluster_level2</th>\n",
       "    </tr>\n",
       "  </thead>\n",
       "  <tbody>\n",
       "    <tr>\n",
       "      <th>25367</th>\n",
       "      <td>23731</td>\n",
       "      <td>Verlorene Schwestern</td>\n",
       "      <td>Oliver Bendel</td>\n",
       "      <td>Leipziger Literaturverlag</td>\n",
       "      <td>FL</td>\n",
       "      <td>[]</td>\n",
       "      <td>de</td>\n",
       "      <td>dresden wahrscheinlich ein paar monate in der ...</td>\n",
       "      <td>None</td>\n",
       "      <td>{116}</td>\n",
       "      <td>{Timestamp('2009-07-29 00:00:00')}</td>\n",
       "      <td>[{'type': 'ISBN_10', 'identifier': '140631823X...</td>\n",
       "      <td>0</td>\n",
       "      <td>1.0</td>\n",
       "    </tr>\n",
       "  </tbody>\n",
       "</table>\n",
       "</div>"
      ],
      "text/plain": [
       "       itemID                 title         author                  publisher  \\\n",
       "25367   23731  Verlorene Schwestern  Oliver Bendel  Leipziger Literaturverlag   \n",
       "\n",
       "      main topic subtopics language  \\\n",
       "25367         FL        []       de   \n",
       "\n",
       "                                             description interest_age  \\\n",
       "25367  dresden wahrscheinlich ein paar monate in der ...         None   \n",
       "\n",
       "      number_pages                        release_date  \\\n",
       "25367        {116}  {Timestamp('2009-07-29 00:00:00')}   \n",
       "\n",
       "                                                 ISBN_13  publisher_cluster  \\\n",
       "25367  [{'type': 'ISBN_10', 'identifier': '140631823X...                  0   \n",
       "\n",
       "       publisher_cluster_level2  \n",
       "25367                       1.0  "
      ]
     },
     "execution_count": 31,
     "metadata": {},
     "output_type": "execute_result"
    }
   ],
   "source": [
    "df_de.tail(1)"
   ]
  },
  {
   "cell_type": "code",
   "execution_count": 33,
   "metadata": {},
   "outputs": [],
   "source": [
    "#to use this function, pass two itemid! the first one should be the query item, and the second its counter part\n",
    "def similarity_pub_de(itemID1, itemID2):\n",
    "    #Find the query item\n",
    "    query_index = int(df[df['itemID'] == itemID1].index.values)\n",
    "    #metadata for the query item\n",
    "    query_metadata = df.iloc[query_index].copy()\n",
    "    \n",
    "    #Find the counter part\n",
    "    counterpart_index = int(df[df['itemID'] == itemID2].index.values)\n",
    "    #metadata for the query item\n",
    "    counterpart_metadata = df.iloc[counterpart_index].copy()\n",
    "    \n",
    "    if (query_metadata.publisher_cluster != counterpart.publisher_cluster):\n",
    "        similarity = 0.315*0.315\n",
    "    elif (query_metadata.publisher_cluster == 1):\n",
    "        similarity = 1\n",
    "    else:\n",
    "        if (query_metadata.publisher_cluster_level2 == counterpart_metadata.publisher_cluster_level2):\n",
    "            similarity = 1\n",
    "        elif ((query_metadata.publisher_cluster_level2 ==0 and ounterpart_metadata.publisher_cluster_level2 ==1) or\n",
    "              (query_metadata.publisher_cluster_level2 ==1 and ounterpart_metadata.publisher_cluster_level2 ==0)):\n",
    "            similarity = 0.85\n",
    "        elif ((query_metadata.publisher_cluster_level2 ==0 and ounterpart_metadata.publisher_cluster_level2 ==2) or\n",
    "              (query_metadata.publisher_cluster_level2 ==2 and ounterpart_metadata.publisher_cluster_level2 ==0)):\n",
    "            similarity = 0.82\n",
    "        elif ((query_metadata.publisher_cluster_level2 ==2 and ounterpart_metadata.publisher_cluster_level2 ==1) or\n",
    "              (query_metadata.publisher_cluster_level2 ==1 and ounterpart_metadata.publisher_cluster_level2 ==2)):\n",
    "            similarity = 0.98   \n",
    "    return similarity"
   ]
  },
  {
   "cell_type": "code",
   "execution_count": 34,
   "metadata": {},
   "outputs": [],
   "source": [
    "vec = TfidfVectorizer(stop_words=\"english\")\n",
    "vec.fit(df_en_concat.description.values)\n",
    "features = vec.transform(df_en_concat.description.values)"
   ]
  },
  {
   "cell_type": "code",
   "execution_count": 35,
   "metadata": {},
   "outputs": [
    {
     "data": {
      "image/png": "[encoded data removed]",
      "text/plain": [
       "<Figure size 432x288 with 1 Axes>"
      ]
     },
     "metadata": {
      "needs_background": "light"
     },
     "output_type": "display_data"
    }
   ],
   "source": [
    "#in this section we use elbow method to find out about number of required clusters in English language.\n",
    "\n",
    "# reduce the features to 2D\n",
    "pca = PCA(n_components=2, random_state=0)\n",
    "reduced_features = pca.fit_transform(features.toarray())\n",
    "\n",
    "distortions = []\n",
    "inertias = []\n",
    "mapping1 = {}\n",
    "mapping2 = {}\n",
    "K = range(1, 10)\n",
    " \n",
    "for k in K:\n",
    "    # Building and fitting the model\n",
    "    kmeans = KMeans(n_clusters=k, random_state=0).fit(reduced_features)\n",
    "    distortions.append(sum(np.min(cdist(reduced_features, kmeans.cluster_centers_,\n",
    "                                        'cosine'), axis=1)) / reduced_features.shape[0])\n",
    "    inertias.append(kmeans.inertia_)\n",
    " \n",
    "    mapping1[k] = sum(np.min(cdist(reduced_features, kmeans.cluster_centers_,\n",
    "                                   'cosine'), axis=1)) / reduced_features.shape[0]\n",
    "    mapping2[k] = kmeans.inertia_\n",
    "\n",
    "plt.plot(K, distortions, 'bx-')\n",
    "plt.xlabel('Values of K')\n",
    "plt.ylabel('Distortion')\n",
    "plt.title('The Elbow Method using Distortion')\n",
    "plt.show()"
   ]
  },
  {
   "cell_type": "code",
   "execution_count": 36,
   "metadata": {},
   "outputs": [
    {
     "data": {
      "image/png": "[encoded data removed]",
      "text/plain": [
       "<Figure size 432x288 with 1 Axes>"
      ]
     },
     "metadata": {
      "needs_background": "light"
     },
     "output_type": "display_data"
    }
   ],
   "source": [
    "plt.plot(K, inertias, 'bx-')\n",
    "plt.xlabel('Values of K')\n",
    "plt.ylabel('Inertia')\n",
    "plt.title('The Elbow Method using Inertia')\n",
    "plt.show()"
   ]
  },
  {
   "cell_type": "code",
   "execution_count": 40,
   "metadata": {},
   "outputs": [],
   "source": [
    "#using elbow method we can conclude that k=2 can be good candidates.\n",
    "\n",
    "kmeans = KMeans(n_clusters=3, random_state=0).fit(features)\n",
    "labels = kmeans.labels_\n",
    "centers = kmeans.cluster_centers_"
   ]
  },
  {
   "cell_type": "code",
   "execution_count": 41,
   "metadata": {},
   "outputs": [],
   "source": [
    "#We collect cosine similarity of the centroids in a 2D array to be used by our RS.\n",
    "cosine_sim_pub_en = np.ndarray(shape=(3,3), dtype=np.ndarray, order='F')\n",
    "for i in range (3):\n",
    "    for j in range (3):\n",
    "        # Dot and norm\n",
    "        dot = sum(a*b for a, b in zip(centers[i], centers[j]))\n",
    "        norm_a = sum(a*a for a in centers[i]) ** 0.5\n",
    "        norm_b = sum(b*b for b in centers[j]) ** 0.5\n",
    "        # Cosine similarity\n",
    "        cos_sim = dot / (norm_a*norm_b)\n",
    "        cosine_sim_pub_en[i,j] = cos_sim"
   ]
  },
  {
   "cell_type": "code",
   "execution_count": 42,
   "metadata": {},
   "outputs": [
    {
     "name": "stdout",
     "output_type": "stream",
     "text": [
      "[[1.0 0.9415939950061173 0.8227850179271008]\n",
      " [0.9415939950061173 1.0 0.8935010167424665]\n",
      " [0.8227850179271008 0.8935010167424665 1.0]]\n"
     ]
    }
   ],
   "source": [
    "print(cosine_sim_pub_en)"
   ]
  },
  {
   "cell_type": "code",
   "execution_count": 43,
   "metadata": {},
   "outputs": [],
   "source": [
    "df_en_concat['publisher_cluster'] = labels.tolist()\n",
    "df_en_concat.drop(['description'], axis= 1, inplace=True)\n",
    "df_en = df_en.merge(df_en_concat, on='publisher')"
   ]
  },
  {
   "cell_type": "code",
   "execution_count": 44,
   "metadata": {},
   "outputs": [
    {
     "name": "stdout",
     "output_type": "stream",
     "text": [
      "   publisher_cluster  itemID\n",
      "0                  1   27493\n",
      "1                  2    8409\n",
      "2                  0    5980\n"
     ]
    }
   ],
   "source": [
    "pub_type = df_en.groupby('publisher_cluster',sort = False).agg({'itemID': 'count'}).reset_index()\n",
    "pub_type.sort_values(by=['itemID'], ascending=False, inplace=True, ignore_index= True)\n",
    "print(pub_type)"
   ]
  },
  {
   "cell_type": "code",
   "execution_count": 24,
   "metadata": {},
   "outputs": [],
   "source": [
    "vec = TfidfVectorizer()\n",
    "vec.fit(df_es_concat.description.values)\n",
    "features = vec.transform(df_es_concat.description.values)"
   ]
  },
  {
   "cell_type": "code",
   "execution_count": 25,
   "metadata": {},
   "outputs": [
    {
     "data": {
      "image/png": "[encoded data removed]",
      "text/plain": [
       "<Figure size 432x288 with 1 Axes>"
      ]
     },
     "metadata": {
      "needs_background": "light"
     },
     "output_type": "display_data"
    }
   ],
   "source": [
    "#in this section we use elbow method to find out about number of required clusters in English language.\n",
    "\n",
    "# reduce the features to 2D\n",
    "pca = PCA(n_components=2, random_state=0)\n",
    "reduced_features = pca.fit_transform(features.toarray())\n",
    "\n",
    "distortions = []\n",
    "inertias = []\n",
    "mapping1 = {}\n",
    "mapping2 = {}\n",
    "K = range(1, 10)\n",
    " \n",
    "for k in K:\n",
    "    # Building and fitting the model\n",
    "    kmeans = KMeans(n_clusters=k, random_state=0).fit(reduced_features)\n",
    "    distortions.append(sum(np.min(cdist(reduced_features, kmeans.cluster_centers_,\n",
    "                                        'cosine'), axis=1)) / reduced_features.shape[0])\n",
    "    inertias.append(kmeans.inertia_)\n",
    " \n",
    "    mapping1[k] = sum(np.min(cdist(reduced_features, kmeans.cluster_centers_,\n",
    "                                   'cosine'), axis=1)) / reduced_features.shape[0]\n",
    "    mapping2[k] = kmeans.inertia_\n",
    "\n",
    "plt.plot(K, distortions, 'bx-')\n",
    "plt.xlabel('Values of K')\n",
    "plt.ylabel('Distortion')\n",
    "plt.title('The Elbow Method using Distortion')\n",
    "plt.show()"
   ]
  },
  {
   "cell_type": "code",
   "execution_count": 26,
   "metadata": {},
   "outputs": [
    {
     "data": {
      "image/png": "[encoded data removed]",
      "text/plain": [
       "<Figure size 432x288 with 1 Axes>"
      ]
     },
     "metadata": {
      "needs_background": "light"
     },
     "output_type": "display_data"
    }
   ],
   "source": [
    "plt.plot(K, inertias, 'bx-')\n",
    "plt.xlabel('Values of K')\n",
    "plt.ylabel('Inertia')\n",
    "plt.title('The Elbow Method using Inertia')\n",
    "plt.show()"
   ]
  },
  {
   "cell_type": "code",
   "execution_count": 27,
   "metadata": {},
   "outputs": [],
   "source": [
    "#using elbow method we can conclude that k=3 or k=5 can be good candidates.\n",
    "#We will use k=5, and then later we can tune our model accoding to evaluation.\n",
    "\n",
    "kmeans = KMeans(n_clusters=5, random_state=0).fit(features)\n",
    "labels = kmeans.labels_\n",
    "centers = kmeans.cluster_centers_"
   ]
  },
  {
   "cell_type": "code",
   "execution_count": 28,
   "metadata": {},
   "outputs": [],
   "source": [
    "#We collect cosine similarity of the centroids in a 2D array to be used by our RS.\n",
    "cosine_sim_pub_es = np.ndarray(shape=(5,5), dtype=np.ndarray, order='F')\n",
    "for i in range (5):\n",
    "    for j in range (5):\n",
    "        # Dot and norm\n",
    "        dot = sum(a*b for a, b in zip(centers[i], centers[j]))\n",
    "        norm_a = sum(a*a for a in centers[i]) ** 0.5\n",
    "        norm_b = sum(b*b for b in centers[j]) ** 0.5\n",
    "        # Cosine similarity\n",
    "        cos_sim = dot / (norm_a*norm_b)\n",
    "        cosine_sim_pub_es[i,j] = cos_sim"
   ]
  },
  {
   "cell_type": "code",
   "execution_count": 29,
   "metadata": {},
   "outputs": [],
   "source": [
    "df_es_concat['publisher_cluster'] = labels.tolist()\n",
    "df_es_concat.drop(['description'], axis= 1, inplace=True)\n",
    "df_es = df_es.merge(df_es_concat, on='publisher')"
   ]
  },
  {
   "cell_type": "code",
   "execution_count": 30,
   "metadata": {},
   "outputs": [
    {
     "name": "stdout",
     "output_type": "stream",
     "text": [
      "   publisher_cluster  itemID\n",
      "0                  4    1737\n",
      "1                  1    1060\n",
      "2                  3     398\n",
      "3                  0     142\n",
      "4                  2      57\n"
     ]
    }
   ],
   "source": [
    "pub_type = df_es.groupby('publisher_cluster',sort = False).agg({'itemID': 'count'}).reset_index()\n",
    "pub_type.sort_values(by=['itemID'], ascending=False, inplace=True, ignore_index= True)\n",
    "print(pub_type)"
   ]
  },
  {
   "cell_type": "code",
   "execution_count": 31,
   "metadata": {},
   "outputs": [],
   "source": [
    "vec = TfidfVectorizer()\n",
    "vec.fit(df_it_concat.description.values)\n",
    "features = vec.transform(df_it_concat.description.values)"
   ]
  },
  {
   "cell_type": "code",
   "execution_count": 32,
   "metadata": {},
   "outputs": [
    {
     "data": {
      "image/png": "[encoded data removed]",
      "text/plain": [
       "<Figure size 432x288 with 1 Axes>"
      ]
     },
     "metadata": {
      "needs_background": "light"
     },
     "output_type": "display_data"
    }
   ],
   "source": [
    "#in this section we use elbow method to find out about number of required clusters in English language.\n",
    "\n",
    "# reduce the features to 2D\n",
    "pca = PCA(n_components=2, random_state=0)\n",
    "reduced_features = pca.fit_transform(features.toarray())\n",
    "\n",
    "distortions = []\n",
    "inertias = []\n",
    "mapping1 = {}\n",
    "mapping2 = {}\n",
    "K = range(1, 10)\n",
    " \n",
    "for k in K:\n",
    "    # Building and fitting the model\n",
    "    kmeans = KMeans(n_clusters=k, random_state=0).fit(reduced_features)\n",
    "    distortions.append(sum(np.min(cdist(reduced_features, kmeans.cluster_centers_,\n",
    "                                        'cosine'), axis=1)) / reduced_features.shape[0])\n",
    "    inertias.append(kmeans.inertia_)\n",
    " \n",
    "    mapping1[k] = sum(np.min(cdist(reduced_features, kmeans.cluster_centers_,\n",
    "                                   'cosine'), axis=1)) / reduced_features.shape[0]\n",
    "    mapping2[k] = kmeans.inertia_\n",
    "\n",
    "plt.plot(K, distortions, 'bx-')\n",
    "plt.xlabel('Values of K')\n",
    "plt.ylabel('Distortion')\n",
    "plt.title('The Elbow Method using Distortion')\n",
    "plt.show()"
   ]
  },
  {
   "cell_type": "code",
   "execution_count": 33,
   "metadata": {},
   "outputs": [
    {
     "data": {
      "image/png": "[encoded data removed]",
      "text/plain": [
       "<Figure size 432x288 with 1 Axes>"
      ]
     },
     "metadata": {
      "needs_background": "light"
     },
     "output_type": "display_data"
    }
   ],
   "source": [
    "plt.plot(K, inertias, 'bx-')\n",
    "plt.xlabel('Values of K')\n",
    "plt.ylabel('Inertia')\n",
    "plt.title('The Elbow Method using Inertia')\n",
    "plt.show()"
   ]
  },
  {
   "cell_type": "code",
   "execution_count": 34,
   "metadata": {},
   "outputs": [],
   "source": [
    "#using elbow method we can conclude that k=3 or k=5 can be good candidates.\n",
    "#We will use k=5, and then later we can tune our model accoding to evaluation.\n",
    "\n",
    "kmeans = KMeans(n_clusters=5, random_state=0).fit(features)\n",
    "labels = kmeans.labels_\n",
    "centers = kmeans.cluster_centers_"
   ]
  },
  {
   "cell_type": "code",
   "execution_count": 35,
   "metadata": {},
   "outputs": [],
   "source": [
    "#We collect cosine similarity of the centroids in a 2D array to be used by our RS.\n",
    "cosine_sim_pub_it = np.ndarray(shape=(5,5), dtype=np.ndarray, order='F')\n",
    "for i in range (5):\n",
    "    for j in range (5):\n",
    "        # Dot and norm\n",
    "        dot = sum(a*b for a, b in zip(centers[i], centers[j]))\n",
    "        norm_a = sum(a*a for a in centers[i]) ** 0.5\n",
    "        norm_b = sum(b*b for b in centers[j]) ** 0.5\n",
    "        # Cosine similarity\n",
    "        cos_sim = dot / (norm_a*norm_b)\n",
    "        cosine_sim_pub_it[i,j] = cos_sim"
   ]
  },
  {
   "cell_type": "code",
   "execution_count": 36,
   "metadata": {},
   "outputs": [],
   "source": [
    "df_it_concat['publisher_cluster'] = labels.tolist()\n",
    "df_it_concat.drop(['description'], axis= 1, inplace=True)\n",
    "df_it = df_it.merge(df_es_concat, on='publisher')"
   ]
  },
  {
   "cell_type": "code",
   "execution_count": 37,
   "metadata": {},
   "outputs": [
    {
     "name": "stdout",
     "output_type": "stream",
     "text": [
      "   publisher_cluster  itemID\n",
      "0                  1     706\n",
      "1                  4      76\n",
      "2                  0      13\n",
      "3                  3      12\n",
      "4                  2      10\n"
     ]
    }
   ],
   "source": [
    "pub_type = df_it.groupby('publisher_cluster',sort = False).agg({'itemID': 'count'}).reset_index()\n",
    "pub_type.sort_values(by=['itemID'], ascending=False, inplace=True, ignore_index= True)\n",
    "print(pub_type)"
   ]
  },
  {
   "cell_type": "code",
   "execution_count": null,
   "metadata": {},
   "outputs": [],
   "source": []
  }
 ],
 "metadata": {
  "kernelspec": {
   "display_name": "Python 3",
   "language": "python",
   "name": "python3"
  },
  "language_info": {
   "codemirror_mode": {
    "name": "ipython",
    "version": 3
   },
   "file_extension": ".py",
   "mimetype": "text/x-python",
   "name": "python",
   "nbconvert_exporter": "python",
   "pygments_lexer": "ipython3",
   "version": "3.8.5"
  }
 },
 "nbformat": 4,
 "nbformat_minor": 4
}
