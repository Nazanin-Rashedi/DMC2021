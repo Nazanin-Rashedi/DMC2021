{
 "cells": [
  {
   "cell_type": "code",
   "execution_count": 1,
   "metadata": {},
   "outputs": [],
   "source": [
    "import pandas as pd\n",
    "import numpy as np"
   ]
  },
  {
   "cell_type": "code",
   "execution_count": 2,
   "metadata": {},
   "outputs": [],
   "source": [
    "#Import dataset\n",
    "books_data = pd.read_csv('D:/Uni Mannheim/Semester 2/Data Mining 2/DMC/publisher_author_cluster_added.csv', sep=',')\n",
    "df = books_data.copy()\n",
    "df.drop(['Unnamed: 0'], axis= 1, inplace=True)"
   ]
  },
  {
   "cell_type": "code",
   "execution_count": 3,
   "metadata": {},
   "outputs": [
    {
     "data": {
      "text/html": [
       "<div>\n",
       "<style scoped>\n",
       "    .dataframe tbody tr th:only-of-type {\n",
       "        vertical-align: middle;\n",
       "    }\n",
       "\n",
       "    .dataframe tbody tr th {\n",
       "        vertical-align: top;\n",
       "    }\n",
       "\n",
       "    .dataframe thead th {\n",
       "        text-align: right;\n",
       "    }\n",
       "</style>\n",
       "<table border=\"1\" class=\"dataframe\">\n",
       "  <thead>\n",
       "    <tr style=\"text-align: right;\">\n",
       "      <th></th>\n",
       "      <th>itemID</th>\n",
       "      <th>title</th>\n",
       "      <th>author</th>\n",
       "      <th>publisher</th>\n",
       "      <th>main topic</th>\n",
       "      <th>subtopics</th>\n",
       "      <th>language</th>\n",
       "      <th>interest_age</th>\n",
       "      <th>description</th>\n",
       "      <th>publisher_cluster</th>\n",
       "      <th>author_cluster</th>\n",
       "      <th>number_pages</th>\n",
       "      <th>maintopic_text</th>\n",
       "      <th>subtopics_text</th>\n",
       "      <th>release_date</th>\n",
       "    </tr>\n",
       "  </thead>\n",
       "  <tbody>\n",
       "    <tr>\n",
       "      <th>0</th>\n",
       "      <td>21310</td>\n",
       "      <td>Princess Poppy: The Big Mix Up</td>\n",
       "      <td>Janey Louise Jones</td>\n",
       "      <td>Penguin Random House Children's UK</td>\n",
       "      <td>YFB</td>\n",
       "      <td>[5AH]</td>\n",
       "      <td>en</td>\n",
       "      <td>1</td>\n",
       "      <td>A brand-new story in the best-selling Princess...</td>\n",
       "      <td>1</td>\n",
       "      <td>15.0</td>\n",
       "      <td>{''}</td>\n",
       "      <td>Children’s / Teenage fiction: General fiction</td>\n",
       "      <td>['Interest age: from c 7 years']</td>\n",
       "      <td>{Timestamp('2010-11-30 00:00:00')}</td>\n",
       "    </tr>\n",
       "  </tbody>\n",
       "</table>\n",
       "</div>"
      ],
      "text/plain": [
       "   itemID                           title              author  \\\n",
       "0   21310  Princess Poppy: The Big Mix Up  Janey Louise Jones   \n",
       "\n",
       "                            publisher main topic subtopics language  \\\n",
       "0  Penguin Random House Children's UK        YFB     [5AH]       en   \n",
       "\n",
       "  interest_age                                        description  \\\n",
       "0            1  A brand-new story in the best-selling Princess...   \n",
       "\n",
       "   publisher_cluster  author_cluster number_pages  \\\n",
       "0                  1            15.0         {''}   \n",
       "\n",
       "                                  maintopic_text  \\\n",
       "0  Children’s / Teenage fiction: General fiction   \n",
       "\n",
       "                     subtopics_text                        release_date  \n",
       "0  ['Interest age: from c 7 years']  {Timestamp('2010-11-30 00:00:00')}  "
      ]
     },
     "execution_count": 3,
     "metadata": {},
     "output_type": "execute_result"
    }
   ],
   "source": [
    "df.head(1)"
   ]
  },
  {
   "cell_type": "code",
   "execution_count": 4,
   "metadata": {},
   "outputs": [],
   "source": [
    "df1 = df[df['interest_age']!= 'None']\n",
    "df2 = df[df['interest_age']== 'None']"
   ]
  },
  {
   "cell_type": "code",
   "execution_count": 5,
   "metadata": {},
   "outputs": [
    {
     "data": {
      "text/plain": [
       "itemID               51589\n",
       "title                51589\n",
       "author               49497\n",
       "publisher            51589\n",
       "main topic           51507\n",
       "subtopics            51589\n",
       "language             51589\n",
       "interest_age         51589\n",
       "description          48420\n",
       "publisher_cluster    51589\n",
       "author_cluster       49497\n",
       "number_pages         51585\n",
       "maintopic_text       51507\n",
       "subtopics_text       31690\n",
       "release_date         51585\n",
       "dtype: int64"
      ]
     },
     "execution_count": 5,
     "metadata": {},
     "output_type": "execute_result"
    }
   ],
   "source": [
    "df1.count()"
   ]
  },
  {
   "cell_type": "code",
   "execution_count": 6,
   "metadata": {},
   "outputs": [
    {
     "data": {
      "text/plain": [
       "itemID               26441\n",
       "title                26441\n",
       "author               26327\n",
       "publisher            26441\n",
       "main topic           26265\n",
       "subtopics            26440\n",
       "language             26441\n",
       "interest_age         26441\n",
       "description          25329\n",
       "publisher_cluster    26441\n",
       "author_cluster       26327\n",
       "number_pages         26436\n",
       "maintopic_text       26265\n",
       "subtopics_text        9436\n",
       "release_date         26436\n",
       "dtype: int64"
      ]
     },
     "execution_count": 6,
     "metadata": {},
     "output_type": "execute_result"
    }
   ],
   "source": [
    "df2.count()"
   ]
  },
  {
   "cell_type": "code",
   "execution_count": 7,
   "metadata": {},
   "outputs": [],
   "source": [
    "import pickle\n",
    "with open('D:/Uni Mannheim/Semester 2/Data Mining 2/DMC/Others datasets/Team 404/team404.pickle', \"rb\") as fh:\n",
    "  df_temp = pickle.load(fh)"
   ]
  },
  {
   "cell_type": "code",
   "execution_count": 8,
   "metadata": {},
   "outputs": [],
   "source": [
    "df_temp = df_temp [['itemID', 'google_isMature', 'thalia_min_age', 'thalia_max_age']]"
   ]
  },
  {
   "cell_type": "code",
   "execution_count": 9,
   "metadata": {},
   "outputs": [
    {
     "data": {
      "text/plain": [
       "itemID             58976\n",
       "google_isMature    58976\n",
       "thalia_min_age     48456\n",
       "thalia_max_age     29042\n",
       "dtype: int64"
      ]
     },
     "execution_count": 9,
     "metadata": {},
     "output_type": "execute_result"
    }
   ],
   "source": [
    "df_temp.count()"
   ]
  },
  {
   "cell_type": "code",
   "execution_count": 10,
   "metadata": {},
   "outputs": [
    {
     "name": "stdout",
     "output_type": "stream",
     "text": [
      "204272\n"
     ]
    }
   ],
   "source": [
    "print(len(df_temp))"
   ]
  },
  {
   "cell_type": "code",
   "execution_count": 11,
   "metadata": {},
   "outputs": [],
   "source": [
    "df_temp.dropna(subset=['itemID'],inplace=True)"
   ]
  },
  {
   "cell_type": "code",
   "execution_count": 12,
   "metadata": {},
   "outputs": [
    {
     "data": {
      "text/plain": [
       "itemID             58976\n",
       "google_isMature    58976\n",
       "thalia_min_age     19454\n",
       "thalia_max_age     12405\n",
       "dtype: int64"
      ]
     },
     "execution_count": 12,
     "metadata": {},
     "output_type": "execute_result"
    }
   ],
   "source": [
    "df_temp.count()"
   ]
  },
  {
   "cell_type": "code",
   "execution_count": 13,
   "metadata": {},
   "outputs": [],
   "source": [
    "df2 = df2.merge(df_temp, how= 'left', on='itemID')"
   ]
  },
  {
   "cell_type": "code",
   "execution_count": 14,
   "metadata": {},
   "outputs": [],
   "source": [
    "df3 = df2[df2['thalia_max_age'].isna()]\n",
    "df4 = df2[df2['thalia_max_age'].notnull()]"
   ]
  },
  {
   "cell_type": "code",
   "execution_count": 15,
   "metadata": {},
   "outputs": [
    {
     "data": {
      "text/plain": [
       "itemID               178\n",
       "title                178\n",
       "author               176\n",
       "publisher            178\n",
       "main topic           174\n",
       "subtopics            178\n",
       "language             178\n",
       "interest_age         178\n",
       "description          175\n",
       "publisher_cluster    178\n",
       "author_cluster       176\n",
       "number_pages         178\n",
       "maintopic_text       174\n",
       "subtopics_text        73\n",
       "release_date         178\n",
       "google_isMature      178\n",
       "thalia_min_age       178\n",
       "thalia_max_age       178\n",
       "dtype: int64"
      ]
     },
     "execution_count": 15,
     "metadata": {},
     "output_type": "execute_result"
    }
   ],
   "source": [
    "df4.count()"
   ]
  },
  {
   "cell_type": "code",
   "execution_count": 16,
   "metadata": {},
   "outputs": [
    {
     "name": "stderr",
     "output_type": "stream",
     "text": [
      "<ipython-input-16-1087c8ca7f80>:6: SettingWithCopyWarning: \n",
      "A value is trying to be set on a copy of a slice from a DataFrame\n",
      "\n",
      "See the caveats in the documentation: https://pandas.pydata.org/pandas-docs/stable/user_guide/indexing.html#returning-a-view-versus-a-copy\n",
      "  df4['interest_age'][ind] = 1\n",
      "C:\\Users\\ASUS\\anaconda3\\lib\\site-packages\\IPython\\core\\interactiveshell.py:3418: SettingWithCopyWarning: \n",
      "A value is trying to be set on a copy of a slice from a DataFrame\n",
      "\n",
      "See the caveats in the documentation: https://pandas.pydata.org/pandas-docs/stable/user_guide/indexing.html#returning-a-view-versus-a-copy\n",
      "  exec(code_obj, self.user_global_ns, self.user_ns)\n",
      "<ipython-input-16-1087c8ca7f80>:8: SettingWithCopyWarning: \n",
      "A value is trying to be set on a copy of a slice from a DataFrame\n",
      "\n",
      "See the caveats in the documentation: https://pandas.pydata.org/pandas-docs/stable/user_guide/indexing.html#returning-a-view-versus-a-copy\n",
      "  df4['interest_age'][ind] = 2\n",
      "<ipython-input-16-1087c8ca7f80>:10: SettingWithCopyWarning: \n",
      "A value is trying to be set on a copy of a slice from a DataFrame\n",
      "\n",
      "See the caveats in the documentation: https://pandas.pydata.org/pandas-docs/stable/user_guide/indexing.html#returning-a-view-versus-a-copy\n",
      "  df4['interest_age'][ind] = 3\n",
      "<ipython-input-16-1087c8ca7f80>:4: SettingWithCopyWarning: \n",
      "A value is trying to be set on a copy of a slice from a DataFrame\n",
      "\n",
      "See the caveats in the documentation: https://pandas.pydata.org/pandas-docs/stable/user_guide/indexing.html#returning-a-view-versus-a-copy\n",
      "  df4['interest_age'][ind] = 0\n"
     ]
    }
   ],
   "source": [
    "for ind in df4.index:\n",
    "    thalia_age = df4['thalia_max_age'][ind]\n",
    "    if (thalia_age <= 6):\n",
    "        df4['interest_age'][ind] = 0\n",
    "    elif (thalia_age <= 12):\n",
    "        df4['interest_age'][ind] = 1\n",
    "    elif (thalia_age <= 17):\n",
    "        df4['interest_age'][ind] = 2\n",
    "    else:\n",
    "        df4['interest_age'][ind] = 3"
   ]
  },
  {
   "cell_type": "code",
   "execution_count": 17,
   "metadata": {},
   "outputs": [
    {
     "name": "stderr",
     "output_type": "stream",
     "text": [
      "C:\\Users\\ASUS\\anaconda3\\lib\\site-packages\\pandas\\core\\frame.py:4163: SettingWithCopyWarning: \n",
      "A value is trying to be set on a copy of a slice from a DataFrame\n",
      "\n",
      "See the caveats in the documentation: https://pandas.pydata.org/pandas-docs/stable/user_guide/indexing.html#returning-a-view-versus-a-copy\n",
      "  return super().drop(\n"
     ]
    }
   ],
   "source": [
    "df4.drop(['google_isMature' , 'thalia_min_age' , 'thalia_max_age'], axis= 1, inplace=True)"
   ]
  },
  {
   "cell_type": "code",
   "execution_count": 18,
   "metadata": {},
   "outputs": [],
   "source": [
    "df5 = df3[df3['thalia_min_age'].isna()]\n",
    "df6 = df3[df3['thalia_min_age'].notnull()]"
   ]
  },
  {
   "cell_type": "code",
   "execution_count": 19,
   "metadata": {},
   "outputs": [],
   "source": [
    "df7 = df6[df6['google_isMature'] == False]\n",
    "df8 = df6[df6['google_isMature'] != False]"
   ]
  },
  {
   "cell_type": "code",
   "execution_count": 20,
   "metadata": {},
   "outputs": [
    {
     "data": {
      "text/plain": [
       "itemID               980\n",
       "title                980\n",
       "author               979\n",
       "publisher            980\n",
       "main topic           973\n",
       "subtopics            980\n",
       "language             980\n",
       "interest_age         980\n",
       "description          973\n",
       "publisher_cluster    980\n",
       "author_cluster       979\n",
       "number_pages         980\n",
       "maintopic_text       973\n",
       "subtopics_text       388\n",
       "release_date         980\n",
       "google_isMature      980\n",
       "thalia_min_age       980\n",
       "thalia_max_age         0\n",
       "dtype: int64"
      ]
     },
     "execution_count": 20,
     "metadata": {},
     "output_type": "execute_result"
    }
   ],
   "source": [
    "df7.count()"
   ]
  },
  {
   "cell_type": "code",
   "execution_count": 21,
   "metadata": {},
   "outputs": [
    {
     "name": "stderr",
     "output_type": "stream",
     "text": [
      "<ipython-input-21-41b694a88fbc>:6: SettingWithCopyWarning: \n",
      "A value is trying to be set on a copy of a slice from a DataFrame\n",
      "\n",
      "See the caveats in the documentation: https://pandas.pydata.org/pandas-docs/stable/user_guide/indexing.html#returning-a-view-versus-a-copy\n",
      "  df7['interest_age'][ind] = 1\n",
      "C:\\Users\\ASUS\\anaconda3\\lib\\site-packages\\IPython\\core\\interactiveshell.py:3418: SettingWithCopyWarning: \n",
      "A value is trying to be set on a copy of a slice from a DataFrame\n",
      "\n",
      "See the caveats in the documentation: https://pandas.pydata.org/pandas-docs/stable/user_guide/indexing.html#returning-a-view-versus-a-copy\n",
      "  exec(code_obj, self.user_global_ns, self.user_ns)\n",
      "<ipython-input-21-41b694a88fbc>:8: SettingWithCopyWarning: \n",
      "A value is trying to be set on a copy of a slice from a DataFrame\n",
      "\n",
      "See the caveats in the documentation: https://pandas.pydata.org/pandas-docs/stable/user_guide/indexing.html#returning-a-view-versus-a-copy\n",
      "  df7['interest_age'][ind] = 2\n",
      "<ipython-input-21-41b694a88fbc>:10: SettingWithCopyWarning: \n",
      "A value is trying to be set on a copy of a slice from a DataFrame\n",
      "\n",
      "See the caveats in the documentation: https://pandas.pydata.org/pandas-docs/stable/user_guide/indexing.html#returning-a-view-versus-a-copy\n",
      "  df7['interest_age'][ind] = 3\n",
      "<ipython-input-21-41b694a88fbc>:4: SettingWithCopyWarning: \n",
      "A value is trying to be set on a copy of a slice from a DataFrame\n",
      "\n",
      "See the caveats in the documentation: https://pandas.pydata.org/pandas-docs/stable/user_guide/indexing.html#returning-a-view-versus-a-copy\n",
      "  df7['interest_age'][ind] = 0\n"
     ]
    }
   ],
   "source": [
    "for ind in df7.index:\n",
    "    thalia_age = df7['thalia_min_age'][ind]\n",
    "    if (thalia_age <= 1):\n",
    "        df7['interest_age'][ind] = 0\n",
    "    elif (thalia_age <= 11):\n",
    "        df7['interest_age'][ind] = 1\n",
    "    elif (thalia_age <= 17):\n",
    "        df7['interest_age'][ind] = 2\n",
    "    else:\n",
    "        df7['interest_age'][ind] = 3"
   ]
  },
  {
   "cell_type": "code",
   "execution_count": 22,
   "metadata": {},
   "outputs": [
    {
     "name": "stdout",
     "output_type": "stream",
     "text": [
      "   interest_age  itemID\n",
      "0             2     528\n",
      "1             0     265\n",
      "2             3     137\n",
      "3             1      50\n"
     ]
    }
   ],
   "source": [
    "pub_type = df7.groupby('interest_age',sort = False).agg({'itemID': 'count'}).reset_index()\n",
    "pub_type.sort_values(by=['itemID'], ascending=False, inplace=True, ignore_index= True)\n",
    "print(pub_type)"
   ]
  },
  {
   "cell_type": "code",
   "execution_count": 23,
   "metadata": {},
   "outputs": [
    {
     "name": "stderr",
     "output_type": "stream",
     "text": [
      "C:\\Users\\ASUS\\anaconda3\\lib\\site-packages\\pandas\\core\\frame.py:4163: SettingWithCopyWarning: \n",
      "A value is trying to be set on a copy of a slice from a DataFrame\n",
      "\n",
      "See the caveats in the documentation: https://pandas.pydata.org/pandas-docs/stable/user_guide/indexing.html#returning-a-view-versus-a-copy\n",
      "  return super().drop(\n"
     ]
    }
   ],
   "source": [
    "df7.drop(['google_isMature' , 'thalia_min_age' , 'thalia_max_age'], axis= 1, inplace=True)"
   ]
  },
  {
   "cell_type": "code",
   "execution_count": 24,
   "metadata": {},
   "outputs": [
    {
     "data": {
      "text/plain": [
       "itemID               29\n",
       "title                29\n",
       "author               29\n",
       "publisher            29\n",
       "main topic           29\n",
       "subtopics            29\n",
       "language             29\n",
       "interest_age         29\n",
       "description          29\n",
       "publisher_cluster    29\n",
       "author_cluster       29\n",
       "number_pages         29\n",
       "maintopic_text       29\n",
       "subtopics_text       26\n",
       "release_date         29\n",
       "google_isMature      29\n",
       "thalia_min_age       29\n",
       "thalia_max_age        0\n",
       "dtype: int64"
      ]
     },
     "execution_count": 24,
     "metadata": {},
     "output_type": "execute_result"
    }
   ],
   "source": [
    "df8.count()"
   ]
  },
  {
   "cell_type": "code",
   "execution_count": 25,
   "metadata": {},
   "outputs": [
    {
     "name": "stdout",
     "output_type": "stream",
     "text": [
      "   thalia_min_age  itemID\n",
      "0              16      25\n",
      "1              18       4\n"
     ]
    }
   ],
   "source": [
    "pub_type = df8.groupby('thalia_min_age',sort = False).agg({'itemID': 'count'}).reset_index()\n",
    "pub_type.sort_values(by=['itemID'], ascending=False, inplace=True, ignore_index= True)\n",
    "print(pub_type)"
   ]
  },
  {
   "cell_type": "code",
   "execution_count": 26,
   "metadata": {},
   "outputs": [
    {
     "name": "stderr",
     "output_type": "stream",
     "text": [
      "<ipython-input-26-75f64a910776>:2: SettingWithCopyWarning: \n",
      "A value is trying to be set on a copy of a slice from a DataFrame\n",
      "\n",
      "See the caveats in the documentation: https://pandas.pydata.org/pandas-docs/stable/user_guide/indexing.html#returning-a-view-versus-a-copy\n",
      "  df8['interest_age'][ind] = 3\n",
      "C:\\Users\\ASUS\\anaconda3\\lib\\site-packages\\IPython\\core\\interactiveshell.py:3418: SettingWithCopyWarning: \n",
      "A value is trying to be set on a copy of a slice from a DataFrame\n",
      "\n",
      "See the caveats in the documentation: https://pandas.pydata.org/pandas-docs/stable/user_guide/indexing.html#returning-a-view-versus-a-copy\n",
      "  exec(code_obj, self.user_global_ns, self.user_ns)\n"
     ]
    }
   ],
   "source": [
    "for ind in df8.index:\n",
    "        df8['interest_age'][ind] = 3"
   ]
  },
  {
   "cell_type": "code",
   "execution_count": 27,
   "metadata": {},
   "outputs": [
    {
     "name": "stdout",
     "output_type": "stream",
     "text": [
      "   interest_age  itemID\n",
      "0             3      29\n"
     ]
    }
   ],
   "source": [
    "pub_type = df8.groupby('interest_age',sort = False).agg({'itemID': 'count'}).reset_index()\n",
    "pub_type.sort_values(by=['itemID'], ascending=False, inplace=True, ignore_index= True)\n",
    "print(pub_type)"
   ]
  },
  {
   "cell_type": "code",
   "execution_count": 28,
   "metadata": {},
   "outputs": [
    {
     "name": "stderr",
     "output_type": "stream",
     "text": [
      "C:\\Users\\ASUS\\anaconda3\\lib\\site-packages\\pandas\\core\\frame.py:4163: SettingWithCopyWarning: \n",
      "A value is trying to be set on a copy of a slice from a DataFrame\n",
      "\n",
      "See the caveats in the documentation: https://pandas.pydata.org/pandas-docs/stable/user_guide/indexing.html#returning-a-view-versus-a-copy\n",
      "  return super().drop(\n"
     ]
    }
   ],
   "source": [
    "df8.drop(['google_isMature' , 'thalia_min_age' , 'thalia_max_age'], axis= 1, inplace=True)"
   ]
  },
  {
   "cell_type": "code",
   "execution_count": 29,
   "metadata": {},
   "outputs": [],
   "source": [
    "df9 = df5[df5['google_isMature'].isna()]\n",
    "df10 = df5[df5['google_isMature'].notnull()]"
   ]
  },
  {
   "cell_type": "code",
   "execution_count": 30,
   "metadata": {},
   "outputs": [],
   "source": [
    "df11 = df10[df10['google_isMature'] == False]\n",
    "df12 = df10[df10['google_isMature'] != False]"
   ]
  },
  {
   "cell_type": "code",
   "execution_count": 31,
   "metadata": {},
   "outputs": [
    {
     "data": {
      "text/plain": [
       "itemID               18936\n",
       "title                18936\n",
       "author               18926\n",
       "publisher            18936\n",
       "main topic           18837\n",
       "subtopics            18936\n",
       "language             18936\n",
       "interest_age         18936\n",
       "description          18251\n",
       "publisher_cluster    18936\n",
       "author_cluster       18926\n",
       "number_pages         18934\n",
       "maintopic_text       18837\n",
       "subtopics_text        6514\n",
       "release_date         18934\n",
       "google_isMature      18936\n",
       "thalia_min_age           0\n",
       "thalia_max_age           0\n",
       "dtype: int64"
      ]
     },
     "execution_count": 31,
     "metadata": {},
     "output_type": "execute_result"
    }
   ],
   "source": [
    "df11.count()"
   ]
  },
  {
   "cell_type": "code",
   "execution_count": 33,
   "metadata": {},
   "outputs": [
    {
     "name": "stderr",
     "output_type": "stream",
     "text": [
      "<ipython-input-33-c8f61a2b462f>:2: SettingWithCopyWarning: \n",
      "A value is trying to be set on a copy of a slice from a DataFrame\n",
      "\n",
      "See the caveats in the documentation: https://pandas.pydata.org/pandas-docs/stable/user_guide/indexing.html#returning-a-view-versus-a-copy\n",
      "  df11['interest_age'][ind] = 1\n",
      "C:\\Users\\ASUS\\anaconda3\\lib\\site-packages\\IPython\\core\\interactiveshell.py:3418: SettingWithCopyWarning: \n",
      "A value is trying to be set on a copy of a slice from a DataFrame\n",
      "\n",
      "See the caveats in the documentation: https://pandas.pydata.org/pandas-docs/stable/user_guide/indexing.html#returning-a-view-versus-a-copy\n",
      "  exec(code_obj, self.user_global_ns, self.user_ns)\n"
     ]
    }
   ],
   "source": [
    "for ind in df11.index:\n",
    "        df11['interest_age'][ind] = 1"
   ]
  },
  {
   "cell_type": "code",
   "execution_count": 34,
   "metadata": {},
   "outputs": [
    {
     "name": "stdout",
     "output_type": "stream",
     "text": [
      "   interest_age  itemID\n",
      "0             1   18936\n"
     ]
    }
   ],
   "source": [
    "pub_type = df11.groupby('interest_age',sort = False).agg({'itemID': 'count'}).reset_index()\n",
    "pub_type.sort_values(by=['itemID'], ascending=False, inplace=True, ignore_index= True)\n",
    "print(pub_type)"
   ]
  },
  {
   "cell_type": "code",
   "execution_count": 35,
   "metadata": {},
   "outputs": [
    {
     "name": "stderr",
     "output_type": "stream",
     "text": [
      "C:\\Users\\ASUS\\anaconda3\\lib\\site-packages\\pandas\\core\\frame.py:4163: SettingWithCopyWarning: \n",
      "A value is trying to be set on a copy of a slice from a DataFrame\n",
      "\n",
      "See the caveats in the documentation: https://pandas.pydata.org/pandas-docs/stable/user_guide/indexing.html#returning-a-view-versus-a-copy\n",
      "  return super().drop(\n"
     ]
    }
   ],
   "source": [
    "df11.drop(['google_isMature' , 'thalia_min_age' , 'thalia_max_age'], axis= 1, inplace=True)"
   ]
  },
  {
   "cell_type": "code",
   "execution_count": 32,
   "metadata": {},
   "outputs": [
    {
     "data": {
      "text/plain": [
       "itemID               255\n",
       "title                255\n",
       "author               255\n",
       "publisher            255\n",
       "main topic           253\n",
       "subtopics            255\n",
       "language             255\n",
       "interest_age         255\n",
       "description          250\n",
       "publisher_cluster    255\n",
       "author_cluster       255\n",
       "number_pages         255\n",
       "maintopic_text       253\n",
       "subtopics_text       142\n",
       "release_date         255\n",
       "google_isMature      255\n",
       "thalia_min_age         0\n",
       "thalia_max_age         0\n",
       "dtype: int64"
      ]
     },
     "execution_count": 32,
     "metadata": {},
     "output_type": "execute_result"
    }
   ],
   "source": [
    "df12.count()"
   ]
  },
  {
   "cell_type": "code",
   "execution_count": 36,
   "metadata": {},
   "outputs": [
    {
     "name": "stderr",
     "output_type": "stream",
     "text": [
      "<ipython-input-36-496068432a05>:2: SettingWithCopyWarning: \n",
      "A value is trying to be set on a copy of a slice from a DataFrame\n",
      "\n",
      "See the caveats in the documentation: https://pandas.pydata.org/pandas-docs/stable/user_guide/indexing.html#returning-a-view-versus-a-copy\n",
      "  df12['interest_age'][ind] = 3\n",
      "C:\\Users\\ASUS\\anaconda3\\lib\\site-packages\\IPython\\core\\interactiveshell.py:3418: SettingWithCopyWarning: \n",
      "A value is trying to be set on a copy of a slice from a DataFrame\n",
      "\n",
      "See the caveats in the documentation: https://pandas.pydata.org/pandas-docs/stable/user_guide/indexing.html#returning-a-view-versus-a-copy\n",
      "  exec(code_obj, self.user_global_ns, self.user_ns)\n"
     ]
    }
   ],
   "source": [
    "for ind in df12.index:\n",
    "        df12['interest_age'][ind] = 3"
   ]
  },
  {
   "cell_type": "code",
   "execution_count": 37,
   "metadata": {},
   "outputs": [
    {
     "name": "stdout",
     "output_type": "stream",
     "text": [
      "   interest_age  itemID\n",
      "0             3     255\n"
     ]
    }
   ],
   "source": [
    "pub_type = df12.groupby('interest_age',sort = False).agg({'itemID': 'count'}).reset_index()\n",
    "pub_type.sort_values(by=['itemID'], ascending=False, inplace=True, ignore_index= True)\n",
    "print(pub_type)"
   ]
  },
  {
   "cell_type": "code",
   "execution_count": 38,
   "metadata": {},
   "outputs": [
    {
     "name": "stderr",
     "output_type": "stream",
     "text": [
      "C:\\Users\\ASUS\\anaconda3\\lib\\site-packages\\pandas\\core\\frame.py:4163: SettingWithCopyWarning: \n",
      "A value is trying to be set on a copy of a slice from a DataFrame\n",
      "\n",
      "See the caveats in the documentation: https://pandas.pydata.org/pandas-docs/stable/user_guide/indexing.html#returning-a-view-versus-a-copy\n",
      "  return super().drop(\n"
     ]
    }
   ],
   "source": [
    "df12.drop(['google_isMature' , 'thalia_min_age' , 'thalia_max_age'], axis= 1, inplace=True)"
   ]
  },
  {
   "cell_type": "code",
   "execution_count": 39,
   "metadata": {},
   "outputs": [
    {
     "data": {
      "text/plain": [
       "itemID               6063\n",
       "title                6063\n",
       "author               5962\n",
       "publisher            6063\n",
       "main topic           5999\n",
       "subtopics            6062\n",
       "language             6063\n",
       "interest_age         6063\n",
       "description          5651\n",
       "publisher_cluster    6063\n",
       "author_cluster       5962\n",
       "number_pages         6060\n",
       "maintopic_text       5999\n",
       "subtopics_text       2293\n",
       "release_date         6060\n",
       "google_isMature         0\n",
       "thalia_min_age          0\n",
       "thalia_max_age          0\n",
       "dtype: int64"
      ]
     },
     "execution_count": 39,
     "metadata": {},
     "output_type": "execute_result"
    }
   ],
   "source": [
    "df9.count()"
   ]
  },
  {
   "cell_type": "code",
   "execution_count": 40,
   "metadata": {},
   "outputs": [],
   "source": [
    "df9.drop(['google_isMature' , 'thalia_min_age' , 'thalia_max_age'], axis= 1, inplace=True)"
   ]
  },
  {
   "cell_type": "code",
   "execution_count": 41,
   "metadata": {},
   "outputs": [],
   "source": [
    "frames = [df1, df4, df7, df8, df11, df12, df9]\n",
    "df = pd.concat(frames)"
   ]
  },
  {
   "cell_type": "code",
   "execution_count": 42,
   "metadata": {},
   "outputs": [
    {
     "data": {
      "text/plain": [
       "itemID               78030\n",
       "title                78030\n",
       "author               75824\n",
       "publisher            78030\n",
       "main topic           77772\n",
       "subtopics            78029\n",
       "language             78030\n",
       "interest_age         78030\n",
       "description          73749\n",
       "publisher_cluster    78030\n",
       "author_cluster       75824\n",
       "number_pages         78021\n",
       "maintopic_text       77772\n",
       "subtopics_text       41126\n",
       "release_date         78021\n",
       "dtype: int64"
      ]
     },
     "execution_count": 42,
     "metadata": {},
     "output_type": "execute_result"
    }
   ],
   "source": [
    "df.count()"
   ]
  },
  {
   "cell_type": "code",
   "execution_count": 43,
   "metadata": {},
   "outputs": [],
   "source": [
    "df1 = df[df['interest_age']!= 'None']\n",
    "df2 = df[df['interest_age']== 'None']"
   ]
  },
  {
   "cell_type": "code",
   "execution_count": 44,
   "metadata": {},
   "outputs": [
    {
     "data": {
      "text/plain": [
       "itemID               6063\n",
       "title                6063\n",
       "author               5962\n",
       "publisher            6063\n",
       "main topic           5999\n",
       "subtopics            6062\n",
       "language             6063\n",
       "interest_age         6063\n",
       "description          5651\n",
       "publisher_cluster    6063\n",
       "author_cluster       5962\n",
       "number_pages         6060\n",
       "maintopic_text       5999\n",
       "subtopics_text       2293\n",
       "release_date         6060\n",
       "dtype: int64"
      ]
     },
     "execution_count": 44,
     "metadata": {},
     "output_type": "execute_result"
    }
   ],
   "source": [
    "df2.count()"
   ]
  },
  {
   "cell_type": "code",
   "execution_count": 45,
   "metadata": {},
   "outputs": [],
   "source": [
    "df.to_csv('publisher_author_cluster_added.csv')"
   ]
  },
  {
   "cell_type": "code",
   "execution_count": null,
   "metadata": {},
   "outputs": [],
   "source": []
  }
 ],
 "metadata": {
  "kernelspec": {
   "display_name": "Python 3",
   "language": "python",
   "name": "python3"
  },
  "language_info": {
   "codemirror_mode": {
    "name": "ipython",
    "version": 3
   },
   "file_extension": ".py",
   "mimetype": "text/x-python",
   "name": "python",
   "nbconvert_exporter": "python",
   "pygments_lexer": "ipython3",
   "version": "3.8.5"
  }
 },
 "nbformat": 4,
 "nbformat_minor": 4
}
