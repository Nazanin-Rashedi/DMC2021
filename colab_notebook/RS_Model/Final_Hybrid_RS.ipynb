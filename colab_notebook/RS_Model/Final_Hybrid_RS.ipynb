{
  "nbformat": 4,
  "nbformat_minor": 5,
  "metadata": {
    "colab": {
      "name": "Final_Hybrid_RS.ipynb",
      "provenance": [],
      "collapsed_sections": [],
      "toc_visible": true
    },
    "kernelspec": {
      "display_name": "Python 3",
      "language": "python",
      "name": "python3"
    },
    "language_info": {
      "codemirror_mode": {
        "name": "ipython",
        "version": 3
      },
      "file_extension": ".py",
      "mimetype": "text/x-python",
      "name": "python",
      "nbconvert_exporter": "python",
      "pygments_lexer": "ipython3",
      "version": "3.7.3"
    },
    "widgets": {
      "application/vnd.jupyter.widget-state+json": {
        "e7103b37e23f40f78f8c95554a59cea8": {
          "model_module": "@jupyter-widgets/controls",
          "model_name": "HBoxModel",
          "state": {
            "_view_name": "HBoxView",
            "_dom_classes": [],
            "_model_name": "HBoxModel",
            "_view_module": "@jupyter-widgets/controls",
            "_model_module_version": "1.5.0",
            "_view_count": null,
            "_view_module_version": "1.5.0",
            "box_style": "",
            "layout": "IPY_MODEL_3c656e0102434b81b8cb0693a9aa79ce",
            "_model_module": "@jupyter-widgets/controls",
            "children": [
              "IPY_MODEL_be8bd6a148d140b18d2b671628d9475b",
              "IPY_MODEL_79b0f5fd510f4b68969179c9d040f480"
            ]
          }
        },
        "3c656e0102434b81b8cb0693a9aa79ce": {
          "model_module": "@jupyter-widgets/base",
          "model_name": "LayoutModel",
          "state": {
            "_view_name": "LayoutView",
            "grid_template_rows": null,
            "right": null,
            "justify_content": null,
            "_view_module": "@jupyter-widgets/base",
            "overflow": null,
            "_model_module_version": "1.2.0",
            "_view_count": null,
            "flex_flow": null,
            "width": null,
            "min_width": null,
            "border": null,
            "align_items": null,
            "bottom": null,
            "_model_module": "@jupyter-widgets/base",
            "top": null,
            "grid_column": null,
            "overflow_y": null,
            "overflow_x": null,
            "grid_auto_flow": null,
            "grid_area": null,
            "grid_template_columns": null,
            "flex": null,
            "_model_name": "LayoutModel",
            "justify_items": null,
            "grid_row": null,
            "max_height": null,
            "align_content": null,
            "visibility": null,
            "align_self": null,
            "height": null,
            "min_height": null,
            "padding": null,
            "grid_auto_rows": null,
            "grid_gap": null,
            "max_width": null,
            "order": null,
            "_view_module_version": "1.2.0",
            "grid_template_areas": null,
            "object_position": null,
            "object_fit": null,
            "grid_auto_columns": null,
            "margin": null,
            "display": null,
            "left": null
          }
        },
        "be8bd6a148d140b18d2b671628d9475b": {
          "model_module": "@jupyter-widgets/controls",
          "model_name": "FloatProgressModel",
          "state": {
            "_view_name": "ProgressView",
            "style": "IPY_MODEL_d1d198d238234a2e82160366e1376a04",
            "_dom_classes": [],
            "description": "100%",
            "_model_name": "FloatProgressModel",
            "bar_style": "success",
            "max": 40,
            "_view_module": "@jupyter-widgets/controls",
            "_model_module_version": "1.5.0",
            "value": 40,
            "_view_count": null,
            "_view_module_version": "1.5.0",
            "orientation": "horizontal",
            "min": 0,
            "description_tooltip": null,
            "_model_module": "@jupyter-widgets/controls",
            "layout": "IPY_MODEL_45d5ae6751c54569819a70a001fa876a"
          }
        },
        "79b0f5fd510f4b68969179c9d040f480": {
          "model_module": "@jupyter-widgets/controls",
          "model_name": "HTMLModel",
          "state": {
            "_view_name": "HTMLView",
            "style": "IPY_MODEL_8521b17914d14e16a3d68e96f22efd07",
            "_dom_classes": [],
            "description": "",
            "_model_name": "HTMLModel",
            "placeholder": "​",
            "_view_module": "@jupyter-widgets/controls",
            "_model_module_version": "1.5.0",
            "value": " 40/40 [05:00&lt;00:00,  7.52s/it]",
            "_view_count": null,
            "_view_module_version": "1.5.0",
            "description_tooltip": null,
            "_model_module": "@jupyter-widgets/controls",
            "layout": "IPY_MODEL_8c6688498cc44cfd804b39aa61126b78"
          }
        },
        "d1d198d238234a2e82160366e1376a04": {
          "model_module": "@jupyter-widgets/controls",
          "model_name": "ProgressStyleModel",
          "state": {
            "_view_name": "StyleView",
            "_model_name": "ProgressStyleModel",
            "description_width": "initial",
            "_view_module": "@jupyter-widgets/base",
            "_model_module_version": "1.5.0",
            "_view_count": null,
            "_view_module_version": "1.2.0",
            "bar_color": null,
            "_model_module": "@jupyter-widgets/controls"
          }
        },
        "45d5ae6751c54569819a70a001fa876a": {
          "model_module": "@jupyter-widgets/base",
          "model_name": "LayoutModel",
          "state": {
            "_view_name": "LayoutView",
            "grid_template_rows": null,
            "right": null,
            "justify_content": null,
            "_view_module": "@jupyter-widgets/base",
            "overflow": null,
            "_model_module_version": "1.2.0",
            "_view_count": null,
            "flex_flow": null,
            "width": null,
            "min_width": null,
            "border": null,
            "align_items": null,
            "bottom": null,
            "_model_module": "@jupyter-widgets/base",
            "top": null,
            "grid_column": null,
            "overflow_y": null,
            "overflow_x": null,
            "grid_auto_flow": null,
            "grid_area": null,
            "grid_template_columns": null,
            "flex": null,
            "_model_name": "LayoutModel",
            "justify_items": null,
            "grid_row": null,
            "max_height": null,
            "align_content": null,
            "visibility": null,
            "align_self": null,
            "height": null,
            "min_height": null,
            "padding": null,
            "grid_auto_rows": null,
            "grid_gap": null,
            "max_width": null,
            "order": null,
            "_view_module_version": "1.2.0",
            "grid_template_areas": null,
            "object_position": null,
            "object_fit": null,
            "grid_auto_columns": null,
            "margin": null,
            "display": null,
            "left": null
          }
        },
        "8521b17914d14e16a3d68e96f22efd07": {
          "model_module": "@jupyter-widgets/controls",
          "model_name": "DescriptionStyleModel",
          "state": {
            "_view_name": "StyleView",
            "_model_name": "DescriptionStyleModel",
            "description_width": "",
            "_view_module": "@jupyter-widgets/base",
            "_model_module_version": "1.5.0",
            "_view_count": null,
            "_view_module_version": "1.2.0",
            "_model_module": "@jupyter-widgets/controls"
          }
        },
        "8c6688498cc44cfd804b39aa61126b78": {
          "model_module": "@jupyter-widgets/base",
          "model_name": "LayoutModel",
          "state": {
            "_view_name": "LayoutView",
            "grid_template_rows": null,
            "right": null,
            "justify_content": null,
            "_view_module": "@jupyter-widgets/base",
            "overflow": null,
            "_model_module_version": "1.2.0",
            "_view_count": null,
            "flex_flow": null,
            "width": null,
            "min_width": null,
            "border": null,
            "align_items": null,
            "bottom": null,
            "_model_module": "@jupyter-widgets/base",
            "top": null,
            "grid_column": null,
            "overflow_y": null,
            "overflow_x": null,
            "grid_auto_flow": null,
            "grid_area": null,
            "grid_template_columns": null,
            "flex": null,
            "_model_name": "LayoutModel",
            "justify_items": null,
            "grid_row": null,
            "max_height": null,
            "align_content": null,
            "visibility": null,
            "align_self": null,
            "height": null,
            "min_height": null,
            "padding": null,
            "grid_auto_rows": null,
            "grid_gap": null,
            "max_width": null,
            "order": null,
            "_view_module_version": "1.2.0",
            "grid_template_areas": null,
            "object_position": null,
            "object_fit": null,
            "grid_auto_columns": null,
            "margin": null,
            "display": null,
            "left": null
          }
        }
      }
    }
  },
  "cells": [
    {
      "cell_type": "markdown",
      "metadata": {
        "id": "Kmm77pXKyZlb"
      },
      "source": [
        "## Hybrid RS and Its Evaluation"
      ],
      "id": "Kmm77pXKyZlb"
    },
    {
      "cell_type": "code",
      "metadata": {
        "id": "BWoV4WcMiMCB",
        "colab": {
          "base_uri": "https://localhost:8080/"
        },
        "outputId": "3af93edf-970c-485d-f271-6b9a91877676"
      },
      "source": [
        "from google.colab import drive\n",
        "drive.mount('/content/drive')\n",
        "#change directory to current location\n",
        "%cd /content/drive/My Drive/DMC"
      ],
      "id": "BWoV4WcMiMCB",
      "execution_count": 1,
      "outputs": [
        {
          "output_type": "stream",
          "text": [
            "Mounted at /content/drive\n",
            "/content/drive/My Drive/DMC\n"
          ],
          "name": "stdout"
        }
      ]
    },
    {
      "cell_type": "code",
      "metadata": {
        "id": "D3cjc8uy016f",
        "colab": {
          "base_uri": "https://localhost:8080/"
        },
        "outputId": "32af8994-5313-4cac-be5e-ab13313c7725"
      },
      "source": [
        "!pip install implicit"
      ],
      "id": "D3cjc8uy016f",
      "execution_count": 2,
      "outputs": [
        {
          "output_type": "stream",
          "text": [
            "Collecting implicit\n",
            "\u001b[?25l  Downloading https://files.pythonhosted.org/packages/bc/07/c0121884722d16e2c5beeb815f6b84b41cbf22e738e4075f1475be2791bc/implicit-0.4.4.tar.gz (1.1MB)\n",
            "\u001b[K     |████████████████████████████████| 1.1MB 3.9MB/s \n",
            "\u001b[?25hRequirement already satisfied: numpy in /usr/local/lib/python3.7/dist-packages (from implicit) (1.19.5)\n",
            "Requirement already satisfied: scipy>=0.16 in /usr/local/lib/python3.7/dist-packages (from implicit) (1.4.1)\n",
            "Requirement already satisfied: tqdm>=4.27 in /usr/local/lib/python3.7/dist-packages (from implicit) (4.41.1)\n",
            "Building wheels for collected packages: implicit\n",
            "  Building wheel for implicit (setup.py) ... \u001b[?25l\u001b[?25hdone\n",
            "  Created wheel for implicit: filename=implicit-0.4.4-cp37-cp37m-linux_x86_64.whl size=3406351 sha256=72c97f850b6be260672be171cbf2d19225a0a3fe2187a28767424e0e3b222f06\n",
            "  Stored in directory: /root/.cache/pip/wheels/bf/d4/ec/fd4f622fcbefb7521f149905295b2c26adecb23af38aa28217\n",
            "Successfully built implicit\n",
            "Installing collected packages: implicit\n",
            "Successfully installed implicit-0.4.4\n"
          ],
          "name": "stdout"
        }
      ]
    },
    {
      "cell_type": "code",
      "metadata": {
        "colab": {
          "base_uri": "https://localhost:8080/"
        },
        "id": "WDC00Vqh8kTh",
        "outputId": "56bd9d2c-fa37-4e01-e6bf-640772030125"
      },
      "source": [
        "# Importing necessary libraries\n",
        "import pandas as pd\n",
        "import numpy as np\n",
        "!pip install rank-bm25\n",
        "from rank_bm25 import BM25Okapi\n",
        "import math\n",
        "from nltk.corpus import stopwords\n",
        "from sklearn.metrics.pairwise import linear_kernel\n",
        "from sklearn.metrics.pairwise import cosine_similarity\n",
        "from sklearn.feature_extraction.text import CountVectorizer\n",
        "from sklearn.feature_extraction.text import TfidfVectorizer\n",
        "from nltk.tokenize import RegexpTokenizer\n",
        "import re\n",
        "import string\n",
        "import random\n",
        "import matplotlib.pyplot as plt\n",
        "import scipy.sparse as sparse\n",
        "import pickle\n",
        "%matplotlib inline\n",
        "import implicit"
      ],
      "id": "WDC00Vqh8kTh",
      "execution_count": 3,
      "outputs": [
        {
          "output_type": "stream",
          "text": [
            "Collecting rank-bm25\n",
            "  Downloading https://files.pythonhosted.org/packages/16/5a/23ed3132063a0684ea66fb410260c71c4ffda3b99f8f1c021d1e245401b5/rank_bm25-0.2.1-py3-none-any.whl\n",
            "Requirement already satisfied: numpy in /usr/local/lib/python3.7/dist-packages (from rank-bm25) (1.19.5)\n",
            "Installing collected packages: rank-bm25\n",
            "Successfully installed rank-bm25-0.2.1\n"
          ],
          "name": "stdout"
        }
      ]
    },
    {
      "cell_type": "code",
      "metadata": {
        "id": "Tl8sO0tjxm-W"
      },
      "source": [
        "# read in dataset\n",
        "with open('publisher_author_cluster_added_new.csv', 'rb') as file:\n",
        "    df = pickle.load(file)\n",
        "    \n",
        "#ev =pd.read_csv('dmc21_amazon_validation.csv',converters={'amazon_list':eval,'predictions':eval,'h_predictions':eval})\n",
        "#ev['amazon_list'] = [list() for x in range(len(ev.index))]"
      ],
      "id": "Tl8sO0tjxm-W",
      "execution_count": 4,
      "outputs": []
    },
    {
      "cell_type": "code",
      "metadata": {
        "id": "m9tof-rKxm-X",
        "colab": {
          "base_uri": "https://localhost:8080/",
          "height": 581
        },
        "outputId": "6ccae55b-4c6d-4164-fb0e-57dc7193c183"
      },
      "source": [
        "df.head()"
      ],
      "id": "m9tof-rKxm-X",
      "execution_count": 5,
      "outputs": [
        {
          "output_type": "execute_result",
          "data": {
            "text/html": [
              "<div>\n",
              "<style scoped>\n",
              "    .dataframe tbody tr th:only-of-type {\n",
              "        vertical-align: middle;\n",
              "    }\n",
              "\n",
              "    .dataframe tbody tr th {\n",
              "        vertical-align: top;\n",
              "    }\n",
              "\n",
              "    .dataframe thead th {\n",
              "        text-align: right;\n",
              "    }\n",
              "</style>\n",
              "<table border=\"1\" class=\"dataframe\">\n",
              "  <thead>\n",
              "    <tr style=\"text-align: right;\">\n",
              "      <th></th>\n",
              "      <th>itemID</th>\n",
              "      <th>title</th>\n",
              "      <th>author</th>\n",
              "      <th>publisher</th>\n",
              "      <th>main topic</th>\n",
              "      <th>subtopics</th>\n",
              "      <th>language</th>\n",
              "      <th>interest_age</th>\n",
              "      <th>description</th>\n",
              "      <th>publisher_cluster</th>\n",
              "      <th>author_cluster</th>\n",
              "      <th>number_pages</th>\n",
              "      <th>maintopic_text</th>\n",
              "      <th>subtopics_text</th>\n",
              "      <th>release_date</th>\n",
              "      <th>processed_description</th>\n",
              "    </tr>\n",
              "  </thead>\n",
              "  <tbody>\n",
              "    <tr>\n",
              "      <th>0</th>\n",
              "      <td>21310</td>\n",
              "      <td>Princess Poppy: The Big Mix Up</td>\n",
              "      <td>Janey Louise Jones</td>\n",
              "      <td>Penguin Random House Children's UK</td>\n",
              "      <td>YFB</td>\n",
              "      <td>[5AH]</td>\n",
              "      <td>en</td>\n",
              "      <td>1.0</td>\n",
              "      <td>A brand-new story in the best-selling Princess...</td>\n",
              "      <td>1</td>\n",
              "      <td>15.0</td>\n",
              "      <td>NaN</td>\n",
              "      <td>Children’s / Teenage fiction: General fiction</td>\n",
              "      <td>['Interest age: from c 7 years']</td>\n",
              "      <td>{Timestamp('2010-11-30 00:00:00')}</td>\n",
              "      <td>brand new stori best sell princess poppi seri ...</td>\n",
              "    </tr>\n",
              "    <tr>\n",
              "      <th>1</th>\n",
              "      <td>5401</td>\n",
              "      <td>The Snow Fairy</td>\n",
              "      <td>Janey Louise Jones</td>\n",
              "      <td>Curious Fox</td>\n",
              "      <td>YFH</td>\n",
              "      <td>[]</td>\n",
              "      <td>de</td>\n",
              "      <td>1.0</td>\n",
              "      <td>in the 19th century the brothers grimm publish...</td>\n",
              "      <td>4</td>\n",
              "      <td>15.0</td>\n",
              "      <td>NaN</td>\n",
              "      <td>Children’s / Teenage fiction: Fantasy</td>\n",
              "      <td>NaN</td>\n",
              "      <td>{Timestamp('2017-02-10 00:00:00')}</td>\n",
              "      <td>the 19th centuri the brother grimm publish 200...</td>\n",
              "    </tr>\n",
              "    <tr>\n",
              "      <th>2</th>\n",
              "      <td>47166</td>\n",
              "      <td>The Big Six</td>\n",
              "      <td>Arthur Ransome</td>\n",
              "      <td>Penguin Random House Children's UK</td>\n",
              "      <td>YFC</td>\n",
              "      <td>[5AK]</td>\n",
              "      <td>en</td>\n",
              "      <td>1.0</td>\n",
              "      <td>‘Why shouldn’t we be detectives too?’ When Dic...</td>\n",
              "      <td>1</td>\n",
              "      <td>6.0</td>\n",
              "      <td>NaN</td>\n",
              "      <td>Children’s / Teenage fiction: Action and adven...</td>\n",
              "      <td>['Interest age: from c 9 years']</td>\n",
              "      <td>{Timestamp('2017-04-03 00:00:00')}</td>\n",
              "      <td>should not detect dick dorothea arriv norfolk ...</td>\n",
              "    </tr>\n",
              "    <tr>\n",
              "      <th>3</th>\n",
              "      <td>22147</td>\n",
              "      <td>The Child's Book of the Seasons</td>\n",
              "      <td>Arthur Ransome</td>\n",
              "      <td>E KITAP PROJESI &amp; CHEAPEST BOO</td>\n",
              "      <td>YBLJ</td>\n",
              "      <td>[]</td>\n",
              "      <td>en</td>\n",
              "      <td>0.0</td>\n",
              "      <td>\"The Child's Book of the Seasons\" by Arthur Ra...</td>\n",
              "      <td>2</td>\n",
              "      <td>6.0</td>\n",
              "      <td>NaN</td>\n",
              "      <td>Early years: time and seasons</td>\n",
              "      <td>NaN</td>\n",
              "      <td>{Timestamp('2010-05-01 00:00:00')}</td>\n",
              "      <td>child book season arthur ransom publish good p...</td>\n",
              "    </tr>\n",
              "    <tr>\n",
              "      <th>4</th>\n",
              "      <td>68572</td>\n",
              "      <td>Candyfloss</td>\n",
              "      <td>Jacqueline Wilson</td>\n",
              "      <td>Penguin Random House Children's UK</td>\n",
              "      <td>YFB</td>\n",
              "      <td>[5AK]</td>\n",
              "      <td>en</td>\n",
              "      <td>1.0</td>\n",
              "      <td>Floss's parents are divorced, and she divides ...</td>\n",
              "      <td>1</td>\n",
              "      <td>19.0</td>\n",
              "      <td>NaN</td>\n",
              "      <td>Children’s / Teenage fiction: General fiction</td>\n",
              "      <td>['Interest age: from c 9 years']</td>\n",
              "      <td>{Timestamp('2013-07-15 00:00:00')}</td>\n",
              "      <td>floss parent divorc divid week spend five day ...</td>\n",
              "    </tr>\n",
              "  </tbody>\n",
              "</table>\n",
              "</div>"
            ],
            "text/plain": [
              "   itemID  ...                              processed_description\n",
              "0   21310  ...  brand new stori best sell princess poppi seri ...\n",
              "1    5401  ...  the 19th centuri the brother grimm publish 200...\n",
              "2   47166  ...  should not detect dick dorothea arriv norfolk ...\n",
              "3   22147  ...  child book season arthur ransom publish good p...\n",
              "4   68572  ...  floss parent divorc divid week spend five day ...\n",
              "\n",
              "[5 rows x 16 columns]"
            ]
          },
          "metadata": {
            "tags": []
          },
          "execution_count": 5
        }
      ]
    },
    {
      "cell_type": "code",
      "metadata": {
        "id": "aGZQlUL1wgxY",
        "colab": {
          "base_uri": "https://localhost:8080/",
          "height": 80
        },
        "outputId": "e7a2141e-78e7-42c9-d502-79a9fe999f8d"
      },
      "source": [
        "eval_data = pd.read_csv('evaluation.csv')\n",
        "eval_data['predictions'] = [list() for x in range(len(eval_data.index))] \n",
        "display(eval_data.head(1))"
      ],
      "id": "aGZQlUL1wgxY",
      "execution_count": 6,
      "outputs": [
        {
          "output_type": "display_data",
          "data": {
            "text/html": [
              "<div>\n",
              "<style scoped>\n",
              "    .dataframe tbody tr th:only-of-type {\n",
              "        vertical-align: middle;\n",
              "    }\n",
              "\n",
              "    .dataframe tbody tr th {\n",
              "        vertical-align: top;\n",
              "    }\n",
              "\n",
              "    .dataframe thead th {\n",
              "        text-align: right;\n",
              "    }\n",
              "</style>\n",
              "<table border=\"1\" class=\"dataframe\">\n",
              "  <thead>\n",
              "    <tr style=\"text-align: right;\">\n",
              "      <th></th>\n",
              "      <th>itemID</th>\n",
              "      <th>predictions</th>\n",
              "    </tr>\n",
              "  </thead>\n",
              "  <tbody>\n",
              "    <tr>\n",
              "      <th>0</th>\n",
              "      <td>12</td>\n",
              "      <td>[]</td>\n",
              "    </tr>\n",
              "  </tbody>\n",
              "</table>\n",
              "</div>"
            ],
            "text/plain": [
              "   itemID predictions\n",
              "0      12          []"
            ]
          },
          "metadata": {
            "tags": []
          }
        }
      ]
    },
    {
      "cell_type": "markdown",
      "metadata": {
        "id": "ZtnVZy5GyZlf"
      },
      "source": [
        "### Model Building"
      ],
      "id": "ZtnVZy5GyZlf"
    },
    {
      "cell_type": "code",
      "metadata": {
        "id": "9vwC-aSEyZlf"
      },
      "source": [
        "def searchquery(df, itemID, num_recommendation = 5):\n",
        "    #Find the query item\n",
        "    query = df.loc[df['itemID'] == itemID]\n",
        "    return query"
      ],
      "id": "9vwC-aSEyZlf",
      "execution_count": 7,
      "outputs": []
    },
    {
      "cell_type": "code",
      "metadata": {
        "id": "dmu8WR-WyZlg"
      },
      "source": [
        "#function required for title simililarity calculation\n",
        "def calculate_bm25(query, corpus):\n",
        "    tokenized_corpus = [doc.split(\" \") for doc in corpus]\n",
        "    bm25 = BM25Okapi(tokenized_corpus)\n",
        "    tokenized_query = query.split(\" \")\n",
        "    doc_scores = bm25.get_scores(tokenized_query)\n",
        "    return doc_scores"
      ],
      "id": "dmu8WR-WyZlg",
      "execution_count": 8,
      "outputs": []
    },
    {
      "cell_type": "code",
      "metadata": {
        "colab": {
          "base_uri": "https://localhost:8080/"
        },
        "id": "tqrsHggDyZlg",
        "outputId": "1ee2a8df-9468-4b1e-919e-526072b6f476"
      },
      "source": [
        "#The Linsimilarityfunction gets two strings (two main topics), Based on Lin similarity formula, then a floating number will\n",
        "#return as a measure for similarity of two books.\n",
        "def linsimilarityfunction (maintopic1 , maintopic2):\n",
        "    #if two topics are identical the Lin similarity measure should be 1:\n",
        "    if (maintopic1 == maintopic2):\n",
        "        return 1\n",
        "    #if they are not identical, we should do further analysis.\n",
        "    #we compare the first elements of both lists. If they differ from each other, the Lin similarity will be zero.\n",
        "    elif (maintopic1[0] != maintopic2[0]):\n",
        "        return 0\n",
        "    #otherwise we need further steps!\n",
        "    else:\n",
        "        #here we simply find the frequency of each topic in our dataset as it is required by Lin similarity\n",
        "        totalitems = df['main topic'].count()\n",
        "        minlength=min(len(maintopic1),len(maintopic2))\n",
        "        df1=df[df['main topic']==maintopic1]\n",
        "        df2=df[df['main topic']==maintopic2]\n",
        "        count1=df1['main topic'].count()\n",
        "        count2=df2['main topic'].count()\n",
        "        #Now, we can focus on finding the closest mutual ancestor of both topics. By close, we refer to number of\n",
        "        #node traverse in the tree of all topics.\n",
        "        i=minlength\n",
        "        while (i>0):\n",
        "            if (maintopic1[:i]==maintopic2[:i]):\n",
        "                dfmutual=df[df['main topic'].str[:i]==maintopic1[:i]]\n",
        "                countmutual=dfmutual['main topic'].count()\n",
        "                sim = 2*math.log10(countmutual/totalitems)/(math.log10(count1/totalitems)+math.log10(count2/totalitems))\n",
        "                return sim\n",
        "            else:\n",
        "                i=i-1\n",
        "                \n",
        "# example\n",
        "print(linsimilarityfunction ('YB', 'YFB'))"
      ],
      "id": "tqrsHggDyZlg",
      "execution_count": 9,
      "outputs": [
        {
          "output_type": "stream",
          "text": [
            "0.10116165919446315\n"
          ],
          "name": "stdout"
        }
      ]
    },
    {
      "cell_type": "code",
      "metadata": {
        "id": "lGtL4oFAyZlh"
      },
      "source": [
        "#preprocessing for interest age\n",
        "#if interest_age = 'None', we assigned the item value 20 (as one of the member in Group others)\n",
        "df['interest_age'] = [20 if i == 'None' else i for i in df['interest_age']]\n",
        "\n",
        "#change data type from string to float\n",
        "df['interest_age'] = df['interest_age'].astype(float)"
      ],
      "id": "lGtL4oFAyZlh",
      "execution_count": 10,
      "outputs": []
    },
    {
      "cell_type": "code",
      "metadata": {
        "id": "HmY4JZ05yZlh"
      },
      "source": [
        "#we simply define the cosine similarity marices for controids of publisher clusters, according to what we calculated before.\n",
        "#we will use these matrices, later in this notebook.\n",
        "cosine_sim_pub_en= [[1.0, 0.8330066502646305,0.6297570399979626,0.4861936761165772,0.7453411410708859],\n",
        "                    [0.8330066502646305, 1.0, 0.7554188417173869, 0.7118815933864038, 0.9210669994486579],\n",
        "                    [0.6297570399979626, 0.7554188417173869, 1.0, 0.6235440834287432, 0.6375244958925325],\n",
        "                    [0.4861936761165772, 0.7118815933864038, 0.6235440834287432, 1.0, 0.6478558391290395],\n",
        "                    [0.7453411410708859, 0.9210669994486579, 0.6375244958925325, 0.6478558391290395, 1.0]]\n",
        "cosine_sim_pub_de= [[1.0, 0.6980035928496665, 0.6652253308854318, 0.7618509407590829, 0.24346291180752616],\n",
        "                    [0.6980035928496665, 1.0, 0.5094143512344115, 0.6684881408627634, 0.34110548671081775],\n",
        "                    [0.6652253308854318, 0.5094143512344115, 1.0, 0.5009705224224626, 0.1478384568079113],\n",
        "                    [0.7618509407590829, 0.6684881408627634, 0.5009705224224626, 1.0, 0.21427313660101593],\n",
        "                    [0.24346291180752616, 0.34110548671081775, 0.1478384568079113, 0.21427313660101593, 1.0]]\n",
        "cosine_sim_pub_es= [[1.0000000000000002, 0.160890554358734, 0.6464809047245317, 0.2896861543901769, 0.21631925136172767],\n",
        "                    [0.160890554358734, 1.0, 0.15004107600273364, 0.15892212224517466, 0.08412392024908043], \n",
        "                    [0.6464809047245317, 0.15004107600273364, 1.0, 0.260231004956859, 0.35929479439712453], \n",
        "                    [0.2896861543901769, 0.15892212224517466, 0.260231004956859, 1.0000000000000002, 0.10176734676342591],\n",
        "                    [0.21631925136172767, 0.08412392024908043, 0.35929479439712453, 0.10176734676342591, 1.0000000000000002]]\n",
        "cosine_sim_pub_it= [[0.9999999999999999, 0.2561779725373971, 0.25311718656092913, 0.22072994629183765, 0.21016282367168967],\n",
        "                    [0.2561779725373971, 1.0000000000000002, 0.2929791491742338, 0.060380627840515635, 0.10947151505277775],\n",
        "                    [0.25311718656092913, 0.2929791491742338, 1.0000000000000002, 0.0947600541304488, 0.06665679929131706],\n",
        "                    [0.22072994629183765, 0.060380627840515635, 0.0947600541304488, 1.0, 0.08102817035798306],\n",
        "                    [0.21016282367168967, 0.10947151505277775, 0.06665679929131706, 0.08102817035798306, 1.0]]\n",
        "cosine_sim_pub_fr= [[1.0, 0.0648745051530169, 0.10092346226021406, 0.12995150974842662,  0.11242176980768166],\n",
        "                    [0.0648745051530169, 0.9999999999999998, 0.11951700602218226, 0.1598015065807482, 0.11855046701545281],\n",
        "                    [0.10092346226021406, 0.11951700602218226, 1.0000000000000002, 0.4525789852904426, 0.45974607409831275],\n",
        "                    [0.12995150974842662, 0.1598015065807482, 0.4525789852904426, 1.0000000000000002, 0.6061514610077626],\n",
        "                    [0.11242176980768166, 0.11855046701545281, 0.45974607409831275, 0.6061514610077626, 0.9999999999999998]]"
      ],
      "id": "HmY4JZ05yZlh",
      "execution_count": 11,
      "outputs": []
    },
    {
      "cell_type": "code",
      "metadata": {
        "id": "ENWN25BoyZli"
      },
      "source": [
        "#change data type from string to integer\n",
        "df['publisher_cluster'] = df['publisher_cluster'].astype(int)"
      ],
      "id": "ENWN25BoyZli",
      "execution_count": 12,
      "outputs": []
    },
    {
      "cell_type": "code",
      "metadata": {
        "id": "jEEJxqzxyZli"
      },
      "source": [
        "#function for publisher cluster similarity calculation. \n",
        "\n",
        "def calculate_pub_cluster_similarity (publisher_clusster_i, publisher_clusster_j, language):\n",
        "    if (language == 'en'):\n",
        "        return cosine_sim_pub_en [publisher_clusster_i][publisher_clusster_j]\n",
        "    elif (language == 'de'):\n",
        "        return cosine_sim_pub_de [publisher_clusster_i][publisher_clusster_j]\n",
        "    elif (language == 'es'):\n",
        "        return cosine_sim_pub_es [publisher_clusster_i][publisher_clusster_j]\n",
        "    elif (language == 'it'):\n",
        "        return cosine_sim_pub_it [publisher_clusster_i][publisher_clusster_j]\n",
        "    elif (language == 'fr'):\n",
        "        return cosine_sim_pub_fr [publisher_clusster_i][publisher_clusster_j]\n",
        "    else:\n",
        "        return 1"
      ],
      "id": "jEEJxqzxyZli",
      "execution_count": 13,
      "outputs": []
    },
    {
      "cell_type": "code",
      "metadata": {
        "colab": {
          "base_uri": "https://localhost:8080/"
        },
        "id": "M3gZBkzXyZli",
        "outputId": "659bd046-c12a-45c3-b115-8d07d3a8e6b5"
      },
      "source": [
        "#required preprocessing for author cluster feature. \n",
        "#Also we import the cosine similarity matrix that we have computed for this feature.\n",
        "\n",
        "df1 = df[df['author'].notnull()]\n",
        "df2 = df[df['author'].isna()]\n",
        "\n",
        "#if author = NaN we assigned the item value 20 as a number for author cluster attribute. it represent unknown! :D\n",
        "df2['author_cluster'] = 20\n",
        "\n",
        "frames = [df1, df2]\n",
        "df = pd.concat(frames)\n",
        "\n",
        "#change data type from string to integer\n",
        "df['author_cluster'] = df['author_cluster'].astype(int)\n",
        "\n",
        "\n",
        "#we calculated cosine similarity of author cluster centroids, and we just import the matrix save in a nparray\n",
        "from numpy import load\n",
        "# load array\n",
        "#cosine_sim_author = load('Annotated datasets/cosine_sim_author.npy', allow_pickle=True)\n",
        "cosine_sim_author = load('cosine_sim_author.npy', allow_pickle=True)"
      ],
      "id": "M3gZBkzXyZli",
      "execution_count": 14,
      "outputs": [
        {
          "output_type": "stream",
          "text": [
            "/usr/local/lib/python3.7/dist-packages/ipykernel_launcher.py:8: SettingWithCopyWarning: \n",
            "A value is trying to be set on a copy of a slice from a DataFrame.\n",
            "Try using .loc[row_indexer,col_indexer] = value instead\n",
            "\n",
            "See the caveats in the documentation: https://pandas.pydata.org/pandas-docs/stable/user_guide/indexing.html#returning-a-view-versus-a-copy\n",
            "  \n"
          ],
          "name": "stderr"
        }
      ]
    },
    {
      "cell_type": "code",
      "metadata": {
        "id": "dTrQn4iUyZlj"
      },
      "source": [
        "#function for author cluster similarity calculation. \n",
        "def calculate_author_cluster_similarity (author_cluster_i, author_cluster_j):\n",
        "    if ((author_cluster_i == 20) or (author_cluster_j == 20)):\n",
        "        return 0.5\n",
        "    else:\n",
        "        return cosine_sim_author [author_cluster_i][author_cluster_j]"
      ],
      "id": "dTrQn4iUyZlj",
      "execution_count": 15,
      "outputs": []
    },
    {
      "cell_type": "code",
      "metadata": {
        "id": "eW_U-95tyZlj"
      },
      "source": [
        "#required preprocessing for number of pages feature. \n",
        "\n",
        "df1 = df[df['number_pages'].notnull()]\n",
        "df2 = df[df['number_pages'].isna()]\n",
        "#if number_pages = NaN we assigned the item value 0 as a number for number_pages attribute. it represent unknown! :D\n",
        "#df2['number_pages'] = 0\n",
        "df2 = df2.assign(number_pages= 0)\n",
        "frames = [df1, df2]\n",
        "df = pd.concat(frames)\n",
        "#change data type from string to integer\n",
        "df['author_cluster'] = df['author_cluster'].astype(int)"
      ],
      "id": "eW_U-95tyZlj",
      "execution_count": 16,
      "outputs": []
    },
    {
      "cell_type": "code",
      "metadata": {
        "id": "weStI6aZyZlj"
      },
      "source": [
        "def calculate_num_pages_similarity (num_pages_i, num_pages_j):\n",
        "    if (num_pages_i <= 24):\n",
        "        num_pages_i = 24\n",
        "    elif (num_pages_i >= 640):\n",
        "        num_pages_i = 640\n",
        "    if (num_pages_j <= 24):\n",
        "        num_pages_j = 24\n",
        "    elif (num_pages_j >= 640):\n",
        "        num_pages_j = 640\n",
        "    return  1-(abs(num_pages_i-num_pages_j)/(640-24))"
      ],
      "id": "weStI6aZyZlj",
      "execution_count": 17,
      "outputs": []
    },
    {
      "cell_type": "markdown",
      "metadata": {
        "id": "2I84JBd30pdK"
      },
      "source": [
        "### ALS"
      ],
      "id": "2I84JBd30pdK"
    },
    {
      "cell_type": "code",
      "metadata": {
        "id": "YZEoJalzyt-G"
      },
      "source": [
        "transactions_df = pd.read_csv('preprocessed_transactions_attraction.csv')\n",
        "#transactions_df = pd.read_csv('Annotated datasets/preprocessed_transactions_attraction.csv')\n",
        "transactions_df['userId'] = transactions_df['sessionID'].astype('category').cat.codes\n",
        "transactions_df['itemId'] = transactions_df['itemID'].astype('category').cat.codes\n",
        "user_items = sparse.csr_matrix((transactions_df['attention'].astype(float),(transactions_df['userId'], transactions_df['itemId'])))\n",
        "item_users = sparse.csr_matrix((transactions_df['attention'].astype(float),(transactions_df['itemId'], transactions_df['userId'])))\n",
        "item_list_sorted=sorted(transactions_df['itemId'].unique())"
      ],
      "id": "YZEoJalzyt-G",
      "execution_count": 18,
      "outputs": []
    },
    {
      "cell_type": "code",
      "metadata": {
        "colab": {
          "base_uri": "https://localhost:8080/",
          "height": 103,
          "referenced_widgets": [
            "e7103b37e23f40f78f8c95554a59cea8",
            "3c656e0102434b81b8cb0693a9aa79ce",
            "be8bd6a148d140b18d2b671628d9475b",
            "79b0f5fd510f4b68969179c9d040f480",
            "d1d198d238234a2e82160366e1376a04",
            "45d5ae6751c54569819a70a001fa876a",
            "8521b17914d14e16a3d68e96f22efd07",
            "8c6688498cc44cfd804b39aa61126b78"
          ]
        },
        "id": "PbEXqgSl2od9",
        "outputId": "d4c42620-9340-4612-a1a2-7772a6a75771"
      },
      "source": [
        "als_model = implicit.als.AlternatingLeastSquares(factors=20, regularization=0.1, iterations=40, use_gpu= False)\n",
        "alpha_val = 1\n",
        "data_conf = (item_users * alpha_val).astype('double')\n",
        "als_model.fit(data_conf)"
      ],
      "id": "PbEXqgSl2od9",
      "execution_count": 19,
      "outputs": [
        {
          "output_type": "stream",
          "text": [
            "WARNING:root:OpenBLAS detected. Its highly recommend to set the environment variable 'export OPENBLAS_NUM_THREADS=1' to disable its internal multithreading\n"
          ],
          "name": "stderr"
        },
        {
          "output_type": "display_data",
          "data": {
            "application/vnd.jupyter.widget-view+json": {
              "model_id": "e7103b37e23f40f78f8c95554a59cea8",
              "version_minor": 0,
              "version_major": 2
            },
            "text/plain": [
              "HBox(children=(FloatProgress(value=0.0, max=40.0), HTML(value='')))"
            ]
          },
          "metadata": {
            "tags": []
          }
        },
        {
          "output_type": "stream",
          "text": [
            "\n"
          ],
          "name": "stdout"
        }
      ]
    },
    {
      "cell_type": "code",
      "metadata": {
        "id": "ok7PipjANG1W"
      },
      "source": [
        "user_vecs = als_model.user_factors\n",
        "item_vecs = als_model.item_factors\n",
        "item_norms = np.sqrt((item_vecs * item_vecs).sum(axis=1))\n",
        "als_scores = item_vecs.dot(item_vecs.T) / item_norms"
      ],
      "id": "ok7PipjANG1W",
      "execution_count": 20,
      "outputs": []
    },
    {
      "cell_type": "markdown",
      "metadata": {
        "id": "1qKI4ZyllHA0"
      },
      "source": [
        "#### Content-based Model\n",
        "#### Hybrid Model 1:\n",
        "- weight of content-based data: 0.8 <br>\n",
        "- weight of transaction data: 0.2"
      ],
      "id": "1qKI4ZyllHA0"
    },
    {
      "cell_type": "code",
      "metadata": {
        "id": "omrZWgka8kTx"
      },
      "source": [
        "def recommend(df, itemID, num_recommendation = 5):   \n",
        "    #Find the item index\n",
        "    item_index = int(df[df['itemID'] == itemID].index.values)\n",
        "\n",
        "    #metadata for the itemID\n",
        "    item_metadata = df[df['itemID'] == itemID]\n",
        "    item_metadata = item_metadata.squeeze(axis=0)\n",
        "    \n",
        "    #0. Language: Keep data with same langauge. + remove itemID (this is the query item) from df dataframe\n",
        "    df = df.loc[df['itemID'] != itemID]\n",
        "    df = df.loc[df['language'] == item_metadata.language]\n",
        "    \n",
        "\n",
        "    #1. Title\n",
        "    item_title = item_metadata.title #this is the query sentence\n",
        "    if pd.isnull(item_title)== False:\n",
        "        df['title_bm25_scores'] = calculate_bm25(item_title, df.title)\n",
        "    else: \n",
        "        df['title_bm25_scores'] = 0\n",
        "\n",
        "    #2. Description\n",
        "    item_description = item_metadata.processed_description #this is the query sentence\n",
        "    if pd.isnull(item_description)== False:\n",
        "        df['description_bm25_scores'] = calculate_bm25(item_description, df.processed_description)\n",
        "    else: \n",
        "        df['description_bm25_scores'] = 0\n",
        "\n",
        "    #3. Calculate the closeness of age between query item and candidate items. At the end, create an new column called \"age_closeness\"\n",
        "    #age distance\n",
        "    df['age_distance'] = df['interest_age'] - item_metadata['interest_age'] #candidate's age minus query item's age\n",
        "    #age Normalization: use Max-min Normalization\n",
        "    df['age_distance'] = (df['age_distance'] - df['age_distance'].min()) / (df['age_distance'].max() - df['age_distance'].min())\n",
        "    #How close the age distance is? (Closeness = 1 - age_distance)\n",
        "    df['age_closeness'] = 1 - abs(df['age_distance']) #the larger value the closer age is    \n",
        "\n",
        "    #4. Publisher clusters. since we have different clusters for different languages: first, we capture the language of\n",
        "    #both books. Then, we should look for each specific language. so, if both books are written in English, German, Spanish,\n",
        "    #Italian, or French, then, we simply use the cosine similarity matrix that we extracted during the clustering.\n",
        "    #Otherwise, we set the measure to 1, which means that for all infrequent languages, we basically use the same score\n",
        "    #equal to 1 for all books.\n",
        "    item_publisher_clusster = item_metadata['publisher_cluster']\n",
        "    item_language = item_metadata['language']\n",
        "    df['publisher_cluster_scores'] = [calculate_pub_cluster_similarity (item_publisher_clusster, publisher_cluster, item_language) for publisher_cluster in df['publisher_cluster']]\n",
        "    \n",
        "    #5. Title-Author combination best selections\n",
        "    item_author = item_metadata.author\n",
        "    df1 = df.loc[df['author'] == item_author]\n",
        "    df2 = df.loc[df['author'] != item_author]\n",
        "    df1['author_scores'] = 1\n",
        "    df2['author_scores'] = 0\n",
        "\n",
        "    #6. only keep age closeness larger than 0.95 (Q1)\n",
        "    #print('\\n')\n",
        "    #print('The number of current data is: ', len(df))     \n",
        "    if (len(df2.loc[df2['age_closeness'] > 0.95]) < 1000):\n",
        "      df2 = df2.sort_values(by=['age_closeness'], ascending=False)\n",
        "      df2= df2[:1000]\n",
        "      #print('The number of current data after removing age closeness lower than 0.95 is: ', len(df))\n",
        "    else:\n",
        "      df2 = df2.loc[df['age_closeness'] > 0.95]\n",
        "      #print('The number of current data after removing age closeness lower than 0.95 is: ', len(df)) \n",
        "    \n",
        "    #after_remove_age.append(len(df2))\n",
        "\n",
        "\n",
        "    #7. only keep publisher clustering larget than 0.76 (Q1)\n",
        "    if (len(df2.loc[df2['publisher_cluster_scores'] > 0.76]) < 500):\n",
        "      df2 = df2.sort_values(by=['publisher_cluster_scores'], ascending=False)\n",
        "      df2= df2[:500]\n",
        "      #print('The number of current data after removing age closeness lower than 0.95 is: ', len(df))\n",
        "    else:\n",
        "      df2 = df2.loc[df['publisher_cluster_scores'] > 0.76]\n",
        "      #print('The number of current data after removing age closeness lower than 0.95 is: ', len(df)) \n",
        "    \n",
        "    #after_remove_publisher_clustering.append(len(df2))\n",
        "       \n",
        " \n",
        "    #8.combining all we have for final evaluation\n",
        "    df2 = df2.sort_values(by=['description_bm25_scores'], ascending=False)\n",
        "    if len(df2.index) >= 1000:\n",
        "        df2= df2[:1000]\n",
        "    frames = [df1, df2]\n",
        "    df = pd.concat(frames)\n",
        "\n",
        "    \n",
        "    #9. author clusters\n",
        "    item_author_clusster = item_metadata['author_cluster']\n",
        "    df['author_cluster_scores'] = [calculate_author_cluster_similarity (item_author_clusster, author_cluster) for author_cluster in df['author_cluster']]\n",
        "\n",
        "    \n",
        "    #10. number of pages\n",
        "    item_num_pages = item_metadata['number_pages']\n",
        "    if (item_num_pages == 0):\n",
        "        df['num_pages_scores'] = 0\n",
        "    else:\n",
        "        df1 = df[df['number_pages']!= 0]\n",
        "        df2 = df[df['number_pages']== 0]\n",
        "        df1['num_pages_scores'] = [calculate_num_pages_similarity (item_num_pages, number_pages) for number_pages in df1['number_pages']]\n",
        "        df2['num_pages_scores'] = 0\n",
        "        frames = [df1, df2]\n",
        "        df = pd.concat(frames)\n",
        "    \n",
        "    #11. Main topic: use Linsimilarity\n",
        "    item_maintopic = item_metadata['main topic']\n",
        "    if pd.isnull(item_maintopic)==False:\n",
        "        df1 = df[df['main topic'].notna()]\n",
        "        df2 = df[df['main topic'].isna()]\n",
        "        df1['maintopic_scores'] = [linsimilarityfunction (item_maintopic, topic) for topic in df1['main topic']]\n",
        "        df2['maintopic_scores'] = 0\n",
        "        #combining all we have for final evaluation\n",
        "        frames = [df1, df2]\n",
        "        df = pd.concat(frames)\n",
        "    else:\n",
        "        df['maintopic_scores'] = 0\n",
        "    \n",
        "    #12. ALS transactional similarity based on transactional co occurence\n",
        "    if len(transactions_df.loc[transactions_df.itemID == itemID]) >0:\n",
        "        itemId_ = int(transactions_df.loc[transactions_df.itemID == itemID].iloc[0].itemId)\n",
        "        t_similarity = pd.DataFrame(zip(item_list_sorted, als_scores[itemId_]),columns=['itemId','transactional_similarity'])\n",
        "        t_similarity_f = t_similarity[t_similarity['transactional_similarity']>0]\n",
        "        transaction_scored=pd.merge(transactions_df,t_similarity_f,how='inner',on='itemId')\n",
        "        df=pd.merge(df,transaction_scored,how='left',on='itemID')\n",
        "        df=df.drop(columns =['sessionID','click','basket','order','attention','userId','itemId'])\n",
        "        df['transactional_similarity'] = df.transactional_similarity.fillna(0)\n",
        "    else:\n",
        "        df['transactional_similarity'] = 0\n",
        "    \n",
        "    #normalize all scores.\n",
        "    df['maintopic_scores'] = (df['maintopic_scores'] - df['maintopic_scores'].min()) / (df['maintopic_scores'].max() - df['maintopic_scores'].min())\n",
        "    Total = df['title_bm25_scores'].sum()\n",
        "    if (Total > 0):\n",
        "        df['title_bm25_scores'] = (df['title_bm25_scores'] - df['title_bm25_scores'].min()) / (df['title_bm25_scores'].max() - df['title_bm25_scores'].min())   \n",
        "  \n",
        "    #13. final score and limit the number of recommendations to 10\n",
        "    \n",
        "    #since we had many NaN values in the num_pages column, we should find a way to handle the issue.\n",
        "    #thus, for all items with NaN values (previously replacced by zero), we omit this criterion from our evaluation.\n",
        "    if (item_num_pages == 0):\n",
        "        df['average_score'] = 0.22265 *  df['author_scores'] + 0.27749 * df['maintopic_scores'] + 0.08067 * df['age_closeness'] + 0.07591 * df['title_bm25_scores'] + 0.03389 * df['publisher_cluster_scores'] + 0.30938 * df['author_cluster_scores']\n",
        "    else:\n",
        "        df1 = df[df['number_pages']!= 0]\n",
        "        df2 = df[df['number_pages']== 0]\n",
        "        df1['average_score'] = 0.10731 *  df1['author_scores'] + 0.12744 * df1['maintopic_scores'] + 0.04142 * df1['age_closeness'] + 0.03289 * df1['title_bm25_scores'] + 0.01880 * df1['publisher_cluster_scores'] + 0.19771 * df1['author_cluster_scores'] + 0.47442 * df1['num_pages_scores']\n",
        "        df2['average_score'] = 0.22265 *  df2['author_scores'] + 0.27749 * df2['maintopic_scores'] + 0.08067 * df2['age_closeness'] + 0.07591 * df2['title_bm25_scores'] + 0.03389 * df2['publisher_cluster_scores'] + 0.30938 * df2['author_cluster_scores']\n",
        "        frames = [df1, df2]\n",
        "        df = pd.concat(frames)\n",
        "        \n",
        "    df['hybrid_score_1'] = 0.8 * df ['average_score'] + 0.2 * df ['transactional_similarity']\n",
        "    #df['hybrid_score_2'] = 0.5 * df ['average_score'] + 0.5 * df ['transactional_similarity']\n",
        "\n",
        "    df = df.drop_duplicates(subset=['itemID'], keep='first')\n",
        "    df = df.drop_duplicates(subset=['title'], keep='first')\n",
        "    #result = df.sort_values(by=['average_score'], ascending=False)\n",
        "    result_hybrid_1 = df.sort_values(by=['hybrid_score_1'], ascending=False)\n",
        "    #result_hybrid_2 = df.sort_values(by=['hybrid_score_2'], ascending=False)\n",
        "    #result.drop(columns=['level_0','maintopic_text','subtopics_text','release_date', 'processed_description', 'age_distance'], axis= 1, inplace=True)\n",
        "    #result.drop(columns=['maintopic_text','subtopics_text','release_date', 'processed_description', 'age_distance'], axis= 1, inplace=True)\n",
        "    result_hybrid_1.drop(columns=['maintopic_text','subtopics_text','release_date', 'processed_description', 'age_distance'], axis= 1, inplace=True)\n",
        "    #result_hybrid_2.drop(columns=['maintopic_text','subtopics_text','release_date', 'processed_description', 'age_distance'], axis= 1, inplace=True)\n",
        "    \n",
        "    #return result.iloc[:num_recommendation], result_hybrid_1.iloc[:num_recommendation], result_hybrid_2.iloc[:num_recommendation]\n",
        "    return result_hybrid_1.iloc[:num_recommendation]"
      ],
      "id": "omrZWgka8kTx",
      "execution_count": 21,
      "outputs": []
    },
    {
      "cell_type": "code",
      "metadata": {
        "id": "20qQvWMMmNQC"
      },
      "source": [
        "import warnings\n",
        "warnings.filterwarnings(\"ignore\")"
      ],
      "id": "20qQvWMMmNQC",
      "execution_count": 24,
      "outputs": []
    },
    {
      "cell_type": "code",
      "metadata": {
        "colab": {
          "base_uri": "https://localhost:8080/",
          "height": 202
        },
        "id": "_sP5yLGZyZlk",
        "outputId": "1d461e39-473e-41b4-dad8-f50ed6bb428c"
      },
      "source": [
        "query_item = searchquery(df,19649, 5) #k = 5\n",
        "query_item.head()"
      ],
      "id": "_sP5yLGZyZlk",
      "execution_count": 22,
      "outputs": [
        {
          "output_type": "execute_result",
          "data": {
            "text/html": [
              "<div>\n",
              "<style scoped>\n",
              "    .dataframe tbody tr th:only-of-type {\n",
              "        vertical-align: middle;\n",
              "    }\n",
              "\n",
              "    .dataframe tbody tr th {\n",
              "        vertical-align: top;\n",
              "    }\n",
              "\n",
              "    .dataframe thead th {\n",
              "        text-align: right;\n",
              "    }\n",
              "</style>\n",
              "<table border=\"1\" class=\"dataframe\">\n",
              "  <thead>\n",
              "    <tr style=\"text-align: right;\">\n",
              "      <th></th>\n",
              "      <th>itemID</th>\n",
              "      <th>title</th>\n",
              "      <th>author</th>\n",
              "      <th>publisher</th>\n",
              "      <th>main topic</th>\n",
              "      <th>subtopics</th>\n",
              "      <th>language</th>\n",
              "      <th>interest_age</th>\n",
              "      <th>description</th>\n",
              "      <th>publisher_cluster</th>\n",
              "      <th>author_cluster</th>\n",
              "      <th>number_pages</th>\n",
              "      <th>maintopic_text</th>\n",
              "      <th>subtopics_text</th>\n",
              "      <th>release_date</th>\n",
              "      <th>processed_description</th>\n",
              "    </tr>\n",
              "  </thead>\n",
              "  <tbody>\n",
              "    <tr>\n",
              "      <th>55354</th>\n",
              "      <td>19649</td>\n",
              "      <td>Hören und Malen: Märchen (mit CD)</td>\n",
              "      <td>NaN</td>\n",
              "      <td>Ravensburger Verlag</td>\n",
              "      <td>YBGC</td>\n",
              "      <td>[5AD,YBL]</td>\n",
              "      <td>de</td>\n",
              "      <td>0.0</td>\n",
              "      <td>ein haessliches entlein das zum schoenen schwa...</td>\n",
              "      <td>2</td>\n",
              "      <td>20</td>\n",
              "      <td>144.0</td>\n",
              "      <td>Children’s interactive and activity: drawing, ...</td>\n",
              "      <td>['Interest age: from c 4 years', 'Early years ...</td>\n",
              "      <td>{Timestamp('2019-07-17 00:00:00')}</td>\n",
              "      <td>haesslich entlein schoenen schwan zwei schneid...</td>\n",
              "    </tr>\n",
              "  </tbody>\n",
              "</table>\n",
              "</div>"
            ],
            "text/plain": [
              "       itemID  ...                              processed_description\n",
              "55354   19649  ...  haesslich entlein schoenen schwan zwei schneid...\n",
              "\n",
              "[1 rows x 16 columns]"
            ]
          },
          "metadata": {
            "tags": []
          },
          "execution_count": 22
        }
      ]
    },
    {
      "cell_type": "code",
      "metadata": {
        "colab": {
          "base_uri": "https://localhost:8080/",
          "height": 1000
        },
        "id": "PAZjw1azyZll",
        "outputId": "3a872662-b16b-44f3-9a34-6be568dc433f"
      },
      "source": [
        "hyb_rec_books_1  = recommend(df, 19649, 5) #k = 5\n",
        "hyb_rec_books_1.head()\n",
        "#rec_books , hyb_rec_books_1, hyb_rec_books_2  = recommend(df, 19649, 5) #k = 5\n",
        "#rec_books.head()"
      ],
      "id": "PAZjw1azyZll",
      "execution_count": 23,
      "outputs": [
        {
          "output_type": "stream",
          "text": [
            "/usr/local/lib/python3.7/dist-packages/ipykernel_launcher.py:98: SettingWithCopyWarning: \n",
            "A value is trying to be set on a copy of a slice from a DataFrame.\n",
            "Try using .loc[row_indexer,col_indexer] = value instead\n",
            "\n",
            "See the caveats in the documentation: https://pandas.pydata.org/pandas-docs/stable/user_guide/indexing.html#returning-a-view-versus-a-copy\n",
            "/usr/local/lib/python3.7/dist-packages/ipykernel_launcher.py:99: SettingWithCopyWarning: \n",
            "A value is trying to be set on a copy of a slice from a DataFrame.\n",
            "Try using .loc[row_indexer,col_indexer] = value instead\n",
            "\n",
            "See the caveats in the documentation: https://pandas.pydata.org/pandas-docs/stable/user_guide/indexing.html#returning-a-view-versus-a-copy\n",
            "/usr/local/lib/python3.7/dist-packages/ipykernel_launcher.py:108: SettingWithCopyWarning: \n",
            "A value is trying to be set on a copy of a slice from a DataFrame.\n",
            "Try using .loc[row_indexer,col_indexer] = value instead\n",
            "\n",
            "See the caveats in the documentation: https://pandas.pydata.org/pandas-docs/stable/user_guide/indexing.html#returning-a-view-versus-a-copy\n",
            "/usr/local/lib/python3.7/dist-packages/ipykernel_launcher.py:109: SettingWithCopyWarning: \n",
            "A value is trying to be set on a copy of a slice from a DataFrame.\n",
            "Try using .loc[row_indexer,col_indexer] = value instead\n",
            "\n",
            "See the caveats in the documentation: https://pandas.pydata.org/pandas-docs/stable/user_guide/indexing.html#returning-a-view-versus-a-copy\n",
            "/usr/local/lib/python3.7/dist-packages/ipykernel_launcher.py:143: SettingWithCopyWarning: \n",
            "A value is trying to be set on a copy of a slice from a DataFrame.\n",
            "Try using .loc[row_indexer,col_indexer] = value instead\n",
            "\n",
            "See the caveats in the documentation: https://pandas.pydata.org/pandas-docs/stable/user_guide/indexing.html#returning-a-view-versus-a-copy\n",
            "/usr/local/lib/python3.7/dist-packages/ipykernel_launcher.py:144: SettingWithCopyWarning: \n",
            "A value is trying to be set on a copy of a slice from a DataFrame.\n",
            "Try using .loc[row_indexer,col_indexer] = value instead\n",
            "\n",
            "See the caveats in the documentation: https://pandas.pydata.org/pandas-docs/stable/user_guide/indexing.html#returning-a-view-versus-a-copy\n"
          ],
          "name": "stderr"
        },
        {
          "output_type": "execute_result",
          "data": {
            "text/html": [
              "<div>\n",
              "<style scoped>\n",
              "    .dataframe tbody tr th:only-of-type {\n",
              "        vertical-align: middle;\n",
              "    }\n",
              "\n",
              "    .dataframe tbody tr th {\n",
              "        vertical-align: top;\n",
              "    }\n",
              "\n",
              "    .dataframe thead th {\n",
              "        text-align: right;\n",
              "    }\n",
              "</style>\n",
              "<table border=\"1\" class=\"dataframe\">\n",
              "  <thead>\n",
              "    <tr style=\"text-align: right;\">\n",
              "      <th></th>\n",
              "      <th>itemID</th>\n",
              "      <th>title</th>\n",
              "      <th>author</th>\n",
              "      <th>publisher</th>\n",
              "      <th>main topic</th>\n",
              "      <th>subtopics</th>\n",
              "      <th>language</th>\n",
              "      <th>interest_age</th>\n",
              "      <th>description</th>\n",
              "      <th>publisher_cluster</th>\n",
              "      <th>author_cluster</th>\n",
              "      <th>number_pages</th>\n",
              "      <th>title_bm25_scores</th>\n",
              "      <th>description_bm25_scores</th>\n",
              "      <th>age_closeness</th>\n",
              "      <th>publisher_cluster_scores</th>\n",
              "      <th>author_scores</th>\n",
              "      <th>author_cluster_scores</th>\n",
              "      <th>num_pages_scores</th>\n",
              "      <th>maintopic_scores</th>\n",
              "      <th>transactional_similarity</th>\n",
              "      <th>average_score</th>\n",
              "      <th>hybrid_score_1</th>\n",
              "    </tr>\n",
              "  </thead>\n",
              "  <tbody>\n",
              "    <tr>\n",
              "      <th>17192</th>\n",
              "      <td>29923</td>\n",
              "      <td>Mein fantastisch-verrücktes erstes Schuljahr</td>\n",
              "      <td>NaN</td>\n",
              "      <td>Bibliograph. Instit. GmbH</td>\n",
              "      <td>YBGC</td>\n",
              "      <td>[5AF,5HKB,4CA,YBL,YZG]</td>\n",
              "      <td>de</td>\n",
              "      <td>0.0</td>\n",
              "      <td>ein ausmal  und kritzelbuch rund um den schuls...</td>\n",
              "      <td>2</td>\n",
              "      <td>20</td>\n",
              "      <td>144.0</td>\n",
              "      <td>0.000000</td>\n",
              "      <td>3.056635</td>\n",
              "      <td>1.0</td>\n",
              "      <td>1.0</td>\n",
              "      <td>0</td>\n",
              "      <td>0.5</td>\n",
              "      <td>1.000000</td>\n",
              "      <td>1.0</td>\n",
              "      <td>1.043222e-12</td>\n",
              "      <td>0.760935</td>\n",
              "      <td>0.608748</td>\n",
              "    </tr>\n",
              "    <tr>\n",
              "      <th>12354</th>\n",
              "      <td>49994</td>\n",
              "      <td>Mein superdicker Mal- und Bastelblock. Frohe O...</td>\n",
              "      <td>NaN</td>\n",
              "      <td>Arena Verlag GmbH</td>\n",
              "      <td>YBGC</td>\n",
              "      <td>[5AD,5HPF,YBL]</td>\n",
              "      <td>de</td>\n",
              "      <td>0.0</td>\n",
              "      <td>dank leichter anleitungen koennen kleine haend...</td>\n",
              "      <td>2</td>\n",
              "      <td>20</td>\n",
              "      <td>160.0</td>\n",
              "      <td>0.130259</td>\n",
              "      <td>5.975364</td>\n",
              "      <td>1.0</td>\n",
              "      <td>1.0</td>\n",
              "      <td>0</td>\n",
              "      <td>0.5</td>\n",
              "      <td>0.974026</td>\n",
              "      <td>1.0</td>\n",
              "      <td>5.792509e-13</td>\n",
              "      <td>0.752897</td>\n",
              "      <td>0.602317</td>\n",
              "    </tr>\n",
              "    <tr>\n",
              "      <th>12939</th>\n",
              "      <td>37916</td>\n",
              "      <td>Das Mama-Kind-Ausmalbuch</td>\n",
              "      <td>Jasmine Narayan</td>\n",
              "      <td>Edition Michael Fischer</td>\n",
              "      <td>YBGC</td>\n",
              "      <td>[5AC,WFX,YBL,YZG]</td>\n",
              "      <td>de</td>\n",
              "      <td>0.0</td>\n",
              "      <td>wenn mama und die kleinen gemeinsam ausmalen b...</td>\n",
              "      <td>2</td>\n",
              "      <td>0</td>\n",
              "      <td>128.0</td>\n",
              "      <td>0.000000</td>\n",
              "      <td>5.928463</td>\n",
              "      <td>1.0</td>\n",
              "      <td>1.0</td>\n",
              "      <td>0</td>\n",
              "      <td>0.5</td>\n",
              "      <td>0.974026</td>\n",
              "      <td>1.0</td>\n",
              "      <td>1.143538e-12</td>\n",
              "      <td>0.748612</td>\n",
              "      <td>0.598890</td>\n",
              "    </tr>\n",
              "    <tr>\n",
              "      <th>9903</th>\n",
              "      <td>69653</td>\n",
              "      <td>Die schönsten Mandalas zu Ostern</td>\n",
              "      <td>NaN</td>\n",
              "      <td>Ravensburger Verlag</td>\n",
              "      <td>YBGC</td>\n",
              "      <td>[5AD,5HPF,YBL]</td>\n",
              "      <td>de</td>\n",
              "      <td>0.0</td>\n",
              "      <td>hasen ostereier und fruehlingsblumen sind hier...</td>\n",
              "      <td>2</td>\n",
              "      <td>20</td>\n",
              "      <td>160.0</td>\n",
              "      <td>0.000000</td>\n",
              "      <td>6.480661</td>\n",
              "      <td>1.0</td>\n",
              "      <td>1.0</td>\n",
              "      <td>0</td>\n",
              "      <td>0.5</td>\n",
              "      <td>0.974026</td>\n",
              "      <td>1.0</td>\n",
              "      <td>8.190719e-13</td>\n",
              "      <td>0.748612</td>\n",
              "      <td>0.598890</td>\n",
              "    </tr>\n",
              "    <tr>\n",
              "      <th>6764</th>\n",
              "      <td>77847</td>\n",
              "      <td>Mein allererster Ausmalspaß. Von Punkt zu Punkt</td>\n",
              "      <td>NaN</td>\n",
              "      <td>Coppenrath F</td>\n",
              "      <td>YBGC</td>\n",
              "      <td>[5ABK,YBL,YNV]</td>\n",
              "      <td>de</td>\n",
              "      <td>0.0</td>\n",
              "      <td>kritzeln krakeln klecksen in diesem malblock f...</td>\n",
              "      <td>2</td>\n",
              "      <td>20</td>\n",
              "      <td>160.0</td>\n",
              "      <td>0.000000</td>\n",
              "      <td>8.048056</td>\n",
              "      <td>1.0</td>\n",
              "      <td>1.0</td>\n",
              "      <td>0</td>\n",
              "      <td>0.5</td>\n",
              "      <td>0.974026</td>\n",
              "      <td>1.0</td>\n",
              "      <td>7.972165e-13</td>\n",
              "      <td>0.748612</td>\n",
              "      <td>0.598890</td>\n",
              "    </tr>\n",
              "  </tbody>\n",
              "</table>\n",
              "</div>"
            ],
            "text/plain": [
              "       itemID  ... hybrid_score_1\n",
              "17192   29923  ...       0.608748\n",
              "12354   49994  ...       0.602317\n",
              "12939   37916  ...       0.598890\n",
              "9903    69653  ...       0.598890\n",
              "6764    77847  ...       0.598890\n",
              "\n",
              "[5 rows x 23 columns]"
            ]
          },
          "metadata": {
            "tags": []
          },
          "execution_count": 23
        }
      ]
    },
    {
      "cell_type": "code",
      "metadata": {
        "colab": {
          "base_uri": "https://localhost:8080/",
          "height": 221
        },
        "id": "taSkVery0mJO",
        "outputId": "b1cc9f36-ab99-44cc-dc51-10f08aef0ac2"
      },
      "source": [
        "#eval_data = eval_data[250:500].reset_index()\n",
        "print(len(eval_data))\n",
        "display(eval_data.head())"
      ],
      "id": "taSkVery0mJO",
      "execution_count": 25,
      "outputs": [
        {
          "output_type": "stream",
          "text": [
            "250\n"
          ],
          "name": "stdout"
        },
        {
          "output_type": "display_data",
          "data": {
            "text/html": [
              "<div>\n",
              "<style scoped>\n",
              "    .dataframe tbody tr th:only-of-type {\n",
              "        vertical-align: middle;\n",
              "    }\n",
              "\n",
              "    .dataframe tbody tr th {\n",
              "        vertical-align: top;\n",
              "    }\n",
              "\n",
              "    .dataframe thead th {\n",
              "        text-align: right;\n",
              "    }\n",
              "</style>\n",
              "<table border=\"1\" class=\"dataframe\">\n",
              "  <thead>\n",
              "    <tr style=\"text-align: right;\">\n",
              "      <th></th>\n",
              "      <th>index</th>\n",
              "      <th>itemID</th>\n",
              "      <th>predictions</th>\n",
              "    </tr>\n",
              "  </thead>\n",
              "  <tbody>\n",
              "    <tr>\n",
              "      <th>0</th>\n",
              "      <td>250</td>\n",
              "      <td>8861</td>\n",
              "      <td>[]</td>\n",
              "    </tr>\n",
              "    <tr>\n",
              "      <th>1</th>\n",
              "      <td>251</td>\n",
              "      <td>1680</td>\n",
              "      <td>[]</td>\n",
              "    </tr>\n",
              "    <tr>\n",
              "      <th>2</th>\n",
              "      <td>252</td>\n",
              "      <td>62200</td>\n",
              "      <td>[]</td>\n",
              "    </tr>\n",
              "    <tr>\n",
              "      <th>3</th>\n",
              "      <td>253</td>\n",
              "      <td>73868</td>\n",
              "      <td>[]</td>\n",
              "    </tr>\n",
              "    <tr>\n",
              "      <th>4</th>\n",
              "      <td>254</td>\n",
              "      <td>7666</td>\n",
              "      <td>[]</td>\n",
              "    </tr>\n",
              "  </tbody>\n",
              "</table>\n",
              "</div>"
            ],
            "text/plain": [
              "   index  itemID predictions\n",
              "0    250    8861          []\n",
              "1    251    1680          []\n",
              "2    252   62200          []\n",
              "3    253   73868          []\n",
              "4    254    7666          []"
            ]
          },
          "metadata": {
            "tags": []
          }
        }
      ]
    },
    {
      "cell_type": "code",
      "metadata": {
        "colab": {
          "base_uri": "https://localhost:8080/"
        },
        "id": "5uTknVA50wQX",
        "outputId": "d54fbba3-ca1f-4f32-f60c-b00daf431a9e"
      },
      "source": [
        "%%time\n",
        "\n",
        "# generate recommendations based on book's features\n",
        "for idx,row in eval_data.iterrows():\n",
        "    item_data = row['itemID']\n",
        "    if(idx % 10 == 0): print(idx)\n",
        "    try: \n",
        "        rec_list =recommend(df, item_data, 5)['itemID'].tolist()\n",
        "        for x in rec_list:\n",
        "            row['predictions'].append(str(x))\n",
        "    except:\n",
        "        print('unable to make recommendations for the {}th book'.format(idx))\n",
        "\n",
        "# export the dataset for rating the RS\n",
        "evaluation_data=eval_data[['itemID','predictions']]\n",
        "evaluation_data.to_csv('final_evaluation_data_500.csv')"
      ],
      "id": "5uTknVA50wQX",
      "execution_count": 26,
      "outputs": [
        {
          "output_type": "stream",
          "text": [
            "0\n",
            "10\n",
            "20\n",
            "30\n",
            "unable to make recommendations for the 31th book\n",
            "40\n",
            "50\n",
            "60\n",
            "70\n",
            "80\n",
            "90\n",
            "100\n",
            "110\n",
            "120\n",
            "130\n",
            "140\n",
            "150\n",
            "160\n",
            "170\n",
            "180\n",
            "190\n",
            "200\n",
            "210\n",
            "220\n",
            "230\n",
            "240\n",
            "CPU times: user 1h 51min 45s, sys: 1min 15s, total: 1h 53min 1s\n",
            "Wall time: 1h 52min 55s\n"
          ],
          "name": "stdout"
        }
      ]
    },
    {
      "cell_type": "code",
      "metadata": {
        "id": "mWH2uvkNxm-j",
        "colab": {
          "base_uri": "https://localhost:8080/",
          "height": 204
        },
        "outputId": "73a4b42d-58db-4440-bd91-70103ded75db"
      },
      "source": [
        "display(eval_data.head(5))"
      ],
      "id": "mWH2uvkNxm-j",
      "execution_count": 27,
      "outputs": [
        {
          "output_type": "display_data",
          "data": {
            "text/html": [
              "<div>\n",
              "<style scoped>\n",
              "    .dataframe tbody tr th:only-of-type {\n",
              "        vertical-align: middle;\n",
              "    }\n",
              "\n",
              "    .dataframe tbody tr th {\n",
              "        vertical-align: top;\n",
              "    }\n",
              "\n",
              "    .dataframe thead th {\n",
              "        text-align: right;\n",
              "    }\n",
              "</style>\n",
              "<table border=\"1\" class=\"dataframe\">\n",
              "  <thead>\n",
              "    <tr style=\"text-align: right;\">\n",
              "      <th></th>\n",
              "      <th>index</th>\n",
              "      <th>itemID</th>\n",
              "      <th>predictions</th>\n",
              "    </tr>\n",
              "  </thead>\n",
              "  <tbody>\n",
              "    <tr>\n",
              "      <th>0</th>\n",
              "      <td>250</td>\n",
              "      <td>8861</td>\n",
              "      <td>[24216, 55373, 16016, 21666, 3134]</td>\n",
              "    </tr>\n",
              "    <tr>\n",
              "      <th>1</th>\n",
              "      <td>251</td>\n",
              "      <td>1680</td>\n",
              "      <td>[19277, 63242, 55206, 62821, 49987]</td>\n",
              "    </tr>\n",
              "    <tr>\n",
              "      <th>2</th>\n",
              "      <td>252</td>\n",
              "      <td>62200</td>\n",
              "      <td>[61633, 28531, 1777, 43021, 47456]</td>\n",
              "    </tr>\n",
              "    <tr>\n",
              "      <th>3</th>\n",
              "      <td>253</td>\n",
              "      <td>73868</td>\n",
              "      <td>[51862, 22581, 47881, 14877, 28239]</td>\n",
              "    </tr>\n",
              "    <tr>\n",
              "      <th>4</th>\n",
              "      <td>254</td>\n",
              "      <td>7666</td>\n",
              "      <td>[23738, 71022, 67651, 27541, 30790]</td>\n",
              "    </tr>\n",
              "  </tbody>\n",
              "</table>\n",
              "</div>"
            ],
            "text/plain": [
              "   index  itemID                          predictions\n",
              "0    250    8861   [24216, 55373, 16016, 21666, 3134]\n",
              "1    251    1680  [19277, 63242, 55206, 62821, 49987]\n",
              "2    252   62200   [61633, 28531, 1777, 43021, 47456]\n",
              "3    253   73868  [51862, 22581, 47881, 14877, 28239]\n",
              "4    254    7666  [23738, 71022, 67651, 27541, 30790]"
            ]
          },
          "metadata": {
            "tags": []
          }
        }
      ]
    },
    {
      "cell_type": "code",
      "metadata": {
        "id": "sBRas68e2nmW"
      },
      "source": [
        ""
      ],
      "id": "sBRas68e2nmW",
      "execution_count": null,
      "outputs": []
    }
  ]
}