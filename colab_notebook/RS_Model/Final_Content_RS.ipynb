{
  "nbformat": 4,
  "nbformat_minor": 5,
  "metadata": {
    "kernelspec": {
      "display_name": "Python 3",
      "language": "python",
      "name": "python3"
    },
    "language_info": {
      "codemirror_mode": {
        "name": "ipython",
        "version": 3
      },
      "file_extension": ".py",
      "mimetype": "text/x-python",
      "name": "python",
      "nbconvert_exporter": "python",
      "pygments_lexer": "ipython3",
      "version": "3.8.5"
    },
    "colab": {
      "name": "Content_based RS and its evaluation.ipynb",
      "provenance": [],
      "collapsed_sections": []
    }
  },
  "cells": [
    {
      "cell_type": "markdown",
      "metadata": {
        "id": "nbTXFnB04bpM"
      },
      "source": [
        "## Content_based RS and its evaluation"
      ],
      "id": "nbTXFnB04bpM"
    },
    {
      "cell_type": "code",
      "metadata": {
        "colab": {
          "base_uri": "https://localhost:8080/"
        },
        "id": "UBNL3VnB2WQO",
        "outputId": "bd34f396-0e9e-4180-e462-781a8780d813"
      },
      "source": [
        "from google.colab import drive\n",
        "drive.mount('/content/drive')\n",
        "#change directory to current location\n",
        "%cd /content/drive/My Drive/DMC"
      ],
      "id": "UBNL3VnB2WQO",
      "execution_count": 1,
      "outputs": [
        {
          "output_type": "stream",
          "text": [
            "Drive already mounted at /content/drive; to attempt to forcibly remount, call drive.mount(\"/content/drive\", force_remount=True).\n",
            "/content/drive/My Drive/DMC\n"
          ],
          "name": "stdout"
        }
      ]
    },
    {
      "cell_type": "code",
      "metadata": {
        "colab": {
          "base_uri": "https://localhost:8080/"
        },
        "id": "pLIO46As4bpO",
        "outputId": "e7b4e62c-a3e6-42d8-ba08-f499dde0589c"
      },
      "source": [
        "# Importing necessary libraries\n",
        "import pandas as pd\n",
        "import numpy as np\n",
        "!pip install rank-bm25\n",
        "from rank_bm25 import BM25Okapi\n",
        "import math\n",
        "from nltk.corpus import stopwords\n",
        "from sklearn.metrics.pairwise import linear_kernel\n",
        "from sklearn.metrics.pairwise import cosine_similarity\n",
        "from sklearn.feature_extraction.text import CountVectorizer\n",
        "from sklearn.feature_extraction.text import TfidfVectorizer\n",
        "from nltk.tokenize import RegexpTokenizer\n",
        "import re\n",
        "import string\n",
        "import random\n",
        "import matplotlib.pyplot as plt\n",
        "import scipy.sparse as sparse\n",
        "import pickle\n",
        "%matplotlib inline"
      ],
      "id": "pLIO46As4bpO",
      "execution_count": 2,
      "outputs": [
        {
          "output_type": "stream",
          "text": [
            "Requirement already satisfied: rank-bm25 in /usr/local/lib/python3.7/dist-packages (0.2.1)\n",
            "Requirement already satisfied: numpy in /usr/local/lib/python3.7/dist-packages (from rank-bm25) (1.19.5)\n"
          ],
          "name": "stdout"
        }
      ]
    },
    {
      "cell_type": "code",
      "metadata": {
        "id": "yl52k37O4bpQ"
      },
      "source": [
        "# read in dataset\n",
        "with open('publisher_author_cluster_added_new.csv', 'rb') as file:\n",
        "    df = pickle.load(file)"
      ],
      "id": "yl52k37O4bpQ",
      "execution_count": 3,
      "outputs": []
    },
    {
      "cell_type": "code",
      "metadata": {
        "colab": {
          "base_uri": "https://localhost:8080/",
          "height": 80
        },
        "id": "1NIylwbHxkvw",
        "outputId": "d462778c-cde0-492b-e93d-37dd249285d4"
      },
      "source": [
        "eval_data = pd.read_csv('evaluation.csv')\n",
        "eval_data['predictions'] = [list() for x in range(len(eval_data.index))] \n",
        "display(eval_data.head(1))"
      ],
      "id": "1NIylwbHxkvw",
      "execution_count": 4,
      "outputs": [
        {
          "output_type": "display_data",
          "data": {
            "text/html": [
              "<div>\n",
              "<style scoped>\n",
              "    .dataframe tbody tr th:only-of-type {\n",
              "        vertical-align: middle;\n",
              "    }\n",
              "\n",
              "    .dataframe tbody tr th {\n",
              "        vertical-align: top;\n",
              "    }\n",
              "\n",
              "    .dataframe thead th {\n",
              "        text-align: right;\n",
              "    }\n",
              "</style>\n",
              "<table border=\"1\" class=\"dataframe\">\n",
              "  <thead>\n",
              "    <tr style=\"text-align: right;\">\n",
              "      <th></th>\n",
              "      <th>itemID</th>\n",
              "      <th>predictions</th>\n",
              "    </tr>\n",
              "  </thead>\n",
              "  <tbody>\n",
              "    <tr>\n",
              "      <th>0</th>\n",
              "      <td>12</td>\n",
              "      <td>[]</td>\n",
              "    </tr>\n",
              "  </tbody>\n",
              "</table>\n",
              "</div>"
            ],
            "text/plain": [
              "   itemID predictions\n",
              "0      12          []"
            ]
          },
          "metadata": {
            "tags": []
          }
        }
      ]
    },
    {
      "cell_type": "markdown",
      "metadata": {
        "id": "E_y4cLOM4bpR"
      },
      "source": [
        "### Model Building"
      ],
      "id": "E_y4cLOM4bpR"
    },
    {
      "cell_type": "code",
      "metadata": {
        "id": "zRmYkY3y4bpR"
      },
      "source": [
        "def searchquery(df, itemID, num_recommendation = 5):\n",
        "    #Find the query item\n",
        "    query = df.loc[df['itemID'] == itemID]\n",
        "    return query"
      ],
      "id": "zRmYkY3y4bpR",
      "execution_count": 5,
      "outputs": []
    },
    {
      "cell_type": "code",
      "metadata": {
        "id": "D_uq1ZKc4bpR"
      },
      "source": [
        "#function required for title simililarity calculation\n",
        "def calculate_bm25(query, corpus):\n",
        "    tokenized_corpus = [doc.split(\" \") for doc in corpus]\n",
        "    bm25 = BM25Okapi(tokenized_corpus)\n",
        "    tokenized_query = query.split(\" \")\n",
        "    doc_scores = bm25.get_scores(tokenized_query)\n",
        "    return doc_scores"
      ],
      "id": "D_uq1ZKc4bpR",
      "execution_count": 6,
      "outputs": []
    },
    {
      "cell_type": "code",
      "metadata": {
        "id": "eP-Z3YAV4bpR",
        "colab": {
          "base_uri": "https://localhost:8080/"
        },
        "outputId": "19bc3081-ce05-4d4f-9e13-facb9c8c0a7f"
      },
      "source": [
        "#The Linsimilarityfunction gets two strings (two main topics), Based on Lin similarity formula, then a floating number will\n",
        "#return as a measure for similarity of two books.\n",
        "def linsimilarityfunction (maintopic1 , maintopic2):\n",
        "    #if two topics are identical the Lin similarity measure should be 1:\n",
        "    if (maintopic1 == maintopic2):\n",
        "        return 1\n",
        "    #if they are not identical, we should do further analysis.\n",
        "    #we compare the first elements of both lists. If they differ from each other, the Lin similarity will be zero.\n",
        "    elif (maintopic1[0] != maintopic2[0]):\n",
        "        return 0\n",
        "    #otherwise we need further steps!\n",
        "    else:\n",
        "        #here we simply find the frequency of each topic in our dataset as it is required by Lin similarity\n",
        "        totalitems = df['main topic'].count()\n",
        "        minlength=min(len(maintopic1),len(maintopic2))\n",
        "        df1=df[df['main topic']==maintopic1]\n",
        "        df2=df[df['main topic']==maintopic2]\n",
        "        count1=df1['main topic'].count()\n",
        "        count2=df2['main topic'].count()\n",
        "        #Now, we can focus on finding the closest mutual ancestor of both topics. By close, we refer to number of\n",
        "        #node traverse in the tree of all topics.\n",
        "        i=minlength\n",
        "        while (i>0):\n",
        "            if (maintopic1[:i]==maintopic2[:i]):\n",
        "                dfmutual=df[df['main topic'].str[:i]==maintopic1[:i]]\n",
        "                countmutual=dfmutual['main topic'].count()\n",
        "                sim = 2*math.log10(countmutual/totalitems)/(math.log10(count1/totalitems)+math.log10(count2/totalitems))\n",
        "                return sim\n",
        "            else:\n",
        "                i=i-1\n",
        "                \n",
        "# example\n",
        "print(linsimilarityfunction ('YB', 'YFB'))"
      ],
      "id": "eP-Z3YAV4bpR",
      "execution_count": 7,
      "outputs": [
        {
          "output_type": "stream",
          "text": [
            "0.10116165919446315\n"
          ],
          "name": "stdout"
        }
      ]
    },
    {
      "cell_type": "code",
      "metadata": {
        "id": "s_K0Mk_K4bpS"
      },
      "source": [
        "#preprocessing for interest age\n",
        "#if interest_age = 'None', we assigned the item value 20 (as one of the member in Group others)\n",
        "df['interest_age'] = [20 if i == 'None' else i for i in df['interest_age']]\n",
        "\n",
        "#change data type from string to float\n",
        "df['interest_age'] = df['interest_age'].astype(float)"
      ],
      "id": "s_K0Mk_K4bpS",
      "execution_count": 8,
      "outputs": []
    },
    {
      "cell_type": "code",
      "metadata": {
        "id": "FqRePRa94bpS"
      },
      "source": [
        "#we simply define the cosine similarity marices for controids of publisher clusters, according to what we calculated before.\n",
        "#we will use these matrices, later in this notebook.\n",
        "cosine_sim_pub_en= [[1.0, 0.8330066502646305,0.6297570399979626,0.4861936761165772,0.7453411410708859],\n",
        "                    [0.8330066502646305, 1.0, 0.7554188417173869, 0.7118815933864038, 0.9210669994486579],\n",
        "                    [0.6297570399979626, 0.7554188417173869, 1.0, 0.6235440834287432, 0.6375244958925325],\n",
        "                    [0.4861936761165772, 0.7118815933864038, 0.6235440834287432, 1.0, 0.6478558391290395],\n",
        "                    [0.7453411410708859, 0.9210669994486579, 0.6375244958925325, 0.6478558391290395, 1.0]]\n",
        "cosine_sim_pub_de= [[1.0, 0.6980035928496665, 0.6652253308854318, 0.7618509407590829, 0.24346291180752616],\n",
        "                    [0.6980035928496665, 1.0, 0.5094143512344115, 0.6684881408627634, 0.34110548671081775],\n",
        "                    [0.6652253308854318, 0.5094143512344115, 1.0, 0.5009705224224626, 0.1478384568079113],\n",
        "                    [0.7618509407590829, 0.6684881408627634, 0.5009705224224626, 1.0, 0.21427313660101593],\n",
        "                    [0.24346291180752616, 0.34110548671081775, 0.1478384568079113, 0.21427313660101593, 1.0]]\n",
        "cosine_sim_pub_es= [[1.0000000000000002, 0.160890554358734, 0.6464809047245317, 0.2896861543901769, 0.21631925136172767],\n",
        "                    [0.160890554358734, 1.0, 0.15004107600273364, 0.15892212224517466, 0.08412392024908043], \n",
        "                    [0.6464809047245317, 0.15004107600273364, 1.0, 0.260231004956859, 0.35929479439712453], \n",
        "                    [0.2896861543901769, 0.15892212224517466, 0.260231004956859, 1.0000000000000002, 0.10176734676342591],\n",
        "                    [0.21631925136172767, 0.08412392024908043, 0.35929479439712453, 0.10176734676342591, 1.0000000000000002]]\n",
        "cosine_sim_pub_it= [[0.9999999999999999, 0.2561779725373971, 0.25311718656092913, 0.22072994629183765, 0.21016282367168967],\n",
        "                    [0.2561779725373971, 1.0000000000000002, 0.2929791491742338, 0.060380627840515635, 0.10947151505277775],\n",
        "                    [0.25311718656092913, 0.2929791491742338, 1.0000000000000002, 0.0947600541304488, 0.06665679929131706],\n",
        "                    [0.22072994629183765, 0.060380627840515635, 0.0947600541304488, 1.0, 0.08102817035798306],\n",
        "                    [0.21016282367168967, 0.10947151505277775, 0.06665679929131706, 0.08102817035798306, 1.0]]\n",
        "cosine_sim_pub_fr= [[1.0, 0.0648745051530169, 0.10092346226021406, 0.12995150974842662,  0.11242176980768166],\n",
        "                    [0.0648745051530169, 0.9999999999999998, 0.11951700602218226, 0.1598015065807482, 0.11855046701545281],\n",
        "                    [0.10092346226021406, 0.11951700602218226, 1.0000000000000002, 0.4525789852904426, 0.45974607409831275],\n",
        "                    [0.12995150974842662, 0.1598015065807482, 0.4525789852904426, 1.0000000000000002, 0.6061514610077626],\n",
        "                    [0.11242176980768166, 0.11855046701545281, 0.45974607409831275, 0.6061514610077626, 0.9999999999999998]]"
      ],
      "id": "FqRePRa94bpS",
      "execution_count": 9,
      "outputs": []
    },
    {
      "cell_type": "code",
      "metadata": {
        "id": "d09eYpNq4bpT"
      },
      "source": [
        "#change data type from string to integer\n",
        "df['publisher_cluster'] = df['publisher_cluster'].astype(int)"
      ],
      "id": "d09eYpNq4bpT",
      "execution_count": 10,
      "outputs": []
    },
    {
      "cell_type": "code",
      "metadata": {
        "id": "HXXBfcEO4bpT"
      },
      "source": [
        "#function for publisher cluster similarity calculation. \n",
        "\n",
        "def calculate_pub_cluster_similarity (publisher_clusster_i, publisher_clusster_j, language):\n",
        "    if (language == 'en'):\n",
        "        return cosine_sim_pub_en [publisher_clusster_i][publisher_clusster_j]\n",
        "    elif (language == 'de'):\n",
        "        return cosine_sim_pub_de [publisher_clusster_i][publisher_clusster_j]\n",
        "    elif (language == 'es'):\n",
        "        return cosine_sim_pub_es [publisher_clusster_i][publisher_clusster_j]\n",
        "    elif (language == 'it'):\n",
        "        return cosine_sim_pub_it [publisher_clusster_i][publisher_clusster_j]\n",
        "    elif (language == 'fr'):\n",
        "        return cosine_sim_pub_fr [publisher_clusster_i][publisher_clusster_j]\n",
        "    else:\n",
        "        return 1"
      ],
      "id": "HXXBfcEO4bpT",
      "execution_count": 11,
      "outputs": []
    },
    {
      "cell_type": "code",
      "metadata": {
        "id": "YIhcAl564bpT",
        "colab": {
          "base_uri": "https://localhost:8080/"
        },
        "outputId": "39169165-ca96-4439-b2ec-e51ace770211"
      },
      "source": [
        "#required preprocessing for author cluster feature. \n",
        "#Also we import the cosine similarity matrix that we have computed for this feature.\n",
        "\n",
        "df1 = df[df['author'].notnull()]\n",
        "df2 = df[df['author'].isna()]\n",
        "\n",
        "#if author = NaN we assigned the item value 20 as a number for author cluster attribute. it represent unknown! :D\n",
        "df2['author_cluster'] = 20\n",
        "\n",
        "frames = [df1, df2]\n",
        "df = pd.concat(frames)\n",
        "\n",
        "#change data type from string to integer\n",
        "df['author_cluster'] = df['author_cluster'].astype(int)\n",
        "\n",
        "\n",
        "#we calculated cosine similarity of author cluster centroids, and we just import the matrix save in a nparray\n",
        "from numpy import load\n",
        "# load array\n",
        "cosine_sim_author = load('cosine_sim_author.npy', allow_pickle=True)"
      ],
      "id": "YIhcAl564bpT",
      "execution_count": 12,
      "outputs": [
        {
          "output_type": "stream",
          "text": [
            "/usr/local/lib/python3.7/dist-packages/ipykernel_launcher.py:8: SettingWithCopyWarning: \n",
            "A value is trying to be set on a copy of a slice from a DataFrame.\n",
            "Try using .loc[row_indexer,col_indexer] = value instead\n",
            "\n",
            "See the caveats in the documentation: https://pandas.pydata.org/pandas-docs/stable/user_guide/indexing.html#returning-a-view-versus-a-copy\n",
            "  \n"
          ],
          "name": "stderr"
        }
      ]
    },
    {
      "cell_type": "code",
      "metadata": {
        "id": "fYnibBtp4bpU"
      },
      "source": [
        "#function for author cluster similarity calculation. \n",
        "def calculate_author_cluster_similarity (author_cluster_i, author_cluster_j):\n",
        "    if ((author_cluster_i == 20) or (author_cluster_j == 20)):\n",
        "        return 0.5\n",
        "    else:\n",
        "        return cosine_sim_author [author_cluster_i][author_cluster_j]"
      ],
      "id": "fYnibBtp4bpU",
      "execution_count": 13,
      "outputs": []
    },
    {
      "cell_type": "code",
      "metadata": {
        "id": "oLN6zkvP4bpU",
        "colab": {
          "base_uri": "https://localhost:8080/"
        },
        "outputId": "f95023c1-9f78-4a11-a455-43dc0b01b6fd"
      },
      "source": [
        "#required preprocessing for number of pages feature. \n",
        "\n",
        "df1 = df[df['number_pages'].notnull()]\n",
        "df2 = df[df['number_pages'].isna()]\n",
        "#if number_pages = NaN we assigned the item value 0 as a number for number_pages attribute. it represent unknown! :D\n",
        "df2['number_pages'] = 0\n",
        "frames = [df1, df2]\n",
        "df = pd.concat(frames)\n",
        "#change data type from string to integer\n",
        "df['author_cluster'] = df['author_cluster'].astype(int)"
      ],
      "id": "oLN6zkvP4bpU",
      "execution_count": 14,
      "outputs": [
        {
          "output_type": "stream",
          "text": [
            "/usr/local/lib/python3.7/dist-packages/ipykernel_launcher.py:6: SettingWithCopyWarning: \n",
            "A value is trying to be set on a copy of a slice from a DataFrame.\n",
            "Try using .loc[row_indexer,col_indexer] = value instead\n",
            "\n",
            "See the caveats in the documentation: https://pandas.pydata.org/pandas-docs/stable/user_guide/indexing.html#returning-a-view-versus-a-copy\n",
            "  \n"
          ],
          "name": "stderr"
        }
      ]
    },
    {
      "cell_type": "code",
      "metadata": {
        "id": "ClgQRVVH4bpU"
      },
      "source": [
        "def calculate_num_pages_similarity (num_pages_i, num_pages_j):\n",
        "    if (num_pages_i <= 24):\n",
        "        num_pages_i = 24\n",
        "    elif (num_pages_i >= 640):\n",
        "        num_pages_i = 640\n",
        "    if (num_pages_j <= 24):\n",
        "        num_pages_j = 24\n",
        "    elif (num_pages_j >= 640):\n",
        "        num_pages_j = 640\n",
        "    return  1-(abs(num_pages_i-num_pages_j)/(640-24))"
      ],
      "id": "ClgQRVVH4bpU",
      "execution_count": 15,
      "outputs": []
    },
    {
      "cell_type": "code",
      "metadata": {
        "id": "pbivjoFz4bpV"
      },
      "source": [
        "def recommend(df, itemID, num_recommendation = 5):\n",
        "    \n",
        "    #Find the item index\n",
        "    item_index = int(df[df['itemID'] == itemID].index.values)\n",
        "\n",
        "    #metadata for the itemID\n",
        "    item_metadata = df[df['itemID'] == itemID]\n",
        "    item_metadata = item_metadata.squeeze(axis=0)\n",
        "    \n",
        "    #0. Language: Keep data with same langauge. + remove itemID (this is the query item) from df dataframe\n",
        "    df = df.loc[df['itemID'] != itemID]\n",
        "    df = df.loc[df['language'] == item_metadata.language]\n",
        "    \n",
        "    #1. Title\n",
        "    item_title = item_metadata.title #this is the query sentence\n",
        "    if pd.isnull(item_title)== False:\n",
        "        df['title_bm25_scores'] = calculate_bm25(item_title, df.title)\n",
        "    else: \n",
        "        df['title_bm25_scores'] = 0\n",
        "\n",
        "    #2. Description\n",
        "    item_description = item_metadata.processed_description #this is the query sentence\n",
        "    if pd.isnull(item_description)== False:\n",
        "        df['description_bm25_scores'] = calculate_bm25(item_description, df.processed_description)\n",
        "    else: \n",
        "        df['description_bm25_scores'] = 0\n",
        "    \n",
        "    #3. Title-Author combination best selections\n",
        "    item_author = item_metadata.author\n",
        "    df1 = df.loc[df['author'] == item_author]\n",
        "    df2 = df.loc[df['author'] != item_author]\n",
        "    df1['author_scores'] = 1\n",
        "    df2['author_scores'] = 0\n",
        "       \n",
        " \n",
        "    #4.combining all we have for final evaluation\n",
        "    df2 = df2.sort_values(by=['description_bm25_scores'], ascending=False)\n",
        "    if len(df2.index) >= 1000:\n",
        "        df2= df2[:1000]\n",
        "    frames = [df1, df2]\n",
        "    df = pd.concat(frames)\n",
        "\n",
        " \n",
        "    #5. Calculate the closeness of age between query item and candidate items. At the end, create an new column called \"age_closeness\"\n",
        "    #age distance\n",
        "    df['age_distance'] = df['interest_age'] - item_metadata['interest_age'] #candidate's age minus query item's age\n",
        "    #age Normalization: use Max-min Normalization\n",
        "    df['age_distance'] = (df['age_distance'] - df['age_distance'].min()) / (df['age_distance'].max() - df['age_distance'].min())\n",
        "    #How close the age distance is? (Closeness = 1 - age_distance)\n",
        "    df['age_closeness'] = 1 - abs(df['age_distance']) #the larger value the closer age is\n",
        "    \n",
        "    \n",
        "    #6. Publisher clusters. since we have different clusters for different languages: first, we capture the language of\n",
        "    #both books. Then, we should look for each specific language. so, if both books are written in English, German, Spanish,\n",
        "    #Italian, or French, then, we simply use the cosine similarity matrix that we extracted during the clustering.\n",
        "    #Otherwise, we set the measure to 1, which means that for all infrequent languages, we basically use the same score\n",
        "    #equal to 1 for all books.\n",
        "    item_publisher_clusster = item_metadata['publisher_cluster']\n",
        "    item_language = item_metadata['language']\n",
        "    df['publisher_cluster_scores'] = [calculate_pub_cluster_similarity (item_publisher_clusster, publisher_cluster, item_language) for publisher_cluster in df['publisher_cluster']]\n",
        "    \n",
        "    \n",
        "    #7. author clusters\n",
        "    item_author_clusster = item_metadata['author_cluster']\n",
        "    df['author_cluster_scores'] = [calculate_author_cluster_similarity (item_author_clusster, author_cluster) for author_cluster in df['author_cluster']]\n",
        "\n",
        "    \n",
        "    #8. number of pages\n",
        "    item_num_pages = item_metadata['number_pages']\n",
        "    if (item_num_pages == 0):\n",
        "        df['num_pages_scores'] = 0\n",
        "    else:\n",
        "        df1 = df[df['number_pages']!= 0]\n",
        "        df2 = df[df['number_pages']== 0]\n",
        "        df1['num_pages_scores'] = [calculate_num_pages_similarity (item_num_pages, number_pages) for number_pages in df1['number_pages']]\n",
        "        df2['num_pages_scores'] = 0\n",
        "        frames = [df1, df2]\n",
        "        df = pd.concat(frames)\n",
        "    \n",
        "    #9. Main topic: use Linsimilarity\n",
        "    item_maintopic = item_metadata['main topic']\n",
        "    if pd.isnull(item_maintopic)==False:\n",
        "        df1 = df[df['main topic'].notna()]\n",
        "        df2 = df[df['main topic'].isna()]\n",
        "        df1['maintopic_scores'] = [linsimilarityfunction (item_maintopic, topic) for topic in df1['main topic']]\n",
        "        df2['maintopic_scores'] = 0\n",
        "        #combining all we have for final evaluation\n",
        "        frames = [df1, df2]\n",
        "        df = pd.concat(frames)\n",
        "    else:\n",
        "        df['maintopic_scores'] = 0\n",
        "    \n",
        "    #normalize all scores.\n",
        "    df['maintopic_scores'] = (df['maintopic_scores'] - df['maintopic_scores'].min()) / (df['maintopic_scores'].max() - df['maintopic_scores'].min())\n",
        "    Total = df['title_bm25_scores'].sum()\n",
        "    if (Total > 0):\n",
        "        df['title_bm25_scores'] = (df['title_bm25_scores'] - df['title_bm25_scores'].min()) / (df['title_bm25_scores'].max() - df['title_bm25_scores'].min())   \n",
        "  \n",
        "    #10. final score and limit the number of recommendations to 10\n",
        "    \n",
        "    #since we had many NaN values in the num_pages column, we should find a way to handle the issue.\n",
        "    #thus, for all items with NaN values (previously replacced by zero), we omit this criterion from our evaluation.\n",
        "    if (item_num_pages == 0):\n",
        "        df['average_score'] = 0.22265 *  df['author_scores'] + 0.27749 * df['maintopic_scores'] + 0.08067 * df['age_closeness'] + 0.07591 * df['title_bm25_scores'] + 0.03389 * df['publisher_cluster_scores'] + 0.30938 * df['author_cluster_scores']\n",
        "    else:\n",
        "        df1 = df[df['number_pages']!= 0]\n",
        "        df2 = df[df['number_pages']== 0]\n",
        "        df1['average_score'] = 0.10731 *  df1['author_scores'] + 0.12744 * df1['maintopic_scores'] + 0.04142 * df1['age_closeness'] + 0.03289 * df1['title_bm25_scores'] + 0.01880 * df1['publisher_cluster_scores'] + 0.19771 * df1['author_cluster_scores'] + 0.47442 * df1['num_pages_scores']\n",
        "        df2['average_score'] = 0.22265 *  df2['author_scores'] + 0.27749 * df2['maintopic_scores'] + 0.08067 * df2['age_closeness'] + 0.07591 * df2['title_bm25_scores'] + 0.03389 * df2['publisher_cluster_scores'] + 0.30938 * df2['author_cluster_scores']\n",
        "        frames = [df1, df2]\n",
        "        df = pd.concat(frames)\n",
        "\n",
        "    df = df.drop_duplicates(subset=['itemID'], keep='first')\n",
        "    df = df.drop_duplicates(subset=['title'], keep='first')\n",
        "    result = df.sort_values(by=['average_score'], ascending=False)\n",
        "    #result.drop(columns=['level_0','maintopic_text','subtopics_text','release_date', 'processed_description', 'age_distance'], axis= 1, inplace=True)\n",
        "    result.drop(columns=['maintopic_text','subtopics_text','release_date', 'processed_description', 'age_distance'], axis= 1, inplace=True)\n",
        "    return result.iloc[:num_recommendation]"
      ],
      "id": "pbivjoFz4bpV",
      "execution_count": 16,
      "outputs": []
    },
    {
      "cell_type": "code",
      "metadata": {
        "id": "oucw8fF84bpV",
        "colab": {
          "base_uri": "https://localhost:8080/",
          "height": 185
        },
        "outputId": "c676ae71-08d5-4364-9a4f-8cb676124a8d"
      },
      "source": [
        "query_item = searchquery(df, 445, 5) #k = 5\n",
        "query_item.head()"
      ],
      "id": "oucw8fF84bpV",
      "execution_count": 17,
      "outputs": [
        {
          "output_type": "execute_result",
          "data": {
            "text/html": [
              "<div>\n",
              "<style scoped>\n",
              "    .dataframe tbody tr th:only-of-type {\n",
              "        vertical-align: middle;\n",
              "    }\n",
              "\n",
              "    .dataframe tbody tr th {\n",
              "        vertical-align: top;\n",
              "    }\n",
              "\n",
              "    .dataframe thead th {\n",
              "        text-align: right;\n",
              "    }\n",
              "</style>\n",
              "<table border=\"1\" class=\"dataframe\">\n",
              "  <thead>\n",
              "    <tr style=\"text-align: right;\">\n",
              "      <th></th>\n",
              "      <th>itemID</th>\n",
              "      <th>title</th>\n",
              "      <th>author</th>\n",
              "      <th>publisher</th>\n",
              "      <th>main topic</th>\n",
              "      <th>subtopics</th>\n",
              "      <th>language</th>\n",
              "      <th>interest_age</th>\n",
              "      <th>description</th>\n",
              "      <th>publisher_cluster</th>\n",
              "      <th>author_cluster</th>\n",
              "      <th>number_pages</th>\n",
              "      <th>maintopic_text</th>\n",
              "      <th>subtopics_text</th>\n",
              "      <th>release_date</th>\n",
              "      <th>processed_description</th>\n",
              "    </tr>\n",
              "  </thead>\n",
              "  <tbody>\n",
              "    <tr>\n",
              "      <th>7353</th>\n",
              "      <td>445</td>\n",
              "      <td>DIE PHANTASTISCHE REISE</td>\n",
              "      <td>Isaac Asimov</td>\n",
              "      <td>epubli</td>\n",
              "      <td>FL</td>\n",
              "      <td>[]</td>\n",
              "      <td>de</td>\n",
              "      <td>1.0</td>\n",
              "      <td>Um einen ins Koma gefallenen Wissenschaftler z...</td>\n",
              "      <td>3</td>\n",
              "      <td>3</td>\n",
              "      <td>0.0</td>\n",
              "      <td>Science fiction</td>\n",
              "      <td>NaN</td>\n",
              "      <td>{Timestamp('2021-03-09 00:00:00')}</td>\n",
              "      <td>koma gefallenen wissenschaftl retten rzte team...</td>\n",
              "    </tr>\n",
              "  </tbody>\n",
              "</table>\n",
              "</div>"
            ],
            "text/plain": [
              "      itemID  ...                              processed_description\n",
              "7353     445  ...  koma gefallenen wissenschaftl retten rzte team...\n",
              "\n",
              "[1 rows x 16 columns]"
            ]
          },
          "metadata": {
            "tags": []
          },
          "execution_count": 17
        }
      ]
    },
    {
      "cell_type": "code",
      "metadata": {
        "id": "HUZaq6x64bpW",
        "colab": {
          "base_uri": "https://localhost:8080/",
          "height": 921
        },
        "outputId": "3cfd52bf-3667-4569-b913-f99aa47055b4"
      },
      "source": [
        "rec_books = recommend(df, 445, 5) #k = 5\n",
        "rec_books.head()"
      ],
      "id": "HUZaq6x64bpW",
      "execution_count": 18,
      "outputs": [
        {
          "output_type": "stream",
          "text": [
            "/usr/local/lib/python3.7/dist-packages/ipykernel_launcher.py:32: SettingWithCopyWarning: \n",
            "A value is trying to be set on a copy of a slice from a DataFrame.\n",
            "Try using .loc[row_indexer,col_indexer] = value instead\n",
            "\n",
            "See the caveats in the documentation: https://pandas.pydata.org/pandas-docs/stable/user_guide/indexing.html#returning-a-view-versus-a-copy\n",
            "/usr/local/lib/python3.7/dist-packages/ipykernel_launcher.py:33: SettingWithCopyWarning: \n",
            "A value is trying to be set on a copy of a slice from a DataFrame.\n",
            "Try using .loc[row_indexer,col_indexer] = value instead\n",
            "\n",
            "See the caveats in the documentation: https://pandas.pydata.org/pandas-docs/stable/user_guide/indexing.html#returning-a-view-versus-a-copy\n",
            "/usr/local/lib/python3.7/dist-packages/ipykernel_launcher.py:85: SettingWithCopyWarning: \n",
            "A value is trying to be set on a copy of a slice from a DataFrame.\n",
            "Try using .loc[row_indexer,col_indexer] = value instead\n",
            "\n",
            "See the caveats in the documentation: https://pandas.pydata.org/pandas-docs/stable/user_guide/indexing.html#returning-a-view-versus-a-copy\n",
            "/usr/local/lib/python3.7/dist-packages/ipykernel_launcher.py:86: SettingWithCopyWarning: \n",
            "A value is trying to be set on a copy of a slice from a DataFrame.\n",
            "Try using .loc[row_indexer,col_indexer] = value instead\n",
            "\n",
            "See the caveats in the documentation: https://pandas.pydata.org/pandas-docs/stable/user_guide/indexing.html#returning-a-view-versus-a-copy\n"
          ],
          "name": "stderr"
        },
        {
          "output_type": "execute_result",
          "data": {
            "text/html": [
              "<div>\n",
              "<style scoped>\n",
              "    .dataframe tbody tr th:only-of-type {\n",
              "        vertical-align: middle;\n",
              "    }\n",
              "\n",
              "    .dataframe tbody tr th {\n",
              "        vertical-align: top;\n",
              "    }\n",
              "\n",
              "    .dataframe thead th {\n",
              "        text-align: right;\n",
              "    }\n",
              "</style>\n",
              "<table border=\"1\" class=\"dataframe\">\n",
              "  <thead>\n",
              "    <tr style=\"text-align: right;\">\n",
              "      <th></th>\n",
              "      <th>itemID</th>\n",
              "      <th>title</th>\n",
              "      <th>author</th>\n",
              "      <th>publisher</th>\n",
              "      <th>main topic</th>\n",
              "      <th>subtopics</th>\n",
              "      <th>language</th>\n",
              "      <th>interest_age</th>\n",
              "      <th>description</th>\n",
              "      <th>publisher_cluster</th>\n",
              "      <th>author_cluster</th>\n",
              "      <th>number_pages</th>\n",
              "      <th>title_bm25_scores</th>\n",
              "      <th>description_bm25_scores</th>\n",
              "      <th>author_scores</th>\n",
              "      <th>age_closeness</th>\n",
              "      <th>publisher_cluster_scores</th>\n",
              "      <th>author_cluster_scores</th>\n",
              "      <th>num_pages_scores</th>\n",
              "      <th>maintopic_scores</th>\n",
              "      <th>average_score</th>\n",
              "    </tr>\n",
              "  </thead>\n",
              "  <tbody>\n",
              "    <tr>\n",
              "      <th>59436</th>\n",
              "      <td>961</td>\n",
              "      <td>Geliebter Roboter</td>\n",
              "      <td>Isaac Asimov</td>\n",
              "      <td>Heyne Taschenbuch</td>\n",
              "      <td>FL</td>\n",
              "      <td>[]</td>\n",
              "      <td>de</td>\n",
              "      <td>1.0</td>\n",
              "      <td>Ein Blick in die Zukunft Claire Belmont, Ehefr...</td>\n",
              "      <td>3</td>\n",
              "      <td>3</td>\n",
              "      <td>208.0</td>\n",
              "      <td>0.0</td>\n",
              "      <td>23.698676</td>\n",
              "      <td>1</td>\n",
              "      <td>0.95</td>\n",
              "      <td>1.000000</td>\n",
              "      <td>1.0</td>\n",
              "      <td>0</td>\n",
              "      <td>1.000000</td>\n",
              "      <td>0.920046</td>\n",
              "    </tr>\n",
              "    <tr>\n",
              "      <th>7355</th>\n",
              "      <td>26868</td>\n",
              "      <td>Gold</td>\n",
              "      <td>Isaac Asimov</td>\n",
              "      <td>Harper Voyager</td>\n",
              "      <td>FL</td>\n",
              "      <td>[]</td>\n",
              "      <td>de</td>\n",
              "      <td>1.0</td>\n",
              "      <td>eine willkommene abwechslung fuer die drei  al...</td>\n",
              "      <td>2</td>\n",
              "      <td>3</td>\n",
              "      <td>0.0</td>\n",
              "      <td>0.0</td>\n",
              "      <td>0.000000</td>\n",
              "      <td>1</td>\n",
              "      <td>0.95</td>\n",
              "      <td>0.500971</td>\n",
              "      <td>1.0</td>\n",
              "      <td>0</td>\n",
              "      <td>1.000000</td>\n",
              "      <td>0.903134</td>\n",
              "    </tr>\n",
              "    <tr>\n",
              "      <th>59435</th>\n",
              "      <td>5553</td>\n",
              "      <td>Die Foundation-Trilogie</td>\n",
              "      <td>Isaac Asimov</td>\n",
              "      <td>Heyne Taschenbuch</td>\n",
              "      <td>FLC</td>\n",
              "      <td>[FLS]</td>\n",
              "      <td>de</td>\n",
              "      <td>1.0</td>\n",
              "      <td>Die Geschichte unserer Zukunft Mittels der sog...</td>\n",
              "      <td>3</td>\n",
              "      <td>3</td>\n",
              "      <td>880.0</td>\n",
              "      <td>0.0</td>\n",
              "      <td>24.594998</td>\n",
              "      <td>1</td>\n",
              "      <td>0.95</td>\n",
              "      <td>1.000000</td>\n",
              "      <td>1.0</td>\n",
              "      <td>0</td>\n",
              "      <td>0.560347</td>\n",
              "      <td>0.798047</td>\n",
              "    </tr>\n",
              "    <tr>\n",
              "      <th>59448</th>\n",
              "      <td>78055</td>\n",
              "      <td>Ein Sandkorn am Himmel</td>\n",
              "      <td>Isaac Asimov</td>\n",
              "      <td>Heyne Taschenbuch</td>\n",
              "      <td>FLC</td>\n",
              "      <td>[FLS]</td>\n",
              "      <td>de</td>\n",
              "      <td>1.0</td>\n",
              "      <td>Von einem Schritt auf den nächsten ... Der pen...</td>\n",
              "      <td>3</td>\n",
              "      <td>3</td>\n",
              "      <td>288.0</td>\n",
              "      <td>0.0</td>\n",
              "      <td>0.000000</td>\n",
              "      <td>1</td>\n",
              "      <td>0.95</td>\n",
              "      <td>1.000000</td>\n",
              "      <td>1.0</td>\n",
              "      <td>0</td>\n",
              "      <td>0.560347</td>\n",
              "      <td>0.798047</td>\n",
              "    </tr>\n",
              "    <tr>\n",
              "      <th>59437</th>\n",
              "      <td>45658</td>\n",
              "      <td>Das galaktische Imperium</td>\n",
              "      <td>Isaac Asimov</td>\n",
              "      <td>Heyne Taschenbuch</td>\n",
              "      <td>FLC</td>\n",
              "      <td>[]</td>\n",
              "      <td>de</td>\n",
              "      <td>1.0</td>\n",
              "      <td>im 32 jahrhundert hat ein teil der menschheit ...</td>\n",
              "      <td>3</td>\n",
              "      <td>3</td>\n",
              "      <td>544.0</td>\n",
              "      <td>0.0</td>\n",
              "      <td>18.182994</td>\n",
              "      <td>1</td>\n",
              "      <td>0.95</td>\n",
              "      <td>1.000000</td>\n",
              "      <td>1.0</td>\n",
              "      <td>0</td>\n",
              "      <td>0.560347</td>\n",
              "      <td>0.798047</td>\n",
              "    </tr>\n",
              "  </tbody>\n",
              "</table>\n",
              "</div>"
            ],
            "text/plain": [
              "       itemID                     title  ... maintopic_scores average_score\n",
              "59436     961         Geliebter Roboter  ...         1.000000      0.920046\n",
              "7355    26868                      Gold  ...         1.000000      0.903134\n",
              "59435    5553   Die Foundation-Trilogie  ...         0.560347      0.798047\n",
              "59448   78055    Ein Sandkorn am Himmel  ...         0.560347      0.798047\n",
              "59437   45658  Das galaktische Imperium  ...         0.560347      0.798047\n",
              "\n",
              "[5 rows x 21 columns]"
            ]
          },
          "metadata": {
            "tags": []
          },
          "execution_count": 18
        }
      ]
    },
    {
      "cell_type": "code",
      "metadata": {
        "id": "a6A8ZsxD4bpW",
        "outputId": "44d031a3-767c-44c3-cf3d-32b98affa2dc"
      },
      "source": [
        "query_item = searchquery(df, 12564, 5) #k = 5\n",
        "query_item.head()"
      ],
      "id": "a6A8ZsxD4bpW",
      "execution_count": null,
      "outputs": [
        {
          "output_type": "execute_result",
          "data": {
            "text/html": [
              "<div>\n",
              "<style scoped>\n",
              "    .dataframe tbody tr th:only-of-type {\n",
              "        vertical-align: middle;\n",
              "    }\n",
              "\n",
              "    .dataframe tbody tr th {\n",
              "        vertical-align: top;\n",
              "    }\n",
              "\n",
              "    .dataframe thead th {\n",
              "        text-align: right;\n",
              "    }\n",
              "</style>\n",
              "<table border=\"1\" class=\"dataframe\">\n",
              "  <thead>\n",
              "    <tr style=\"text-align: right;\">\n",
              "      <th></th>\n",
              "      <th>itemID</th>\n",
              "      <th>title</th>\n",
              "      <th>author</th>\n",
              "      <th>publisher</th>\n",
              "      <th>main topic</th>\n",
              "      <th>subtopics</th>\n",
              "      <th>language</th>\n",
              "      <th>interest_age</th>\n",
              "      <th>description</th>\n",
              "      <th>publisher_cluster</th>\n",
              "      <th>author_cluster</th>\n",
              "      <th>number_pages</th>\n",
              "      <th>maintopic_text</th>\n",
              "      <th>subtopics_text</th>\n",
              "      <th>release_date</th>\n",
              "      <th>processed_description</th>\n",
              "    </tr>\n",
              "  </thead>\n",
              "  <tbody>\n",
              "    <tr>\n",
              "      <th>18455</th>\n",
              "      <td>12564</td>\n",
              "      <td>Ignite Me</td>\n",
              "      <td>Tahereh Mafi</td>\n",
              "      <td>Egmont UK Limited</td>\n",
              "      <td>YFCB</td>\n",
              "      <td>[5AQ,YFG,YFHR,YFM]</td>\n",
              "      <td>en</td>\n",
              "      <td>1.5</td>\n",
              "      <td>X-Men meets The Handmaid's Tale in the third i...</td>\n",
              "      <td>1</td>\n",
              "      <td>10</td>\n",
              "      <td>416.0</td>\n",
              "      <td>Children’s / Teenage fiction: Thrillers</td>\n",
              "      <td>['Interest age: from c 14 years', 'Children’s ...</td>\n",
              "      <td>{Timestamp('2014-02-04 00:00:00')}</td>\n",
              "      <td>x men meet handmaid tale third instal epic rom...</td>\n",
              "    </tr>\n",
              "  </tbody>\n",
              "</table>\n",
              "</div>"
            ],
            "text/plain": [
              "       itemID      title        author          publisher main topic  \\\n",
              "18455   12564  Ignite Me  Tahereh Mafi  Egmont UK Limited       YFCB   \n",
              "\n",
              "                subtopics language  interest_age  \\\n",
              "18455  [5AQ,YFG,YFHR,YFM]       en           1.5   \n",
              "\n",
              "                                             description  publisher_cluster  \\\n",
              "18455  X-Men meets The Handmaid's Tale in the third i...                  1   \n",
              "\n",
              "       author_cluster  number_pages                           maintopic_text  \\\n",
              "18455              10         416.0  Children’s / Teenage fiction: Thrillers   \n",
              "\n",
              "                                          subtopics_text  \\\n",
              "18455  ['Interest age: from c 14 years', 'Children’s ...   \n",
              "\n",
              "                             release_date  \\\n",
              "18455  {Timestamp('2014-02-04 00:00:00')}   \n",
              "\n",
              "                                   processed_description  \n",
              "18455  x men meet handmaid tale third instal epic rom...  "
            ]
          },
          "metadata": {
            "tags": []
          },
          "execution_count": 41
        }
      ]
    },
    {
      "cell_type": "code",
      "metadata": {
        "id": "0RGig9Sc4bpW",
        "outputId": "80a97386-1516-4929-a5af-82dba37c1d5a"
      },
      "source": [
        "rec_books = recommend(df, 12564, 5) #k = 5\n",
        "display(rec_books)"
      ],
      "id": "0RGig9Sc4bpW",
      "execution_count": null,
      "outputs": [
        {
          "output_type": "stream",
          "text": [
            "<ipython-input-37-5efb56814736>:32: SettingWithCopyWarning: \n",
            "A value is trying to be set on a copy of a slice from a DataFrame.\n",
            "Try using .loc[row_indexer,col_indexer] = value instead\n",
            "\n",
            "See the caveats in the documentation: https://pandas.pydata.org/pandas-docs/stable/user_guide/indexing.html#returning-a-view-versus-a-copy\n",
            "  df1['author_scores'] = 1\n",
            "<ipython-input-37-5efb56814736>:33: SettingWithCopyWarning: \n",
            "A value is trying to be set on a copy of a slice from a DataFrame.\n",
            "Try using .loc[row_indexer,col_indexer] = value instead\n",
            "\n",
            "See the caveats in the documentation: https://pandas.pydata.org/pandas-docs/stable/user_guide/indexing.html#returning-a-view-versus-a-copy\n",
            "  df2['author_scores'] = 0\n",
            "<ipython-input-37-5efb56814736>:75: SettingWithCopyWarning: \n",
            "A value is trying to be set on a copy of a slice from a DataFrame.\n",
            "Try using .loc[row_indexer,col_indexer] = value instead\n",
            "\n",
            "See the caveats in the documentation: https://pandas.pydata.org/pandas-docs/stable/user_guide/indexing.html#returning-a-view-versus-a-copy\n",
            "  df1['num_pages_scores'] = [calculate_num_pages_similarity (item_num_pages, number_pages) for number_pages in df1['number_pages']]\n",
            "<ipython-input-37-5efb56814736>:76: SettingWithCopyWarning: \n",
            "A value is trying to be set on a copy of a slice from a DataFrame.\n",
            "Try using .loc[row_indexer,col_indexer] = value instead\n",
            "\n",
            "See the caveats in the documentation: https://pandas.pydata.org/pandas-docs/stable/user_guide/indexing.html#returning-a-view-versus-a-copy\n",
            "  df2['num_pages_scores'] = 0\n",
            "<ipython-input-37-5efb56814736>:85: SettingWithCopyWarning: \n",
            "A value is trying to be set on a copy of a slice from a DataFrame.\n",
            "Try using .loc[row_indexer,col_indexer] = value instead\n",
            "\n",
            "See the caveats in the documentation: https://pandas.pydata.org/pandas-docs/stable/user_guide/indexing.html#returning-a-view-versus-a-copy\n",
            "  df1['maintopic_scores'] = [linsimilarityfunction (item_maintopic, topic) for topic in df1['main topic']]\n",
            "<ipython-input-37-5efb56814736>:86: SettingWithCopyWarning: \n",
            "A value is trying to be set on a copy of a slice from a DataFrame.\n",
            "Try using .loc[row_indexer,col_indexer] = value instead\n",
            "\n",
            "See the caveats in the documentation: https://pandas.pydata.org/pandas-docs/stable/user_guide/indexing.html#returning-a-view-versus-a-copy\n",
            "  df2['maintopic_scores'] = 0\n",
            "<ipython-input-37-5efb56814736>:108: SettingWithCopyWarning: \n",
            "A value is trying to be set on a copy of a slice from a DataFrame.\n",
            "Try using .loc[row_indexer,col_indexer] = value instead\n",
            "\n",
            "See the caveats in the documentation: https://pandas.pydata.org/pandas-docs/stable/user_guide/indexing.html#returning-a-view-versus-a-copy\n",
            "  df1['average_score'] = 0.10731 *  df1['author_scores'] + 0.12744 * df1['maintopic_scores'] + 0.04142 * df1['age_closeness'] + 0.03289 * df1['title_bm25_scores'] + 0.01880 * df1['publisher_cluster_scores'] + 0.19771 * df1['author_cluster_scores'] + 0.47442 * df1['num_pages_scores']\n",
            "<ipython-input-37-5efb56814736>:109: SettingWithCopyWarning: \n",
            "A value is trying to be set on a copy of a slice from a DataFrame.\n",
            "Try using .loc[row_indexer,col_indexer] = value instead\n",
            "\n",
            "See the caveats in the documentation: https://pandas.pydata.org/pandas-docs/stable/user_guide/indexing.html#returning-a-view-versus-a-copy\n",
            "  df2['average_score'] = 0.22265 *  df2['author_scores'] + 0.27749 * df2['maintopic_scores'] + 0.08067 * df2['age_closeness'] + 0.07591 * df2['title_bm25_scores'] + 0.03389 * df2['publisher_cluster_scores'] + 0.30938 * df2['author_cluster_scores']\n"
          ],
          "name": "stderr"
        },
        {
          "output_type": "display_data",
          "data": {
            "text/html": [
              "<div>\n",
              "<style scoped>\n",
              "    .dataframe tbody tr th:only-of-type {\n",
              "        vertical-align: middle;\n",
              "    }\n",
              "\n",
              "    .dataframe tbody tr th {\n",
              "        vertical-align: top;\n",
              "    }\n",
              "\n",
              "    .dataframe thead th {\n",
              "        text-align: right;\n",
              "    }\n",
              "</style>\n",
              "<table border=\"1\" class=\"dataframe\">\n",
              "  <thead>\n",
              "    <tr style=\"text-align: right;\">\n",
              "      <th></th>\n",
              "      <th>itemID</th>\n",
              "      <th>title</th>\n",
              "      <th>author</th>\n",
              "      <th>publisher</th>\n",
              "      <th>main topic</th>\n",
              "      <th>subtopics</th>\n",
              "      <th>language</th>\n",
              "      <th>interest_age</th>\n",
              "      <th>description</th>\n",
              "      <th>publisher_cluster</th>\n",
              "      <th>...</th>\n",
              "      <th>number_pages</th>\n",
              "      <th>title_bm25_scores</th>\n",
              "      <th>description_bm25_scores</th>\n",
              "      <th>author_scores</th>\n",
              "      <th>age_closeness</th>\n",
              "      <th>publisher_cluster_scores</th>\n",
              "      <th>author_cluster_scores</th>\n",
              "      <th>num_pages_scores</th>\n",
              "      <th>maintopic_scores</th>\n",
              "      <th>average_score</th>\n",
              "    </tr>\n",
              "  </thead>\n",
              "  <tbody>\n",
              "    <tr>\n",
              "      <th>18457</th>\n",
              "      <td>9024</td>\n",
              "      <td>Imagine Me</td>\n",
              "      <td>Tahereh Mafi</td>\n",
              "      <td>Egmont UK Limited</td>\n",
              "      <td>YFCB</td>\n",
              "      <td>[YFG,YFHR,YFM]</td>\n",
              "      <td>en</td>\n",
              "      <td>1.000000</td>\n",
              "      <td>The book that all SHATTER ME fans have been wa...</td>\n",
              "      <td>1</td>\n",
              "      <td>...</td>\n",
              "      <td>464.0</td>\n",
              "      <td>0.532072</td>\n",
              "      <td>278.238908</td>\n",
              "      <td>1</td>\n",
              "      <td>0.950000</td>\n",
              "      <td>1.0</td>\n",
              "      <td>1.0</td>\n",
              "      <td>0.922078</td>\n",
              "      <td>1.000000</td>\n",
              "      <td>0.945561</td>\n",
              "    </tr>\n",
              "    <tr>\n",
              "      <th>18452</th>\n",
              "      <td>50498</td>\n",
              "      <td>Defy Me</td>\n",
              "      <td>Tahereh Mafi</td>\n",
              "      <td>Egmont UK Limited</td>\n",
              "      <td>YFCB</td>\n",
              "      <td>[5AN,5AQ,YFG,YFHR,YFM]</td>\n",
              "      <td>en</td>\n",
              "      <td>1.333333</td>\n",
              "      <td>The breath-taking and heart-pounding fifth ins...</td>\n",
              "      <td>1</td>\n",
              "      <td>...</td>\n",
              "      <td>368.0</td>\n",
              "      <td>0.532072</td>\n",
              "      <td>180.957221</td>\n",
              "      <td>1</td>\n",
              "      <td>0.933333</td>\n",
              "      <td>1.0</td>\n",
              "      <td>1.0</td>\n",
              "      <td>0.922078</td>\n",
              "      <td>1.000000</td>\n",
              "      <td>0.944871</td>\n",
              "    </tr>\n",
              "    <tr>\n",
              "      <th>22648</th>\n",
              "      <td>20000</td>\n",
              "      <td>Ever the Hunted</td>\n",
              "      <td>Erin Summerill</td>\n",
              "      <td>HOUGHTON MIFFLIN</td>\n",
              "      <td>YFCB</td>\n",
              "      <td>[YFH,YFM]</td>\n",
              "      <td>en</td>\n",
              "      <td>1.000000</td>\n",
              "      <td>In this epic fantasy adventure, a teen girl em...</td>\n",
              "      <td>1</td>\n",
              "      <td>...</td>\n",
              "      <td>416.0</td>\n",
              "      <td>0.000000</td>\n",
              "      <td>48.948056</td>\n",
              "      <td>0</td>\n",
              "      <td>0.950000</td>\n",
              "      <td>1.0</td>\n",
              "      <td>1.0</td>\n",
              "      <td>1.000000</td>\n",
              "      <td>1.000000</td>\n",
              "      <td>0.857719</td>\n",
              "    </tr>\n",
              "    <tr>\n",
              "      <th>18448</th>\n",
              "      <td>21222</td>\n",
              "      <td>Restore Me</td>\n",
              "      <td>Tahereh Mafi</td>\n",
              "      <td>Harper Collins Publ. USA</td>\n",
              "      <td>YFHR</td>\n",
              "      <td>[YFE,YFG]</td>\n",
              "      <td>en</td>\n",
              "      <td>1.000000</td>\n",
              "      <td>An instant New York Times bestseller! Juliette...</td>\n",
              "      <td>1</td>\n",
              "      <td>...</td>\n",
              "      <td>448.0</td>\n",
              "      <td>0.532072</td>\n",
              "      <td>109.221401</td>\n",
              "      <td>1</td>\n",
              "      <td>0.950000</td>\n",
              "      <td>1.0</td>\n",
              "      <td>1.0</td>\n",
              "      <td>0.948052</td>\n",
              "      <td>0.172344</td>\n",
              "      <td>0.852407</td>\n",
              "    </tr>\n",
              "    <tr>\n",
              "      <th>18446</th>\n",
              "      <td>59588</td>\n",
              "      <td>Shatter Me</td>\n",
              "      <td>Tahereh Mafi</td>\n",
              "      <td>Harper Collins Publ. USA</td>\n",
              "      <td>YFE</td>\n",
              "      <td>[5AK,YFG,YFM]</td>\n",
              "      <td>en</td>\n",
              "      <td>1.000000</td>\n",
              "      <td>X-Men meets The Handmaid's Tale in this first ...</td>\n",
              "      <td>1</td>\n",
              "      <td>...</td>\n",
              "      <td>448.0</td>\n",
              "      <td>0.532072</td>\n",
              "      <td>267.161290</td>\n",
              "      <td>1</td>\n",
              "      <td>0.950000</td>\n",
              "      <td>1.0</td>\n",
              "      <td>1.0</td>\n",
              "      <td>0.948052</td>\n",
              "      <td>0.147314</td>\n",
              "      <td>0.849217</td>\n",
              "    </tr>\n",
              "  </tbody>\n",
              "</table>\n",
              "<p>5 rows × 21 columns</p>\n",
              "</div>"
            ],
            "text/plain": [
              "       itemID            title          author                 publisher  \\\n",
              "18457    9024       Imagine Me    Tahereh Mafi         Egmont UK Limited   \n",
              "18452   50498          Defy Me    Tahereh Mafi         Egmont UK Limited   \n",
              "22648   20000  Ever the Hunted  Erin Summerill          HOUGHTON MIFFLIN   \n",
              "18448   21222       Restore Me    Tahereh Mafi  Harper Collins Publ. USA   \n",
              "18446   59588       Shatter Me    Tahereh Mafi  Harper Collins Publ. USA   \n",
              "\n",
              "      main topic               subtopics language  interest_age  \\\n",
              "18457       YFCB          [YFG,YFHR,YFM]       en      1.000000   \n",
              "18452       YFCB  [5AN,5AQ,YFG,YFHR,YFM]       en      1.333333   \n",
              "22648       YFCB               [YFH,YFM]       en      1.000000   \n",
              "18448       YFHR               [YFE,YFG]       en      1.000000   \n",
              "18446        YFE           [5AK,YFG,YFM]       en      1.000000   \n",
              "\n",
              "                                             description  publisher_cluster  \\\n",
              "18457  The book that all SHATTER ME fans have been wa...                  1   \n",
              "18452  The breath-taking and heart-pounding fifth ins...                  1   \n",
              "22648  In this epic fantasy adventure, a teen girl em...                  1   \n",
              "18448  An instant New York Times bestseller! Juliette...                  1   \n",
              "18446  X-Men meets The Handmaid's Tale in this first ...                  1   \n",
              "\n",
              "       ...  number_pages  title_bm25_scores  description_bm25_scores  \\\n",
              "18457  ...         464.0           0.532072               278.238908   \n",
              "18452  ...         368.0           0.532072               180.957221   \n",
              "22648  ...         416.0           0.000000                48.948056   \n",
              "18448  ...         448.0           0.532072               109.221401   \n",
              "18446  ...         448.0           0.532072               267.161290   \n",
              "\n",
              "       author_scores  age_closeness  publisher_cluster_scores  \\\n",
              "18457              1       0.950000                       1.0   \n",
              "18452              1       0.933333                       1.0   \n",
              "22648              0       0.950000                       1.0   \n",
              "18448              1       0.950000                       1.0   \n",
              "18446              1       0.950000                       1.0   \n",
              "\n",
              "       author_cluster_scores  num_pages_scores  maintopic_scores  \\\n",
              "18457                    1.0          0.922078          1.000000   \n",
              "18452                    1.0          0.922078          1.000000   \n",
              "22648                    1.0          1.000000          1.000000   \n",
              "18448                    1.0          0.948052          0.172344   \n",
              "18446                    1.0          0.948052          0.147314   \n",
              "\n",
              "       average_score  \n",
              "18457       0.945561  \n",
              "18452       0.944871  \n",
              "22648       0.857719  \n",
              "18448       0.852407  \n",
              "18446       0.849217  \n",
              "\n",
              "[5 rows x 21 columns]"
            ]
          },
          "metadata": {
            "tags": []
          }
        }
      ]
    },
    {
      "cell_type": "code",
      "metadata": {
        "id": "jdWjWX14ymjY"
      },
      "source": [
        "import warnings\n",
        "warnings.filterwarnings(\"ignore\")"
      ],
      "id": "jdWjWX14ymjY",
      "execution_count": 18,
      "outputs": []
    },
    {
      "cell_type": "code",
      "metadata": {
        "colab": {
          "base_uri": "https://localhost:8080/",
          "height": 221
        },
        "id": "kamOORtU0OqI",
        "outputId": "791ffbd1-c899-40a8-a3b9-0ef4cb90fb69"
      },
      "source": [
        "print(len(eval_data))\n",
        "display(eval_data.head())"
      ],
      "id": "kamOORtU0OqI",
      "execution_count": 19,
      "outputs": [
        {
          "output_type": "stream",
          "text": [
            "1000\n"
          ],
          "name": "stdout"
        },
        {
          "output_type": "display_data",
          "data": {
            "text/html": [
              "<div>\n",
              "<style scoped>\n",
              "    .dataframe tbody tr th:only-of-type {\n",
              "        vertical-align: middle;\n",
              "    }\n",
              "\n",
              "    .dataframe tbody tr th {\n",
              "        vertical-align: top;\n",
              "    }\n",
              "\n",
              "    .dataframe thead th {\n",
              "        text-align: right;\n",
              "    }\n",
              "</style>\n",
              "<table border=\"1\" class=\"dataframe\">\n",
              "  <thead>\n",
              "    <tr style=\"text-align: right;\">\n",
              "      <th></th>\n",
              "      <th>itemID</th>\n",
              "      <th>predictions</th>\n",
              "    </tr>\n",
              "  </thead>\n",
              "  <tbody>\n",
              "    <tr>\n",
              "      <th>0</th>\n",
              "      <td>12</td>\n",
              "      <td>[]</td>\n",
              "    </tr>\n",
              "    <tr>\n",
              "      <th>1</th>\n",
              "      <td>45274</td>\n",
              "      <td>[]</td>\n",
              "    </tr>\n",
              "    <tr>\n",
              "      <th>2</th>\n",
              "      <td>10104</td>\n",
              "      <td>[]</td>\n",
              "    </tr>\n",
              "    <tr>\n",
              "      <th>3</th>\n",
              "      <td>41371</td>\n",
              "      <td>[]</td>\n",
              "    </tr>\n",
              "    <tr>\n",
              "      <th>4</th>\n",
              "      <td>14015</td>\n",
              "      <td>[]</td>\n",
              "    </tr>\n",
              "  </tbody>\n",
              "</table>\n",
              "</div>"
            ],
            "text/plain": [
              "   itemID predictions\n",
              "0      12          []\n",
              "1   45274          []\n",
              "2   10104          []\n",
              "3   41371          []\n",
              "4   14015          []"
            ]
          },
          "metadata": {
            "tags": []
          }
        }
      ]
    },
    {
      "cell_type": "code",
      "metadata": {
        "colab": {
          "base_uri": "https://localhost:8080/"
        },
        "id": "zjGllePa0Q6D",
        "outputId": "8557c003-1cce-48a7-a88f-53a8806cde51"
      },
      "source": [
        "%%time\n",
        "\n",
        "# generate recommendations based on book's features\n",
        "for idx,row in eval_data.iterrows():\n",
        "    item_data = row['itemID']\n",
        "    if(idx % 10 == 0): print(idx)\n",
        "    try: \n",
        "        rec_list =recommend(df, item_data, 5)['itemID'].tolist()\n",
        "        for x in rec_list:\n",
        "            row['predictions'].append(str(x))\n",
        "    except:\n",
        "        print('unable to make recommendations for the {}th book'.format(idx))\n",
        "\n",
        "# export the dataset for rating the RS\n",
        "evaluation_data=eval_data[['itemID','predictions']]\n",
        "evaluation_data.to_csv('final_evaluation_data.csv')"
      ],
      "id": "zjGllePa0Q6D",
      "execution_count": null,
      "outputs": [
        {
          "output_type": "stream",
          "text": [
            "0\n"
          ],
          "name": "stdout"
        }
      ]
    },
    {
      "cell_type": "code",
      "metadata": {
        "id": "hZP9nuUY0q-X"
      },
      "source": [
        ""
      ],
      "id": "hZP9nuUY0q-X",
      "execution_count": null,
      "outputs": []
    }
  ]
}